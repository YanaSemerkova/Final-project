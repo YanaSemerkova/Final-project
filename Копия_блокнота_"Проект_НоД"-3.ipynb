{
  "nbformat": 4,
  "nbformat_minor": 0,
  "metadata": {
    "colab": {
      "provenance": []
    },
    "kernelspec": {
      "name": "python3",
      "display_name": "Python 3"
    },
    "language_info": {
      "name": "python"
    }
  },
  "cells": [
    {
      "cell_type": "markdown",
      "source": [
        "**Конкурентный анализ и выбор географического расположения**"
      ],
      "metadata": {
        "id": "4AkzBBl54cWR"
      }
    },
    {
      "cell_type": "code",
      "source": [
        "import urllib, requests, socket, re, lxml, io, bs4, sqlite3, pandas, sqlalchemy"
      ],
      "metadata": {
        "id": "QPBtvx2QYFps"
      },
      "execution_count": null,
      "outputs": []
    },
    {
      "cell_type": "code",
      "source": [
        "from requests.compat import urljoin, quote_plus, urlparse, unquote"
      ],
      "metadata": {
        "id": "B99b3MRMYIyg"
      },
      "execution_count": null,
      "outputs": []
    },
    {
      "cell_type": "code",
      "source": [
        "import requests\n",
        "from bs4 import BeautifulSoup\n",
        "import pandas as pd\n",
        "from IPython.display import display\n",
        "import re"
      ],
      "metadata": {
        "id": "foldPcQnYNvY"
      },
      "execution_count": null,
      "outputs": []
    },
    {
      "cell_type": "code",
      "source": [
        "import requests\n",
        "import chardet\n",
        "\n",
        "url = 'http://www.lovrikinfo.ru/metrogps.php'\n",
        "response = requests.get(url)\n",
        "encoding = chardet.detect(response.content)['encoding']  # Определяем кодировку\n",
        "html = response.content.decode(encoding)  # Декодируем с правильной кодировкой\n"
      ],
      "metadata": {
        "id": "OfqROjUJFOj8"
      },
      "execution_count": null,
      "outputs": []
    },
    {
      "cell_type": "code",
      "source": [
        "!pip install dash==2.18.2"
      ],
      "metadata": {
        "colab": {
          "base_uri": "https://localhost:8080/"
        },
        "id": "VpbgOwgphaf9",
        "outputId": "64b8a6e6-61c0-4c53-8608-ee324ad86372"
      },
      "execution_count": null,
      "outputs": [
        {
          "output_type": "stream",
          "name": "stdout",
          "text": [
            "Requirement already satisfied: dash==2.18.2 in /usr/local/lib/python3.11/dist-packages (2.18.2)\n",
            "Requirement already satisfied: Flask<3.1,>=1.0.4 in /usr/local/lib/python3.11/dist-packages (from dash==2.18.2) (3.0.3)\n",
            "Requirement already satisfied: Werkzeug<3.1 in /usr/local/lib/python3.11/dist-packages (from dash==2.18.2) (3.0.6)\n",
            "Requirement already satisfied: plotly>=5.0.0 in /usr/local/lib/python3.11/dist-packages (from dash==2.18.2) (5.24.1)\n",
            "Requirement already satisfied: dash-html-components==2.0.0 in /usr/local/lib/python3.11/dist-packages (from dash==2.18.2) (2.0.0)\n",
            "Requirement already satisfied: dash-core-components==2.0.0 in /usr/local/lib/python3.11/dist-packages (from dash==2.18.2) (2.0.0)\n",
            "Requirement already satisfied: dash-table==5.0.0 in /usr/local/lib/python3.11/dist-packages (from dash==2.18.2) (5.0.0)\n",
            "Requirement already satisfied: importlib-metadata in /usr/local/lib/python3.11/dist-packages (from dash==2.18.2) (8.6.1)\n",
            "Requirement already satisfied: typing-extensions>=4.1.1 in /usr/local/lib/python3.11/dist-packages (from dash==2.18.2) (4.12.2)\n",
            "Requirement already satisfied: requests in /usr/local/lib/python3.11/dist-packages (from dash==2.18.2) (2.32.3)\n",
            "Requirement already satisfied: retrying in /usr/local/lib/python3.11/dist-packages (from dash==2.18.2) (1.3.4)\n",
            "Requirement already satisfied: nest-asyncio in /usr/local/lib/python3.11/dist-packages (from dash==2.18.2) (1.6.0)\n",
            "Requirement already satisfied: setuptools in /usr/local/lib/python3.11/dist-packages (from dash==2.18.2) (75.1.0)\n",
            "Requirement already satisfied: Jinja2>=3.1.2 in /usr/local/lib/python3.11/dist-packages (from Flask<3.1,>=1.0.4->dash==2.18.2) (3.1.6)\n",
            "Requirement already satisfied: itsdangerous>=2.1.2 in /usr/local/lib/python3.11/dist-packages (from Flask<3.1,>=1.0.4->dash==2.18.2) (2.2.0)\n",
            "Requirement already satisfied: click>=8.1.3 in /usr/local/lib/python3.11/dist-packages (from Flask<3.1,>=1.0.4->dash==2.18.2) (8.1.8)\n",
            "Requirement already satisfied: blinker>=1.6.2 in /usr/local/lib/python3.11/dist-packages (from Flask<3.1,>=1.0.4->dash==2.18.2) (1.9.0)\n",
            "Requirement already satisfied: tenacity>=6.2.0 in /usr/local/lib/python3.11/dist-packages (from plotly>=5.0.0->dash==2.18.2) (9.0.0)\n",
            "Requirement already satisfied: packaging in /usr/local/lib/python3.11/dist-packages (from plotly>=5.0.0->dash==2.18.2) (24.2)\n",
            "Requirement already satisfied: MarkupSafe>=2.1.1 in /usr/local/lib/python3.11/dist-packages (from Werkzeug<3.1->dash==2.18.2) (3.0.2)\n",
            "Requirement already satisfied: zipp>=3.20 in /usr/local/lib/python3.11/dist-packages (from importlib-metadata->dash==2.18.2) (3.21.0)\n",
            "Requirement already satisfied: charset-normalizer<4,>=2 in /usr/local/lib/python3.11/dist-packages (from requests->dash==2.18.2) (3.4.1)\n",
            "Requirement already satisfied: idna<4,>=2.5 in /usr/local/lib/python3.11/dist-packages (from requests->dash==2.18.2) (3.10)\n",
            "Requirement already satisfied: urllib3<3,>=1.21.1 in /usr/local/lib/python3.11/dist-packages (from requests->dash==2.18.2) (2.3.0)\n",
            "Requirement already satisfied: certifi>=2017.4.17 in /usr/local/lib/python3.11/dist-packages (from requests->dash==2.18.2) (2025.1.31)\n",
            "Requirement already satisfied: six>=1.7.0 in /usr/local/lib/python3.11/dist-packages (from retrying->dash==2.18.2) (1.17.0)\n"
          ]
        }
      ]
    },
    {
      "cell_type": "code",
      "source": [
        "!pip install dash-bootstrap-components==1.7.1"
      ],
      "metadata": {
        "colab": {
          "base_uri": "https://localhost:8080/"
        },
        "id": "t3VfwcF4hwdN",
        "outputId": "1c2e80be-c1f3-4a90-f0a5-b74c881b81e4"
      },
      "execution_count": null,
      "outputs": [
        {
          "output_type": "stream",
          "name": "stdout",
          "text": [
            "Requirement already satisfied: dash-bootstrap-components==1.7.1 in /usr/local/lib/python3.11/dist-packages (1.7.1)\n",
            "Requirement already satisfied: dash>=2.0.0 in /usr/local/lib/python3.11/dist-packages (from dash-bootstrap-components==1.7.1) (2.18.2)\n",
            "Requirement already satisfied: Flask<3.1,>=1.0.4 in /usr/local/lib/python3.11/dist-packages (from dash>=2.0.0->dash-bootstrap-components==1.7.1) (3.0.3)\n",
            "Requirement already satisfied: Werkzeug<3.1 in /usr/local/lib/python3.11/dist-packages (from dash>=2.0.0->dash-bootstrap-components==1.7.1) (3.0.6)\n",
            "Requirement already satisfied: plotly>=5.0.0 in /usr/local/lib/python3.11/dist-packages (from dash>=2.0.0->dash-bootstrap-components==1.7.1) (5.24.1)\n",
            "Requirement already satisfied: dash-html-components==2.0.0 in /usr/local/lib/python3.11/dist-packages (from dash>=2.0.0->dash-bootstrap-components==1.7.1) (2.0.0)\n",
            "Requirement already satisfied: dash-core-components==2.0.0 in /usr/local/lib/python3.11/dist-packages (from dash>=2.0.0->dash-bootstrap-components==1.7.1) (2.0.0)\n",
            "Requirement already satisfied: dash-table==5.0.0 in /usr/local/lib/python3.11/dist-packages (from dash>=2.0.0->dash-bootstrap-components==1.7.1) (5.0.0)\n",
            "Requirement already satisfied: importlib-metadata in /usr/local/lib/python3.11/dist-packages (from dash>=2.0.0->dash-bootstrap-components==1.7.1) (8.6.1)\n",
            "Requirement already satisfied: typing-extensions>=4.1.1 in /usr/local/lib/python3.11/dist-packages (from dash>=2.0.0->dash-bootstrap-components==1.7.1) (4.12.2)\n",
            "Requirement already satisfied: requests in /usr/local/lib/python3.11/dist-packages (from dash>=2.0.0->dash-bootstrap-components==1.7.1) (2.32.3)\n",
            "Requirement already satisfied: retrying in /usr/local/lib/python3.11/dist-packages (from dash>=2.0.0->dash-bootstrap-components==1.7.1) (1.3.4)\n",
            "Requirement already satisfied: nest-asyncio in /usr/local/lib/python3.11/dist-packages (from dash>=2.0.0->dash-bootstrap-components==1.7.1) (1.6.0)\n",
            "Requirement already satisfied: setuptools in /usr/local/lib/python3.11/dist-packages (from dash>=2.0.0->dash-bootstrap-components==1.7.1) (75.1.0)\n",
            "Requirement already satisfied: Jinja2>=3.1.2 in /usr/local/lib/python3.11/dist-packages (from Flask<3.1,>=1.0.4->dash>=2.0.0->dash-bootstrap-components==1.7.1) (3.1.6)\n",
            "Requirement already satisfied: itsdangerous>=2.1.2 in /usr/local/lib/python3.11/dist-packages (from Flask<3.1,>=1.0.4->dash>=2.0.0->dash-bootstrap-components==1.7.1) (2.2.0)\n",
            "Requirement already satisfied: click>=8.1.3 in /usr/local/lib/python3.11/dist-packages (from Flask<3.1,>=1.0.4->dash>=2.0.0->dash-bootstrap-components==1.7.1) (8.1.8)\n",
            "Requirement already satisfied: blinker>=1.6.2 in /usr/local/lib/python3.11/dist-packages (from Flask<3.1,>=1.0.4->dash>=2.0.0->dash-bootstrap-components==1.7.1) (1.9.0)\n",
            "Requirement already satisfied: tenacity>=6.2.0 in /usr/local/lib/python3.11/dist-packages (from plotly>=5.0.0->dash>=2.0.0->dash-bootstrap-components==1.7.1) (9.0.0)\n",
            "Requirement already satisfied: packaging in /usr/local/lib/python3.11/dist-packages (from plotly>=5.0.0->dash>=2.0.0->dash-bootstrap-components==1.7.1) (24.2)\n",
            "Requirement already satisfied: MarkupSafe>=2.1.1 in /usr/local/lib/python3.11/dist-packages (from Werkzeug<3.1->dash>=2.0.0->dash-bootstrap-components==1.7.1) (3.0.2)\n",
            "Requirement already satisfied: zipp>=3.20 in /usr/local/lib/python3.11/dist-packages (from importlib-metadata->dash>=2.0.0->dash-bootstrap-components==1.7.1) (3.21.0)\n",
            "Requirement already satisfied: charset-normalizer<4,>=2 in /usr/local/lib/python3.11/dist-packages (from requests->dash>=2.0.0->dash-bootstrap-components==1.7.1) (3.4.1)\n",
            "Requirement already satisfied: idna<4,>=2.5 in /usr/local/lib/python3.11/dist-packages (from requests->dash>=2.0.0->dash-bootstrap-components==1.7.1) (3.10)\n",
            "Requirement already satisfied: urllib3<3,>=1.21.1 in /usr/local/lib/python3.11/dist-packages (from requests->dash>=2.0.0->dash-bootstrap-components==1.7.1) (2.3.0)\n",
            "Requirement already satisfied: certifi>=2017.4.17 in /usr/local/lib/python3.11/dist-packages (from requests->dash>=2.0.0->dash-bootstrap-components==1.7.1) (2025.1.31)\n",
            "Requirement already satisfied: six>=1.7.0 in /usr/local/lib/python3.11/dist-packages (from retrying->dash>=2.0.0->dash-bootstrap-components==1.7.1) (1.17.0)\n"
          ]
        }
      ]
    },
    {
      "cell_type": "code",
      "source": [
        "import dash\n",
        "print(\"Dash version:\", dash.__version__)"
      ],
      "metadata": {
        "colab": {
          "base_uri": "https://localhost:8080/"
        },
        "id": "ePnEp_Kdw1O4",
        "outputId": "60e843fb-6745-467a-eb59-94acfc09be7e"
      },
      "execution_count": null,
      "outputs": [
        {
          "output_type": "stream",
          "name": "stdout",
          "text": [
            "Dash version: 2.18.2\n"
          ]
        }
      ]
    },
    {
      "cell_type": "code",
      "source": [
        "import dash\n",
        "from dash import dcc, html, Input, Output\n",
        "import plotly.express as px\n",
        "import pandas as pd\n",
        "import matplotlib.pyplot as plt # Импортируем matplotlib для гистограммы\n",
        "import seaborn as sns # Импортируем seaborn для KDE гистограммы\n",
        "import dash_html_components as html"
      ],
      "metadata": {
        "id": "9-w0LXR_gxdu"
      },
      "execution_count": null,
      "outputs": []
    },
    {
      "cell_type": "code",
      "source": [
        "from dash import Dash, html\n",
        "\n",
        "# Создаем приложение\n",
        "app = Dash(__name__)\n",
        "\n",
        "# Создаем макет (структуру страницы)\n",
        "app.layout = html.Div([\n",
        "    html.H1(\"Привет, Dash!\"),\n",
        "    html.P(\"Это ваше первое Dash-приложение.\")\n",
        "])\n",
        "\n",
        "# Запуск сервера\n",
        "if __name__ == '__main__':\n",
        "    app.run_server(debug=True)"
      ],
      "metadata": {
        "id": "k-HgnMsrwOlb",
        "outputId": "c911a41a-9f34-4e2a-fc94-acc0388c8038",
        "colab": {
          "base_uri": "https://localhost:8080/",
          "height": 671
        }
      },
      "execution_count": null,
      "outputs": [
        {
          "output_type": "display_data",
          "data": {
            "text/plain": [
              "<IPython.core.display.Javascript object>"
            ],
            "application/javascript": [
              "(async (port, path, width, height, cache, element) => {\n",
              "    if (!google.colab.kernel.accessAllowed && !cache) {\n",
              "      return;\n",
              "    }\n",
              "    element.appendChild(document.createTextNode(''));\n",
              "    const url = await google.colab.kernel.proxyPort(port, {cache});\n",
              "    const iframe = document.createElement('iframe');\n",
              "    iframe.src = new URL(path, url).toString();\n",
              "    iframe.height = height;\n",
              "    iframe.width = width;\n",
              "    iframe.style.border = 0;\n",
              "    iframe.allow = [\n",
              "        'accelerometer',\n",
              "        'autoplay',\n",
              "        'camera',\n",
              "        'clipboard-read',\n",
              "        'clipboard-write',\n",
              "        'gyroscope',\n",
              "        'magnetometer',\n",
              "        'microphone',\n",
              "        'serial',\n",
              "        'usb',\n",
              "        'xr-spatial-tracking',\n",
              "    ].join('; ');\n",
              "    element.appendChild(iframe);\n",
              "  })(8050, \"/\", \"100%\", 650, false, window.element)"
            ]
          },
          "metadata": {}
        }
      ]
    },
    {
      "cell_type": "code",
      "source": [
        "from dash import Dash, html, dcc\n",
        "import plotly.express as px\n",
        "import pandas as pd\n",
        "\n",
        "# Создаем приложение\n",
        "app = Dash(__name__)\n",
        "\n",
        "# Данные\n",
        "df = pd.DataFrame({\n",
        "    'Фрукты': ['Яблоки', 'Апельсины', 'Бананы', 'Киви'],\n",
        "    'Продажи': [50, 30, 40, 20]\n",
        "})\n",
        "\n",
        "# Создаем график\n",
        "fig = px.bar(df, x='Фрукты', y='Продажи', title='Продажи фруктов')\n",
        "\n",
        "# Макет приложения\n",
        "app.layout = html.Div([\n",
        "    html.H1(\"Продажи в магазине\"),\n",
        "    dcc.Graph(figure=fig)\n",
        "])\n",
        "\n",
        "# Запуск сервера\n",
        "if __name__ == '__main__':\n",
        "    app.run_server(debug=True)"
      ],
      "metadata": {
        "colab": {
          "base_uri": "https://localhost:8080/",
          "height": 671
        },
        "id": "6Yd5PNC6x3j0",
        "outputId": "8135e6a3-9cd3-44e9-dbe7-fce06465d6fd"
      },
      "execution_count": null,
      "outputs": [
        {
          "output_type": "display_data",
          "data": {
            "text/plain": [
              "<IPython.core.display.Javascript object>"
            ],
            "application/javascript": [
              "(async (port, path, width, height, cache, element) => {\n",
              "    if (!google.colab.kernel.accessAllowed && !cache) {\n",
              "      return;\n",
              "    }\n",
              "    element.appendChild(document.createTextNode(''));\n",
              "    const url = await google.colab.kernel.proxyPort(port, {cache});\n",
              "    const iframe = document.createElement('iframe');\n",
              "    iframe.src = new URL(path, url).toString();\n",
              "    iframe.height = height;\n",
              "    iframe.width = width;\n",
              "    iframe.style.border = 0;\n",
              "    iframe.allow = [\n",
              "        'accelerometer',\n",
              "        'autoplay',\n",
              "        'camera',\n",
              "        'clipboard-read',\n",
              "        'clipboard-write',\n",
              "        'gyroscope',\n",
              "        'magnetometer',\n",
              "        'microphone',\n",
              "        'serial',\n",
              "        'usb',\n",
              "        'xr-spatial-tracking',\n",
              "    ].join('; ');\n",
              "    element.appendChild(iframe);\n",
              "  })(8050, \"/\", \"100%\", 650, false, window.element)"
            ]
          },
          "metadata": {}
        }
      ]
    },
    {
      "cell_type": "code",
      "source": [
        "from dash import Dash, dcc, html, Input, Output\n",
        "import plotly.express as px\n",
        "import pandas as pd\n",
        "from sklearn.datasets import load_iris\n",
        "import dash_bootstrap_components as dbc\n",
        "from dash import dcc\n",
        "\n",
        "# объект приложения Dash\n",
        "app = Dash(__name__)\n",
        "\n",
        "# создание html-слоя, в данном случае с одним заголовком\n",
        "app.layout = html.Div([\n",
        "html.H1('Hello, World!')\n",
        "])\n",
        "\n",
        "if __name__ == '__main__':\n",
        "  # запуск сервера, обычно на localhost с портом 8080\n",
        "  app.run_server(jupyter_mode='inline')"
      ],
      "metadata": {
        "colab": {
          "base_uri": "https://localhost:8080/",
          "height": 671
        },
        "id": "2mKlLBZX6-AN",
        "outputId": "a89e1dbc-8e50-4dcf-eca9-a2b0e426efcd"
      },
      "execution_count": null,
      "outputs": [
        {
          "output_type": "display_data",
          "data": {
            "text/plain": [
              "<IPython.core.display.Javascript object>"
            ],
            "application/javascript": [
              "(async (port, path, width, height, cache, element) => {\n",
              "    if (!google.colab.kernel.accessAllowed && !cache) {\n",
              "      return;\n",
              "    }\n",
              "    element.appendChild(document.createTextNode(''));\n",
              "    const url = await google.colab.kernel.proxyPort(port, {cache});\n",
              "    const iframe = document.createElement('iframe');\n",
              "    iframe.src = new URL(path, url).toString();\n",
              "    iframe.height = height;\n",
              "    iframe.width = width;\n",
              "    iframe.style.border = 0;\n",
              "    iframe.allow = [\n",
              "        'accelerometer',\n",
              "        'autoplay',\n",
              "        'camera',\n",
              "        'clipboard-read',\n",
              "        'clipboard-write',\n",
              "        'gyroscope',\n",
              "        'magnetometer',\n",
              "        'microphone',\n",
              "        'serial',\n",
              "        'usb',\n",
              "        'xr-spatial-tracking',\n",
              "    ].join('; ');\n",
              "    element.appendChild(iframe);\n",
              "  })(8050, \"/\", \"100%\", 650, false, window.element)"
            ]
          },
          "metadata": {}
        }
      ]
    },
    {
      "cell_type": "code",
      "source": [
        "import dash\n",
        "from dash import dcc, html\n",
        "import plotly.express as px\n",
        "import pandas as pd\n",
        "\n",
        "# Пример данных\n",
        "balls_price = ['1000', '1500', '2000', '2500', '3000', '3500', '4000', '4500', '5000']\n",
        "prices = [float(price) for price in balls_price]\n",
        "\n",
        "data = {'price': prices}\n",
        "df = pd.DataFrame(data)\n",
        "\n",
        "# Создаем графики\n",
        "fig_histogram = px.histogram(df, x='price', nbins=15, title='Распределение цен на волейбольные мячи',\n",
        "                              labels={'price': 'Цена'},\n",
        "                              histnorm='count')\n",
        "\n",
        "fig_box = px.box(df, y='price', title='Ящик с усами цен на волейбольные мячи',\n",
        "                 labels={'price': 'Цена'})\n",
        "\n",
        "# Инициализация приложения Dash\n",
        "app = dash.Dash(__name__)\n",
        "\n",
        "app.layout = html.Div(children=[\n",
        "    html.H1(children='Дэшборд цен на волейбольные мячи'),\n",
        "\n",
        "    html.Div(children=[\n",
        "        dcc.Graph(id='price-histogram', figure=fig_histogram),\n",
        "        dcc.Graph(id='price-box', figure=fig_box),\n",
        "    ])\n",
        "])\n",
        "\n",
        "if __name__ == '__main__':\n",
        "    app.run_server(debug=True)\n"
      ],
      "metadata": {
        "colab": {
          "base_uri": "https://localhost:8080/",
          "height": 469
        },
        "id": "Rzn8N7e856Cl",
        "outputId": "a73f9f9c-c1db-46e2-bc5b-d7f7d7081887"
      },
      "execution_count": null,
      "outputs": [
        {
          "output_type": "error",
          "ename": "ValueError",
          "evalue": "\n    Invalid value of type 'builtins.str' received for the 'histnorm' property of histogram\n        Received value: 'count'\n\n    The 'histnorm' property is an enumeration that may be specified as:\n      - One of the following enumeration values:\n            ['', 'percent', 'probability', 'density', 'probability\n            density']",
          "traceback": [
            "\u001b[0;31m---------------------------------------------------------------------------\u001b[0m",
            "\u001b[0;31mValueError\u001b[0m                                Traceback (most recent call last)",
            "\u001b[0;32m<ipython-input-33-03c892845ab9>\u001b[0m in \u001b[0;36m<cell line: 0>\u001b[0;34m()\u001b[0m\n\u001b[1;32m     12\u001b[0m \u001b[0;34m\u001b[0m\u001b[0m\n\u001b[1;32m     13\u001b[0m \u001b[0;31m# Создаем графики\u001b[0m\u001b[0;34m\u001b[0m\u001b[0;34m\u001b[0m\u001b[0m\n\u001b[0;32m---> 14\u001b[0;31m fig_histogram = px.histogram(df, x='price', nbins=15, title='Распределение цен на волейбольные мячи',\n\u001b[0m\u001b[1;32m     15\u001b[0m                               \u001b[0mlabels\u001b[0m\u001b[0;34m=\u001b[0m\u001b[0;34m{\u001b[0m\u001b[0;34m'price'\u001b[0m\u001b[0;34m:\u001b[0m \u001b[0;34m'Цена'\u001b[0m\u001b[0;34m}\u001b[0m\u001b[0;34m,\u001b[0m\u001b[0;34m\u001b[0m\u001b[0;34m\u001b[0m\u001b[0m\n\u001b[1;32m     16\u001b[0m                               histnorm='count')\n",
            "\u001b[0;32m/usr/local/lib/python3.11/dist-packages/plotly/express/_chart_types.py\u001b[0m in \u001b[0;36mhistogram\u001b[0;34m(data_frame, x, y, color, pattern_shape, facet_row, facet_col, facet_col_wrap, facet_row_spacing, facet_col_spacing, hover_name, hover_data, animation_frame, animation_group, category_orders, labels, color_discrete_sequence, color_discrete_map, pattern_shape_sequence, pattern_shape_map, marginal, opacity, orientation, barmode, barnorm, histnorm, log_x, log_y, range_x, range_y, histfunc, cumulative, nbins, text_auto, title, template, width, height)\u001b[0m\n\u001b[1;32m    478\u001b[0m     `orientation` is `'h'`).\n\u001b[1;32m    479\u001b[0m     \"\"\"\n\u001b[0;32m--> 480\u001b[0;31m     return make_figure(\n\u001b[0m\u001b[1;32m    481\u001b[0m         \u001b[0margs\u001b[0m\u001b[0;34m=\u001b[0m\u001b[0mlocals\u001b[0m\u001b[0;34m(\u001b[0m\u001b[0;34m)\u001b[0m\u001b[0;34m,\u001b[0m\u001b[0;34m\u001b[0m\u001b[0;34m\u001b[0m\u001b[0m\n\u001b[1;32m    482\u001b[0m         \u001b[0mconstructor\u001b[0m\u001b[0;34m=\u001b[0m\u001b[0mgo\u001b[0m\u001b[0;34m.\u001b[0m\u001b[0mHistogram\u001b[0m\u001b[0;34m,\u001b[0m\u001b[0;34m\u001b[0m\u001b[0;34m\u001b[0m\u001b[0m\n",
            "\u001b[0;32m/usr/local/lib/python3.11/dist-packages/plotly/express/_core.py\u001b[0m in \u001b[0;36mmake_figure\u001b[0;34m(args, constructor, trace_patch, layout_patch)\u001b[0m\n\u001b[1;32m   2298\u001b[0m                 \u001b[0margs\u001b[0m\u001b[0;34m,\u001b[0m \u001b[0mtrace_spec\u001b[0m\u001b[0;34m,\u001b[0m \u001b[0mgroup\u001b[0m\u001b[0;34m,\u001b[0m \u001b[0mmapping_labels\u001b[0m\u001b[0;34m.\u001b[0m\u001b[0mcopy\u001b[0m\u001b[0;34m(\u001b[0m\u001b[0;34m)\u001b[0m\u001b[0;34m,\u001b[0m \u001b[0msizeref\u001b[0m\u001b[0;34m\u001b[0m\u001b[0;34m\u001b[0m\u001b[0m\n\u001b[1;32m   2299\u001b[0m             )\n\u001b[0;32m-> 2300\u001b[0;31m             \u001b[0mtrace\u001b[0m\u001b[0;34m.\u001b[0m\u001b[0mupdate\u001b[0m\u001b[0;34m(\u001b[0m\u001b[0mpatch\u001b[0m\u001b[0;34m)\u001b[0m\u001b[0;34m\u001b[0m\u001b[0;34m\u001b[0m\u001b[0m\n\u001b[0m\u001b[1;32m   2301\u001b[0m             \u001b[0;32mif\u001b[0m \u001b[0mfit_results\u001b[0m \u001b[0;32mis\u001b[0m \u001b[0;32mnot\u001b[0m \u001b[0;32mNone\u001b[0m\u001b[0;34m:\u001b[0m\u001b[0;34m\u001b[0m\u001b[0;34m\u001b[0m\u001b[0m\n\u001b[1;32m   2302\u001b[0m                 \u001b[0mtrendline_rows\u001b[0m\u001b[0;34m.\u001b[0m\u001b[0mappend\u001b[0m\u001b[0;34m(\u001b[0m\u001b[0mmapping_labels\u001b[0m\u001b[0;34m.\u001b[0m\u001b[0mcopy\u001b[0m\u001b[0;34m(\u001b[0m\u001b[0;34m)\u001b[0m\u001b[0;34m)\u001b[0m\u001b[0;34m\u001b[0m\u001b[0;34m\u001b[0m\u001b[0m\n",
            "\u001b[0;32m/usr/local/lib/python3.11/dist-packages/plotly/basedatatypes.py\u001b[0m in \u001b[0;36mupdate\u001b[0;34m(self, dict1, overwrite, **kwargs)\u001b[0m\n\u001b[1;32m   5131\u001b[0m                 \u001b[0mBaseFigure\u001b[0m\u001b[0;34m.\u001b[0m\u001b[0m_perform_update\u001b[0m\u001b[0;34m(\u001b[0m\u001b[0mself\u001b[0m\u001b[0;34m,\u001b[0m \u001b[0mkwargs\u001b[0m\u001b[0;34m,\u001b[0m \u001b[0moverwrite\u001b[0m\u001b[0;34m=\u001b[0m\u001b[0moverwrite\u001b[0m\u001b[0;34m)\u001b[0m\u001b[0;34m\u001b[0m\u001b[0;34m\u001b[0m\u001b[0m\n\u001b[1;32m   5132\u001b[0m         \u001b[0;32melse\u001b[0m\u001b[0;34m:\u001b[0m\u001b[0;34m\u001b[0m\u001b[0;34m\u001b[0m\u001b[0m\n\u001b[0;32m-> 5133\u001b[0;31m             \u001b[0mBaseFigure\u001b[0m\u001b[0;34m.\u001b[0m\u001b[0m_perform_update\u001b[0m\u001b[0;34m(\u001b[0m\u001b[0mself\u001b[0m\u001b[0;34m,\u001b[0m \u001b[0mdict1\u001b[0m\u001b[0;34m,\u001b[0m \u001b[0moverwrite\u001b[0m\u001b[0;34m=\u001b[0m\u001b[0moverwrite\u001b[0m\u001b[0;34m)\u001b[0m\u001b[0;34m\u001b[0m\u001b[0;34m\u001b[0m\u001b[0m\n\u001b[0m\u001b[1;32m   5134\u001b[0m             \u001b[0mBaseFigure\u001b[0m\u001b[0;34m.\u001b[0m\u001b[0m_perform_update\u001b[0m\u001b[0;34m(\u001b[0m\u001b[0mself\u001b[0m\u001b[0;34m,\u001b[0m \u001b[0mkwargs\u001b[0m\u001b[0;34m,\u001b[0m \u001b[0moverwrite\u001b[0m\u001b[0;34m=\u001b[0m\u001b[0moverwrite\u001b[0m\u001b[0;34m)\u001b[0m\u001b[0;34m\u001b[0m\u001b[0;34m\u001b[0m\u001b[0m\n\u001b[1;32m   5135\u001b[0m \u001b[0;34m\u001b[0m\u001b[0m\n",
            "\u001b[0;32m/usr/local/lib/python3.11/dist-packages/plotly/basedatatypes.py\u001b[0m in \u001b[0;36m_perform_update\u001b[0;34m(plotly_obj, update_obj, overwrite)\u001b[0m\n\u001b[1;32m   3932\u001b[0m                 \u001b[0;32melse\u001b[0m\u001b[0;34m:\u001b[0m\u001b[0;34m\u001b[0m\u001b[0;34m\u001b[0m\u001b[0m\n\u001b[1;32m   3933\u001b[0m                     \u001b[0;31m# Assign non-compound value\u001b[0m\u001b[0;34m\u001b[0m\u001b[0;34m\u001b[0m\u001b[0m\n\u001b[0;32m-> 3934\u001b[0;31m                     \u001b[0mplotly_obj\u001b[0m\u001b[0;34m[\u001b[0m\u001b[0mkey\u001b[0m\u001b[0;34m]\u001b[0m \u001b[0;34m=\u001b[0m \u001b[0mval\u001b[0m\u001b[0;34m\u001b[0m\u001b[0;34m\u001b[0m\u001b[0m\n\u001b[0m\u001b[1;32m   3935\u001b[0m \u001b[0;34m\u001b[0m\u001b[0m\n\u001b[1;32m   3936\u001b[0m         \u001b[0;32melif\u001b[0m \u001b[0misinstance\u001b[0m\u001b[0;34m(\u001b[0m\u001b[0mplotly_obj\u001b[0m\u001b[0;34m,\u001b[0m \u001b[0mtuple\u001b[0m\u001b[0;34m)\u001b[0m\u001b[0;34m:\u001b[0m\u001b[0;34m\u001b[0m\u001b[0;34m\u001b[0m\u001b[0m\n",
            "\u001b[0;32m/usr/local/lib/python3.11/dist-packages/plotly/basedatatypes.py\u001b[0m in \u001b[0;36m__setitem__\u001b[0;34m(self, prop, value)\u001b[0m\n\u001b[1;32m   4866\u001b[0m                 \u001b[0;31m# ### Handle simple property ###\u001b[0m\u001b[0;34m\u001b[0m\u001b[0;34m\u001b[0m\u001b[0m\n\u001b[1;32m   4867\u001b[0m                 \u001b[0;32melse\u001b[0m\u001b[0;34m:\u001b[0m\u001b[0;34m\u001b[0m\u001b[0;34m\u001b[0m\u001b[0m\n\u001b[0;32m-> 4868\u001b[0;31m                     \u001b[0mself\u001b[0m\u001b[0;34m.\u001b[0m\u001b[0m_set_prop\u001b[0m\u001b[0;34m(\u001b[0m\u001b[0mprop\u001b[0m\u001b[0;34m,\u001b[0m \u001b[0mvalue\u001b[0m\u001b[0;34m)\u001b[0m\u001b[0;34m\u001b[0m\u001b[0;34m\u001b[0m\u001b[0m\n\u001b[0m\u001b[1;32m   4869\u001b[0m             \u001b[0;32melse\u001b[0m\u001b[0;34m:\u001b[0m\u001b[0;34m\u001b[0m\u001b[0;34m\u001b[0m\u001b[0m\n\u001b[1;32m   4870\u001b[0m                 \u001b[0;31m# Make sure properties dict is initialized\u001b[0m\u001b[0;34m\u001b[0m\u001b[0;34m\u001b[0m\u001b[0m\n",
            "\u001b[0;32m/usr/local/lib/python3.11/dist-packages/plotly/basedatatypes.py\u001b[0m in \u001b[0;36m_set_prop\u001b[0;34m(self, prop, val)\u001b[0m\n\u001b[1;32m   5210\u001b[0m                 \u001b[0;32mreturn\u001b[0m\u001b[0;34m\u001b[0m\u001b[0;34m\u001b[0m\u001b[0m\n\u001b[1;32m   5211\u001b[0m             \u001b[0;32melse\u001b[0m\u001b[0;34m:\u001b[0m\u001b[0;34m\u001b[0m\u001b[0;34m\u001b[0m\u001b[0m\n\u001b[0;32m-> 5212\u001b[0;31m                 \u001b[0;32mraise\u001b[0m \u001b[0merr\u001b[0m\u001b[0;34m\u001b[0m\u001b[0;34m\u001b[0m\u001b[0m\n\u001b[0m\u001b[1;32m   5213\u001b[0m \u001b[0;34m\u001b[0m\u001b[0m\n\u001b[1;32m   5214\u001b[0m         \u001b[0;31m# val is None\u001b[0m\u001b[0;34m\u001b[0m\u001b[0;34m\u001b[0m\u001b[0m\n",
            "\u001b[0;32m/usr/local/lib/python3.11/dist-packages/plotly/basedatatypes.py\u001b[0m in \u001b[0;36m_set_prop\u001b[0;34m(self, prop, val)\u001b[0m\n\u001b[1;32m   5205\u001b[0m \u001b[0;34m\u001b[0m\u001b[0m\n\u001b[1;32m   5206\u001b[0m         \u001b[0;32mtry\u001b[0m\u001b[0;34m:\u001b[0m\u001b[0;34m\u001b[0m\u001b[0;34m\u001b[0m\u001b[0m\n\u001b[0;32m-> 5207\u001b[0;31m             \u001b[0mval\u001b[0m \u001b[0;34m=\u001b[0m \u001b[0mvalidator\u001b[0m\u001b[0;34m.\u001b[0m\u001b[0mvalidate_coerce\u001b[0m\u001b[0;34m(\u001b[0m\u001b[0mval\u001b[0m\u001b[0;34m)\u001b[0m\u001b[0;34m\u001b[0m\u001b[0;34m\u001b[0m\u001b[0m\n\u001b[0m\u001b[1;32m   5208\u001b[0m         \u001b[0;32mexcept\u001b[0m \u001b[0mValueError\u001b[0m \u001b[0;32mas\u001b[0m \u001b[0merr\u001b[0m\u001b[0;34m:\u001b[0m\u001b[0;34m\u001b[0m\u001b[0;34m\u001b[0m\u001b[0m\n\u001b[1;32m   5209\u001b[0m             \u001b[0;32mif\u001b[0m \u001b[0mself\u001b[0m\u001b[0;34m.\u001b[0m\u001b[0m_skip_invalid\u001b[0m\u001b[0;34m:\u001b[0m\u001b[0;34m\u001b[0m\u001b[0;34m\u001b[0m\u001b[0m\n",
            "\u001b[0;32m/usr/local/lib/python3.11/dist-packages/_plotly_utils/basevalidators.py\u001b[0m in \u001b[0;36mvalidate_coerce\u001b[0;34m(self, v)\u001b[0m\n\u001b[1;32m    617\u001b[0m             \u001b[0mv\u001b[0m \u001b[0;34m=\u001b[0m \u001b[0mself\u001b[0m\u001b[0;34m.\u001b[0m\u001b[0mperform_replacemenet\u001b[0m\u001b[0;34m(\u001b[0m\u001b[0mv\u001b[0m\u001b[0;34m)\u001b[0m\u001b[0;34m\u001b[0m\u001b[0;34m\u001b[0m\u001b[0m\n\u001b[1;32m    618\u001b[0m             \u001b[0;32mif\u001b[0m \u001b[0;32mnot\u001b[0m \u001b[0mself\u001b[0m\u001b[0;34m.\u001b[0m\u001b[0min_values\u001b[0m\u001b[0;34m(\u001b[0m\u001b[0mv\u001b[0m\u001b[0;34m)\u001b[0m\u001b[0;34m:\u001b[0m\u001b[0;34m\u001b[0m\u001b[0;34m\u001b[0m\u001b[0m\n\u001b[0;32m--> 619\u001b[0;31m                 \u001b[0mself\u001b[0m\u001b[0;34m.\u001b[0m\u001b[0mraise_invalid_val\u001b[0m\u001b[0;34m(\u001b[0m\u001b[0mv\u001b[0m\u001b[0;34m)\u001b[0m\u001b[0;34m\u001b[0m\u001b[0;34m\u001b[0m\u001b[0m\n\u001b[0m\u001b[1;32m    620\u001b[0m         \u001b[0;32mreturn\u001b[0m \u001b[0mv\u001b[0m\u001b[0;34m\u001b[0m\u001b[0;34m\u001b[0m\u001b[0m\n\u001b[1;32m    621\u001b[0m \u001b[0;34m\u001b[0m\u001b[0m\n",
            "\u001b[0;32m/usr/local/lib/python3.11/dist-packages/_plotly_utils/basevalidators.py\u001b[0m in \u001b[0;36mraise_invalid_val\u001b[0;34m(self, v, inds)\u001b[0m\n\u001b[1;32m    294\u001b[0m                 \u001b[0mname\u001b[0m \u001b[0;34m+=\u001b[0m \u001b[0;34m\"[\"\u001b[0m \u001b[0;34m+\u001b[0m \u001b[0mstr\u001b[0m\u001b[0;34m(\u001b[0m\u001b[0mi\u001b[0m\u001b[0;34m)\u001b[0m \u001b[0;34m+\u001b[0m \u001b[0;34m\"]\"\u001b[0m\u001b[0;34m\u001b[0m\u001b[0;34m\u001b[0m\u001b[0m\n\u001b[1;32m    295\u001b[0m \u001b[0;34m\u001b[0m\u001b[0m\n\u001b[0;32m--> 296\u001b[0;31m         raise ValueError(\n\u001b[0m\u001b[1;32m    297\u001b[0m             \"\"\"\n\u001b[1;32m    298\u001b[0m     \u001b[0mInvalid\u001b[0m \u001b[0mvalue\u001b[0m \u001b[0mof\u001b[0m \u001b[0mtype\u001b[0m \u001b[0;34m{\u001b[0m\u001b[0mtyp\u001b[0m\u001b[0;34m}\u001b[0m \u001b[0mreceived\u001b[0m \u001b[0;32mfor\u001b[0m \u001b[0mthe\u001b[0m \u001b[0;34m'{name}'\u001b[0m \u001b[0mproperty\u001b[0m \u001b[0mof\u001b[0m \u001b[0;34m{\u001b[0m\u001b[0mpname\u001b[0m\u001b[0;34m}\u001b[0m\u001b[0;34m\u001b[0m\u001b[0;34m\u001b[0m\u001b[0m\n",
            "\u001b[0;31mValueError\u001b[0m: \n    Invalid value of type 'builtins.str' received for the 'histnorm' property of histogram\n        Received value: 'count'\n\n    The 'histnorm' property is an enumeration that may be specified as:\n      - One of the following enumeration values:\n            ['', 'percent', 'probability', 'density', 'probability\n            density']"
          ]
        }
      ]
    },
    {
      "cell_type": "code",
      "source": [
        "from dash import Dash, dcc, html, Input, Output\n",
        "import plotly.express as px\n",
        "import pandas as pd\n",
        "from sklearn.datasets import load_iris\n",
        "import dash_bootstrap_components as dbc\n",
        "from dash import dcc\n",
        "import dash_core_components as dcc\n",
        "\n",
        "# объект приложения Dash\n",
        "app = Dash(__name__)\n",
        "\n",
        "# создание html-слоя, в данном случае с одним заголовком\n",
        "app.layout = html.Div([\n",
        "html.H1('Hello, World!')\n",
        "])\n",
        "\n",
        "if __name__ == '__main__':\n",
        "  # запуск сервера, обычно на localhost с портом 8080\n",
        "  app.run_server(jupyter_mode='external')"
      ],
      "metadata": {
        "colab": {
          "base_uri": "https://localhost:8080/",
          "height": 85
        },
        "id": "2gLZtraEyK5j",
        "outputId": "38edd747-36cd-4ff4-ac36-8fb1dbb2c469"
      },
      "execution_count": null,
      "outputs": [
        {
          "output_type": "stream",
          "name": "stdout",
          "text": [
            "Dash app running on:\n",
            "\u001b[31mWarning: This function may stop working due to changes in browser security.\n",
            "Try `serve_kernel_port_as_iframe` instead. \u001b[0m\n"
          ]
        },
        {
          "output_type": "display_data",
          "data": {
            "text/plain": [
              "<IPython.core.display.Javascript object>"
            ],
            "application/javascript": [
              "(async (port, path, text, element) => {\n",
              "    if (!google.colab.kernel.accessAllowed) {\n",
              "      return;\n",
              "    }\n",
              "    element.appendChild(document.createTextNode(''));\n",
              "    const url = await google.colab.kernel.proxyPort(port);\n",
              "    const anchor = document.createElement('a');\n",
              "    anchor.href = new URL(path, url).toString();\n",
              "    anchor.target = '_blank';\n",
              "    anchor.setAttribute('data-href', url + path);\n",
              "    anchor.textContent = text;\n",
              "    element.appendChild(anchor);\n",
              "  })(8050, \"/\", \"http://127.0.0.1:8050/\", window.element)"
            ]
          },
          "metadata": {}
        }
      ]
    },
    {
      "cell_type": "code",
      "source": [
        "import dash\n",
        "from dash import dcc, html\n",
        "import plotly.express as px\n",
        "import pandas as pd\n",
        "\n",
        "# Пример данных\n",
        "balls_price = ['1000', '1500', '2000', '2500', '3000', '3500', '4000', '4500', '5000']\n",
        "prices = [float(price) for price in balls_price]\n",
        "\n",
        "data = {'price': prices}\n",
        "df = pd.DataFrame(data)\n",
        "\n",
        "# Создаем графики\n",
        "fig_histogram = px.histogram(df, x='price', nbins=15, title='Распределение цен на волейбольные мячи',\n",
        "                              labels={'price': 'Цена'},\n",
        "                              histnorm='count')\n",
        "\n",
        "fig_box = px.box(df, y='price', title='Ящик с усами цен на волейбольные мячи',\n",
        "                 labels={'price': 'Цена'})\n",
        "\n",
        "# Инициализация приложения Dash\n",
        "app = dash.Dash(__name__)\n",
        "\n",
        "app.layout = html.Div(children=[\n",
        "    html.H1(children='Дэшборд цен на волейбольные мячи'),\n",
        "\n",
        "    html.Div(children=[\n",
        "        dcc.Graph(id='price-histogram', figure=fig_histogram),\n",
        "        dcc.Graph(id='price-box', figure=fig_box),\n",
        "    ])\n",
        "])\n",
        "\n",
        "if __name__ == '__main__':\n",
        "    app.run_server(debug=True)\n"
      ],
      "metadata": {
        "colab": {
          "base_uri": "https://localhost:8080/",
          "height": 469
        },
        "id": "dpH3hbRox7FG",
        "outputId": "5667567e-a5d4-4448-8de3-d9c04891fa8f"
      },
      "execution_count": null,
      "outputs": [
        {
          "output_type": "error",
          "ename": "ValueError",
          "evalue": "\n    Invalid value of type 'builtins.str' received for the 'histnorm' property of histogram\n        Received value: 'count'\n\n    The 'histnorm' property is an enumeration that may be specified as:\n      - One of the following enumeration values:\n            ['', 'percent', 'probability', 'density', 'probability\n            density']",
          "traceback": [
            "\u001b[0;31m---------------------------------------------------------------------------\u001b[0m",
            "\u001b[0;31mValueError\u001b[0m                                Traceback (most recent call last)",
            "\u001b[0;32m<ipython-input-34-03c892845ab9>\u001b[0m in \u001b[0;36m<cell line: 0>\u001b[0;34m()\u001b[0m\n\u001b[1;32m     12\u001b[0m \u001b[0;34m\u001b[0m\u001b[0m\n\u001b[1;32m     13\u001b[0m \u001b[0;31m# Создаем графики\u001b[0m\u001b[0;34m\u001b[0m\u001b[0;34m\u001b[0m\u001b[0m\n\u001b[0;32m---> 14\u001b[0;31m fig_histogram = px.histogram(df, x='price', nbins=15, title='Распределение цен на волейбольные мячи',\n\u001b[0m\u001b[1;32m     15\u001b[0m                               \u001b[0mlabels\u001b[0m\u001b[0;34m=\u001b[0m\u001b[0;34m{\u001b[0m\u001b[0;34m'price'\u001b[0m\u001b[0;34m:\u001b[0m \u001b[0;34m'Цена'\u001b[0m\u001b[0;34m}\u001b[0m\u001b[0;34m,\u001b[0m\u001b[0;34m\u001b[0m\u001b[0;34m\u001b[0m\u001b[0m\n\u001b[1;32m     16\u001b[0m                               histnorm='count')\n",
            "\u001b[0;32m/usr/local/lib/python3.11/dist-packages/plotly/express/_chart_types.py\u001b[0m in \u001b[0;36mhistogram\u001b[0;34m(data_frame, x, y, color, pattern_shape, facet_row, facet_col, facet_col_wrap, facet_row_spacing, facet_col_spacing, hover_name, hover_data, animation_frame, animation_group, category_orders, labels, color_discrete_sequence, color_discrete_map, pattern_shape_sequence, pattern_shape_map, marginal, opacity, orientation, barmode, barnorm, histnorm, log_x, log_y, range_x, range_y, histfunc, cumulative, nbins, text_auto, title, template, width, height)\u001b[0m\n\u001b[1;32m    478\u001b[0m     `orientation` is `'h'`).\n\u001b[1;32m    479\u001b[0m     \"\"\"\n\u001b[0;32m--> 480\u001b[0;31m     return make_figure(\n\u001b[0m\u001b[1;32m    481\u001b[0m         \u001b[0margs\u001b[0m\u001b[0;34m=\u001b[0m\u001b[0mlocals\u001b[0m\u001b[0;34m(\u001b[0m\u001b[0;34m)\u001b[0m\u001b[0;34m,\u001b[0m\u001b[0;34m\u001b[0m\u001b[0;34m\u001b[0m\u001b[0m\n\u001b[1;32m    482\u001b[0m         \u001b[0mconstructor\u001b[0m\u001b[0;34m=\u001b[0m\u001b[0mgo\u001b[0m\u001b[0;34m.\u001b[0m\u001b[0mHistogram\u001b[0m\u001b[0;34m,\u001b[0m\u001b[0;34m\u001b[0m\u001b[0;34m\u001b[0m\u001b[0m\n",
            "\u001b[0;32m/usr/local/lib/python3.11/dist-packages/plotly/express/_core.py\u001b[0m in \u001b[0;36mmake_figure\u001b[0;34m(args, constructor, trace_patch, layout_patch)\u001b[0m\n\u001b[1;32m   2298\u001b[0m                 \u001b[0margs\u001b[0m\u001b[0;34m,\u001b[0m \u001b[0mtrace_spec\u001b[0m\u001b[0;34m,\u001b[0m \u001b[0mgroup\u001b[0m\u001b[0;34m,\u001b[0m \u001b[0mmapping_labels\u001b[0m\u001b[0;34m.\u001b[0m\u001b[0mcopy\u001b[0m\u001b[0;34m(\u001b[0m\u001b[0;34m)\u001b[0m\u001b[0;34m,\u001b[0m \u001b[0msizeref\u001b[0m\u001b[0;34m\u001b[0m\u001b[0;34m\u001b[0m\u001b[0m\n\u001b[1;32m   2299\u001b[0m             )\n\u001b[0;32m-> 2300\u001b[0;31m             \u001b[0mtrace\u001b[0m\u001b[0;34m.\u001b[0m\u001b[0mupdate\u001b[0m\u001b[0;34m(\u001b[0m\u001b[0mpatch\u001b[0m\u001b[0;34m)\u001b[0m\u001b[0;34m\u001b[0m\u001b[0;34m\u001b[0m\u001b[0m\n\u001b[0m\u001b[1;32m   2301\u001b[0m             \u001b[0;32mif\u001b[0m \u001b[0mfit_results\u001b[0m \u001b[0;32mis\u001b[0m \u001b[0;32mnot\u001b[0m \u001b[0;32mNone\u001b[0m\u001b[0;34m:\u001b[0m\u001b[0;34m\u001b[0m\u001b[0;34m\u001b[0m\u001b[0m\n\u001b[1;32m   2302\u001b[0m                 \u001b[0mtrendline_rows\u001b[0m\u001b[0;34m.\u001b[0m\u001b[0mappend\u001b[0m\u001b[0;34m(\u001b[0m\u001b[0mmapping_labels\u001b[0m\u001b[0;34m.\u001b[0m\u001b[0mcopy\u001b[0m\u001b[0;34m(\u001b[0m\u001b[0;34m)\u001b[0m\u001b[0;34m)\u001b[0m\u001b[0;34m\u001b[0m\u001b[0;34m\u001b[0m\u001b[0m\n",
            "\u001b[0;32m/usr/local/lib/python3.11/dist-packages/plotly/basedatatypes.py\u001b[0m in \u001b[0;36mupdate\u001b[0;34m(self, dict1, overwrite, **kwargs)\u001b[0m\n\u001b[1;32m   5131\u001b[0m                 \u001b[0mBaseFigure\u001b[0m\u001b[0;34m.\u001b[0m\u001b[0m_perform_update\u001b[0m\u001b[0;34m(\u001b[0m\u001b[0mself\u001b[0m\u001b[0;34m,\u001b[0m \u001b[0mkwargs\u001b[0m\u001b[0;34m,\u001b[0m \u001b[0moverwrite\u001b[0m\u001b[0;34m=\u001b[0m\u001b[0moverwrite\u001b[0m\u001b[0;34m)\u001b[0m\u001b[0;34m\u001b[0m\u001b[0;34m\u001b[0m\u001b[0m\n\u001b[1;32m   5132\u001b[0m         \u001b[0;32melse\u001b[0m\u001b[0;34m:\u001b[0m\u001b[0;34m\u001b[0m\u001b[0;34m\u001b[0m\u001b[0m\n\u001b[0;32m-> 5133\u001b[0;31m             \u001b[0mBaseFigure\u001b[0m\u001b[0;34m.\u001b[0m\u001b[0m_perform_update\u001b[0m\u001b[0;34m(\u001b[0m\u001b[0mself\u001b[0m\u001b[0;34m,\u001b[0m \u001b[0mdict1\u001b[0m\u001b[0;34m,\u001b[0m \u001b[0moverwrite\u001b[0m\u001b[0;34m=\u001b[0m\u001b[0moverwrite\u001b[0m\u001b[0;34m)\u001b[0m\u001b[0;34m\u001b[0m\u001b[0;34m\u001b[0m\u001b[0m\n\u001b[0m\u001b[1;32m   5134\u001b[0m             \u001b[0mBaseFigure\u001b[0m\u001b[0;34m.\u001b[0m\u001b[0m_perform_update\u001b[0m\u001b[0;34m(\u001b[0m\u001b[0mself\u001b[0m\u001b[0;34m,\u001b[0m \u001b[0mkwargs\u001b[0m\u001b[0;34m,\u001b[0m \u001b[0moverwrite\u001b[0m\u001b[0;34m=\u001b[0m\u001b[0moverwrite\u001b[0m\u001b[0;34m)\u001b[0m\u001b[0;34m\u001b[0m\u001b[0;34m\u001b[0m\u001b[0m\n\u001b[1;32m   5135\u001b[0m \u001b[0;34m\u001b[0m\u001b[0m\n",
            "\u001b[0;32m/usr/local/lib/python3.11/dist-packages/plotly/basedatatypes.py\u001b[0m in \u001b[0;36m_perform_update\u001b[0;34m(plotly_obj, update_obj, overwrite)\u001b[0m\n\u001b[1;32m   3932\u001b[0m                 \u001b[0;32melse\u001b[0m\u001b[0;34m:\u001b[0m\u001b[0;34m\u001b[0m\u001b[0;34m\u001b[0m\u001b[0m\n\u001b[1;32m   3933\u001b[0m                     \u001b[0;31m# Assign non-compound value\u001b[0m\u001b[0;34m\u001b[0m\u001b[0;34m\u001b[0m\u001b[0m\n\u001b[0;32m-> 3934\u001b[0;31m                     \u001b[0mplotly_obj\u001b[0m\u001b[0;34m[\u001b[0m\u001b[0mkey\u001b[0m\u001b[0;34m]\u001b[0m \u001b[0;34m=\u001b[0m \u001b[0mval\u001b[0m\u001b[0;34m\u001b[0m\u001b[0;34m\u001b[0m\u001b[0m\n\u001b[0m\u001b[1;32m   3935\u001b[0m \u001b[0;34m\u001b[0m\u001b[0m\n\u001b[1;32m   3936\u001b[0m         \u001b[0;32melif\u001b[0m \u001b[0misinstance\u001b[0m\u001b[0;34m(\u001b[0m\u001b[0mplotly_obj\u001b[0m\u001b[0;34m,\u001b[0m \u001b[0mtuple\u001b[0m\u001b[0;34m)\u001b[0m\u001b[0;34m:\u001b[0m\u001b[0;34m\u001b[0m\u001b[0;34m\u001b[0m\u001b[0m\n",
            "\u001b[0;32m/usr/local/lib/python3.11/dist-packages/plotly/basedatatypes.py\u001b[0m in \u001b[0;36m__setitem__\u001b[0;34m(self, prop, value)\u001b[0m\n\u001b[1;32m   4866\u001b[0m                 \u001b[0;31m# ### Handle simple property ###\u001b[0m\u001b[0;34m\u001b[0m\u001b[0;34m\u001b[0m\u001b[0m\n\u001b[1;32m   4867\u001b[0m                 \u001b[0;32melse\u001b[0m\u001b[0;34m:\u001b[0m\u001b[0;34m\u001b[0m\u001b[0;34m\u001b[0m\u001b[0m\n\u001b[0;32m-> 4868\u001b[0;31m                     \u001b[0mself\u001b[0m\u001b[0;34m.\u001b[0m\u001b[0m_set_prop\u001b[0m\u001b[0;34m(\u001b[0m\u001b[0mprop\u001b[0m\u001b[0;34m,\u001b[0m \u001b[0mvalue\u001b[0m\u001b[0;34m)\u001b[0m\u001b[0;34m\u001b[0m\u001b[0;34m\u001b[0m\u001b[0m\n\u001b[0m\u001b[1;32m   4869\u001b[0m             \u001b[0;32melse\u001b[0m\u001b[0;34m:\u001b[0m\u001b[0;34m\u001b[0m\u001b[0;34m\u001b[0m\u001b[0m\n\u001b[1;32m   4870\u001b[0m                 \u001b[0;31m# Make sure properties dict is initialized\u001b[0m\u001b[0;34m\u001b[0m\u001b[0;34m\u001b[0m\u001b[0m\n",
            "\u001b[0;32m/usr/local/lib/python3.11/dist-packages/plotly/basedatatypes.py\u001b[0m in \u001b[0;36m_set_prop\u001b[0;34m(self, prop, val)\u001b[0m\n\u001b[1;32m   5210\u001b[0m                 \u001b[0;32mreturn\u001b[0m\u001b[0;34m\u001b[0m\u001b[0;34m\u001b[0m\u001b[0m\n\u001b[1;32m   5211\u001b[0m             \u001b[0;32melse\u001b[0m\u001b[0;34m:\u001b[0m\u001b[0;34m\u001b[0m\u001b[0;34m\u001b[0m\u001b[0m\n\u001b[0;32m-> 5212\u001b[0;31m                 \u001b[0;32mraise\u001b[0m \u001b[0merr\u001b[0m\u001b[0;34m\u001b[0m\u001b[0;34m\u001b[0m\u001b[0m\n\u001b[0m\u001b[1;32m   5213\u001b[0m \u001b[0;34m\u001b[0m\u001b[0m\n\u001b[1;32m   5214\u001b[0m         \u001b[0;31m# val is None\u001b[0m\u001b[0;34m\u001b[0m\u001b[0;34m\u001b[0m\u001b[0m\n",
            "\u001b[0;32m/usr/local/lib/python3.11/dist-packages/plotly/basedatatypes.py\u001b[0m in \u001b[0;36m_set_prop\u001b[0;34m(self, prop, val)\u001b[0m\n\u001b[1;32m   5205\u001b[0m \u001b[0;34m\u001b[0m\u001b[0m\n\u001b[1;32m   5206\u001b[0m         \u001b[0;32mtry\u001b[0m\u001b[0;34m:\u001b[0m\u001b[0;34m\u001b[0m\u001b[0;34m\u001b[0m\u001b[0m\n\u001b[0;32m-> 5207\u001b[0;31m             \u001b[0mval\u001b[0m \u001b[0;34m=\u001b[0m \u001b[0mvalidator\u001b[0m\u001b[0;34m.\u001b[0m\u001b[0mvalidate_coerce\u001b[0m\u001b[0;34m(\u001b[0m\u001b[0mval\u001b[0m\u001b[0;34m)\u001b[0m\u001b[0;34m\u001b[0m\u001b[0;34m\u001b[0m\u001b[0m\n\u001b[0m\u001b[1;32m   5208\u001b[0m         \u001b[0;32mexcept\u001b[0m \u001b[0mValueError\u001b[0m \u001b[0;32mas\u001b[0m \u001b[0merr\u001b[0m\u001b[0;34m:\u001b[0m\u001b[0;34m\u001b[0m\u001b[0;34m\u001b[0m\u001b[0m\n\u001b[1;32m   5209\u001b[0m             \u001b[0;32mif\u001b[0m \u001b[0mself\u001b[0m\u001b[0;34m.\u001b[0m\u001b[0m_skip_invalid\u001b[0m\u001b[0;34m:\u001b[0m\u001b[0;34m\u001b[0m\u001b[0;34m\u001b[0m\u001b[0m\n",
            "\u001b[0;32m/usr/local/lib/python3.11/dist-packages/_plotly_utils/basevalidators.py\u001b[0m in \u001b[0;36mvalidate_coerce\u001b[0;34m(self, v)\u001b[0m\n\u001b[1;32m    617\u001b[0m             \u001b[0mv\u001b[0m \u001b[0;34m=\u001b[0m \u001b[0mself\u001b[0m\u001b[0;34m.\u001b[0m\u001b[0mperform_replacemenet\u001b[0m\u001b[0;34m(\u001b[0m\u001b[0mv\u001b[0m\u001b[0;34m)\u001b[0m\u001b[0;34m\u001b[0m\u001b[0;34m\u001b[0m\u001b[0m\n\u001b[1;32m    618\u001b[0m             \u001b[0;32mif\u001b[0m \u001b[0;32mnot\u001b[0m \u001b[0mself\u001b[0m\u001b[0;34m.\u001b[0m\u001b[0min_values\u001b[0m\u001b[0;34m(\u001b[0m\u001b[0mv\u001b[0m\u001b[0;34m)\u001b[0m\u001b[0;34m:\u001b[0m\u001b[0;34m\u001b[0m\u001b[0;34m\u001b[0m\u001b[0m\n\u001b[0;32m--> 619\u001b[0;31m                 \u001b[0mself\u001b[0m\u001b[0;34m.\u001b[0m\u001b[0mraise_invalid_val\u001b[0m\u001b[0;34m(\u001b[0m\u001b[0mv\u001b[0m\u001b[0;34m)\u001b[0m\u001b[0;34m\u001b[0m\u001b[0;34m\u001b[0m\u001b[0m\n\u001b[0m\u001b[1;32m    620\u001b[0m         \u001b[0;32mreturn\u001b[0m \u001b[0mv\u001b[0m\u001b[0;34m\u001b[0m\u001b[0;34m\u001b[0m\u001b[0m\n\u001b[1;32m    621\u001b[0m \u001b[0;34m\u001b[0m\u001b[0m\n",
            "\u001b[0;32m/usr/local/lib/python3.11/dist-packages/_plotly_utils/basevalidators.py\u001b[0m in \u001b[0;36mraise_invalid_val\u001b[0;34m(self, v, inds)\u001b[0m\n\u001b[1;32m    294\u001b[0m                 \u001b[0mname\u001b[0m \u001b[0;34m+=\u001b[0m \u001b[0;34m\"[\"\u001b[0m \u001b[0;34m+\u001b[0m \u001b[0mstr\u001b[0m\u001b[0;34m(\u001b[0m\u001b[0mi\u001b[0m\u001b[0;34m)\u001b[0m \u001b[0;34m+\u001b[0m \u001b[0;34m\"]\"\u001b[0m\u001b[0;34m\u001b[0m\u001b[0;34m\u001b[0m\u001b[0m\n\u001b[1;32m    295\u001b[0m \u001b[0;34m\u001b[0m\u001b[0m\n\u001b[0;32m--> 296\u001b[0;31m         raise ValueError(\n\u001b[0m\u001b[1;32m    297\u001b[0m             \"\"\"\n\u001b[1;32m    298\u001b[0m     \u001b[0mInvalid\u001b[0m \u001b[0mvalue\u001b[0m \u001b[0mof\u001b[0m \u001b[0mtype\u001b[0m \u001b[0;34m{\u001b[0m\u001b[0mtyp\u001b[0m\u001b[0;34m}\u001b[0m \u001b[0mreceived\u001b[0m \u001b[0;32mfor\u001b[0m \u001b[0mthe\u001b[0m \u001b[0;34m'{name}'\u001b[0m \u001b[0mproperty\u001b[0m \u001b[0mof\u001b[0m \u001b[0;34m{\u001b[0m\u001b[0mpname\u001b[0m\u001b[0;34m}\u001b[0m\u001b[0;34m\u001b[0m\u001b[0;34m\u001b[0m\u001b[0m\n",
            "\u001b[0;31mValueError\u001b[0m: \n    Invalid value of type 'builtins.str' received for the 'histnorm' property of histogram\n        Received value: 'count'\n\n    The 'histnorm' property is an enumeration that may be specified as:\n      - One of the following enumeration values:\n            ['', 'percent', 'probability', 'density', 'probability\n            density']"
          ]
        }
      ]
    },
    {
      "cell_type": "code",
      "source": [
        "import dash\n",
        "from dash import dcc\n",
        "from dash import html\n",
        "import plotly.express as px\n",
        "import pandas as pd\n",
        "\n",
        "# Create the app\n",
        "app = dash.Dash(__name__)\n",
        "\n",
        "# Load dataset using Plotly\n",
        "tips = px.data.tips()\n",
        "\n",
        "fig = px.scatter(tips, x=\"total_bill\", y=\"tip\") # Create a scatterplot\n",
        "\n",
        "app.layout = html.Div(children=[\n",
        "   html.H1(children='Hello Dash'),  # Create a title with H1 tag\n",
        "\n",
        "   html.Div(children='''\n",
        "       Dash: A web application framework for your data.\n",
        "   '''),  # Display some text\n",
        "\n",
        "   dcc.Graph(\n",
        "       id='example-graph',\n",
        "       figure=fig\n",
        "   )  # Display the Plotly figure\n",
        "])\n",
        "\n",
        "if __name__ == '__main__':\n",
        "   app.run_server(debug=True) # Run the Dash app"
      ],
      "metadata": {
        "colab": {
          "base_uri": "https://localhost:8080/",
          "height": 671
        },
        "id": "yjA_frV4hMDQ",
        "outputId": "600ca521-31d8-42fb-9c13-f123846359cf"
      },
      "execution_count": null,
      "outputs": [
        {
          "output_type": "display_data",
          "data": {
            "text/plain": [
              "<IPython.core.display.Javascript object>"
            ],
            "application/javascript": [
              "(async (port, path, width, height, cache, element) => {\n",
              "    if (!google.colab.kernel.accessAllowed && !cache) {\n",
              "      return;\n",
              "    }\n",
              "    element.appendChild(document.createTextNode(''));\n",
              "    const url = await google.colab.kernel.proxyPort(port, {cache});\n",
              "    const iframe = document.createElement('iframe');\n",
              "    iframe.src = new URL(path, url).toString();\n",
              "    iframe.height = height;\n",
              "    iframe.width = width;\n",
              "    iframe.style.border = 0;\n",
              "    iframe.allow = [\n",
              "        'accelerometer',\n",
              "        'autoplay',\n",
              "        'camera',\n",
              "        'clipboard-read',\n",
              "        'clipboard-write',\n",
              "        'gyroscope',\n",
              "        'magnetometer',\n",
              "        'microphone',\n",
              "        'serial',\n",
              "        'usb',\n",
              "        'xr-spatial-tracking',\n",
              "    ].join('; ');\n",
              "    element.appendChild(iframe);\n",
              "  })(8050, \"/\", \"100%\", 650, false, window.element)"
            ]
          },
          "metadata": {}
        }
      ]
    },
    {
      "cell_type": "code",
      "source": [
        "import dash\n",
        "from dash import dcc, html, Input, Output\n",
        "import plotly.express as px\n",
        "import pandas as pd\n",
        "import matplotlib.pyplot as plt # Импортируем matplotlib для гистограммы\n",
        "import seaborn as sns # Импортируем seaborn для KDE гистограммы\n",
        "\n",
        "# Пример данных (замените на ваши данные)\n",
        "balls_price = ['1500 ₽', '2200 ₽', '1850 ₽', '3100 ₽', '1700 ₽', '2500 ₽', '1900 ₽', '2800 ₽', '1650 ₽', '2100 ₽', '1550 ₽', '2300 ₽', '2000 ₽', '2900 ₽', '1800 ₽', '2600 ₽', '1750 ₽']\n",
        "\n",
        "prices = []\n",
        "for price_str in balls_price:\n",
        "    try:\n",
        "        price = float(price_str.replace(' ', '').replace('₽', '')) # Удаляем пробелы и символ рубля\n",
        "        prices.append(price)\n",
        "    except ValueError:\n",
        "        print(f\"Ошибка преобразования цены: {price_str}\")\n",
        "data = {'price': prices}\n",
        "df = pd.DataFrame(data)\n",
        "\n",
        "app = dash.Dash(__name__)\n",
        "\n",
        "app.layout = html.Div([\n",
        "    html.H1(\"Анализ цен на волейбольные мячи\"),\n",
        "    dcc.Dropdown(\n",
        "        id='plot-type',\n",
        "        options=[{'label': 'Гистограмма (matplotlib)', 'value': 'histogram'},\n",
        "                 {'label': 'KDE гистограмма (seaborn)', 'value': 'kde'}],\n",
        "        value='histogram',\n",
        "        clearable=False\n",
        "    ),\n",
        "    dcc.Graph(id='price-distribution-plot'),\n",
        "\n",
        "\n",
        "])\n",
        "\n",
        "\n",
        "@app.callback(\n",
        "    Output('price-distribution-plot', 'figure'),\n",
        "    Input('plot-type', 'value')\n",
        ")\n",
        "def update_plot(plot_type):\n",
        "    if plot_type == 'histogram':\n",
        "        # Matplotlib гистограмма\n",
        "        plt.figure(figsize=(10, 6))\n",
        "        plt.hist(df['price'], bins=15, edgecolor='black')\n",
        "        plt.xlabel('Цена')\n",
        "        plt.ylabel('Частота')\n",
        "        plt.title('Распределение цен на волейбольные мячи (Matplotlib)')\n",
        "        fig = px.imshow(plt.gcf()) # Преобразуем matplotlib figure в plotly figure\n",
        "        plt.close() # Закрываем matplotlib figure, чтобы не отображалась отдельно\n",
        "\n",
        "    elif plot_type == 'kde':\n",
        "        # Seaborn KDE гистограмма\n",
        "        plt.figure(figsize=(10, 6))\n",
        "        sns.histplot(df['price'], kde=True, bins=15)\n",
        "        plt.xlabel('Цена')\n",
        "        plt.ylabel('Частота')\n",
        "        plt.title('Распределение цен на волейбольные мячи (Seaborn)')\n",
        "        fig = px.imshow(plt.gcf()) # Преобразуем matplotlib figure в plotly figure\n",
        "        plt.close() # Закрываем matplotlib figure\n",
        "\n",
        "\n",
        "    return fig\n",
        "\n",
        "\n",
        "\n",
        "\n",
        "if __name__ == '__main__':\n",
        "    app.run_server(debug=True)\n",
        "\n"
      ],
      "metadata": {
        "colab": {
          "base_uri": "https://localhost:8080/",
          "height": 671
        },
        "id": "pVfkxhCBiIms",
        "outputId": "b1c100f2-fcb4-4066-deb7-66fc09021b9f"
      },
      "execution_count": null,
      "outputs": [
        {
          "output_type": "display_data",
          "data": {
            "text/plain": [
              "<IPython.core.display.Javascript object>"
            ],
            "application/javascript": [
              "(async (port, path, width, height, cache, element) => {\n",
              "    if (!google.colab.kernel.accessAllowed && !cache) {\n",
              "      return;\n",
              "    }\n",
              "    element.appendChild(document.createTextNode(''));\n",
              "    const url = await google.colab.kernel.proxyPort(port, {cache});\n",
              "    const iframe = document.createElement('iframe');\n",
              "    iframe.src = new URL(path, url).toString();\n",
              "    iframe.height = height;\n",
              "    iframe.width = width;\n",
              "    iframe.style.border = 0;\n",
              "    iframe.allow = [\n",
              "        'accelerometer',\n",
              "        'autoplay',\n",
              "        'camera',\n",
              "        'clipboard-read',\n",
              "        'clipboard-write',\n",
              "        'gyroscope',\n",
              "        'magnetometer',\n",
              "        'microphone',\n",
              "        'serial',\n",
              "        'usb',\n",
              "        'xr-spatial-tracking',\n",
              "    ].join('; ');\n",
              "    element.appendChild(iframe);\n",
              "  })(8050, \"/\", \"100%\", 650, false, window.element)"
            ]
          },
          "metadata": {}
        }
      ]
    },
    {
      "cell_type": "markdown",
      "source": [
        "**Анализ небольших издержек**"
      ],
      "metadata": {
        "id": "EGZBKDc54qGF"
      }
    },
    {
      "cell_type": "code",
      "source": [
        "#https://victor-komlev.ru/frejmvorki-plotly-i-dash/?ysclid=m8ihzwv8ot984316127"
      ],
      "metadata": {
        "id": "Iv5tqGjJ0eWl"
      },
      "execution_count": null,
      "outputs": []
    },
    {
      "cell_type": "code",
      "source": [
        "water_links = []\n",
        "water_names = []\n",
        "water_price = []\n",
        "\n",
        "for j in range(1, 4):\n",
        "  url = 'https://rusarctica.ru/catalog/butylki/?ysclid=m8diu9c3c0899709461?page=' + str(j) #поправила ссылку немного\n",
        "\n",
        "  response = requests.get(url)\n",
        "  encoding = chardet.detect(response.content)['encoding']  # Определяем кодировку\n",
        "  html = response.content.decode(encoding)  # Декодируем с правильной кодировкой\n",
        "  soup = BeautifulSoup(html, 'lxml')\n",
        "\n",
        "  html_water = soup.find_all('div', {'class': 'catalog-card'})\n",
        "\n",
        "  for i in html_water:\n",
        "    new_soup = BeautifulSoup(str(i), 'lxml')\n",
        "    s = new_soup.find_all('a')\n",
        "    k = new_soup.find_all('div', {'class': 'catalog-card__price'})\n",
        "    #t = new_soup.find_all('span', {'class': 'b-products-item__dotted'})\n",
        "    water_links.append('https://www.rusarctica.ru/' + str(s[0]['href']))\n",
        "    water_names.append(s[0].text.strip().lower())\n",
        "    water_price.append(str(k[0].text)[1:-3])\n",
        "\n",
        "print(k)\n",
        "print(s)\n",
        "print(water_links)\n",
        "print(water_names)\n",
        "print(water_price)\n",
        "#print(balls_brand)\n",
        "print(len(water_links))\n",
        "print(len(water_names))\n",
        "print(len(water_price))\n",
        "#print(len(balls_brand))\n"
      ],
      "metadata": {
        "colab": {
          "base_uri": "https://localhost:8080/"
        },
        "id": "GM_gd1T18Fve",
        "outputId": "a24e8cbf-0280-40fe-9fc5-6eab0fbd0e64"
      },
      "execution_count": null,
      "outputs": [
        {
          "output_type": "stream",
          "name": "stdout",
          "text": [
            "[<div class=\"catalog-card__price\">\n",
            "<span class=\"catalog-card__price-current\">1 112 ₽</span>\n",
            "</div>]\n",
            "[<a class=\"catalog-card__top\" href=\"/product/720-500-butylka-tritanovaya-500-ml-golubaya-matovaya-s-sitechkom/\">\n",
            "<div class=\"catalog-card__title\">\n",
            "                    Питьевая бутылка 720 из тритана 0.5л, голубая матовая, с ситечком                                    </div>\n",
            "<div class=\"catalog-card__picture\">\n",
            "<img class=\"lazyload\" data-src=\"/upload/resize_cache/iblock/c32/buy3bstpp25vdu6i3sjdh5bkdna54o23/220_256_1/720_500_butylka_tritanovaya_500_ml_golubaya_matovaya_s_sitechkom.jpg\" src=\"/include/loader/loader-background-big.svg\"/>\n",
            "</div>\n",
            "</a>]\n",
            "['https://www.rusarctica.ru//product/702-500-termos-cititerm-teksturnyy-zheltyy-los/', 'https://www.rusarctica.ru//product/702-500-termos-cititerm-teksturnyy-krasnyy-atstek/', 'https://www.rusarctica.ru//product/721-700-butylka-tritanovaya-700-ml-lavandovaya/', 'https://www.rusarctica.ru//product/722-550-butylka-tritanovaya-550-ml-lavandovaya-s-manzhetom-i-pitevoy-trubochkoy/', 'https://www.rusarctica.ru//product/722-550-butylka-tritanovaya-550-ml-sinyaya-s-manzhetom-i-pitevoy-trubochkoy/', 'https://www.rusarctica.ru//product/722-550-butylka-tritanovaya-550-ml-chernaya-s-manzhetom-i-pitevoy-trubochkoy/', 'https://www.rusarctica.ru//product/721-700-butylka-tritanovaya-700-ml-chernaya/', 'https://www.rusarctica.ru//product/721-700-butylka-tritanovaya-700-ml-sinyaya/', 'https://www.rusarctica.ru//product/702-500-termos-cititerm-teksturnyy-goluboy/', 'https://www.rusarctica.ru//product/720-1000-butylka-tritanovaya-1000-ml-lavandovaya-s-sitechkom/', 'https://www.rusarctica.ru//product/720-1000-butylka-tritanovaya-1000-ml-rozovaya-s-sitechkom/', 'https://www.rusarctica.ru//product/720-1000-butylka-tritanovaya-1000-ml-sinyaya-s-sitechkom/', 'https://www.rusarctica.ru//product/720-1000-butylka-tritanovaya-1000-ml-chernaya-s-sitechkom/', 'https://www.rusarctica.ru//product/720-500-butylka-tritanovaya-500-ml-golubaya-s-sitechkom/', 'https://www.rusarctica.ru//product/720-500-butylka-tritanovaya-500-ml-lavandovaya-s-sitechkom/', 'https://www.rusarctica.ru//product/720-500-butylka-tritanovaya-500-ml-rozovaya-s-sitechkom/', 'https://www.rusarctica.ru//product/720-500-butylka-tritanovaya-500-ml-sinyaya-s-sitechkom/', 'https://www.rusarctica.ru//product/720-500-butylka-tritanovaya-500-ml-chernaya-s-sitechkom/', 'https://www.rusarctica.ru//product/720-1000-butylka-tritanovaya-1000-ml-lavandovaya-matovaya-s-sitechkom/', 'https://www.rusarctica.ru//product/720-1000-butylka-tritanovaya-1000-ml-rozovaya-matovaya-s-sitechkom/', 'https://www.rusarctica.ru//product/720-1000-butylka-tritanovaya-1000-ml-sinyaya-matovaya-s-sitechkom/', 'https://www.rusarctica.ru//product/720-500-butylka-tritanovaya-500-ml-lavandovaya-matovaya-s-sitechkom/', 'https://www.rusarctica.ru//product/720-500-butylka-tritanovaya-500-ml-rozovaya-matovaya-s-sitechkom/', 'https://www.rusarctica.ru//product/720-500-butylka-tritanovaya-500-ml-golubaya-matovaya-s-sitechkom/', 'https://www.rusarctica.ru//product/702-500-termos-cititerm-teksturnyy-zheltyy-los/', 'https://www.rusarctica.ru//product/702-500-termos-cititerm-teksturnyy-krasnyy-atstek/', 'https://www.rusarctica.ru//product/721-700-butylka-tritanovaya-700-ml-lavandovaya/', 'https://www.rusarctica.ru//product/722-550-butylka-tritanovaya-550-ml-lavandovaya-s-manzhetom-i-pitevoy-trubochkoy/', 'https://www.rusarctica.ru//product/722-550-butylka-tritanovaya-550-ml-sinyaya-s-manzhetom-i-pitevoy-trubochkoy/', 'https://www.rusarctica.ru//product/722-550-butylka-tritanovaya-550-ml-chernaya-s-manzhetom-i-pitevoy-trubochkoy/', 'https://www.rusarctica.ru//product/721-700-butylka-tritanovaya-700-ml-chernaya/', 'https://www.rusarctica.ru//product/721-700-butylka-tritanovaya-700-ml-sinyaya/', 'https://www.rusarctica.ru//product/702-500-termos-cititerm-teksturnyy-goluboy/', 'https://www.rusarctica.ru//product/720-1000-butylka-tritanovaya-1000-ml-lavandovaya-s-sitechkom/', 'https://www.rusarctica.ru//product/720-1000-butylka-tritanovaya-1000-ml-rozovaya-s-sitechkom/', 'https://www.rusarctica.ru//product/720-1000-butylka-tritanovaya-1000-ml-sinyaya-s-sitechkom/', 'https://www.rusarctica.ru//product/720-1000-butylka-tritanovaya-1000-ml-chernaya-s-sitechkom/', 'https://www.rusarctica.ru//product/720-500-butylka-tritanovaya-500-ml-golubaya-s-sitechkom/', 'https://www.rusarctica.ru//product/720-500-butylka-tritanovaya-500-ml-lavandovaya-s-sitechkom/', 'https://www.rusarctica.ru//product/720-500-butylka-tritanovaya-500-ml-rozovaya-s-sitechkom/', 'https://www.rusarctica.ru//product/720-500-butylka-tritanovaya-500-ml-sinyaya-s-sitechkom/', 'https://www.rusarctica.ru//product/720-500-butylka-tritanovaya-500-ml-chernaya-s-sitechkom/', 'https://www.rusarctica.ru//product/720-1000-butylka-tritanovaya-1000-ml-lavandovaya-matovaya-s-sitechkom/', 'https://www.rusarctica.ru//product/720-1000-butylka-tritanovaya-1000-ml-rozovaya-matovaya-s-sitechkom/', 'https://www.rusarctica.ru//product/720-1000-butylka-tritanovaya-1000-ml-sinyaya-matovaya-s-sitechkom/', 'https://www.rusarctica.ru//product/720-500-butylka-tritanovaya-500-ml-lavandovaya-matovaya-s-sitechkom/', 'https://www.rusarctica.ru//product/720-500-butylka-tritanovaya-500-ml-rozovaya-matovaya-s-sitechkom/', 'https://www.rusarctica.ru//product/720-500-butylka-tritanovaya-500-ml-golubaya-matovaya-s-sitechkom/', 'https://www.rusarctica.ru//product/702-500-termos-cititerm-teksturnyy-zheltyy-los/', 'https://www.rusarctica.ru//product/702-500-termos-cititerm-teksturnyy-krasnyy-atstek/', 'https://www.rusarctica.ru//product/721-700-butylka-tritanovaya-700-ml-lavandovaya/', 'https://www.rusarctica.ru//product/722-550-butylka-tritanovaya-550-ml-lavandovaya-s-manzhetom-i-pitevoy-trubochkoy/', 'https://www.rusarctica.ru//product/722-550-butylka-tritanovaya-550-ml-sinyaya-s-manzhetom-i-pitevoy-trubochkoy/', 'https://www.rusarctica.ru//product/722-550-butylka-tritanovaya-550-ml-chernaya-s-manzhetom-i-pitevoy-trubochkoy/', 'https://www.rusarctica.ru//product/721-700-butylka-tritanovaya-700-ml-chernaya/', 'https://www.rusarctica.ru//product/721-700-butylka-tritanovaya-700-ml-sinyaya/', 'https://www.rusarctica.ru//product/702-500-termos-cititerm-teksturnyy-goluboy/', 'https://www.rusarctica.ru//product/720-1000-butylka-tritanovaya-1000-ml-lavandovaya-s-sitechkom/', 'https://www.rusarctica.ru//product/720-1000-butylka-tritanovaya-1000-ml-rozovaya-s-sitechkom/', 'https://www.rusarctica.ru//product/720-1000-butylka-tritanovaya-1000-ml-sinyaya-s-sitechkom/', 'https://www.rusarctica.ru//product/720-1000-butylka-tritanovaya-1000-ml-chernaya-s-sitechkom/', 'https://www.rusarctica.ru//product/720-500-butylka-tritanovaya-500-ml-golubaya-s-sitechkom/', 'https://www.rusarctica.ru//product/720-500-butylka-tritanovaya-500-ml-lavandovaya-s-sitechkom/', 'https://www.rusarctica.ru//product/720-500-butylka-tritanovaya-500-ml-rozovaya-s-sitechkom/', 'https://www.rusarctica.ru//product/720-500-butylka-tritanovaya-500-ml-sinyaya-s-sitechkom/', 'https://www.rusarctica.ru//product/720-500-butylka-tritanovaya-500-ml-chernaya-s-sitechkom/', 'https://www.rusarctica.ru//product/720-1000-butylka-tritanovaya-1000-ml-lavandovaya-matovaya-s-sitechkom/', 'https://www.rusarctica.ru//product/720-1000-butylka-tritanovaya-1000-ml-rozovaya-matovaya-s-sitechkom/', 'https://www.rusarctica.ru//product/720-1000-butylka-tritanovaya-1000-ml-sinyaya-matovaya-s-sitechkom/', 'https://www.rusarctica.ru//product/720-500-butylka-tritanovaya-500-ml-lavandovaya-matovaya-s-sitechkom/', 'https://www.rusarctica.ru//product/720-500-butylka-tritanovaya-500-ml-rozovaya-matovaya-s-sitechkom/', 'https://www.rusarctica.ru//product/720-500-butylka-tritanovaya-500-ml-golubaya-matovaya-s-sitechkom/']\n",
            "['желтая термокружка 702 «сититерм» «лось» на 0.5л', 'красная термокружка 702 «сититерм» «ацтек» на 0.5л', 'лавандовая питьевая бутылка из тритана 0.7л', 'лавандовая тритановая бутылка 722 с манжетом и питьевой трубочкой на 0.55л', 'синяя тритановая бутылка 722 с манжетом и питьевой трубочкой на 0.55л', 'черная тритановая бутылка 722 с манжетом и питьевой трубочкой на 0.55л', 'черная питьевая бутылка 721 из тритана 0.7л', 'синяя питьевая бутылка 721 из тритана 0.7л', 'голубая термокружка 702 «сититерм» на 0.5л', 'питьевая бутылка 720 из тритана 1л, лавандовая глянцевая, с ситечком', 'питьевая бутылка 720 из тритана 1л, розовая глянцевая, с ситечком', 'питьевая бутылка 720 из тритана 1л, синяя глянцевая, с ситечком', 'питьевая бутылка 720 из тритана 1л, черная глянцевая, с ситечком', 'питьевая бутылка 720 из тритана 0.5л, голубая глянцевая, с ситечком', 'питьевая бутылка 720 из тритана 0.5л, лавандовая глянцевая, с ситечком', 'питьевая бутылка 720 из тритана 0.5л, розовая глянцевая, с ситечком', 'питьевая бутылка 720 из тритана 0.5л, синяя глянцевая, с ситечком', 'питьевая бутылка 720 из тритана 0.5л, черная глянцевая, с ситечком', 'питьевая бутылка 720 из тритана 1л, лавандовая матовая, с ситечком', 'питьевая бутылка 720 из тритана 1л, розовая матовая, с ситечком', 'питьевая бутылка 720 из тритана 1л, синяя матовая, с ситечком', 'питьевая бутылка 720 из тритана 0.5л, лавандовая матовая, с ситечком', 'питьевая бутылка 720 из тритана 0.5л, розовая матовая, с ситечком', 'питьевая бутылка 720 из тритана 0.5л, голубая матовая, с ситечком', 'желтая термокружка 702 «сититерм» «лось» на 0.5л', 'красная термокружка 702 «сититерм» «ацтек» на 0.5л', 'лавандовая питьевая бутылка из тритана 0.7л', 'лавандовая тритановая бутылка 722 с манжетом и питьевой трубочкой на 0.55л', 'синяя тритановая бутылка 722 с манжетом и питьевой трубочкой на 0.55л', 'черная тритановая бутылка 722 с манжетом и питьевой трубочкой на 0.55л', 'черная питьевая бутылка 721 из тритана 0.7л', 'синяя питьевая бутылка 721 из тритана 0.7л', 'голубая термокружка 702 «сититерм» на 0.5л', 'питьевая бутылка 720 из тритана 1л, лавандовая глянцевая, с ситечком', 'питьевая бутылка 720 из тритана 1л, розовая глянцевая, с ситечком', 'питьевая бутылка 720 из тритана 1л, синяя глянцевая, с ситечком', 'питьевая бутылка 720 из тритана 1л, черная глянцевая, с ситечком', 'питьевая бутылка 720 из тритана 0.5л, голубая глянцевая, с ситечком', 'питьевая бутылка 720 из тритана 0.5л, лавандовая глянцевая, с ситечком', 'питьевая бутылка 720 из тритана 0.5л, розовая глянцевая, с ситечком', 'питьевая бутылка 720 из тритана 0.5л, синяя глянцевая, с ситечком', 'питьевая бутылка 720 из тритана 0.5л, черная глянцевая, с ситечком', 'питьевая бутылка 720 из тритана 1л, лавандовая матовая, с ситечком', 'питьевая бутылка 720 из тритана 1л, розовая матовая, с ситечком', 'питьевая бутылка 720 из тритана 1л, синяя матовая, с ситечком', 'питьевая бутылка 720 из тритана 0.5л, лавандовая матовая, с ситечком', 'питьевая бутылка 720 из тритана 0.5л, розовая матовая, с ситечком', 'питьевая бутылка 720 из тритана 0.5л, голубая матовая, с ситечком', 'желтая термокружка 702 «сититерм» «лось» на 0.5л', 'красная термокружка 702 «сититерм» «ацтек» на 0.5л', 'лавандовая питьевая бутылка из тритана 0.7л', 'лавандовая тритановая бутылка 722 с манжетом и питьевой трубочкой на 0.55л', 'синяя тритановая бутылка 722 с манжетом и питьевой трубочкой на 0.55л', 'черная тритановая бутылка 722 с манжетом и питьевой трубочкой на 0.55л', 'черная питьевая бутылка 721 из тритана 0.7л', 'синяя питьевая бутылка 721 из тритана 0.7л', 'голубая термокружка 702 «сититерм» на 0.5л', 'питьевая бутылка 720 из тритана 1л, лавандовая глянцевая, с ситечком', 'питьевая бутылка 720 из тритана 1л, розовая глянцевая, с ситечком', 'питьевая бутылка 720 из тритана 1л, синяя глянцевая, с ситечком', 'питьевая бутылка 720 из тритана 1л, черная глянцевая, с ситечком', 'питьевая бутылка 720 из тритана 0.5л, голубая глянцевая, с ситечком', 'питьевая бутылка 720 из тритана 0.5л, лавандовая глянцевая, с ситечком', 'питьевая бутылка 720 из тритана 0.5л, розовая глянцевая, с ситечком', 'питьевая бутылка 720 из тритана 0.5л, синяя глянцевая, с ситечком', 'питьевая бутылка 720 из тритана 0.5л, черная глянцевая, с ситечком', 'питьевая бутылка 720 из тритана 1л, лавандовая матовая, с ситечком', 'питьевая бутылка 720 из тритана 1л, розовая матовая, с ситечком', 'питьевая бутылка 720 из тритана 1л, синяя матовая, с ситечком', 'питьевая бутылка 720 из тритана 0.5л, лавандовая матовая, с ситечком', 'питьевая бутылка 720 из тритана 0.5л, розовая матовая, с ситечком', 'питьевая бутылка 720 из тритана 0.5л, голубая матовая, с ситечком']\n",
            "['1 811', '1 811', '1 229', '1 357', '1 357', '1 357', '1 229', '1 229', '1 811', '1 544', '1 544', '1 544', '1 544', '1 112', '1 112', '1 112', '1 112', '1 112', '1 544', '1 544', '1 544', '1 112', '1 112', '1 112', '1 811', '1 811', '1 229', '1 357', '1 357', '1 357', '1 229', '1 229', '1 811', '1 544', '1 544', '1 544', '1 544', '1 112', '1 112', '1 112', '1 112', '1 112', '1 544', '1 544', '1 544', '1 112', '1 112', '1 112', '1 811', '1 811', '1 229', '1 357', '1 357', '1 357', '1 229', '1 229', '1 811', '1 544', '1 544', '1 544', '1 544', '1 112', '1 112', '1 112', '1 112', '1 112', '1 544', '1 544', '1 544', '1 112', '1 112', '1 112']\n",
            "72\n",
            "72\n",
            "72\n"
          ]
        }
      ]
    },
    {
      "cell_type": "code",
      "source": [
        "import pandas as pd\n",
        "\n",
        "water_data = {'Ссылка': water_links, 'Название': water_names, 'Цена': water_price}\n",
        "df = pd.DataFrame(water_data)\n",
        "\n",
        "print(df)"
      ],
      "metadata": {
        "colab": {
          "base_uri": "https://localhost:8080/"
        },
        "id": "KAdMq4t3qgTQ",
        "outputId": "319d0830-5ddd-4f2d-faf9-b28c193c761f"
      },
      "execution_count": null,
      "outputs": [
        {
          "output_type": "stream",
          "name": "stdout",
          "text": [
            "                                               Ссылка  \\\n",
            "0   https://www.rusarctica.ru//product/702-500-ter...   \n",
            "1   https://www.rusarctica.ru//product/702-500-ter...   \n",
            "2   https://www.rusarctica.ru//product/721-700-but...   \n",
            "3   https://www.rusarctica.ru//product/722-550-but...   \n",
            "4   https://www.rusarctica.ru//product/722-550-but...   \n",
            "..                                                ...   \n",
            "67  https://www.rusarctica.ru//product/720-1000-bu...   \n",
            "68  https://www.rusarctica.ru//product/720-1000-bu...   \n",
            "69  https://www.rusarctica.ru//product/720-500-but...   \n",
            "70  https://www.rusarctica.ru//product/720-500-but...   \n",
            "71  https://www.rusarctica.ru//product/720-500-but...   \n",
            "\n",
            "                                             Название   Цена  \n",
            "0    желтая термокружка 702 «сититерм» «лось» на 0.5л  1 811  \n",
            "1   красная термокружка 702 «сититерм» «ацтек» на ...  1 811  \n",
            "2         лавандовая питьевая бутылка из тритана 0.7л  1 229  \n",
            "3   лавандовая тритановая бутылка 722 с манжетом и...  1 357  \n",
            "4   синяя тритановая бутылка 722 с манжетом и пить...  1 357  \n",
            "..                                                ...    ...  \n",
            "67  питьевая бутылка 720 из тритана 1л, розовая ма...  1 544  \n",
            "68  питьевая бутылка 720 из тритана 1л, синяя мато...  1 544  \n",
            "69  питьевая бутылка 720 из тритана 0.5л, лавандов...  1 112  \n",
            "70  питьевая бутылка 720 из тритана 0.5л, розовая ...  1 112  \n",
            "71  питьевая бутылка 720 из тритана 0.5л, голубая ...  1 112  \n",
            "\n",
            "[72 rows x 3 columns]\n"
          ]
        }
      ]
    },
    {
      "cell_type": "code",
      "source": [
        "keyword_1 = ['0.5л']\n",
        "keyword_2 = ['1л']\n",
        "price_dict = dict(zip(water_names, water_price))\n",
        "filtered_water_names_1 = [water_name for water_name in water_names if any(keyword in water_name for keyword in keyword_1)]\n",
        "print(filtered_water_names_1)\n",
        "\n",
        "filtered_water_prices_1 = [price_dict[water_name] for water_name in filtered_water_names_1]\n",
        "print(filtered_water_prices_1)\n",
        "\n",
        "numbers_1 = []\n",
        "for price_str in filtered_water_prices_1:\n",
        "    try:\n",
        "        numbers_1.append(int(price_str.replace(' ', ''))) # Удаляем пробелы и преобразуем в число\n",
        "    except ValueError:\n",
        "        print(f\"Некорректное значение цены: {price_str}\")\n",
        "\n",
        "average_price_1 = sum(numbers_1) / len(numbers_1)\n",
        "print(len(numbers_1))\n",
        "print(average_price_1)\n"
      ],
      "metadata": {
        "colab": {
          "base_uri": "https://localhost:8080/"
        },
        "id": "q6oI1Jn7mlBp",
        "outputId": "e352e6ad-fea7-497d-ac44-610dbafddf51"
      },
      "execution_count": null,
      "outputs": [
        {
          "output_type": "stream",
          "name": "stdout",
          "text": [
            "['желтая термокружка 702 «сититерм» «лось» на 0.5л', 'красная термокружка 702 «сититерм» «ацтек» на 0.5л', 'голубая термокружка 702 «сититерм» на 0.5л', 'питьевая бутылка 720 из тритана 0.5л, голубая глянцевая, с ситечком', 'питьевая бутылка 720 из тритана 0.5л, лавандовая глянцевая, с ситечком', 'питьевая бутылка 720 из тритана 0.5л, розовая глянцевая, с ситечком', 'питьевая бутылка 720 из тритана 0.5л, синяя глянцевая, с ситечком', 'питьевая бутылка 720 из тритана 0.5л, черная глянцевая, с ситечком', 'питьевая бутылка 720 из тритана 0.5л, лавандовая матовая, с ситечком', 'питьевая бутылка 720 из тритана 0.5л, розовая матовая, с ситечком', 'питьевая бутылка 720 из тритана 0.5л, голубая матовая, с ситечком', 'желтая термокружка 702 «сититерм» «лось» на 0.5л', 'красная термокружка 702 «сититерм» «ацтек» на 0.5л', 'голубая термокружка 702 «сититерм» на 0.5л', 'питьевая бутылка 720 из тритана 0.5л, голубая глянцевая, с ситечком', 'питьевая бутылка 720 из тритана 0.5л, лавандовая глянцевая, с ситечком', 'питьевая бутылка 720 из тритана 0.5л, розовая глянцевая, с ситечком', 'питьевая бутылка 720 из тритана 0.5л, синяя глянцевая, с ситечком', 'питьевая бутылка 720 из тритана 0.5л, черная глянцевая, с ситечком', 'питьевая бутылка 720 из тритана 0.5л, лавандовая матовая, с ситечком', 'питьевая бутылка 720 из тритана 0.5л, розовая матовая, с ситечком', 'питьевая бутылка 720 из тритана 0.5л, голубая матовая, с ситечком', 'желтая термокружка 702 «сититерм» «лось» на 0.5л', 'красная термокружка 702 «сититерм» «ацтек» на 0.5л', 'голубая термокружка 702 «сититерм» на 0.5л', 'питьевая бутылка 720 из тритана 0.5л, голубая глянцевая, с ситечком', 'питьевая бутылка 720 из тритана 0.5л, лавандовая глянцевая, с ситечком', 'питьевая бутылка 720 из тритана 0.5л, розовая глянцевая, с ситечком', 'питьевая бутылка 720 из тритана 0.5л, синяя глянцевая, с ситечком', 'питьевая бутылка 720 из тритана 0.5л, черная глянцевая, с ситечком', 'питьевая бутылка 720 из тритана 0.5л, лавандовая матовая, с ситечком', 'питьевая бутылка 720 из тритана 0.5л, розовая матовая, с ситечком', 'питьевая бутылка 720 из тритана 0.5л, голубая матовая, с ситечком']\n",
            "['1 811', '1 811', '1 811', '1 112', '1 112', '1 112', '1 112', '1 112', '1 112', '1 112', '1 112', '1 811', '1 811', '1 811', '1 112', '1 112', '1 112', '1 112', '1 112', '1 112', '1 112', '1 112', '1 811', '1 811', '1 811', '1 112', '1 112', '1 112', '1 112', '1 112', '1 112', '1 112', '1 112']\n",
            "33\n",
            "1302.6363636363637\n"
          ]
        }
      ]
    },
    {
      "cell_type": "code",
      "source": [
        "\n",
        "keyword_2 = ['1л']\n",
        "price_dict = dict(zip(water_names, water_price))\n",
        "filtered_water_names_2 = [water_name for water_name in water_names if any(keyword in water_name for keyword in keyword_2)]\n",
        "print(filtered_water_names_2)\n",
        "\n",
        "filtered_water_prices_2 = [price_dict[water_name] for water_name in filtered_water_names_2]\n",
        "print(filtered_water_prices_2)\n",
        "\n",
        "numbers_2 = []\n",
        "for price_str in filtered_water_prices_2:\n",
        "    try:\n",
        "        numbers_2.append(int(price_str.replace(' ', ''))) # Удаляем пробелы и преобразуем в число\n",
        "    except ValueError:\n",
        "        print(f\"Некорректное значение цены: {price_str}\")\n",
        "\n",
        "average_price_2 = sum(numbers_2) / len(numbers_2)\n",
        "print(len(numbers_1))\n",
        "print(average_price_2)\n"
      ],
      "metadata": {
        "id": "yDiTUe9YrO77",
        "colab": {
          "base_uri": "https://localhost:8080/"
        },
        "outputId": "8bad18fe-0b0a-4fb9-b44b-913daf73381d"
      },
      "execution_count": null,
      "outputs": [
        {
          "output_type": "stream",
          "name": "stdout",
          "text": [
            "['питьевая бутылка 720 из тритана 1л, лавандовая глянцевая, с ситечком', 'питьевая бутылка 720 из тритана 1л, розовая глянцевая, с ситечком', 'питьевая бутылка 720 из тритана 1л, синяя глянцевая, с ситечком', 'питьевая бутылка 720 из тритана 1л, черная глянцевая, с ситечком', 'питьевая бутылка 720 из тритана 1л, лавандовая матовая, с ситечком', 'питьевая бутылка 720 из тритана 1л, розовая матовая, с ситечком', 'питьевая бутылка 720 из тритана 1л, синяя матовая, с ситечком', 'питьевая бутылка 720 из тритана 1л, лавандовая глянцевая, с ситечком', 'питьевая бутылка 720 из тритана 1л, розовая глянцевая, с ситечком', 'питьевая бутылка 720 из тритана 1л, синяя глянцевая, с ситечком', 'питьевая бутылка 720 из тритана 1л, черная глянцевая, с ситечком', 'питьевая бутылка 720 из тритана 1л, лавандовая матовая, с ситечком', 'питьевая бутылка 720 из тритана 1л, розовая матовая, с ситечком', 'питьевая бутылка 720 из тритана 1л, синяя матовая, с ситечком', 'питьевая бутылка 720 из тритана 1л, лавандовая глянцевая, с ситечком', 'питьевая бутылка 720 из тритана 1л, розовая глянцевая, с ситечком', 'питьевая бутылка 720 из тритана 1л, синяя глянцевая, с ситечком', 'питьевая бутылка 720 из тритана 1л, черная глянцевая, с ситечком', 'питьевая бутылка 720 из тритана 1л, лавандовая матовая, с ситечком', 'питьевая бутылка 720 из тритана 1л, розовая матовая, с ситечком', 'питьевая бутылка 720 из тритана 1л, синяя матовая, с ситечком']\n",
            "['1 544', '1 544', '1 544', '1 544', '1 544', '1 544', '1 544', '1 544', '1 544', '1 544', '1 544', '1 544', '1 544', '1 544', '1 544', '1 544', '1 544', '1 544', '1 544', '1 544', '1 544']\n",
            "33\n",
            "1544.0\n"
          ]
        }
      ]
    },
    {
      "cell_type": "code",
      "source": [
        "keyword_1 = ['0.5л']\n",
        "keyword_2 = ['1л']\n",
        "price_dict = dict(zip(water_names, water_price))\n",
        "filtered_water_names_1 = [water_name for water_name in water_names if any(keyword in water_name for keyword in keyword_1)]\n",
        "print(filtered_water_names_1)\n",
        "\n",
        "filtered_water_prices_1 = [price_dict[water_name] for water_name in filtered_water_names_1]\n",
        "print(filtered_water_prices_1)\n",
        "\n",
        "numbers_1 = []\n",
        "for price_str in filtered_water_prices_1:\n",
        "    try:\n",
        "        numbers_1.append(int(price_str.replace(' ', ''))) # Удаляем пробелы и преобразуем в число\n",
        "    except ValueError:\n",
        "        print(f\"Некорректное значение цены: {price_str}\")\n",
        "\n",
        "average_price_1 = sum(numbers_1) / len(numbers_1)\n",
        "print(len(numbers_1))\n",
        "print(average_price_1)\n",
        "\n",
        "\n"
      ],
      "metadata": {
        "colab": {
          "base_uri": "https://localhost:8080/"
        },
        "id": "2KEmbMZeqbCs",
        "outputId": "c409cce4-465e-4ba9-f25a-2d506ca13140"
      },
      "execution_count": null,
      "outputs": [
        {
          "output_type": "stream",
          "name": "stdout",
          "text": [
            "['желтая термокружка 702 «сититерм» «лось» на 0.5л', 'красная термокружка 702 «сититерм» «ацтек» на 0.5л', 'голубая термокружка 702 «сититерм» на 0.5л', 'питьевая бутылка 720 из тритана 0.5л, голубая глянцевая, с ситечком', 'питьевая бутылка 720 из тритана 0.5л, лавандовая глянцевая, с ситечком', 'питьевая бутылка 720 из тритана 0.5л, розовая глянцевая, с ситечком', 'питьевая бутылка 720 из тритана 0.5л, синяя глянцевая, с ситечком', 'питьевая бутылка 720 из тритана 0.5л, черная глянцевая, с ситечком', 'питьевая бутылка 720 из тритана 0.5л, лавандовая матовая, с ситечком', 'питьевая бутылка 720 из тритана 0.5л, розовая матовая, с ситечком', 'питьевая бутылка 720 из тритана 0.5л, голубая матовая, с ситечком', 'желтая термокружка 702 «сититерм» «лось» на 0.5л', 'красная термокружка 702 «сититерм» «ацтек» на 0.5л', 'голубая термокружка 702 «сититерм» на 0.5л', 'питьевая бутылка 720 из тритана 0.5л, голубая глянцевая, с ситечком', 'питьевая бутылка 720 из тритана 0.5л, лавандовая глянцевая, с ситечком', 'питьевая бутылка 720 из тритана 0.5л, розовая глянцевая, с ситечком', 'питьевая бутылка 720 из тритана 0.5л, синяя глянцевая, с ситечком', 'питьевая бутылка 720 из тритана 0.5л, черная глянцевая, с ситечком', 'питьевая бутылка 720 из тритана 0.5л, лавандовая матовая, с ситечком', 'питьевая бутылка 720 из тритана 0.5л, розовая матовая, с ситечком', 'питьевая бутылка 720 из тритана 0.5л, голубая матовая, с ситечком', 'желтая термокружка 702 «сититерм» «лось» на 0.5л', 'красная термокружка 702 «сититерм» «ацтек» на 0.5л', 'голубая термокружка 702 «сититерм» на 0.5л', 'питьевая бутылка 720 из тритана 0.5л, голубая глянцевая, с ситечком', 'питьевая бутылка 720 из тритана 0.5л, лавандовая глянцевая, с ситечком', 'питьевая бутылка 720 из тритана 0.5л, розовая глянцевая, с ситечком', 'питьевая бутылка 720 из тритана 0.5л, синяя глянцевая, с ситечком', 'питьевая бутылка 720 из тритана 0.5л, черная глянцевая, с ситечком', 'питьевая бутылка 720 из тритана 0.5л, лавандовая матовая, с ситечком', 'питьевая бутылка 720 из тритана 0.5л, розовая матовая, с ситечком', 'питьевая бутылка 720 из тритана 0.5л, голубая матовая, с ситечком']\n",
            "['1 811', '1 811', '1 811', '1 112', '1 112', '1 112', '1 112', '1 112', '1 112', '1 112', '1 112', '1 811', '1 811', '1 811', '1 112', '1 112', '1 112', '1 112', '1 112', '1 112', '1 112', '1 112', '1 811', '1 811', '1 811', '1 112', '1 112', '1 112', '1 112', '1 112', '1 112', '1 112', '1 112']\n",
            "33\n",
            "1302.6363636363637\n"
          ]
        }
      ]
    },
    {
      "cell_type": "code",
      "source": [
        "from dash import Dash, html, dcc\n",
        "import plotly.express as px\n",
        "import pandas as pd\n",
        "\n",
        "# Создаем приложение\n",
        "app = Dash(__name__)\n",
        "\n",
        "# Данные\n",
        "df = pd.DataFrame({\n",
        "    'Объемы бутылки': ['1 литров', '0.7 литров', '0.55 литров', '0.5 литров'],\n",
        "    'Цены': [1544.0, 1229.0, 1357.0, 1302.6363636363637]\n",
        "})\n",
        "\n",
        "# Создаем график\n",
        "fig = px.bar(df, x='Объемы бутылки', y='Цены', title='Разброс цен для разных объемов спортивных бутылок')\n",
        "\n",
        "# Макет приложения\n",
        "app.layout = html.Div([\n",
        "    html.H1(\"Продажи в магазине\"),\n",
        "    dcc.Graph(figure=fig)\n",
        "])\n",
        "\n",
        "# Запуск сервера\n",
        "if __name__ == '__main__':\n",
        "    app.run_server(debug=True)"
      ],
      "metadata": {
        "colab": {
          "base_uri": "https://localhost:8080/",
          "height": 671
        },
        "id": "MytZUHy8Jqz7",
        "outputId": "138346dc-5861-435e-c4ba-6be7dbffc9c6"
      },
      "execution_count": null,
      "outputs": [
        {
          "output_type": "display_data",
          "data": {
            "text/plain": [
              "<IPython.core.display.Javascript object>"
            ],
            "application/javascript": [
              "(async (port, path, width, height, cache, element) => {\n",
              "    if (!google.colab.kernel.accessAllowed && !cache) {\n",
              "      return;\n",
              "    }\n",
              "    element.appendChild(document.createTextNode(''));\n",
              "    const url = await google.colab.kernel.proxyPort(port, {cache});\n",
              "    const iframe = document.createElement('iframe');\n",
              "    iframe.src = new URL(path, url).toString();\n",
              "    iframe.height = height;\n",
              "    iframe.width = width;\n",
              "    iframe.style.border = 0;\n",
              "    iframe.allow = [\n",
              "        'accelerometer',\n",
              "        'autoplay',\n",
              "        'camera',\n",
              "        'clipboard-read',\n",
              "        'clipboard-write',\n",
              "        'gyroscope',\n",
              "        'magnetometer',\n",
              "        'microphone',\n",
              "        'serial',\n",
              "        'usb',\n",
              "        'xr-spatial-tracking',\n",
              "    ].join('; ');\n",
              "    element.appendChild(iframe);\n",
              "  })(8050, \"/\", \"100%\", 650, false, window.element)"
            ]
          },
          "metadata": {}
        }
      ]
    },
    {
      "cell_type": "code",
      "source": [
        "grid_links = []\n",
        "grid_names = []\n",
        "grid_price = []\n",
        "#balls_brand = []\n",
        "\n",
        "for j in range(1, 6):\n",
        "  url = 'https://www.domsporta.com/catalog/setki_voleybolnye/?utm_source=yandex&utm_medium=cpc&utm_campaign=voleybol_poisk&utm_content=16862648860&utm_term=&yclid=13320155367724810239?page=' + str(j)\n",
        "  response = requests.get(url)\n",
        "  encoding = chardet.detect(response.content)['encoding']  # Определяем кодировку\n",
        "  html = response.content.decode(encoding)  # Декодируем с правильной кодировкой\n",
        "  soup = BeautifulSoup(html, 'lxml')\n",
        "\n",
        "  html_grid = soup.find_all('div', {'class': 'b-catalog__item-info'})\n",
        "\n",
        "  for i in html_grid:\n",
        "    new_soup = BeautifulSoup(str(i), 'lxml')\n",
        "    s = new_soup.find_all('a')\n",
        "    k = new_soup.find_all('div', {'class': 'b-catalog__price-value'})\n",
        "    #t = new_soup.find_all('span', {'class': 'b-products-item__dotted'})\n",
        "    grid_links.append('https://domsporta.com/' + str(s[0]['href']))\n",
        "    grid_names.append(s[0].text.strip())\n",
        "    grid_price.append(str(k[0].text)[:-16])\n",
        "\n",
        "\n",
        "\n",
        "    #balls_brand.append(t[0].text)\n",
        "print(k)\n",
        "print(s)\n",
        "print(grid_links)\n",
        "print(grid_names)\n",
        "print(grid_price)\n",
        "#print(balls_brand)\n",
        "print(len(grid_links))\n",
        "print(len(grid_names))\n",
        "print(len(grid_price))\n",
        "#print(len(balls_brand))"
      ],
      "metadata": {
        "colab": {
          "base_uri": "https://localhost:8080/"
        },
        "id": "ajbsOz5Jc9wC",
        "outputId": "5da90bdb-121c-4241-92c8-8d4f25270a54"
      },
      "execution_count": null,
      "outputs": [
        {
          "output_type": "stream",
          "name": "stdout",
          "text": [
            "[<div class=\"b-catalog__price-value\">32 646\t\t\t\t\t\t\t\t\t\t\t\t<span>руб.</span></div>]\n",
            "[<a href=\"/goods/setka_dlya_plyazhnogo_voleybola_prof_kvrezac_15095029011_nit_3_mm_pp/\" itemprop=\"url\">\n",
            "<span itemprop=\"name\">Сетка для пляжного волейбола проф. Kv.REZAC 15095029011, нить 3 мм ПП</span>\n",
            "</a>]\n",
            "['https://domsporta.com//goods/setka_volleybolnaya_professionalnaya_kvrezac_85kh1m_15095029004/', 'https://domsporta.com//goods/setka_voleybolnaya_prof_atlet_d40_mm_imp_a72/', 'https://domsporta.com//goods/setka_dlya_plyazhnogo_voleybola_profsetka_nit_25_mm_100_m_kh_850_m_chernyy_6025_03/', 'https://domsporta.com//goods/setka_voleybolnaya_atlet_trenirovochnaya_d30_mm_imp_a490/', 'https://domsporta.com//goods/setka_voleybolnaya_atlet_standartnaya_d26_mm_imp_a73/', 'https://domsporta.com//goods/setka_voleybolnaya_35mm_fs_v_1_lyubitelskaya_nit_iz_pp_verkhnyaya_lenta_iz_pp_bez_trosa_belaya/', 'https://domsporta.com//goods/setka_voleybolnaya_trenirovochnaya_sht_nit_28mm_gimnast_130/', 'https://domsporta.com//goods/setka_voleybolnaya_97kh1_m_nit_re_18_mm_tros_stal_atemi_t4001n_bk/', 'https://domsporta.com//goods/setka_voleybolnaya_massovaya_sht_nit_22mm_gimnast_135/', 'https://domsporta.com//goods/setka_voleybolnaya_18mm_s_trosom_start_up_0611_chernyy/', 'https://domsporta.com//goods/setka_voleybolnaya_professionalnaya_4mm_sht_gimnast_120/', 'https://domsporta.com//goods/setka_dlya_plyazhnogo_voleybola_atlet_imp_a253/', 'https://domsporta.com//goods/setka_voleybolnaya_sorevnovatelnaya_sht_nit_4mm_gimnast_125/', 'https://domsporta.com//goods/setka_voleybolnaya_professionalnaya_95kh1m_nit35mm_pp_yach10sm_fs_v_7_belaya/', 'https://domsporta.com//goods/setka_dlya_plyazhnogo_voleybola_tren_85kh1mnit_35mm_ppyach10sm_fs_pv_16/', 'https://domsporta.com//goods/setka_voleybolnaya_start_d22_mm_atlet_imp_a420/', 'https://domsporta.com//goods/setka_voleybolnaya_12mm_start_up_4_007_chernyy/', 'https://domsporta.com//goods/setka_voleybolnaya_fs0_95kh1_m_nit_35_mm_pp_yach_10_sm_neylon_shnur_bez_verkh_lenty_bez_trosa/', 'https://domsporta.com//goods/setka_voleybolnaya_professionalnaya_95kh1m_nit35mm_pp_yach10sm_fs_v_8_chernaya/', 'https://domsporta.com//goods/setka_dlya_plyazhnogo_voleybola_prof_kvrezac_15095029011_nit_3_mm_pp/', 'https://domsporta.com//goods/setka_volleybolnaya_professionalnaya_kvrezac_85kh1m_15095029004/', 'https://domsporta.com//goods/setka_voleybolnaya_prof_atlet_d40_mm_imp_a72/', 'https://domsporta.com//goods/setka_dlya_plyazhnogo_voleybola_profsetka_nit_25_mm_100_m_kh_850_m_chernyy_6025_03/', 'https://domsporta.com//goods/setka_voleybolnaya_atlet_trenirovochnaya_d30_mm_imp_a490/', 'https://domsporta.com//goods/setka_voleybolnaya_atlet_standartnaya_d26_mm_imp_a73/', 'https://domsporta.com//goods/setka_voleybolnaya_35mm_fs_v_1_lyubitelskaya_nit_iz_pp_verkhnyaya_lenta_iz_pp_bez_trosa_belaya/', 'https://domsporta.com//goods/setka_voleybolnaya_trenirovochnaya_sht_nit_28mm_gimnast_130/', 'https://domsporta.com//goods/setka_voleybolnaya_97kh1_m_nit_re_18_mm_tros_stal_atemi_t4001n_bk/', 'https://domsporta.com//goods/setka_voleybolnaya_massovaya_sht_nit_22mm_gimnast_135/', 'https://domsporta.com//goods/setka_voleybolnaya_18mm_s_trosom_start_up_0611_chernyy/', 'https://domsporta.com//goods/setka_voleybolnaya_professionalnaya_4mm_sht_gimnast_120/', 'https://domsporta.com//goods/setka_dlya_plyazhnogo_voleybola_atlet_imp_a253/', 'https://domsporta.com//goods/setka_voleybolnaya_sorevnovatelnaya_sht_nit_4mm_gimnast_125/', 'https://domsporta.com//goods/setka_voleybolnaya_professionalnaya_95kh1m_nit35mm_pp_yach10sm_fs_v_7_belaya/', 'https://domsporta.com//goods/setka_dlya_plyazhnogo_voleybola_tren_85kh1mnit_35mm_ppyach10sm_fs_pv_16/', 'https://domsporta.com//goods/setka_voleybolnaya_start_d22_mm_atlet_imp_a420/', 'https://domsporta.com//goods/setka_voleybolnaya_12mm_start_up_4_007_chernyy/', 'https://domsporta.com//goods/setka_voleybolnaya_fs0_95kh1_m_nit_35_mm_pp_yach_10_sm_neylon_shnur_bez_verkh_lenty_bez_trosa/', 'https://domsporta.com//goods/setka_voleybolnaya_professionalnaya_95kh1m_nit35mm_pp_yach10sm_fs_v_8_chernaya/', 'https://domsporta.com//goods/setka_dlya_plyazhnogo_voleybola_prof_kvrezac_15095029011_nit_3_mm_pp/', 'https://domsporta.com//goods/setka_volleybolnaya_professionalnaya_kvrezac_85kh1m_15095029004/', 'https://domsporta.com//goods/setka_voleybolnaya_prof_atlet_d40_mm_imp_a72/', 'https://domsporta.com//goods/setka_dlya_plyazhnogo_voleybola_profsetka_nit_25_mm_100_m_kh_850_m_chernyy_6025_03/', 'https://domsporta.com//goods/setka_voleybolnaya_atlet_trenirovochnaya_d30_mm_imp_a490/', 'https://domsporta.com//goods/setka_voleybolnaya_atlet_standartnaya_d26_mm_imp_a73/', 'https://domsporta.com//goods/setka_voleybolnaya_35mm_fs_v_1_lyubitelskaya_nit_iz_pp_verkhnyaya_lenta_iz_pp_bez_trosa_belaya/', 'https://domsporta.com//goods/setka_voleybolnaya_trenirovochnaya_sht_nit_28mm_gimnast_130/', 'https://domsporta.com//goods/setka_voleybolnaya_97kh1_m_nit_re_18_mm_tros_stal_atemi_t4001n_bk/', 'https://domsporta.com//goods/setka_voleybolnaya_massovaya_sht_nit_22mm_gimnast_135/', 'https://domsporta.com//goods/setka_voleybolnaya_18mm_s_trosom_start_up_0611_chernyy/', 'https://domsporta.com//goods/setka_voleybolnaya_professionalnaya_4mm_sht_gimnast_120/', 'https://domsporta.com//goods/setka_dlya_plyazhnogo_voleybola_atlet_imp_a253/', 'https://domsporta.com//goods/setka_voleybolnaya_sorevnovatelnaya_sht_nit_4mm_gimnast_125/', 'https://domsporta.com//goods/setka_voleybolnaya_professionalnaya_95kh1m_nit35mm_pp_yach10sm_fs_v_7_belaya/', 'https://domsporta.com//goods/setka_dlya_plyazhnogo_voleybola_tren_85kh1mnit_35mm_ppyach10sm_fs_pv_16/', 'https://domsporta.com//goods/setka_voleybolnaya_start_d22_mm_atlet_imp_a420/', 'https://domsporta.com//goods/setka_voleybolnaya_12mm_start_up_4_007_chernyy/', 'https://domsporta.com//goods/setka_voleybolnaya_fs0_95kh1_m_nit_35_mm_pp_yach_10_sm_neylon_shnur_bez_verkh_lenty_bez_trosa/', 'https://domsporta.com//goods/setka_voleybolnaya_professionalnaya_95kh1m_nit35mm_pp_yach10sm_fs_v_8_chernaya/', 'https://domsporta.com//goods/setka_dlya_plyazhnogo_voleybola_prof_kvrezac_15095029011_nit_3_mm_pp/', 'https://domsporta.com//goods/setka_volleybolnaya_professionalnaya_kvrezac_85kh1m_15095029004/', 'https://domsporta.com//goods/setka_voleybolnaya_prof_atlet_d40_mm_imp_a72/', 'https://domsporta.com//goods/setka_dlya_plyazhnogo_voleybola_profsetka_nit_25_mm_100_m_kh_850_m_chernyy_6025_03/', 'https://domsporta.com//goods/setka_voleybolnaya_atlet_trenirovochnaya_d30_mm_imp_a490/', 'https://domsporta.com//goods/setka_voleybolnaya_atlet_standartnaya_d26_mm_imp_a73/', 'https://domsporta.com//goods/setka_voleybolnaya_35mm_fs_v_1_lyubitelskaya_nit_iz_pp_verkhnyaya_lenta_iz_pp_bez_trosa_belaya/', 'https://domsporta.com//goods/setka_voleybolnaya_trenirovochnaya_sht_nit_28mm_gimnast_130/', 'https://domsporta.com//goods/setka_voleybolnaya_97kh1_m_nit_re_18_mm_tros_stal_atemi_t4001n_bk/', 'https://domsporta.com//goods/setka_voleybolnaya_massovaya_sht_nit_22mm_gimnast_135/', 'https://domsporta.com//goods/setka_voleybolnaya_18mm_s_trosom_start_up_0611_chernyy/', 'https://domsporta.com//goods/setka_voleybolnaya_professionalnaya_4mm_sht_gimnast_120/', 'https://domsporta.com//goods/setka_dlya_plyazhnogo_voleybola_atlet_imp_a253/', 'https://domsporta.com//goods/setka_voleybolnaya_sorevnovatelnaya_sht_nit_4mm_gimnast_125/', 'https://domsporta.com//goods/setka_voleybolnaya_professionalnaya_95kh1m_nit35mm_pp_yach10sm_fs_v_7_belaya/', 'https://domsporta.com//goods/setka_dlya_plyazhnogo_voleybola_tren_85kh1mnit_35mm_ppyach10sm_fs_pv_16/', 'https://domsporta.com//goods/setka_voleybolnaya_start_d22_mm_atlet_imp_a420/', 'https://domsporta.com//goods/setka_voleybolnaya_12mm_start_up_4_007_chernyy/', 'https://domsporta.com//goods/setka_voleybolnaya_fs0_95kh1_m_nit_35_mm_pp_yach_10_sm_neylon_shnur_bez_verkh_lenty_bez_trosa/', 'https://domsporta.com//goods/setka_voleybolnaya_professionalnaya_95kh1m_nit35mm_pp_yach10sm_fs_v_8_chernaya/', 'https://domsporta.com//goods/setka_dlya_plyazhnogo_voleybola_prof_kvrezac_15095029011_nit_3_mm_pp/', 'https://domsporta.com//goods/setka_volleybolnaya_professionalnaya_kvrezac_85kh1m_15095029004/', 'https://domsporta.com//goods/setka_voleybolnaya_prof_atlet_d40_mm_imp_a72/', 'https://domsporta.com//goods/setka_dlya_plyazhnogo_voleybola_profsetka_nit_25_mm_100_m_kh_850_m_chernyy_6025_03/', 'https://domsporta.com//goods/setka_voleybolnaya_atlet_trenirovochnaya_d30_mm_imp_a490/', 'https://domsporta.com//goods/setka_voleybolnaya_atlet_standartnaya_d26_mm_imp_a73/', 'https://domsporta.com//goods/setka_voleybolnaya_35mm_fs_v_1_lyubitelskaya_nit_iz_pp_verkhnyaya_lenta_iz_pp_bez_trosa_belaya/', 'https://domsporta.com//goods/setka_voleybolnaya_trenirovochnaya_sht_nit_28mm_gimnast_130/', 'https://domsporta.com//goods/setka_voleybolnaya_97kh1_m_nit_re_18_mm_tros_stal_atemi_t4001n_bk/', 'https://domsporta.com//goods/setka_voleybolnaya_massovaya_sht_nit_22mm_gimnast_135/', 'https://domsporta.com//goods/setka_voleybolnaya_18mm_s_trosom_start_up_0611_chernyy/', 'https://domsporta.com//goods/setka_voleybolnaya_professionalnaya_4mm_sht_gimnast_120/', 'https://domsporta.com//goods/setka_dlya_plyazhnogo_voleybola_atlet_imp_a253/', 'https://domsporta.com//goods/setka_voleybolnaya_sorevnovatelnaya_sht_nit_4mm_gimnast_125/', 'https://domsporta.com//goods/setka_voleybolnaya_professionalnaya_95kh1m_nit35mm_pp_yach10sm_fs_v_7_belaya/', 'https://domsporta.com//goods/setka_dlya_plyazhnogo_voleybola_tren_85kh1mnit_35mm_ppyach10sm_fs_pv_16/', 'https://domsporta.com//goods/setka_voleybolnaya_start_d22_mm_atlet_imp_a420/', 'https://domsporta.com//goods/setka_voleybolnaya_12mm_start_up_4_007_chernyy/', 'https://domsporta.com//goods/setka_voleybolnaya_fs0_95kh1_m_nit_35_mm_pp_yach_10_sm_neylon_shnur_bez_verkh_lenty_bez_trosa/', 'https://domsporta.com//goods/setka_voleybolnaya_professionalnaya_95kh1m_nit35mm_pp_yach10sm_fs_v_8_chernaya/', 'https://domsporta.com//goods/setka_dlya_plyazhnogo_voleybola_prof_kvrezac_15095029011_nit_3_mm_pp/']\n",
            "['Сетка воллейбольная профессиональная Kv.Rezac 8,5х1м 15095029004', 'Сетка волейбольная проф. Atlet d=4,0 мм IMP-A72', 'Сетка для пляжного волейбола ПрофСетка нить 2,5 мм 1,00 м х 8,50 м, черный 6025-03', 'Сетка волейбольная Atlet тренировочная d=3,0 мм IMP-A490', 'Сетка волейбольная Atlet стандартная d=2,6 мм IMP-A73', 'Сетка волейбольная 3,5мм FS-V-№1 любительская, нить из ПП, верхняя лента из ПП, без троса, белая', 'Сетка волейбольная тренировочная, шт. нить 2.8мм Гимнаст 1.30', 'Сетка волейбольная, 9.7х1 м., нить РЕ 1.8 мм, трос сталь Atemi T4001N-BK', 'Сетка волейбольная массовая, шт. нить 2.2мм Гимнаст 1.35', 'Сетка волейбольная 1,8мм с тросом Start Up 0611 черный', 'Сетка волейбольная профессиональная 4мм, шт. Гимнаст 1.20', 'Сетка для пляжного волейбола Atlet IMP-A253', 'Сетка волейбольная соревновательная, шт. нить 4мм Гимнаст 1.25', 'Сетка волейбольная профессиональная 9.5х1м, нить3,5мм ПП, яч.10см FS-V-№7 белая', 'Сетка для пляжного волейбола трен. 8,5х1м,нить 3,5мм ПП,яч.10см FS-PV-№16', 'Сетка волейбольная Старт d2,2 мм Atlet IMP-A420', 'Сетка волейбольная 1,2мм Start Up 4-007 черный', 'Сетка волейбольная FS№0, 9,5х1 м, нить 3,5 мм, (ПП), яч. 10 см., нейлон. шнур, без верх. ленты, без троса', 'Сетка волейбольная профессиональная 9.5х1м, нить3,5мм ПП, яч.10см FS-V-№8 черная', 'Сетка для пляжного волейбола проф. Kv.REZAC 15095029011, нить 3 мм ПП', 'Сетка воллейбольная профессиональная Kv.Rezac 8,5х1м 15095029004', 'Сетка волейбольная проф. Atlet d=4,0 мм IMP-A72', 'Сетка для пляжного волейбола ПрофСетка нить 2,5 мм 1,00 м х 8,50 м, черный 6025-03', 'Сетка волейбольная Atlet тренировочная d=3,0 мм IMP-A490', 'Сетка волейбольная Atlet стандартная d=2,6 мм IMP-A73', 'Сетка волейбольная 3,5мм FS-V-№1 любительская, нить из ПП, верхняя лента из ПП, без троса, белая', 'Сетка волейбольная тренировочная, шт. нить 2.8мм Гимнаст 1.30', 'Сетка волейбольная, 9.7х1 м., нить РЕ 1.8 мм, трос сталь Atemi T4001N-BK', 'Сетка волейбольная массовая, шт. нить 2.2мм Гимнаст 1.35', 'Сетка волейбольная 1,8мм с тросом Start Up 0611 черный', 'Сетка волейбольная профессиональная 4мм, шт. Гимнаст 1.20', 'Сетка для пляжного волейбола Atlet IMP-A253', 'Сетка волейбольная соревновательная, шт. нить 4мм Гимнаст 1.25', 'Сетка волейбольная профессиональная 9.5х1м, нить3,5мм ПП, яч.10см FS-V-№7 белая', 'Сетка для пляжного волейбола трен. 8,5х1м,нить 3,5мм ПП,яч.10см FS-PV-№16', 'Сетка волейбольная Старт d2,2 мм Atlet IMP-A420', 'Сетка волейбольная 1,2мм Start Up 4-007 черный', 'Сетка волейбольная FS№0, 9,5х1 м, нить 3,5 мм, (ПП), яч. 10 см., нейлон. шнур, без верх. ленты, без троса', 'Сетка волейбольная профессиональная 9.5х1м, нить3,5мм ПП, яч.10см FS-V-№8 черная', 'Сетка для пляжного волейбола проф. Kv.REZAC 15095029011, нить 3 мм ПП', 'Сетка воллейбольная профессиональная Kv.Rezac 8,5х1м 15095029004', 'Сетка волейбольная проф. Atlet d=4,0 мм IMP-A72', 'Сетка для пляжного волейбола ПрофСетка нить 2,5 мм 1,00 м х 8,50 м, черный 6025-03', 'Сетка волейбольная Atlet тренировочная d=3,0 мм IMP-A490', 'Сетка волейбольная Atlet стандартная d=2,6 мм IMP-A73', 'Сетка волейбольная 3,5мм FS-V-№1 любительская, нить из ПП, верхняя лента из ПП, без троса, белая', 'Сетка волейбольная тренировочная, шт. нить 2.8мм Гимнаст 1.30', 'Сетка волейбольная, 9.7х1 м., нить РЕ 1.8 мм, трос сталь Atemi T4001N-BK', 'Сетка волейбольная массовая, шт. нить 2.2мм Гимнаст 1.35', 'Сетка волейбольная 1,8мм с тросом Start Up 0611 черный', 'Сетка волейбольная профессиональная 4мм, шт. Гимнаст 1.20', 'Сетка для пляжного волейбола Atlet IMP-A253', 'Сетка волейбольная соревновательная, шт. нить 4мм Гимнаст 1.25', 'Сетка волейбольная профессиональная 9.5х1м, нить3,5мм ПП, яч.10см FS-V-№7 белая', 'Сетка для пляжного волейбола трен. 8,5х1м,нить 3,5мм ПП,яч.10см FS-PV-№16', 'Сетка волейбольная Старт d2,2 мм Atlet IMP-A420', 'Сетка волейбольная 1,2мм Start Up 4-007 черный', 'Сетка волейбольная FS№0, 9,5х1 м, нить 3,5 мм, (ПП), яч. 10 см., нейлон. шнур, без верх. ленты, без троса', 'Сетка волейбольная профессиональная 9.5х1м, нить3,5мм ПП, яч.10см FS-V-№8 черная', 'Сетка для пляжного волейбола проф. Kv.REZAC 15095029011, нить 3 мм ПП', 'Сетка воллейбольная профессиональная Kv.Rezac 8,5х1м 15095029004', 'Сетка волейбольная проф. Atlet d=4,0 мм IMP-A72', 'Сетка для пляжного волейбола ПрофСетка нить 2,5 мм 1,00 м х 8,50 м, черный 6025-03', 'Сетка волейбольная Atlet тренировочная d=3,0 мм IMP-A490', 'Сетка волейбольная Atlet стандартная d=2,6 мм IMP-A73', 'Сетка волейбольная 3,5мм FS-V-№1 любительская, нить из ПП, верхняя лента из ПП, без троса, белая', 'Сетка волейбольная тренировочная, шт. нить 2.8мм Гимнаст 1.30', 'Сетка волейбольная, 9.7х1 м., нить РЕ 1.8 мм, трос сталь Atemi T4001N-BK', 'Сетка волейбольная массовая, шт. нить 2.2мм Гимнаст 1.35', 'Сетка волейбольная 1,8мм с тросом Start Up 0611 черный', 'Сетка волейбольная профессиональная 4мм, шт. Гимнаст 1.20', 'Сетка для пляжного волейбола Atlet IMP-A253', 'Сетка волейбольная соревновательная, шт. нить 4мм Гимнаст 1.25', 'Сетка волейбольная профессиональная 9.5х1м, нить3,5мм ПП, яч.10см FS-V-№7 белая', 'Сетка для пляжного волейбола трен. 8,5х1м,нить 3,5мм ПП,яч.10см FS-PV-№16', 'Сетка волейбольная Старт d2,2 мм Atlet IMP-A420', 'Сетка волейбольная 1,2мм Start Up 4-007 черный', 'Сетка волейбольная FS№0, 9,5х1 м, нить 3,5 мм, (ПП), яч. 10 см., нейлон. шнур, без верх. ленты, без троса', 'Сетка волейбольная профессиональная 9.5х1м, нить3,5мм ПП, яч.10см FS-V-№8 черная', 'Сетка для пляжного волейбола проф. Kv.REZAC 15095029011, нить 3 мм ПП', 'Сетка воллейбольная профессиональная Kv.Rezac 8,5х1м 15095029004', 'Сетка волейбольная проф. Atlet d=4,0 мм IMP-A72', 'Сетка для пляжного волейбола ПрофСетка нить 2,5 мм 1,00 м х 8,50 м, черный 6025-03', 'Сетка волейбольная Atlet тренировочная d=3,0 мм IMP-A490', 'Сетка волейбольная Atlet стандартная d=2,6 мм IMP-A73', 'Сетка волейбольная 3,5мм FS-V-№1 любительская, нить из ПП, верхняя лента из ПП, без троса, белая', 'Сетка волейбольная тренировочная, шт. нить 2.8мм Гимнаст 1.30', 'Сетка волейбольная, 9.7х1 м., нить РЕ 1.8 мм, трос сталь Atemi T4001N-BK', 'Сетка волейбольная массовая, шт. нить 2.2мм Гимнаст 1.35', 'Сетка волейбольная 1,8мм с тросом Start Up 0611 черный', 'Сетка волейбольная профессиональная 4мм, шт. Гимнаст 1.20', 'Сетка для пляжного волейбола Atlet IMP-A253', 'Сетка волейбольная соревновательная, шт. нить 4мм Гимнаст 1.25', 'Сетка волейбольная профессиональная 9.5х1м, нить3,5мм ПП, яч.10см FS-V-№7 белая', 'Сетка для пляжного волейбола трен. 8,5х1м,нить 3,5мм ПП,яч.10см FS-PV-№16', 'Сетка волейбольная Старт d2,2 мм Atlet IMP-A420', 'Сетка волейбольная 1,2мм Start Up 4-007 черный', 'Сетка волейбольная FS№0, 9,5х1 м, нить 3,5 мм, (ПП), яч. 10 см., нейлон. шнур, без верх. ленты, без троса', 'Сетка волейбольная профессиональная 9.5х1м, нить3,5мм ПП, яч.10см FS-V-№8 черная', 'Сетка для пляжного волейбола проф. Kv.REZAC 15095029011, нить 3 мм ПП']\n",
            "['23 832', '9 208', '4 166', '6 961', '4 400', '6 518', '5 594', '5 272', '2 586', '2 886', '12 172', '9 208', '10 396', '20 966', '17 884', '2 035', '1 843', '4 313', '23 151', '32 646', '23 832', '9 208', '4 166', '6 961', '4 400', '6 518', '5 594', '5 272', '2 586', '2 886', '12 172', '9 208', '10 396', '20 966', '17 884', '2 035', '1 843', '4 313', '23 151', '32 646', '23 832', '9 208', '4 166', '6 961', '4 400', '6 518', '5 594', '5 272', '2 586', '2 886', '12 172', '9 208', '10 396', '20 966', '17 884', '2 035', '1 843', '4 313', '23 151', '32 646', '23 832', '9 208', '4 166', '6 961', '4 400', '6 518', '5 594', '5 272', '2 586', '2 886', '12 172', '9 208', '10 396', '20 966', '17 884', '2 035', '1 843', '4 313', '23 151', '32 646', '23 832', '9 208', '4 166', '6 961', '4 400', '6 518', '5 594', '5 272', '2 586', '2 886', '12 172', '9 208', '10 396', '20 966', '17 884', '2 035', '1 843', '4 313', '23 151', '32 646']\n",
            "100\n",
            "100\n",
            "100\n"
          ]
        }
      ]
    },
    {
      "cell_type": "code",
      "source": [
        "сleaned_grid_price= []\n",
        "for price_str in grid_price:\n",
        "    try:\n",
        "        сleaned_grid_price.append(int(price_str.replace(' ', ''))) # Удаляем пробелы и преобразуем в число\n",
        "    except ValueError:\n",
        "        print(f\"Некорректное значение цены: {price_str}\")\n",
        "\n",
        "\n",
        "print(сleaned_grid_price)"
      ],
      "metadata": {
        "colab": {
          "base_uri": "https://localhost:8080/"
        },
        "id": "ZVY1iQpe026z",
        "outputId": "d99aa4a1-a117-4850-c4c6-97883bc5611a"
      },
      "execution_count": null,
      "outputs": [
        {
          "output_type": "stream",
          "name": "stdout",
          "text": [
            "[23832, 9208, 4166, 6961, 4400, 6518, 5594, 5272, 2586, 2886, 12172, 9208, 10396, 20966, 17884, 2035, 1843, 4313, 23151, 32646, 23832, 9208, 4166, 6961, 4400, 6518, 5594, 5272, 2586, 2886, 12172, 9208, 10396, 20966, 17884, 2035, 1843, 4313, 23151, 32646, 23832, 9208, 4166, 6961, 4400, 6518, 5594, 5272, 2586, 2886, 12172, 9208, 10396, 20966, 17884, 2035, 1843, 4313, 23151, 32646, 23832, 9208, 4166, 6961, 4400, 6518, 5594, 5272, 2586, 2886, 12172, 9208, 10396, 20966, 17884, 2035, 1843, 4313, 23151, 32646, 23832, 9208, 4166, 6961, 4400, 6518, 5594, 5272, 2586, 2886, 12172, 9208, 10396, 20966, 17884, 2035, 1843, 4313, 23151, 32646]\n"
          ]
        }
      ]
    },
    {
      "cell_type": "code",
      "source": [
        "import dash\n",
        "from dash import dcc, html\n",
        "import plotly.express as px\n",
        "import numpy as np\n",
        "\n",
        "\n",
        "# Пример данных (замените на ваши данные)\n",
        "cleaned_grid_price = np.random.randint(1000, 10000, size=100)  # Замените на ваши реальные данные\n",
        "\n",
        "# Создание Dash приложения\n",
        "app = dash.Dash(__name__)\n",
        "\n",
        "# Создание фигуры с помощью Plotly\n",
        "fig = px.scatter(\n",
        "    x=list(range(len(cleaned_grid_price))),\n",
        "    y=cleaned_grid_price,\n",
        "    labels={'x': 'Индекс объявления', 'y': 'Стоимость в рублях'},\n",
        "    title='Точечный график стоимости воллейбольных сеток'\n",
        ")\n",
        "\n",
        "# Определение макета приложения\n",
        "app.layout = html.Div(children=[\n",
        "    dcc.Graph(\n",
        "        id='scatter-plot',\n",
        "        figure=fig\n",
        "    )\n",
        "])\n",
        "\n",
        "# Запуск сервера\n",
        "if __name__ == '__main__':\n",
        "    app.run_server()\n"
      ],
      "metadata": {
        "colab": {
          "base_uri": "https://localhost:8080/",
          "height": 671
        },
        "id": "oO5DA5d0DgLn",
        "outputId": "e1b519be-5c1d-4851-dfc5-e903115ae398"
      },
      "execution_count": null,
      "outputs": [
        {
          "output_type": "display_data",
          "data": {
            "text/plain": [
              "<IPython.core.display.Javascript object>"
            ],
            "application/javascript": [
              "(async (port, path, width, height, cache, element) => {\n",
              "    if (!google.colab.kernel.accessAllowed && !cache) {\n",
              "      return;\n",
              "    }\n",
              "    element.appendChild(document.createTextNode(''));\n",
              "    const url = await google.colab.kernel.proxyPort(port, {cache});\n",
              "    const iframe = document.createElement('iframe');\n",
              "    iframe.src = new URL(path, url).toString();\n",
              "    iframe.height = height;\n",
              "    iframe.width = width;\n",
              "    iframe.style.border = 0;\n",
              "    iframe.allow = [\n",
              "        'accelerometer',\n",
              "        'autoplay',\n",
              "        'camera',\n",
              "        'clipboard-read',\n",
              "        'clipboard-write',\n",
              "        'gyroscope',\n",
              "        'magnetometer',\n",
              "        'microphone',\n",
              "        'serial',\n",
              "        'usb',\n",
              "        'xr-spatial-tracking',\n",
              "    ].join('; ');\n",
              "    element.appendChild(iframe);\n",
              "  })(8050, \"/\", \"100%\", 650, false, window.element)"
            ]
          },
          "metadata": {}
        }
      ]
    },
    {
      "cell_type": "code",
      "source": [
        "from dash import Dash, html, dcc, Input, Output\n",
        "\n",
        "app = Dash(__name__)\n",
        "\n",
        "app.layout = html.Div([\n",
        "    dcc.Input(id='input-text', value='Введите текст', type='text'),\n",
        "    html.Div(id='output-text')\n",
        "])\n",
        "\n",
        "@app.callback(\n",
        "    Output('output-text', 'children'),\n",
        "    Input('input-text', 'value')\n",
        ")\n",
        "def update_output(input_value):\n",
        "    return f'Вы ввели: {input_value}'\n",
        "\n",
        "if __name__ == '__main__':\n",
        "    app.run_server(debug=True)"
      ],
      "metadata": {
        "colab": {
          "base_uri": "https://localhost:8080/",
          "height": 671
        },
        "id": "bK_A0UHyK_Iu",
        "outputId": "0d5b701c-2f63-4b62-c713-abe336e58a51"
      },
      "execution_count": null,
      "outputs": [
        {
          "output_type": "display_data",
          "data": {
            "text/plain": [
              "<IPython.core.display.Javascript object>"
            ],
            "application/javascript": [
              "(async (port, path, width, height, cache, element) => {\n",
              "    if (!google.colab.kernel.accessAllowed && !cache) {\n",
              "      return;\n",
              "    }\n",
              "    element.appendChild(document.createTextNode(''));\n",
              "    const url = await google.colab.kernel.proxyPort(port, {cache});\n",
              "    const iframe = document.createElement('iframe');\n",
              "    iframe.src = new URL(path, url).toString();\n",
              "    iframe.height = height;\n",
              "    iframe.width = width;\n",
              "    iframe.style.border = 0;\n",
              "    iframe.allow = [\n",
              "        'accelerometer',\n",
              "        'autoplay',\n",
              "        'camera',\n",
              "        'clipboard-read',\n",
              "        'clipboard-write',\n",
              "        'gyroscope',\n",
              "        'magnetometer',\n",
              "        'microphone',\n",
              "        'serial',\n",
              "        'usb',\n",
              "        'xr-spatial-tracking',\n",
              "    ].join('; ');\n",
              "    element.appendChild(iframe);\n",
              "  })(8050, \"/\", \"100%\", 650, false, window.element)"
            ]
          },
          "metadata": {}
        }
      ]
    },
    {
      "cell_type": "code",
      "source": [
        "from dash import Dash, html, dcc, Input, Output\n",
        "import plotly.express as px\n",
        "import pandas as pd\n",
        "\n",
        "app = Dash(__name__)\n",
        "\n",
        "# Данные\n",
        "data = {\n",
        "    'Категория': ['Продукты', 'Одежда', 'Техника'],\n",
        "    'Январь': [5000, 3000, 2000],\n",
        "    'Февраль': [6000, 4000, 3000]\n",
        "}\n",
        "df = pd.DataFrame(data)\n",
        "\n",
        "# Макет приложения\n",
        "app.layout = html.Div([\n",
        "    dcc.Dropdown(\n",
        "        id='month-dropdown',\n",
        "        options=[\n",
        "            {'label': 'Январь', 'value': 'Январь'},\n",
        "            {'label': 'Февраль', 'value': 'Февраль'}\n",
        "        ],\n",
        "        value='Январь'\n",
        "    ),\n",
        "    dcc.Graph(id='bar-chart')\n",
        "])\n",
        "\n",
        "# Callback-функция\n",
        "@app.callback(\n",
        "    Output('bar-chart', 'figure'),\n",
        "    Input('month-dropdown', 'value')\n",
        ")\n",
        "def update_chart(selected_month):\n",
        "    fig = px.bar(df, x='Категория', y=selected_month, title=f'Продажи за {selected_month}')\n",
        "    return fig\n",
        "\n",
        "if __name__ == '__main__':\n",
        "    app.run_server(debug=True)"
      ],
      "metadata": {
        "colab": {
          "base_uri": "https://localhost:8080/",
          "height": 671
        },
        "id": "cGIuZ60gLRQL",
        "outputId": "e21c38f6-043d-437c-b2c6-5af2ba7958d2"
      },
      "execution_count": null,
      "outputs": [
        {
          "output_type": "display_data",
          "data": {
            "text/plain": [
              "<IPython.core.display.Javascript object>"
            ],
            "application/javascript": [
              "(async (port, path, width, height, cache, element) => {\n",
              "    if (!google.colab.kernel.accessAllowed && !cache) {\n",
              "      return;\n",
              "    }\n",
              "    element.appendChild(document.createTextNode(''));\n",
              "    const url = await google.colab.kernel.proxyPort(port, {cache});\n",
              "    const iframe = document.createElement('iframe');\n",
              "    iframe.src = new URL(path, url).toString();\n",
              "    iframe.height = height;\n",
              "    iframe.width = width;\n",
              "    iframe.style.border = 0;\n",
              "    iframe.allow = [\n",
              "        'accelerometer',\n",
              "        'autoplay',\n",
              "        'camera',\n",
              "        'clipboard-read',\n",
              "        'clipboard-write',\n",
              "        'gyroscope',\n",
              "        'magnetometer',\n",
              "        'microphone',\n",
              "        'serial',\n",
              "        'usb',\n",
              "        'xr-spatial-tracking',\n",
              "    ].join('; ');\n",
              "    element.appendChild(iframe);\n",
              "  })(8050, \"/\", \"100%\", 650, false, window.element)"
            ]
          },
          "metadata": {}
        }
      ]
    },
    {
      "cell_type": "code",
      "source": [
        "pip install dash-extensions"
      ],
      "metadata": {
        "colab": {
          "base_uri": "https://localhost:8080/"
        },
        "id": "jAzN6eqTLm06",
        "outputId": "b5673325-0173-44c0-f290-251f11c472f9"
      },
      "execution_count": null,
      "outputs": [
        {
          "output_type": "stream",
          "name": "stdout",
          "text": [
            "Collecting dash-extensions\n",
            "  Downloading dash_extensions-1.0.20-py3-none-any.whl.metadata (3.1 kB)\n",
            "Collecting Flask-Caching<3.0.0,>=2.1.0 (from dash-extensions)\n",
            "  Downloading Flask_Caching-2.3.1-py3-none-any.whl.metadata (2.2 kB)\n",
            "Requirement already satisfied: dash>=2.18.2 in /usr/local/lib/python3.11/dist-packages (from dash-extensions) (2.18.2)\n",
            "Collecting dataclass-wizard<0.31.0,>=0.30.1 (from dash-extensions)\n",
            "  Downloading dataclass_wizard-0.30.1-py2.py3-none-any.whl.metadata (45 kB)\n",
            "\u001b[2K     \u001b[90m━━━━━━━━━━━━━━━━━━━━━━━━━━━━━━━━━━━━━━━━\u001b[0m \u001b[32m45.8/45.8 kB\u001b[0m \u001b[31m1.5 MB/s\u001b[0m eta \u001b[36m0:00:00\u001b[0m\n",
            "\u001b[?25hCollecting jsbeautifier<2.0.0,>=1.14.3 (from dash-extensions)\n",
            "  Downloading jsbeautifier-1.15.4-py3-none-any.whl.metadata (374 bytes)\n",
            "Requirement already satisfied: more-itertools<11.0.0,>=10.2.0 in /usr/local/lib/python3.11/dist-packages (from dash-extensions) (10.6.0)\n",
            "Requirement already satisfied: pydantic<3.0.0,>=2.10.1 in /usr/local/lib/python3.11/dist-packages (from dash-extensions) (2.10.6)\n",
            "Requirement already satisfied: Flask<3.1,>=1.0.4 in /usr/local/lib/python3.11/dist-packages (from dash>=2.18.2->dash-extensions) (3.0.3)\n",
            "Requirement already satisfied: Werkzeug<3.1 in /usr/local/lib/python3.11/dist-packages (from dash>=2.18.2->dash-extensions) (3.0.6)\n",
            "Requirement already satisfied: plotly>=5.0.0 in /usr/local/lib/python3.11/dist-packages (from dash>=2.18.2->dash-extensions) (5.24.1)\n",
            "Requirement already satisfied: dash-html-components==2.0.0 in /usr/local/lib/python3.11/dist-packages (from dash>=2.18.2->dash-extensions) (2.0.0)\n",
            "Requirement already satisfied: dash-core-components==2.0.0 in /usr/local/lib/python3.11/dist-packages (from dash>=2.18.2->dash-extensions) (2.0.0)\n",
            "Requirement already satisfied: dash-table==5.0.0 in /usr/local/lib/python3.11/dist-packages (from dash>=2.18.2->dash-extensions) (5.0.0)\n",
            "Requirement already satisfied: importlib-metadata in /usr/local/lib/python3.11/dist-packages (from dash>=2.18.2->dash-extensions) (8.6.1)\n",
            "Requirement already satisfied: typing-extensions>=4.1.1 in /usr/local/lib/python3.11/dist-packages (from dash>=2.18.2->dash-extensions) (4.12.2)\n",
            "Requirement already satisfied: requests in /usr/local/lib/python3.11/dist-packages (from dash>=2.18.2->dash-extensions) (2.32.3)\n",
            "Requirement already satisfied: retrying in /usr/local/lib/python3.11/dist-packages (from dash>=2.18.2->dash-extensions) (1.3.4)\n",
            "Requirement already satisfied: nest-asyncio in /usr/local/lib/python3.11/dist-packages (from dash>=2.18.2->dash-extensions) (1.6.0)\n",
            "Requirement already satisfied: setuptools in /usr/local/lib/python3.11/dist-packages (from dash>=2.18.2->dash-extensions) (75.1.0)\n",
            "Collecting cachelib>=0.9.0 (from Flask-Caching<3.0.0,>=2.1.0->dash-extensions)\n",
            "  Downloading cachelib-0.13.0-py3-none-any.whl.metadata (2.0 kB)\n",
            "Requirement already satisfied: six>=1.13.0 in /usr/local/lib/python3.11/dist-packages (from jsbeautifier<2.0.0,>=1.14.3->dash-extensions) (1.17.0)\n",
            "Collecting editorconfig>=0.12.2 (from jsbeautifier<2.0.0,>=1.14.3->dash-extensions)\n",
            "  Downloading EditorConfig-0.17.0-py3-none-any.whl.metadata (3.8 kB)\n",
            "Requirement already satisfied: annotated-types>=0.6.0 in /usr/local/lib/python3.11/dist-packages (from pydantic<3.0.0,>=2.10.1->dash-extensions) (0.7.0)\n",
            "Requirement already satisfied: pydantic-core==2.27.2 in /usr/local/lib/python3.11/dist-packages (from pydantic<3.0.0,>=2.10.1->dash-extensions) (2.27.2)\n",
            "Requirement already satisfied: Jinja2>=3.1.2 in /usr/local/lib/python3.11/dist-packages (from Flask<3.1,>=1.0.4->dash>=2.18.2->dash-extensions) (3.1.6)\n",
            "Requirement already satisfied: itsdangerous>=2.1.2 in /usr/local/lib/python3.11/dist-packages (from Flask<3.1,>=1.0.4->dash>=2.18.2->dash-extensions) (2.2.0)\n",
            "Requirement already satisfied: click>=8.1.3 in /usr/local/lib/python3.11/dist-packages (from Flask<3.1,>=1.0.4->dash>=2.18.2->dash-extensions) (8.1.8)\n",
            "Requirement already satisfied: blinker>=1.6.2 in /usr/local/lib/python3.11/dist-packages (from Flask<3.1,>=1.0.4->dash>=2.18.2->dash-extensions) (1.9.0)\n",
            "Requirement already satisfied: tenacity>=6.2.0 in /usr/local/lib/python3.11/dist-packages (from plotly>=5.0.0->dash>=2.18.2->dash-extensions) (9.0.0)\n",
            "Requirement already satisfied: packaging in /usr/local/lib/python3.11/dist-packages (from plotly>=5.0.0->dash>=2.18.2->dash-extensions) (24.2)\n",
            "Requirement already satisfied: MarkupSafe>=2.1.1 in /usr/local/lib/python3.11/dist-packages (from Werkzeug<3.1->dash>=2.18.2->dash-extensions) (3.0.2)\n",
            "Requirement already satisfied: zipp>=3.20 in /usr/local/lib/python3.11/dist-packages (from importlib-metadata->dash>=2.18.2->dash-extensions) (3.21.0)\n",
            "Requirement already satisfied: charset-normalizer<4,>=2 in /usr/local/lib/python3.11/dist-packages (from requests->dash>=2.18.2->dash-extensions) (3.4.1)\n",
            "Requirement already satisfied: idna<4,>=2.5 in /usr/local/lib/python3.11/dist-packages (from requests->dash>=2.18.2->dash-extensions) (3.10)\n",
            "Requirement already satisfied: urllib3<3,>=1.21.1 in /usr/local/lib/python3.11/dist-packages (from requests->dash>=2.18.2->dash-extensions) (2.3.0)\n",
            "Requirement already satisfied: certifi>=2017.4.17 in /usr/local/lib/python3.11/dist-packages (from requests->dash>=2.18.2->dash-extensions) (2025.1.31)\n",
            "Downloading dash_extensions-1.0.20-py3-none-any.whl (1.5 MB)\n",
            "\u001b[2K   \u001b[90m━━━━━━━━━━━━━━━━━━━━━━━━━━━━━━━━━━━━━━━━\u001b[0m \u001b[32m1.5/1.5 MB\u001b[0m \u001b[31m22.7 MB/s\u001b[0m eta \u001b[36m0:00:00\u001b[0m\n",
            "\u001b[?25hDownloading dataclass_wizard-0.30.1-py2.py3-none-any.whl (114 kB)\n",
            "\u001b[2K   \u001b[90m━━━━━━━━━━━━━━━━━━━━━━━━━━━━━━━━━━━━━━━━\u001b[0m \u001b[32m114.3/114.3 kB\u001b[0m \u001b[31m7.0 MB/s\u001b[0m eta \u001b[36m0:00:00\u001b[0m\n",
            "\u001b[?25hDownloading Flask_Caching-2.3.1-py3-none-any.whl (28 kB)\n",
            "Downloading jsbeautifier-1.15.4-py3-none-any.whl (94 kB)\n",
            "\u001b[2K   \u001b[90m━━━━━━━━━━━━━━━━━━━━━━━━━━━━━━━━━━━━━━━━\u001b[0m \u001b[32m94.7/94.7 kB\u001b[0m \u001b[31m5.6 MB/s\u001b[0m eta \u001b[36m0:00:00\u001b[0m\n",
            "\u001b[?25hDownloading cachelib-0.13.0-py3-none-any.whl (20 kB)\n",
            "Downloading EditorConfig-0.17.0-py3-none-any.whl (16 kB)\n",
            "Installing collected packages: editorconfig, dataclass-wizard, jsbeautifier, cachelib, Flask-Caching, dash-extensions\n",
            "Successfully installed Flask-Caching-2.3.1 cachelib-0.13.0 dash-extensions-1.0.20 dataclass-wizard-0.30.1 editorconfig-0.17.0 jsbeautifier-1.15.4\n"
          ]
        }
      ]
    },
    {
      "cell_type": "code",
      "source": [
        "from dash import Dash, html, dcc, Input, Output\n",
        "import plotly.express as px\n",
        "import pandas as pd\n",
        "from dash_extensions.enrich import DashProxy, MultiplexerTransform\n",
        "\n",
        "# Создаем приложение с поддержкой нескольких обновлений одного Output\n",
        "app = DashProxy(__name__, transforms=[MultiplexerTransform()])\n",
        "\n",
        "# Загружаем данные\n",
        "df = px.data.gapminder()\n",
        "\n",
        "# Создаем макет\n",
        "app.layout = html.Div([\n",
        "    dcc.Dropdown(\n",
        "        id='continent-dropdown',\n",
        "        options=[{'label': c, 'value': c} for c in df['continent'].unique()],\n",
        "        value='Asia'\n",
        "    ),\n",
        "    dcc.Graph(id='animated-graph'),\n",
        "    dcc.Slider(\n",
        "        id='year-slider',\n",
        "        min=df['year'].min(),\n",
        "        max=df['year'].max(),\n",
        "        value=df['year'].min(),\n",
        "        marks={str(year): str(year) for year in df['year'].unique()},\n",
        "        step=None\n",
        "    )\n",
        "])\n",
        "\n",
        "# Обновляем график при изменении выпадающего списка или слайдера\n",
        "@app.callback(\n",
        "    Output('animated-graph', 'figure'),\n",
        "    Input('continent-dropdown', 'value'),\n",
        "    Input('year-slider', 'value')\n",
        ")\n",
        "def update_graph(selected_continent, selected_year):\n",
        "    filtered_df = df[(df['continent'] == selected_continent) & (df['year'] == selected_year)]\n",
        "    fig = px.scatter(filtered_df, x='gdpPercap', y='lifeExp',\n",
        "                     size='pop', color='country', hover_name='country',\n",
        "                     log_x=True, size_max=55, title=f'Данные за {selected_year}')\n",
        "    return fig\n",
        "\n",
        "# Запуск сервера\n",
        "if __name__ == '__main__':\n",
        "    app.run_server(debug=True)"
      ],
      "metadata": {
        "colab": {
          "base_uri": "https://localhost:8080/",
          "height": 671
        },
        "id": "b1b5P6pdLs6e",
        "outputId": "d0fdd65a-cd06-446b-99cf-258bac2deef0"
      },
      "execution_count": null,
      "outputs": [
        {
          "output_type": "display_data",
          "data": {
            "text/plain": [
              "<IPython.core.display.Javascript object>"
            ],
            "application/javascript": [
              "(async (port, path, width, height, cache, element) => {\n",
              "    if (!google.colab.kernel.accessAllowed && !cache) {\n",
              "      return;\n",
              "    }\n",
              "    element.appendChild(document.createTextNode(''));\n",
              "    const url = await google.colab.kernel.proxyPort(port, {cache});\n",
              "    const iframe = document.createElement('iframe');\n",
              "    iframe.src = new URL(path, url).toString();\n",
              "    iframe.height = height;\n",
              "    iframe.width = width;\n",
              "    iframe.style.border = 0;\n",
              "    iframe.allow = [\n",
              "        'accelerometer',\n",
              "        'autoplay',\n",
              "        'camera',\n",
              "        'clipboard-read',\n",
              "        'clipboard-write',\n",
              "        'gyroscope',\n",
              "        'magnetometer',\n",
              "        'microphone',\n",
              "        'serial',\n",
              "        'usb',\n",
              "        'xr-spatial-tracking',\n",
              "    ].join('; ');\n",
              "    element.appendChild(iframe);\n",
              "  })(8050, \"/\", \"100%\", 650, false, window.element)"
            ]
          },
          "metadata": {}
        }
      ]
    },
    {
      "cell_type": "code",
      "source": [
        "import matplotlib.pyplot as plt\n",
        "import numpy as np\n",
        "\n",
        "import seaborn as sns\n",
        "plt.scatter(range(len(сleaned_grid_price)), сleaned_grid_price, color='orange', alpha=0.5)\n",
        "plt.title('Точечный график стоимости воллейбольных сеток')\n",
        "plt.xlabel('Индекс объявления')\n",
        "plt.ylabel('Стоимость в рублях')\n",
        "plt.show()"
      ],
      "metadata": {
        "colab": {
          "base_uri": "https://localhost:8080/",
          "height": 472
        },
        "id": "HiQsu8kt0soA",
        "outputId": "7f998e22-ff45-44ed-df90-612b3310ca36"
      },
      "execution_count": null,
      "outputs": [
        {
          "output_type": "display_data",
          "data": {
            "text/plain": [
              "<Figure size 640x480 with 1 Axes>"
            ],
            "image/png": "[encoded data removed]"
          },
          "metadata": {}
        }
      ]
    },
    {
      "cell_type": "code",
      "source": [
        "balls_links = []\n",
        "balls_names = []\n",
        "balls_price = []\n",
        "#balls_brand = []\n",
        "\n",
        "for j in range(1, 8):\n",
        "  url = 'https://delta-fitness.ru/products?keyword=%D0%B2%D0%BE%D0%BB%D0%B5%D0%B9%D0%B1%D0%BE%D0%BB%D1%8C%D0%BD%D1%8B%D0%B9+%D0%BC%D1%8F%D1%87&page=' + str(j)\n",
        "  response = requests.get(url)\n",
        "  encoding = chardet.detect(response.content)['encoding']  # Определяем кодировку\n",
        "  html = response.content.decode(encoding)  # Декодируем с правильной кодировкой\n",
        "  soup = BeautifulSoup(html, 'lxml')\n",
        "\n",
        "  html_balls = soup.find_all('div', {'class': 'b-col--lg-12 b-col--md-12 b-col--sm-12 b-col--xs-7'})\n",
        "\n",
        "  for i in html_balls:\n",
        "    new_soup = BeautifulSoup(str(i), 'lxml')\n",
        "    s = new_soup.find_all('a')\n",
        "    k = new_soup.find_all('b', {'class': 'b-products-item__price'})\n",
        "    #t = new_soup.find_all('span', {'class': 'b-products-item__dotted'})\n",
        "    balls_links.append('https://delta-fitness.ru/' + str(s[0]['href']))\n",
        "    balls_names.append(s[0].text)\n",
        "    balls_price.append(str(k[0].text)[:-7])\n",
        "    #balls_brand.append(t[0].text)\n",
        "\n",
        "print(balls_links)\n",
        "print(balls_names)\n",
        "print(balls_price)\n",
        "#print(balls_brand)\n",
        "print(len(balls_links))\n",
        "print(len(balls_names))\n",
        "print(len(balls_price))\n",
        "#print(len(balls_brand))"
      ],
      "metadata": {
        "colab": {
          "base_uri": "https://localhost:8080/"
        },
        "id": "PxgWuCbdxGjY",
        "outputId": "077ce0b7-fc2c-47ee-dbd4-b0fa6303a9e4"
      },
      "execution_count": null,
      "outputs": [
        {
          "output_type": "stream",
          "name": "stdout",
          "text": [
            "['https://delta-fitness.ru/products/myach-voleybolnyy-torres-dig-art-v22145-r5-sinteticheskaya-kozha-tpe-kleenyy-butilovaya-kamera--gorchichno-biryuzovo-bezhevyy', 'https://delta-fitness.ru/products/myach-voleybolnyy-torres-hit-artv32055-r5-sinteticheskaya-kozha-pu-kleenyy-butilovaya-kamera--belo-krasno-multkolor', 'https://delta-fitness.ru/products/myach-voleybolnyy-mikasa-v430w--r4-ves-195-225g-sinteticheskaya-kozha-pu-18-pan-mashinnaya-sshivka--butilovaya-kamera--zhelto-siniy', 'https://delta-fitness.ru/products/myach-voleybolnyy-torres-bm850-artv32025-r5-sint-kozha-pu-kleenyy-but-kam-bel-sin-kras', 'https://delta-fitness.ru/products/myach-volejbolnyj-minsa-pvh-mashinnaya-sshivka-18-panelej-r-5', 'https://delta-fitness.ru/products/myach-voleybolnyy-torres-set-artv32045-r5-sinteticheskaya-kozha-tpu-kleenyy-butilovaya-kamera--belo-oranzh-sero-goluboy', 'https://delta-fitness.ru/products/myach-voleybolnyy-torres-resist-artv321305-r5-sint-kozha-pu-gibrid-butilovaya-kamera-zhelto-krasno-chernyy', 'https://delta-fitness.ru/products/myach-volejbolnyj-onlitop-koshechka-razmer-2', 'https://delta-fitness.ru/products/myach-voleybolnyy-mikasa-v300w--r5-fivb-appr-18-pan-sinteticheskaya-kozha-mikrofib-kleenyy-butilovaya-kamera--zhelto-siniy', 'https://delta-fitness.ru/products/myach-voleybolnyy-junior-lite-jgel-tsb-00002647', 'https://delta-fitness.ru/products/myach-volejbolnyj-rossiya-pvh-mashinnaya-sshivka-18-panelej-razmer-5-270-g', 'https://delta-fitness.ru/products/myach-voleybolnyy-wilson-optx-avp-vb-replica-art-wth01020x-razmer-5-it21n', 'https://delta-fitness.ru/products/myach-voleybolnyy-torres-save-artv321505-r5-sinteticheskaya-kozha-pu-gibrid-butilovaya-kamera-belo-zeleno-zhelnyy', 'https://delta-fitness.ru/products/myach-voleybolnyy-street-volley', 'https://delta-fitness.ru/products/myach-voleybolnyy-jv-100-belyy-jgel-ut-00019885', 'https://delta-fitness.ru/products/myach-voleybolnyy-mikasa-v200w--r5-ofmyach-fivb-fivb-appr-sinteticheskaya-kozha-mikrofib-18pan-kleenyy-zhelt-sin', 'https://delta-fitness.ru/products/myach-voleybolnyy-jv-100-siniyzheltyy-jgel-ut-00019883', 'https://delta-fitness.ru/products/myach-voleybolnyy-torres-bm1200-v42335-razmer-5', 'https://delta-fitness.ru/products/myach-voleybolnyy-torres-set-v32345-razmer-5', 'https://delta-fitness.ru/products/myach-voleybolnyy-torres-hit-v32355-razmer-5', 'https://delta-fitness.ru/products/myach-voleybolnyy-torres-simple-artv32105-r5-sinteticheskaya-kozha-tpu-mash-sshivka-but-kamera-belo-chernyy', 'https://delta-fitness.ru/products/myach-voleybolnyy-torres-dig-v22345-razmer-5', 'https://delta-fitness.ru/products/myach-voleybolnyy-torres-bm400-v42315-razmer-5', 'https://delta-fitness.ru/products/myach-voleybolnyy-torres-bm850-v42325-razmer-5', 'https://delta-fitness.ru/products/myach-voleybolnyy-torres-grip-y-artv32185-r5-sinteticheskaya-kozha-tpu-mashinnaya-sshivka-butilovaya-kamera-zhelto-siniy', 'https://delta-fitness.ru/products/myach-voleybolnyy-mikasa-vs170w-y-bl--r5-ves-160-180-g-fivb-inspsintpena-tpe-kleen18-panbutilovaya-kamera-zhel', 'https://delta-fitness.ru/products/myach-voleybolnyy-torres-simple-orange-v323125-razmer-5-nila9', 'https://delta-fitness.ru/products/myach-voleybolnyy-mikasa-v345w--r5-ves-195-225g-sinteticheskaya-kozha-pu-18-pan-mashinnaya-sshivka--butilovaya-kamera--zhelto-siniy', 'https://delta-fitness.ru/products/myach-voleybolnyy-jv-500-jgel-ut-00019094', 'https://delta-fitness.ru/products/myach-voleybolnyy-jv-500-jgel-tsb-00002650', 'https://delta-fitness.ru/products/myach-voleybolnyy-mikasa-v330w--r5-sinteticheskaya-kozha-pu-18-pan-of-param-fivbkleenyy-butilovaya-kamera--zhelto-siniy', 'https://delta-fitness.ru/products/myach-voleybolnyy-torres-save-v321505-razmer-5', 'https://delta-fitness.ru/products/myach-voleybolnyy-jv-400-jgel-tsb-00002649', 'https://delta-fitness.ru/products/myach-voleybolnyy-penalty-bola-volei-80-pro-fivb-tested-art-5415822400-u-dozeh', 'https://delta-fitness.ru/products/myach-voleybolnyy-jv-600-jgel-tsb-00002652', 'https://delta-fitness.ru/products/e43276-myach-voleybolnyy-molten-flista-tec-5000-replica-belokrasnozelenyy', 'https://delta-fitness.ru/products/e43275-myach-voleybolnyy-molten-flista-tec-5000-replica-belokrasnozelenyy', 'https://delta-fitness.ru/products/e43273-myach-voleybolnyy-molten-ev-5000-replica-belosiniy-sporteks', 'https://delta-fitness.ru/products/e40796-4-myach-voleybolnyy-5-sporteks', 'https://delta-fitness.ru/products/e40006-4-myach-voleybolnyy-oranzhevosalatrozovyy--pu-27-235-gr-mashinnaya-sshivka-sporteks', 'https://delta-fitness.ru/products/e40006-3-myach-voleybolnyy-rozovosalatgoluboy--pu-27-235-gr-mashinnaya-sshivka-sporteks', 'https://delta-fitness.ru/products/e40006-2-myach-voleybolnyy-zelenosalatgoluboy--pu-27-235-gr-mashinnaya-sshivka-sporteks', 'https://delta-fitness.ru/products/e40006-1-myach-voleybolnyy-belosinekrasnyy--pu-27-235-gr-mashinnaya-sshivka-sporteks', 'https://delta-fitness.ru/products/e40796-3-myach-voleybolnyy-5-sporteks', 'https://delta-fitness.ru/products/e40796-2-myach-voleybolnyy-5-sporteks', 'https://delta-fitness.ru/products/e40796-1-myach-voleybolnyy-5-sporteks', 'https://delta-fitness.ru/products/r18035-4-myach-voleybolnyy-meik-503-pu-25-285-gr-mashinnaya-sshivka-sporteks', 'https://delta-fitness.ru/products/r18035-3-myach-voleybolnyy-meik-503-pu-25-285-gr-mashinnaya-sshivka-sporteks', 'https://delta-fitness.ru/products/r18035-2-myach-voleybolnyy-meik-503-pu-25-285-gr-mashinnaya-sshivka-sporteks', 'https://delta-fitness.ru/products/r18038-myach-voleybolnyy-meik-2811-pu-25-270-gr-mashinnaya-sshivka-sporteks', 'https://delta-fitness.ru/products/e40006-myach-voleybolnyy-belosinezheltyy--pu-27-260-gr-mashinnaya-sshivka-sporteks', 'https://delta-fitness.ru/products/e40005-myach-voleybolnyy-detskiy-2-rozovozelenooranzhevyy--pu-27-150-gr-mashinnaya-sshivka-sporteks', 'https://delta-fitness.ru/products/e40004-myach-voleybolnyy-detskiy-2-oranzhevosinezheltyy--pu-27-150-gr-mashinnaya-sshivka-sporteks', 'https://delta-fitness.ru/products/e39981-myach-voleybolnyy-belosinezelenyy--pu-27-300-gr-mashinnaya-sshivka-sporteks', 'https://delta-fitness.ru/products/e33542-2-myach-voleybolnyy-salatovyy--pvc-27-280-gr-mashinnaya-sshivka-sporteks', 'https://delta-fitness.ru/products/e33542-1-myach-voleybolnyy-siniy--pvc-27-280-gr-mashinnaya-sshivka-sporteks', 'https://delta-fitness.ru/products/t07522-myach-voleybolnyy-pu-25-270-gr-mashinnaya-sshivka-sporteks', 'https://delta-fitness.ru/products/t07523-myach-voleybolnyy-pu-25-270-gr-mashinnaya-sshivka-sporteks', 'https://delta-fitness.ru/products/c28683-4-myach-voleybolnyy-meik-qs-v519-oranzhevyy--tpu-25-270-gr-mashinnaya-sshivka-sporteks', 'https://delta-fitness.ru/products/c28683-3-myach-voleybolnyy-meik-qs-v519-zelenyy--tpu-25-270-gr-mashinnaya-sshivka-sporteks', 'https://delta-fitness.ru/products/c28683-2-myach-voleybolnyy-meik-qs-v519-krasnyy--tpu-25-270-gr-mashinnaya-sshivka-sporteks', 'https://delta-fitness.ru/products/r18041-myach-voleybolnyy-meik-200-8-paneley-pu-27-280-gr-kleenyy-sporteks', 'https://delta-fitness.ru/products/r18036-myach-voleybolnyy-meik-503-pu-25-270-gr-mashinnaya-sshivka-sporteks', 'https://delta-fitness.ru/products/r18035-myach-voleybolnyy-meik-503-pu-25-270-gr-mashinnaya-sshivka-sporteks', 'https://delta-fitness.ru/products/e33479-myach-voleybolnyy-serogoluboy--pvkh-25-260-gr-sporteks', 'https://delta-fitness.ru/products/e33478-myach-voleybolnyy-sinekrasnyy--pvkh-25-260-gr-sporteks', 'https://delta-fitness.ru/products/e33489-2-myach-voleybolnyy-krasnyysiniy--pvc-27-290-gr-mashinnaya-sshivka-sporteks', 'https://delta-fitness.ru/products/e33493-myach-voleybolnyy-myagkiy-oranzhevyy--litoy-pu-270-gr-polnotelyy-sporteks', 'https://delta-fitness.ru/products/e33543-2-myach-voleybolnyy-zelenyy--pvc-27-280-gr-mashinnaya-sshivka-sporteks', 'https://delta-fitness.ru/products/e33543-1-myach-voleybolnyy-goluboy--pvc-27-280-gr-mashinnaya-sshivka-sporteks', 'https://delta-fitness.ru/products/e33542-4-myach-voleybolnyy-rozovyy--pvc-27-280-gr-mashinnaya-sshivka-sporteks', 'https://delta-fitness.ru/products/e33541-4-myach-voleybolnyy-chernyy--pvc-25-250-gr-mashinnaya-sshivka-sporteks', 'https://delta-fitness.ru/products/e33541-3-myach-voleybolnyy-krasnyy--pvc-25-250-gr-mashinnaya-sshivka-sporteks', 'https://delta-fitness.ru/products/myach-voleybolnyy-penalty-bola-volei-60-pro-art5416042420-u-r5-mikrofibra-termosshivka-zhelt-fiol', 'https://delta-fitness.ru/products/myach-voleybolnyy-mikasa-vs170w-y-g-razmer-5', 'https://delta-fitness.ru/products/myach-voleybolnyy-torres-simple-color-v323115-razmer-5-wvgja', 'https://delta-fitness.ru/products/myach-voleybolnyy-jv-100-jgel-tsb-00002644', 'https://delta-fitness.ru/products/myach-dlya-plyazhnogo-voleybola-mikasa-bv550c-razmer-5-fivb-approved-npm4f', 'https://delta-fitness.ru/products/myach-voleybolnyy-indoor-game-jgel-ut-00018100', 'https://delta-fitness.ru/products/voleybolnyy-myach-00908', 'https://delta-fitness.ru/products/voleybolnyy-myach-00907', 'https://delta-fitness.ru/products/voleybolnyy-myach-00903', 'https://delta-fitness.ru/products/voleybolnyy-myach-sprinter-vs5002', 'https://delta-fitness.ru/products/voleybolnyy-myach-sprinter-vs3001', 'https://delta-fitness.ru/products/voleybolnyy-myach-sprinter-vs3002', 'https://delta-fitness.ru/products/voleybolnyy-myach-sprinter-vs1003', 'https://delta-fitness.ru/products/voleybolnyy-myach-sprinter-vs5001', 'https://delta-fitness.ru/products/voleybolnyy-myach-sprinter-vs6006', 'https://delta-fitness.ru/products/myach-voleybolnyy-utyazh-mikasa-vt370w--r-5-18-paneley-sinteticheskaya-kozha--ves-370g-kleenyy-sine-zheltyy', 'https://delta-fitness.ru/products/myach-voleybolnyy-molten-v5m2000-razmer-5-sinteticheskaya-kozha-tpu-zvtcj', 'https://delta-fitness.ru/products/myach-voleybolnyy-kelme-art-8203qu5017-162-razmer-5-18-paneley-f63y4', 'https://delta-fitness.ru/products/myach-voleybolnyy-utyazh-mikasa-vt500w--r-5-sinteticheskaya-kozha--ves-500g-kleenyy-sine-zheltyy', 'https://delta-fitness.ru/products/myach-voleybolnyy-suvenirnyy-mikasa-v15w-razmer-1', 'https://delta-fitness.ru/products/myach-voleybolnyy-larsen-vb-ece-5000b', 'https://delta-fitness.ru/products/myach-voleybolnyy-larsen-vb-ece-5000g', 'https://delta-fitness.ru/products/myach-voleybolnyy-larsen-vb-ece-5000y', 'https://delta-fitness.ru/products/myach-voleybolnyy-plyazhnyy-larsen-softset-green', 'https://delta-fitness.ru/products/myach-voleybolnyy-plyazhnyy-larsen-softset-blue', 'https://delta-fitness.ru/products/myach-voleybolnyy-plyazhnyy-larsen-beachfun', 'https://delta-fitness.ru/products/myach-voleybolnyy-plyazhnyy-larsen-beach-volleyball-rainbow', 'https://delta-fitness.ru/products/myach-voleybolnyy-plyazhnyy-larsen-beach-volleyball-lime', 'https://delta-fitness.ru/products/myach-voleybolnyy-plyazhnyy-larsen-beach-volleyball-green', 'https://delta-fitness.ru/products/myach-voleybolnyy-plyazhnyy-larsen-beach-volleyball-blue', 'https://delta-fitness.ru/products/myach-voleybolnyy-plyazhnyy-larsen-beach-volleyball-bird', 'https://delta-fitness.ru/products/myach-voleybolnyy-dlya-otdykha-start-up-e5111-nc-r5', 'https://delta-fitness.ru/products/myach-voleybolnyy-larsen-beach-volleyball-pinkblue', 'https://delta-fitness.ru/products/myach-voleybolnyy-larsen-beach-volleyball-blackpink', 'https://delta-fitness.ru/products/myach-voleybolnyy-kelme-art-8203qu5017-143-razmer-5-18-paneley-ihuzw', 'https://delta-fitness.ru/products/e39982-myach-voleybolnyy-belosineoranzhevyy--pu-27-300-gr-mashinnaya-sshivka-sporteks', 'https://delta-fitness.ru/products/myach-voleybolnyy-na-rastyazhkakh-mikasa-v300w-at-tr--r5-sinteticheskaya-kozha-mikrofibra-kleenyybutilovaya-kamera-zhel-sin', 'https://delta-fitness.ru/products/myach-voleybolnyy-molten-v5m4000-r-5-sintk-pu-kleen-belo-krasno-zelenyy', 'https://delta-fitness.ru/products/r18039-3-myach-voleybolnyy-meik-2898-zelenyy-pu-25-270-gr-mashinnaya-sshivka-sporteks', 'https://delta-fitness.ru/products/myach-voleybolnyy-wilson-avp-oasis-wv4006701xbof-razmer-5-18-paneley-u1eo7', 'https://delta-fitness.ru/products/myach-voleybolnyy-plyazhnyy-larsen-pro-tour', 'https://delta-fitness.ru/products/e40003-myach-voleybolnyy-belosinezheltyy--pvc-27-265-gr-mashinnaya-sshivka-sporteks', 'https://delta-fitness.ru/products/myach-voleybolnyy-kelme-art9806140-141-r-5-18-pan-sinteticheskaya-kozha-pu-kleenyy-belo-zhelto-siniy', 'https://delta-fitness.ru/products/myach-voleybolnyy-molten-v5m1500-razmer-5-18-paneley-pvkh-mashinnaya-sshivka-d9yrp', 'https://delta-fitness.ru/products/e33541-2-myach-voleybolnyy-salatovyy--pvc-25-250-gr-mashinnaya-sshivka-sporteks', 'https://delta-fitness.ru/products/myach-voleybolnyy-plyazhnyy-larsen-gold-star', 'https://delta-fitness.ru/products/e39980-myach-voleybolnyy-belokrasnochernyy--pu-27-300-gr-mashinnaya-sshivka-sporteks', 'https://delta-fitness.ru/products/myach-voleybolnyy-kelme-art-8203qu5017-613-razmer-5-18-paneley-vzhf6', 'https://delta-fitness.ru/products/e40796-5-myach-voleybolnyy-5-sporteks', 'https://delta-fitness.ru/products/r18039-2-myach-voleybolnyy-meik-2898-siniy-pu-25-270-gr-mashinnaya-sshivka-sporteks', 'https://delta-fitness.ru/products/myach-voleybolnyy-larsen-top', 'https://delta-fitness.ru/products/myach-voleybolnyy-molten-v5m5000-r-5-fivb-appr-sintk-pu-microfiber-kleen-bel-kr-zel']\n",
            "['Мяч волейбольный TORRES DIG V22145, размер 5', 'Мяч волейбольный TORRES Hit V32055, размер 5', 'Мяч волейбольный MIKASA V430W, размер 4, вес 195-225г, синтетическая кожа (ПУ), 18 панелей, клееный, бутиловая камера, желтый-синий', 'Мяч волейбольный TORRES BM850 V32025, размер 5', 'Мяч волейбольный MINSA, ПВХ, машинная сшивка, 18 панелей, р. 5', 'Мяч волейбольный TORRES Set V32045, размер 5', 'Мяч волейбольный TORRES Resist V321305 размер 5', 'Мяч волейбольный Onlitop Кошечка (размер 2)', 'Мяч волейбольный Mikasa V300W размер 5', 'Мяч волейбольный Junior Lite, Jögel ЦБ-00002647', 'Мяч волейбольный «Россия», ПВХ, машинная сшивка, 18 панелей, размер 5, 270 г', 'Мяч волейбольный WILSON OPTX AVP VB REPLICA, WTH01020X, размер 5, желто-черный', 'Мяч волейбольный TORRES Save V321505 размер 5', 'Мяч волейбольный City Volley, Jögel', 'Мяч волейбольный JV-100, белый, Jögel УТ-00019885', 'Мяч волейбольный Mikasa V200W размер 5', 'Мяч волейбольный JV-100, синий/желтый, Jögel УТ-00019883', 'Мяч волейбольный TORRES BM1200 V42335, размер 5', 'Мяч волейбольный TORRES Set V32345, размер 5', 'Мяч волейбольный TORRES Hit V32355, размер 5', 'Мяч волейбольный TORRES Simple V32105, размер 5', 'Мяч волейбольный TORRES DIG V22345, размер 5', 'Мяч волейбольный TORRES BM400 V42315, размер 5', 'Мяч волейбольный TORRES BM850 V42325, размер 5', 'Мяч волейбольный TORRES Grip Y V32185 размер 5', 'Мяч волейбольный Mikasa VS170W-Y-BL, размер 5', 'Мяч волейбольный TORRES Simple Orange V323125, размер 5', 'Мяч волейбольный Mikasa V345W размер 5', 'Мяч волейбольный JV-500, Jögel УТ-00019094', 'Мяч волейбольный JV-500, Jögel ЦБ-00002650', 'Мяч волейбольный Mikasa V330W размер 5', 'Мяч волейбольный TORRES Save V321505 размер 5', 'Мяч волейбольный JV-400, Jögel ЦБ-00002649', 'Мяч волейбольный PENALTY BOLA VOLEI 8.0 PRO FIVB TESTED', 'Мяч волейбольный JV-600, Jögel ЦБ-00002652', 'Мяч волейбольный Molten Flista Tec-5000 replica бело/красно/зеленый Дельта-фитнес E43276', 'Мяч волейбольный Molten Flista Tec-5000 replica бело/красно/зеленый Дельта-фитнес E43275', 'Мяч волейбольный Molten EV-5000 replica бело/синий Дельта-фитнес E43273', 'Мяч волейбольный №5 Дельта-фитнес E40796-4', 'Мяч волейбольный оранжево/салат/розовый , PU 2.7, 235 гр, машинная сшивка Дельта-фитнес E40006-4', 'Мяч волейбольный розово/салат/голубой , PU 2.7, 235 гр, машинная сшивка Дельта-фитнес E40006-3', 'Мяч волейбольный зелено/салат/голубой , PU 2.7, 235 гр, машинная сшивка Дельта-фитнес E40006-2', 'Мяч волейбольный бело/сине/красный , PU 2.7, 235 гр, машинная сшивка Дельта-фитнес E40006-1', 'Мяч волейбольный №5 Дельта-фитнес E40796-3', 'Мяч волейбольный №5 Дельта-фитнес E40796-2', 'Мяч волейбольный №5 Дельта-фитнес E40796-1', 'Мяч волейбольный Meik-503 PU 2.5, 285 гр, машинная сшивка Дельта-фитнес R18035-4', 'Мяч волейбольный Meik-503 PU 2.5, 285 гр, машинная сшивка Дельта-фитнес R18035-3', 'Мяч волейбольный Meik-503 PU 2.5, 285 гр, машинная сшивка Дельта-фитнес R18035-2', 'Мяч волейбольный Meik-ROM-2811 PU 2.5, 270 гр, машинная сшивка триколор Дельта-фитнес R18038', 'Мяч волейбольный бело/сине/желтый , PU 2.7, 260 гр, машинная сшивка Дельта-фитнес E40006', 'Мяч волейбольный Детский №2 розово/зелено/оранжевый , PU 2.7, 150 гр, машинная сшивка Дельта-фитнес E40005', 'Мяч волейбольный Детский №2 оранжево/сине/желтый , PU 2.7, 150 гр, машинная сшивка Дельта-фитнес E40004', 'Мяч волейбольный бело/сине/зеленый , PU 2.7, 300 гр, машинная сшивка Дельта-фитнес E39981', 'Мяч волейбольный салатовый , PVC 2.7, 280 гр, машинная сшивка Дельта-фитнес E33542-2', 'Мяч волейбольный синий , PVC 2.7, 280 гр, машинная сшивка Дельта-фитнес E33542-1', 'Мяч волейбольный, PU 2.5, 270 гр, машинная сшивка Дельта-фитнес T07522', 'Мяч волейбольный, PU 2.5, 270 гр, машинная сшивка Дельта-фитнес T07523', 'Мяч волейбольный Meik-QS-V519 оранжевый , TPU 2.5, 270 гр, машинная сшивка Дельта-фитнес C28683-4', 'Мяч волейбольный Meik-QS-V519 зеленый , TPU 2.5, 270 гр, машинная сшивка Дельта-фитнес C28683-3', 'Мяч волейбольный Meik-QS-V519 красный , TPU 2.5, 270 гр, машинная сшивка Дельта-фитнес C28683-2', 'Мяч волейбольный Meik-200 8-панелей, PU 2.7, 280 гр, клееный Дельта-фитнес R18041', 'Мяч волейбольный Meik-503 PU 2.5, 270 гр, машинная сшивка Дельта-фитнес R18036', 'Мяч волейбольный Meik-503 PU 2.5, 270 гр, машинная сшивка Дельта-фитнес R18035', 'Мяч волейбольный серо/голубой , ПВХ 2.5, 260 гр Дельта-фитнес E33479', 'Мяч волейбольный сине/красный , ПВХ 2.5, 260 гр Дельта-фитнес E33478', 'Мяч волейбольный красный/синий , PVC 2.7, 290 гр, машинная сшивка Дельта-фитнес E33489-2', 'Мяч волейбольный мягкий оранжевый , литой ПУ, 270 гр, полнотелый Дельта-фитнес E33493', 'Мяч волейбольный салатовый , PVC 2.7, 280 гр, машинная сшивка Дельта-фитнес E33543-2', 'Мяч волейбольный синий , PVC 2.7, 280 гр, машинная сшивка Дельта-фитнес E33543-1', 'Мяч волейбольный розовый , PVC 2.7, 280 гр, машинная сшивка Дельта-фитнес E33542-4', 'Мяч волейбольный черный , PVC 2.5, 250 гр, машинная сшивка Дельта-фитнес E33541-4', 'Мяч волейбольный красный , PVC 2.5, 250 гр, машинная сшивка Дельта-фитнес E33541-3', 'Мяч волейбольный PENALTY BOLA VOLEI 6.0 PRO 5416042420-U, размер 5, желто-фиолетовый', 'Мяч волейбольный Mikasa VS170W-Y-G, размер 5', 'Мяч волейбольный TORRES Simple Color V323115, размер 5', 'Мяч волейбольный JV-100, Jögel ЦБ-00002644', 'Мяч волейбольный пляжный Mikasa BV550C, размер 5, FIVB Approved', 'Мяч волейбольный Indoor Game, Jögel УТ-00018100', 'Волейбольный мяч #00908', 'Волейбольный мяч #00907', 'Волейбольный мяч #00903', 'Волейбольный мяч SPRINTER VS5002', 'Волейбольный мяч SPRINTER VS3001', 'Волейбольный мяч SPRINTER VS3002', 'Волейбольный мяч SPRINTER VS1003', 'Волейбольный мяч SPRINTER VS5001', 'Волейбольный мяч SPRINTER VS6006', 'Мяч волейбольный утяжеленный Mikasa VT370W, размер 5', 'Мяч волейбольный MOLTEN V5M2000 размер 5', 'Мяч волейбольный KELME 8203QU5017-162, размер 5', 'Мяч волейбольный утяжеленный Mikasa VT500W, размер 5', 'Мяч волейбольный сувенирный Mikasa V1.5W, размер 1', 'Мяч волейбольный Larsen VB-ECE-5000B', 'Мяч волейбольный Larsen VB-ECE-5000G', 'Мяч волейбольный Larsen VB-ECE-5000Y', 'Мяч волейбольный пляжный Larsen Softset Green', 'Мяч волейбольный пляжный Larsen Softset Blue', 'Мяч волейбольный пляжный Larsen BeachFun', 'Мяч волейбольный пляжный Larsen Beach Volleyball Rainbow', 'Мяч волейбольный пляжный Larsen Beach Volleyball Lime', 'Мяч волейбольный пляжный Larsen Beach Volleyball Green', 'Мяч волейбольный пляжный Larsen Beach Volleyball Blue', 'Мяч волейбольный пляжный Larsen Beach Volleyball Bird', 'Мяч волейбольный для отдыха Start Up E5111 N/C р5', 'Мяч волейбольный Larsen Beach Volleyball Pink/Blue', 'Мяч волейбольный Larsen Beach Volleyball Black/Pink', 'Мяч волейбольный KELME 8203QU5017-143, размер 5', 'Мяч волейбольный бело/сине/оранжевый , PU 2.7, 300 гр, машинная сшивка Дельта-фитнес E39982', 'Мяч волейбольный на растяжках Mikasa V300W-AT-TR, размер 5', 'Мяч волейбольный MOLTEN V5M4000X размер 5', 'Мяч волейбольный Meik-2898 зеленый PU 2.5, 270 гр, машинная сшивка Дельта-фитнес R18039-3', 'Мяч волейбольный WILSON AVP Oasis WV4006701XBOF, размер 5', 'Мяч волейбольный пляжный Larsen Pro Tour', 'Мяч волейбольный бело/сине/желтый , PVC 2.7, 265 гр, машинная сшивка Дельта-фитнес E40003', 'Мяч волейбольный KELME 9806140-141, размер 5', 'Мяч волейбольный Molten V5M1500 размер 5', 'Мяч волейбольный салатовый , PVC 2.5, 250 гр, машинная сшивка Дельта-фитнес E33541-2', 'Мяч волейбольный пляжный Larsen Gold Star', 'Мяч волейбольный бело/красно/черный , PU 2.7, 300 гр, машинная сшивка Дельта-фитнес E39980', 'Мяч волейбольный KELME 8203QU5017-613, размер 5', 'Мяч волейбольный №5 Дельта-фитнес E40796-5', 'Мяч волейбольный Meik-2898 синий PU 2.5, 270 гр, машинная сшивка Дельта-фитнес R18039-2', 'Мяч волейбольный Larsen Top', 'Мяч волейбольный MOLTEN V5M5000X размер 5, FIVB Approved']\n",
            "['2 008', '2 742', '4 995', '3 150', '990', '2 329', '2 495', '790', '9 150', '1 599', '699', '4 180', '2 450', '1 399', '1 399', '10 708', '1 399', '4 975', '2 703', '3 182', '1 758', '2 331', '2 703', '3 656', '1 758', '3 335', '1 758', '5 133', '1 999', '2 399', '6 524', '2 450', '1 899', '9 002', '2 699', '1 469', '1 469', '1 073', '594', '363', '363', '363', '363', '594', '594', '594', '644', '644', '767', '743', '658', '421', '421', '652', '413', '413', '635', '578', '850', '652', '850', '1 139', '594', '767', '602', '602', '644', '644', '470', '470', '413', '413', '413', '7 946', '3 080', '1 758', '1 499', '10 397', '1 399', '1 428', '1 428', '1 428', '1 153', '1 117', '1 117', '1 153', '1 153', '1 153', '7 482', '3 294', '1 625', '7 482', '2 610', '1 699', '1 699', '1 699', '1 100', '1 100', '1 130', '665', '690', '690', '690', '690', '464', '1 020', '1 020', '1 625', '652', '11 977', '5 564', '792', '2 501', '1 180', '322', '2 854', '2 471', '454', '1 180', '652', '1 625', '751', '840', '1 391', '11 448']\n",
            "125\n",
            "125\n",
            "125\n"
          ]
        }
      ]
    },
    {
      "cell_type": "code",
      "source": [
        "import dash\n",
        "from dash import dcc, html\n",
        "import plotly.express as px\n",
        "import pandas as pd\n",
        "\n",
        "# Пример данных\n",
        "balls_price = ['1000', '1500', '2000', '2500', '3000', '3500', '4000', '4500', '5000']\n",
        "prices = []\n",
        "\n",
        "for price_str in balls_price:\n",
        "    try:\n",
        "        price = float(price_str.replace(' ', ''))\n",
        "        prices.append(price)\n",
        "    except ValueError:\n",
        "        print(f\"Ошибка преобразования цены: {price_str}\")\n",
        "\n",
        "data = {'price': prices}\n",
        "df = pd.DataFrame(data)\n",
        "\n",
        "# Создаем график с помощью Plotly\n",
        "fig = px.histogram(df, x='price', nbins=15, title='Распределение цен на волейбольные мячи',\n",
        "                   labels={'price': 'Цена'},\n",
        "                   histnorm='count')\n",
        "\n",
        "# Инициализация приложения Dash\n",
        "app = dash.Dash(__name__)\n",
        "\n",
        "app.layout = html.Div(children=[\n",
        "    html.H1(children='Дэшборд цен на волейбольные мячи'),\n",
        "    dcc.Graph(\n",
        "        id='price-histogram',\n",
        "        figure=fig\n",
        "    ),\n",
        "])\n",
        "\n",
        "if __name__ == '__main__':\n",
        "    app.run_server(debug=True)\n"
      ],
      "metadata": {
        "colab": {
          "base_uri": "https://localhost:8080/",
          "height": 469
        },
        "id": "Hoj3MFElwo8Y",
        "outputId": "08d11f1a-b51a-4c89-da17-003e8218588e"
      },
      "execution_count": null,
      "outputs": [
        {
          "output_type": "error",
          "ename": "ValueError",
          "evalue": "\n    Invalid value of type 'builtins.str' received for the 'histnorm' property of histogram\n        Received value: 'count'\n\n    The 'histnorm' property is an enumeration that may be specified as:\n      - One of the following enumeration values:\n            ['', 'percent', 'probability', 'density', 'probability\n            density']",
          "traceback": [
            "\u001b[0;31m---------------------------------------------------------------------------\u001b[0m",
            "\u001b[0;31mValueError\u001b[0m                                Traceback (most recent call last)",
            "\u001b[0;32m<ipython-input-8-faca410bb330>\u001b[0m in \u001b[0;36m<cell line: 0>\u001b[0;34m()\u001b[0m\n\u001b[1;32m     19\u001b[0m \u001b[0;34m\u001b[0m\u001b[0m\n\u001b[1;32m     20\u001b[0m \u001b[0;31m# Создаем график с помощью Plotly\u001b[0m\u001b[0;34m\u001b[0m\u001b[0;34m\u001b[0m\u001b[0m\n\u001b[0;32m---> 21\u001b[0;31m fig = px.histogram(df, x='price', nbins=15, title='Распределение цен на волейбольные мячи',\n\u001b[0m\u001b[1;32m     22\u001b[0m                    \u001b[0mlabels\u001b[0m\u001b[0;34m=\u001b[0m\u001b[0;34m{\u001b[0m\u001b[0;34m'price'\u001b[0m\u001b[0;34m:\u001b[0m \u001b[0;34m'Цена'\u001b[0m\u001b[0;34m}\u001b[0m\u001b[0;34m,\u001b[0m\u001b[0;34m\u001b[0m\u001b[0;34m\u001b[0m\u001b[0m\n\u001b[1;32m     23\u001b[0m                    histnorm='count')\n",
            "\u001b[0;32m/usr/local/lib/python3.11/dist-packages/plotly/express/_chart_types.py\u001b[0m in \u001b[0;36mhistogram\u001b[0;34m(data_frame, x, y, color, pattern_shape, facet_row, facet_col, facet_col_wrap, facet_row_spacing, facet_col_spacing, hover_name, hover_data, animation_frame, animation_group, category_orders, labels, color_discrete_sequence, color_discrete_map, pattern_shape_sequence, pattern_shape_map, marginal, opacity, orientation, barmode, barnorm, histnorm, log_x, log_y, range_x, range_y, histfunc, cumulative, nbins, text_auto, title, template, width, height)\u001b[0m\n\u001b[1;32m    478\u001b[0m     `orientation` is `'h'`).\n\u001b[1;32m    479\u001b[0m     \"\"\"\n\u001b[0;32m--> 480\u001b[0;31m     return make_figure(\n\u001b[0m\u001b[1;32m    481\u001b[0m         \u001b[0margs\u001b[0m\u001b[0;34m=\u001b[0m\u001b[0mlocals\u001b[0m\u001b[0;34m(\u001b[0m\u001b[0;34m)\u001b[0m\u001b[0;34m,\u001b[0m\u001b[0;34m\u001b[0m\u001b[0;34m\u001b[0m\u001b[0m\n\u001b[1;32m    482\u001b[0m         \u001b[0mconstructor\u001b[0m\u001b[0;34m=\u001b[0m\u001b[0mgo\u001b[0m\u001b[0;34m.\u001b[0m\u001b[0mHistogram\u001b[0m\u001b[0;34m,\u001b[0m\u001b[0;34m\u001b[0m\u001b[0;34m\u001b[0m\u001b[0m\n",
            "\u001b[0;32m/usr/local/lib/python3.11/dist-packages/plotly/express/_core.py\u001b[0m in \u001b[0;36mmake_figure\u001b[0;34m(args, constructor, trace_patch, layout_patch)\u001b[0m\n\u001b[1;32m   2298\u001b[0m                 \u001b[0margs\u001b[0m\u001b[0;34m,\u001b[0m \u001b[0mtrace_spec\u001b[0m\u001b[0;34m,\u001b[0m \u001b[0mgroup\u001b[0m\u001b[0;34m,\u001b[0m \u001b[0mmapping_labels\u001b[0m\u001b[0;34m.\u001b[0m\u001b[0mcopy\u001b[0m\u001b[0;34m(\u001b[0m\u001b[0;34m)\u001b[0m\u001b[0;34m,\u001b[0m \u001b[0msizeref\u001b[0m\u001b[0;34m\u001b[0m\u001b[0;34m\u001b[0m\u001b[0m\n\u001b[1;32m   2299\u001b[0m             )\n\u001b[0;32m-> 2300\u001b[0;31m             \u001b[0mtrace\u001b[0m\u001b[0;34m.\u001b[0m\u001b[0mupdate\u001b[0m\u001b[0;34m(\u001b[0m\u001b[0mpatch\u001b[0m\u001b[0;34m)\u001b[0m\u001b[0;34m\u001b[0m\u001b[0;34m\u001b[0m\u001b[0m\n\u001b[0m\u001b[1;32m   2301\u001b[0m             \u001b[0;32mif\u001b[0m \u001b[0mfit_results\u001b[0m \u001b[0;32mis\u001b[0m \u001b[0;32mnot\u001b[0m \u001b[0;32mNone\u001b[0m\u001b[0;34m:\u001b[0m\u001b[0;34m\u001b[0m\u001b[0;34m\u001b[0m\u001b[0m\n\u001b[1;32m   2302\u001b[0m                 \u001b[0mtrendline_rows\u001b[0m\u001b[0;34m.\u001b[0m\u001b[0mappend\u001b[0m\u001b[0;34m(\u001b[0m\u001b[0mmapping_labels\u001b[0m\u001b[0;34m.\u001b[0m\u001b[0mcopy\u001b[0m\u001b[0;34m(\u001b[0m\u001b[0;34m)\u001b[0m\u001b[0;34m)\u001b[0m\u001b[0;34m\u001b[0m\u001b[0;34m\u001b[0m\u001b[0m\n",
            "\u001b[0;32m/usr/local/lib/python3.11/dist-packages/plotly/basedatatypes.py\u001b[0m in \u001b[0;36mupdate\u001b[0;34m(self, dict1, overwrite, **kwargs)\u001b[0m\n\u001b[1;32m   5131\u001b[0m                 \u001b[0mBaseFigure\u001b[0m\u001b[0;34m.\u001b[0m\u001b[0m_perform_update\u001b[0m\u001b[0;34m(\u001b[0m\u001b[0mself\u001b[0m\u001b[0;34m,\u001b[0m \u001b[0mkwargs\u001b[0m\u001b[0;34m,\u001b[0m \u001b[0moverwrite\u001b[0m\u001b[0;34m=\u001b[0m\u001b[0moverwrite\u001b[0m\u001b[0;34m)\u001b[0m\u001b[0;34m\u001b[0m\u001b[0;34m\u001b[0m\u001b[0m\n\u001b[1;32m   5132\u001b[0m         \u001b[0;32melse\u001b[0m\u001b[0;34m:\u001b[0m\u001b[0;34m\u001b[0m\u001b[0;34m\u001b[0m\u001b[0m\n\u001b[0;32m-> 5133\u001b[0;31m             \u001b[0mBaseFigure\u001b[0m\u001b[0;34m.\u001b[0m\u001b[0m_perform_update\u001b[0m\u001b[0;34m(\u001b[0m\u001b[0mself\u001b[0m\u001b[0;34m,\u001b[0m \u001b[0mdict1\u001b[0m\u001b[0;34m,\u001b[0m \u001b[0moverwrite\u001b[0m\u001b[0;34m=\u001b[0m\u001b[0moverwrite\u001b[0m\u001b[0;34m)\u001b[0m\u001b[0;34m\u001b[0m\u001b[0;34m\u001b[0m\u001b[0m\n\u001b[0m\u001b[1;32m   5134\u001b[0m             \u001b[0mBaseFigure\u001b[0m\u001b[0;34m.\u001b[0m\u001b[0m_perform_update\u001b[0m\u001b[0;34m(\u001b[0m\u001b[0mself\u001b[0m\u001b[0;34m,\u001b[0m \u001b[0mkwargs\u001b[0m\u001b[0;34m,\u001b[0m \u001b[0moverwrite\u001b[0m\u001b[0;34m=\u001b[0m\u001b[0moverwrite\u001b[0m\u001b[0;34m)\u001b[0m\u001b[0;34m\u001b[0m\u001b[0;34m\u001b[0m\u001b[0m\n\u001b[1;32m   5135\u001b[0m \u001b[0;34m\u001b[0m\u001b[0m\n",
            "\u001b[0;32m/usr/local/lib/python3.11/dist-packages/plotly/basedatatypes.py\u001b[0m in \u001b[0;36m_perform_update\u001b[0;34m(plotly_obj, update_obj, overwrite)\u001b[0m\n\u001b[1;32m   3932\u001b[0m                 \u001b[0;32melse\u001b[0m\u001b[0;34m:\u001b[0m\u001b[0;34m\u001b[0m\u001b[0;34m\u001b[0m\u001b[0m\n\u001b[1;32m   3933\u001b[0m                     \u001b[0;31m# Assign non-compound value\u001b[0m\u001b[0;34m\u001b[0m\u001b[0;34m\u001b[0m\u001b[0m\n\u001b[0;32m-> 3934\u001b[0;31m                     \u001b[0mplotly_obj\u001b[0m\u001b[0;34m[\u001b[0m\u001b[0mkey\u001b[0m\u001b[0;34m]\u001b[0m \u001b[0;34m=\u001b[0m \u001b[0mval\u001b[0m\u001b[0;34m\u001b[0m\u001b[0;34m\u001b[0m\u001b[0m\n\u001b[0m\u001b[1;32m   3935\u001b[0m \u001b[0;34m\u001b[0m\u001b[0m\n\u001b[1;32m   3936\u001b[0m         \u001b[0;32melif\u001b[0m \u001b[0misinstance\u001b[0m\u001b[0;34m(\u001b[0m\u001b[0mplotly_obj\u001b[0m\u001b[0;34m,\u001b[0m \u001b[0mtuple\u001b[0m\u001b[0;34m)\u001b[0m\u001b[0;34m:\u001b[0m\u001b[0;34m\u001b[0m\u001b[0;34m\u001b[0m\u001b[0m\n",
            "\u001b[0;32m/usr/local/lib/python3.11/dist-packages/plotly/basedatatypes.py\u001b[0m in \u001b[0;36m__setitem__\u001b[0;34m(self, prop, value)\u001b[0m\n\u001b[1;32m   4866\u001b[0m                 \u001b[0;31m# ### Handle simple property ###\u001b[0m\u001b[0;34m\u001b[0m\u001b[0;34m\u001b[0m\u001b[0m\n\u001b[1;32m   4867\u001b[0m                 \u001b[0;32melse\u001b[0m\u001b[0;34m:\u001b[0m\u001b[0;34m\u001b[0m\u001b[0;34m\u001b[0m\u001b[0m\n\u001b[0;32m-> 4868\u001b[0;31m                     \u001b[0mself\u001b[0m\u001b[0;34m.\u001b[0m\u001b[0m_set_prop\u001b[0m\u001b[0;34m(\u001b[0m\u001b[0mprop\u001b[0m\u001b[0;34m,\u001b[0m \u001b[0mvalue\u001b[0m\u001b[0;34m)\u001b[0m\u001b[0;34m\u001b[0m\u001b[0;34m\u001b[0m\u001b[0m\n\u001b[0m\u001b[1;32m   4869\u001b[0m             \u001b[0;32melse\u001b[0m\u001b[0;34m:\u001b[0m\u001b[0;34m\u001b[0m\u001b[0;34m\u001b[0m\u001b[0m\n\u001b[1;32m   4870\u001b[0m                 \u001b[0;31m# Make sure properties dict is initialized\u001b[0m\u001b[0;34m\u001b[0m\u001b[0;34m\u001b[0m\u001b[0m\n",
            "\u001b[0;32m/usr/local/lib/python3.11/dist-packages/plotly/basedatatypes.py\u001b[0m in \u001b[0;36m_set_prop\u001b[0;34m(self, prop, val)\u001b[0m\n\u001b[1;32m   5210\u001b[0m                 \u001b[0;32mreturn\u001b[0m\u001b[0;34m\u001b[0m\u001b[0;34m\u001b[0m\u001b[0m\n\u001b[1;32m   5211\u001b[0m             \u001b[0;32melse\u001b[0m\u001b[0;34m:\u001b[0m\u001b[0;34m\u001b[0m\u001b[0;34m\u001b[0m\u001b[0m\n\u001b[0;32m-> 5212\u001b[0;31m                 \u001b[0;32mraise\u001b[0m \u001b[0merr\u001b[0m\u001b[0;34m\u001b[0m\u001b[0;34m\u001b[0m\u001b[0m\n\u001b[0m\u001b[1;32m   5213\u001b[0m \u001b[0;34m\u001b[0m\u001b[0m\n\u001b[1;32m   5214\u001b[0m         \u001b[0;31m# val is None\u001b[0m\u001b[0;34m\u001b[0m\u001b[0;34m\u001b[0m\u001b[0m\n",
            "\u001b[0;32m/usr/local/lib/python3.11/dist-packages/plotly/basedatatypes.py\u001b[0m in \u001b[0;36m_set_prop\u001b[0;34m(self, prop, val)\u001b[0m\n\u001b[1;32m   5205\u001b[0m \u001b[0;34m\u001b[0m\u001b[0m\n\u001b[1;32m   5206\u001b[0m         \u001b[0;32mtry\u001b[0m\u001b[0;34m:\u001b[0m\u001b[0;34m\u001b[0m\u001b[0;34m\u001b[0m\u001b[0m\n\u001b[0;32m-> 5207\u001b[0;31m             \u001b[0mval\u001b[0m \u001b[0;34m=\u001b[0m \u001b[0mvalidator\u001b[0m\u001b[0;34m.\u001b[0m\u001b[0mvalidate_coerce\u001b[0m\u001b[0;34m(\u001b[0m\u001b[0mval\u001b[0m\u001b[0;34m)\u001b[0m\u001b[0;34m\u001b[0m\u001b[0;34m\u001b[0m\u001b[0m\n\u001b[0m\u001b[1;32m   5208\u001b[0m         \u001b[0;32mexcept\u001b[0m \u001b[0mValueError\u001b[0m \u001b[0;32mas\u001b[0m \u001b[0merr\u001b[0m\u001b[0;34m:\u001b[0m\u001b[0;34m\u001b[0m\u001b[0;34m\u001b[0m\u001b[0m\n\u001b[1;32m   5209\u001b[0m             \u001b[0;32mif\u001b[0m \u001b[0mself\u001b[0m\u001b[0;34m.\u001b[0m\u001b[0m_skip_invalid\u001b[0m\u001b[0;34m:\u001b[0m\u001b[0;34m\u001b[0m\u001b[0;34m\u001b[0m\u001b[0m\n",
            "\u001b[0;32m/usr/local/lib/python3.11/dist-packages/_plotly_utils/basevalidators.py\u001b[0m in \u001b[0;36mvalidate_coerce\u001b[0;34m(self, v)\u001b[0m\n\u001b[1;32m    617\u001b[0m             \u001b[0mv\u001b[0m \u001b[0;34m=\u001b[0m \u001b[0mself\u001b[0m\u001b[0;34m.\u001b[0m\u001b[0mperform_replacemenet\u001b[0m\u001b[0;34m(\u001b[0m\u001b[0mv\u001b[0m\u001b[0;34m)\u001b[0m\u001b[0;34m\u001b[0m\u001b[0;34m\u001b[0m\u001b[0m\n\u001b[1;32m    618\u001b[0m             \u001b[0;32mif\u001b[0m \u001b[0;32mnot\u001b[0m \u001b[0mself\u001b[0m\u001b[0;34m.\u001b[0m\u001b[0min_values\u001b[0m\u001b[0;34m(\u001b[0m\u001b[0mv\u001b[0m\u001b[0;34m)\u001b[0m\u001b[0;34m:\u001b[0m\u001b[0;34m\u001b[0m\u001b[0;34m\u001b[0m\u001b[0m\n\u001b[0;32m--> 619\u001b[0;31m                 \u001b[0mself\u001b[0m\u001b[0;34m.\u001b[0m\u001b[0mraise_invalid_val\u001b[0m\u001b[0;34m(\u001b[0m\u001b[0mv\u001b[0m\u001b[0;34m)\u001b[0m\u001b[0;34m\u001b[0m\u001b[0;34m\u001b[0m\u001b[0m\n\u001b[0m\u001b[1;32m    620\u001b[0m         \u001b[0;32mreturn\u001b[0m \u001b[0mv\u001b[0m\u001b[0;34m\u001b[0m\u001b[0;34m\u001b[0m\u001b[0m\n\u001b[1;32m    621\u001b[0m \u001b[0;34m\u001b[0m\u001b[0m\n",
            "\u001b[0;32m/usr/local/lib/python3.11/dist-packages/_plotly_utils/basevalidators.py\u001b[0m in \u001b[0;36mraise_invalid_val\u001b[0;34m(self, v, inds)\u001b[0m\n\u001b[1;32m    294\u001b[0m                 \u001b[0mname\u001b[0m \u001b[0;34m+=\u001b[0m \u001b[0;34m\"[\"\u001b[0m \u001b[0;34m+\u001b[0m \u001b[0mstr\u001b[0m\u001b[0;34m(\u001b[0m\u001b[0mi\u001b[0m\u001b[0;34m)\u001b[0m \u001b[0;34m+\u001b[0m \u001b[0;34m\"]\"\u001b[0m\u001b[0;34m\u001b[0m\u001b[0;34m\u001b[0m\u001b[0m\n\u001b[1;32m    295\u001b[0m \u001b[0;34m\u001b[0m\u001b[0m\n\u001b[0;32m--> 296\u001b[0;31m         raise ValueError(\n\u001b[0m\u001b[1;32m    297\u001b[0m             \"\"\"\n\u001b[1;32m    298\u001b[0m     \u001b[0mInvalid\u001b[0m \u001b[0mvalue\u001b[0m \u001b[0mof\u001b[0m \u001b[0mtype\u001b[0m \u001b[0;34m{\u001b[0m\u001b[0mtyp\u001b[0m\u001b[0;34m}\u001b[0m \u001b[0mreceived\u001b[0m \u001b[0;32mfor\u001b[0m \u001b[0mthe\u001b[0m \u001b[0;34m'{name}'\u001b[0m \u001b[0mproperty\u001b[0m \u001b[0mof\u001b[0m \u001b[0;34m{\u001b[0m\u001b[0mpname\u001b[0m\u001b[0;34m}\u001b[0m\u001b[0;34m\u001b[0m\u001b[0;34m\u001b[0m\u001b[0m\n",
            "\u001b[0;31mValueError\u001b[0m: \n    Invalid value of type 'builtins.str' received for the 'histnorm' property of histogram\n        Received value: 'count'\n\n    The 'histnorm' property is an enumeration that may be specified as:\n      - One of the following enumeration values:\n            ['', 'percent', 'probability', 'density', 'probability\n            density']"
          ]
        }
      ]
    },
    {
      "cell_type": "code",
      "source": [
        "import matplotlib.pyplot as plt\n",
        "import seaborn as sns\n",
        "import pandas as pd\n",
        "\n",
        "prices = []\n",
        "for price_str in balls_price:\n",
        "    try:\n",
        "        price = float(price_str.replace(' ', ''))\n",
        "        prices.append(price)\n",
        "    except ValueError:\n",
        "        print(f\"Ошибка преобразования цены: {price_str}\")\n",
        "data = {'price': prices}\n",
        "df = pd.DataFrame(data)\n",
        "\n",
        "\n",
        "\n",
        "plt.figure(figsize=(10, 6))\n",
        "plt.hist(df['price'], bins=15, edgecolor='black')\n",
        "plt.xlabel('Цена')\n",
        "plt.ylabel('Частота')\n",
        "plt.title('Распределение цен на волейбольные мячи')\n",
        "plt.show()\n",
        "\n",
        "plt.figure(figsize=(10, 6))\n",
        "sns.histplot(df['price'], kde=True, bins=15)\n",
        "plt.xlabel('Цена')\n",
        "plt.ylabel('Частота')\n",
        "plt.title('Распределение цен на волейбольные мячи')\n",
        "plt.show()\n",
        "\n"
      ],
      "metadata": {
        "colab": {
          "base_uri": "https://localhost:8080/",
          "height": 1000
        },
        "id": "ZZ3T0h-g9g8m",
        "outputId": "77a39665-b971-4d48-aa83-41b805eece71"
      },
      "execution_count": null,
      "outputs": [
        {
          "output_type": "display_data",
          "data": {
            "text/plain": [
              "<Figure size 1000x600 with 1 Axes>"
            ],
            "image/png": "[encoded data removed]"
          },
          "metadata": {}
        },
        {
          "output_type": "display_data",
          "data": {
            "text/plain": [
              "<Figure size 1000x600 with 1 Axes>"
            ],
            "image/png": "[encoded data removed]"
          },
          "metadata": {}
        }
      ]
    },
    {
      "cell_type": "code",
      "source": [
        "import matplotlib.pyplot as plt\n",
        "import seaborn as sns\n",
        "import pandas as pd\n",
        "import numpy as np\n",
        "\n",
        "\n",
        "log_prices = []\n",
        "for price in prices:\n",
        "    if price > 0: # Логарифм определен только для положительных чисел\n",
        "        log_prices.append(np.log(price))\n",
        "    else:\n",
        "        print(f\"Цена равна нулю или отрицательна: {price}, пропуск.\")\n",
        "\n",
        "\n",
        "# Создание DataFrame\n",
        "data = {'price': prices, 'log_price': log_prices}\n",
        "df = pd.DataFrame(data)\n",
        "\n",
        "\n",
        "# Графики для исходных цен\n",
        "plt.figure(figsize=(12, 4))\n",
        "\n",
        "plt.subplot(1, 2, 1)\n",
        "plt.hist(df['price'], bins=10, edgecolor='black')\n",
        "plt.xlabel('Цена')\n",
        "plt.ylabel('Частота')\n",
        "plt.title('Распределение цен')\n",
        "\n",
        "plt.subplot(1, 2, 2)\n",
        "sns.boxplot(y=df['price'])\n",
        "plt.ylabel('Цена')\n",
        "plt.title('Диаграмма размаха цен')\n",
        "\n",
        "plt.tight_layout() # для корректного отображения подграфиков\n",
        "plt.show()\n",
        "\n",
        "\n",
        "\n",
        "# Графики для логарифма цен\n",
        "plt.figure(figsize=(12, 4))\n",
        "\n",
        "plt.subplot(1, 2, 1)\n",
        "plt.hist(df['log_price'], bins=10, edgecolor='black')\n",
        "plt.xlabel('Логарифм цены')\n",
        "plt.ylabel('Частота')\n",
        "plt.title('Распределение логарифма цен')\n",
        "\n",
        "plt.subplot(1, 2, 2)\n",
        "sns.boxplot(y=df['log_price'])\n",
        "plt.ylabel('Логарифм цены')\n",
        "plt.title('Диаграмма размаха логарифма цен')\n",
        "\n",
        "plt.tight_layout()\n",
        "plt.show()"
      ],
      "metadata": {
        "colab": {
          "base_uri": "https://localhost:8080/",
          "height": 797
        },
        "id": "t8o1j3O89j3z",
        "outputId": "03e7ee1f-abbb-4c9f-f820-965caaeb56d9"
      },
      "execution_count": null,
      "outputs": [
        {
          "output_type": "display_data",
          "data": {
            "text/plain": [
              "<Figure size 1200x400 with 2 Axes>"
            ],
            "image/png": "[encoded data removed]"
          },
          "metadata": {}
        },
        {
          "output_type": "display_data",
          "data": {
            "text/plain": [
              "<Figure size 1200x400 with 2 Axes>"
            ],
            "image/png": "[encoded data removed]"
          },
          "metadata": {}
        }
      ]
    },
    {
      "cell_type": "code",
      "source": [],
      "metadata": {
        "id": "1giwiRLJgXgB"
      },
      "execution_count": null,
      "outputs": []
    },
    {
      "cell_type": "code",
      "source": [
        "url = 'https://delta-fitness.ru/products?keyword=%D0%B2%D0%BE%D0%BB%D0%B5%D0%B9%D0%B1%D0%BE%D0%BB%D1%8C%D0%BD%D1%8B%D0%B9+%D0%BC%D1%8F%D1%87&page=3'\n",
        "response = requests.get(url)\n",
        "encoding = chardet.detect(response.content)['encoding']  # Определяем кодировку\n",
        "html = response.content.decode(encoding)  # Декодируем с правильной кодировкой\n",
        "soup = BeautifulSoup(html, 'lxml')\n",
        "\n",
        "html_balls = soup.find_all('div', {'class': 'b-col--lg-12 b-col--md-12 b-col--sm-12 b-col--xs-7'})\n",
        "\n",
        "balls_links = []\n",
        "balls_names = []\n",
        "balls_price = []\n",
        "\n",
        "for i in html_balls:\n",
        "  new_soup = BeautifulSoup(str(i), 'lxml')\n",
        "  s = new_soup.find_all('a')\n",
        "  k = new_soup.find_all('b', {'class': 'b-products-item__price'})\n",
        "  balls_links.append('https://delta-fitness.ru/' + str(s[0]['href']))\n",
        "  balls_names.append(s[0].text)\n",
        "  balls_price.append(str(k[0].text)[:-7])\n",
        "\n",
        "\n",
        "#<span class=\"b-products-item__category\">Мячи</span>\n",
        "#<a href=\"products/myach-voleybolnyy-torres-dig-art-v22145-r5-sinteticheskaya-kozha-tpe-kleenyy-butilovaya-kamera--gorchichno-biryuzovo-bezhevyy\"\n",
        "#title=\"Мяч волейбольный TORRES DIG V22145, размер 5\" class=\"b-products-item__name\">Мяч волейбольный TORRES DIG V22145, размер 5</a>\n",
        "\n",
        "print(balls_links)\n",
        "print(balls_names)\n",
        "print(balls_price)\n",
        "print(len(balls_links))\n",
        "print(len(balls_names))\n",
        "print(len(balls_price))"
      ],
      "metadata": {
        "colab": {
          "base_uri": "https://localhost:8080/"
        },
        "id": "tRIH0-eMyUvT",
        "outputId": "4902ef92-c48b-4125-81e7-baede95a8a41"
      },
      "execution_count": null,
      "outputs": [
        {
          "output_type": "stream",
          "name": "stdout",
          "text": [
            "['https://delta-fitness.ru/products/e40006-3-myach-voleybolnyy-rozovosalatgoluboy--pu-27-235-gr-mashinnaya-sshivka-sporteks', 'https://delta-fitness.ru/products/e40006-2-myach-voleybolnyy-zelenosalatgoluboy--pu-27-235-gr-mashinnaya-sshivka-sporteks', 'https://delta-fitness.ru/products/e40006-1-myach-voleybolnyy-belosinekrasnyy--pu-27-235-gr-mashinnaya-sshivka-sporteks', 'https://delta-fitness.ru/products/e40796-3-myach-voleybolnyy-5-sporteks', 'https://delta-fitness.ru/products/e40796-2-myach-voleybolnyy-5-sporteks', 'https://delta-fitness.ru/products/e40796-1-myach-voleybolnyy-5-sporteks', 'https://delta-fitness.ru/products/r18035-4-myach-voleybolnyy-meik-503-pu-25-285-gr-mashinnaya-sshivka-sporteks', 'https://delta-fitness.ru/products/r18035-3-myach-voleybolnyy-meik-503-pu-25-285-gr-mashinnaya-sshivka-sporteks', 'https://delta-fitness.ru/products/r18035-2-myach-voleybolnyy-meik-503-pu-25-285-gr-mashinnaya-sshivka-sporteks', 'https://delta-fitness.ru/products/r18038-myach-voleybolnyy-meik-2811-pu-25-270-gr-mashinnaya-sshivka-sporteks', 'https://delta-fitness.ru/products/e40006-myach-voleybolnyy-belosinezheltyy--pu-27-260-gr-mashinnaya-sshivka-sporteks', 'https://delta-fitness.ru/products/e40005-myach-voleybolnyy-detskiy-2-rozovozelenooranzhevyy--pu-27-150-gr-mashinnaya-sshivka-sporteks', 'https://delta-fitness.ru/products/e40004-myach-voleybolnyy-detskiy-2-oranzhevosinezheltyy--pu-27-150-gr-mashinnaya-sshivka-sporteks', 'https://delta-fitness.ru/products/e39981-myach-voleybolnyy-belosinezelenyy--pu-27-300-gr-mashinnaya-sshivka-sporteks', 'https://delta-fitness.ru/products/e33542-2-myach-voleybolnyy-salatovyy--pvc-27-280-gr-mashinnaya-sshivka-sporteks', 'https://delta-fitness.ru/products/e33542-1-myach-voleybolnyy-siniy--pvc-27-280-gr-mashinnaya-sshivka-sporteks', 'https://delta-fitness.ru/products/t07522-myach-voleybolnyy-pu-25-270-gr-mashinnaya-sshivka-sporteks', 'https://delta-fitness.ru/products/t07523-myach-voleybolnyy-pu-25-270-gr-mashinnaya-sshivka-sporteks', 'https://delta-fitness.ru/products/c28683-4-myach-voleybolnyy-meik-qs-v519-oranzhevyy--tpu-25-270-gr-mashinnaya-sshivka-sporteks', 'https://delta-fitness.ru/products/c28683-3-myach-voleybolnyy-meik-qs-v519-zelenyy--tpu-25-270-gr-mashinnaya-sshivka-sporteks']\n",
            "['Мяч волейбольный розово/салат/голубой , PU 2.7, 235 гр, машинная сшивка Дельта-фитнес E40006-3', 'Мяч волейбольный зелено/салат/голубой , PU 2.7, 235 гр, машинная сшивка Дельта-фитнес E40006-2', 'Мяч волейбольный бело/сине/красный , PU 2.7, 235 гр, машинная сшивка Дельта-фитнес E40006-1', 'Мяч волейбольный №5 Дельта-фитнес E40796-3', 'Мяч волейбольный №5 Дельта-фитнес E40796-2', 'Мяч волейбольный №5 Дельта-фитнес E40796-1', 'Мяч волейбольный Meik-503 PU 2.5, 285 гр, машинная сшивка Дельта-фитнес R18035-4', 'Мяч волейбольный Meik-503 PU 2.5, 285 гр, машинная сшивка Дельта-фитнес R18035-3', 'Мяч волейбольный Meik-503 PU 2.5, 285 гр, машинная сшивка Дельта-фитнес R18035-2', 'Мяч волейбольный Meik-ROM-2811 PU 2.5, 270 гр, машинная сшивка триколор Дельта-фитнес R18038', 'Мяч волейбольный бело/сине/желтый , PU 2.7, 260 гр, машинная сшивка Дельта-фитнес E40006', 'Мяч волейбольный Детский №2 розово/зелено/оранжевый , PU 2.7, 150 гр, машинная сшивка Дельта-фитнес E40005', 'Мяч волейбольный Детский №2 оранжево/сине/желтый , PU 2.7, 150 гр, машинная сшивка Дельта-фитнес E40004', 'Мяч волейбольный бело/сине/зеленый , PU 2.7, 300 гр, машинная сшивка Дельта-фитнес E39981', 'Мяч волейбольный салатовый , PVC 2.7, 280 гр, машинная сшивка Дельта-фитнес E33542-2', 'Мяч волейбольный синий , PVC 2.7, 280 гр, машинная сшивка Дельта-фитнес E33542-1', 'Мяч волейбольный, PU 2.5, 270 гр, машинная сшивка Дельта-фитнес T07522', 'Мяч волейбольный, PU 2.5, 270 гр, машинная сшивка Дельта-фитнес T07523', 'Мяч волейбольный Meik-QS-V519 оранжевый , TPU 2.5, 270 гр, машинная сшивка Дельта-фитнес C28683-4', 'Мяч волейбольный Meik-QS-V519 зеленый , TPU 2.5, 270 гр, машинная сшивка Дельта-фитнес C28683-3']\n",
            "['363', '363', '363', '594', '594', '594', '644', '644', '767', '743', '658', '421', '421', '652', '413', '413', '635', '578', '850', '652']\n",
            "20\n",
            "20\n",
            "20\n"
          ]
        }
      ]
    },
    {
      "cell_type": "markdown",
      "source": [
        "**Зарплаты**"
      ],
      "metadata": {
        "id": "VW0yjBLhgOpc"
      }
    }
  ]
}