{
  "nbformat": 4,
  "nbformat_minor": 0,
  "metadata": {
    "colab": {
      "provenance": []
    },
    "kernelspec": {
      "name": "python3",
      "display_name": "Python 3"
    },
    "language_info": {
      "name": "python"
    }
  },
  "cells": [
    {
      "cell_type": "markdown",
      "source": [
        "**Конкурентный анализ и выбор географического расположения**"
      ],
      "metadata": {
        "id": "4AkzBBl54cWR"
      }
    },
    {
      "cell_type": "code",
      "source": [
        "import urllib, requests, socket, re, lxml, io, bs4, sqlite3, pandas, sqlalchemy"
      ],
      "metadata": {
        "id": "QPBtvx2QYFps"
      },
      "execution_count": 51,
      "outputs": []
    },
    {
      "cell_type": "code",
      "source": [
        "from requests.compat import urljoin, quote_plus, urlparse, unquote"
      ],
      "metadata": {
        "id": "B99b3MRMYIyg"
      },
      "execution_count": 52,
      "outputs": []
    },
    {
      "cell_type": "code",
      "source": [
        "import requests\n",
        "from bs4 import BeautifulSoup\n",
        "import pandas as pd\n",
        "from IPython.display import display\n",
        "import re"
      ],
      "metadata": {
        "id": "foldPcQnYNvY"
      },
      "execution_count": 53,
      "outputs": []
    },
    {
      "cell_type": "code",
      "source": [
        "import requests\n",
        "import chardet\n"
      ],
      "metadata": {
        "id": "OfqROjUJFOj8"
      },
      "execution_count": 54,
      "outputs": []
    },
    {
      "cell_type": "code",
      "source": [
        "water_links = []\n",
        "water_names = []\n",
        "water_price = []\n",
        "\n",
        "for j in range(1, 4):\n",
        "  url = 'https://rusarctica.ru/catalog/butylki/?ysclid=m8diu9c3c0899709461?page=' + str(j)\n",
        "\n",
        "  response = requests.get(url)\n",
        "  encoding = chardet.detect(response.content)['encoding']  # Определяем кодировку\n",
        "  html = response.content.decode(encoding)  # Декодируем с правильной кодировкой\n",
        "  soup = BeautifulSoup(html, 'lxml')\n",
        "\n",
        "  html_water = soup.find_all('div', {'class': 'catalog-card'})\n",
        "\n",
        "  for i in html_water:\n",
        "    new_soup = BeautifulSoup(str(i), 'lxml')\n",
        "    s = new_soup.find_all('a')\n",
        "    k = new_soup.find_all('div', {'class': 'catalog-card__price'})\n",
        "\n",
        "    water_links.append('https://www.rusarctica.ru/' + str(s[0]['href']))\n",
        "    water_names.append(s[0].text.strip().lower())\n",
        "    water_price.append(str(k[0].text)[1:-3])\n",
        "\n",
        "print(k)\n",
        "print(s)\n",
        "print(water_links)\n",
        "print(water_names)\n",
        "print(water_price)\n",
        "\n",
        "print(len(water_links))\n",
        "print(len(water_names))\n",
        "print(len(water_price))\n",
        "\n"
      ],
      "metadata": {
        "colab": {
          "base_uri": "https://localhost:8080/"
        },
        "id": "EIWrQPk-Jszo",
        "outputId": "d73ce01b-9f82-49c3-a5ab-d9d227a05b4d"
      },
      "execution_count": 55,
      "outputs": [
        {
          "output_type": "stream",
          "name": "stdout",
          "text": [
            "[<div class=\"catalog-card__price\">\n",
            "<span class=\"catalog-card__price-current\">1 112 ₽</span>\n",
            "</div>]\n",
            "[<a class=\"catalog-card__top\" href=\"/product/720-500-butylka-tritanovaya-500-ml-golubaya-matovaya-s-sitechkom/\">\n",
            "<div class=\"catalog-card__title\">\n",
            "                    Питьевая бутылка 720 из тритана 0.5л, голубая матовая, с ситечком                                    </div>\n",
            "<div class=\"catalog-card__picture\">\n",
            "<img class=\"lazyload\" data-src=\"/upload/resize_cache/iblock/c32/buy3bstpp25vdu6i3sjdh5bkdna54o23/220_256_1/720_500_butylka_tritanovaya_500_ml_golubaya_matovaya_s_sitechkom.jpg\" src=\"/include/loader/loader-background-big.svg\"/>\n",
            "</div>\n",
            "</a>]\n",
            "['https://www.rusarctica.ru//product/702-500-termos-cititerm-teksturnyy-zheltyy-los/', 'https://www.rusarctica.ru//product/702-500-termos-cititerm-teksturnyy-krasnyy-atstek/', 'https://www.rusarctica.ru//product/721-700-butylka-tritanovaya-700-ml-lavandovaya/', 'https://www.rusarctica.ru//product/722-550-butylka-tritanovaya-550-ml-lavandovaya-s-manzhetom-i-pitevoy-trubochkoy/', 'https://www.rusarctica.ru//product/722-550-butylka-tritanovaya-550-ml-sinyaya-s-manzhetom-i-pitevoy-trubochkoy/', 'https://www.rusarctica.ru//product/722-550-butylka-tritanovaya-550-ml-chernaya-s-manzhetom-i-pitevoy-trubochkoy/', 'https://www.rusarctica.ru//product/721-700-butylka-tritanovaya-700-ml-chernaya/', 'https://www.rusarctica.ru//product/721-700-butylka-tritanovaya-700-ml-sinyaya/', 'https://www.rusarctica.ru//product/702-500-termos-cititerm-teksturnyy-goluboy/', 'https://www.rusarctica.ru//product/720-1000-butylka-tritanovaya-1000-ml-lavandovaya-s-sitechkom/', 'https://www.rusarctica.ru//product/720-1000-butylka-tritanovaya-1000-ml-rozovaya-s-sitechkom/', 'https://www.rusarctica.ru//product/720-1000-butylka-tritanovaya-1000-ml-sinyaya-s-sitechkom/', 'https://www.rusarctica.ru//product/720-1000-butylka-tritanovaya-1000-ml-chernaya-s-sitechkom/', 'https://www.rusarctica.ru//product/720-500-butylka-tritanovaya-500-ml-golubaya-s-sitechkom/', 'https://www.rusarctica.ru//product/720-500-butylka-tritanovaya-500-ml-lavandovaya-s-sitechkom/', 'https://www.rusarctica.ru//product/720-500-butylka-tritanovaya-500-ml-rozovaya-s-sitechkom/', 'https://www.rusarctica.ru//product/720-500-butylka-tritanovaya-500-ml-sinyaya-s-sitechkom/', 'https://www.rusarctica.ru//product/720-500-butylka-tritanovaya-500-ml-chernaya-s-sitechkom/', 'https://www.rusarctica.ru//product/720-1000-butylka-tritanovaya-1000-ml-lavandovaya-matovaya-s-sitechkom/', 'https://www.rusarctica.ru//product/720-1000-butylka-tritanovaya-1000-ml-rozovaya-matovaya-s-sitechkom/', 'https://www.rusarctica.ru//product/720-1000-butylka-tritanovaya-1000-ml-sinyaya-matovaya-s-sitechkom/', 'https://www.rusarctica.ru//product/720-500-butylka-tritanovaya-500-ml-lavandovaya-matovaya-s-sitechkom/', 'https://www.rusarctica.ru//product/720-500-butylka-tritanovaya-500-ml-rozovaya-matovaya-s-sitechkom/', 'https://www.rusarctica.ru//product/720-500-butylka-tritanovaya-500-ml-golubaya-matovaya-s-sitechkom/', 'https://www.rusarctica.ru//product/702-500-termos-cititerm-teksturnyy-zheltyy-los/', 'https://www.rusarctica.ru//product/702-500-termos-cititerm-teksturnyy-krasnyy-atstek/', 'https://www.rusarctica.ru//product/721-700-butylka-tritanovaya-700-ml-lavandovaya/', 'https://www.rusarctica.ru//product/722-550-butylka-tritanovaya-550-ml-lavandovaya-s-manzhetom-i-pitevoy-trubochkoy/', 'https://www.rusarctica.ru//product/722-550-butylka-tritanovaya-550-ml-sinyaya-s-manzhetom-i-pitevoy-trubochkoy/', 'https://www.rusarctica.ru//product/722-550-butylka-tritanovaya-550-ml-chernaya-s-manzhetom-i-pitevoy-trubochkoy/', 'https://www.rusarctica.ru//product/721-700-butylka-tritanovaya-700-ml-chernaya/', 'https://www.rusarctica.ru//product/721-700-butylka-tritanovaya-700-ml-sinyaya/', 'https://www.rusarctica.ru//product/702-500-termos-cititerm-teksturnyy-goluboy/', 'https://www.rusarctica.ru//product/720-1000-butylka-tritanovaya-1000-ml-lavandovaya-s-sitechkom/', 'https://www.rusarctica.ru//product/720-1000-butylka-tritanovaya-1000-ml-rozovaya-s-sitechkom/', 'https://www.rusarctica.ru//product/720-1000-butylka-tritanovaya-1000-ml-sinyaya-s-sitechkom/', 'https://www.rusarctica.ru//product/720-1000-butylka-tritanovaya-1000-ml-chernaya-s-sitechkom/', 'https://www.rusarctica.ru//product/720-500-butylka-tritanovaya-500-ml-golubaya-s-sitechkom/', 'https://www.rusarctica.ru//product/720-500-butylka-tritanovaya-500-ml-lavandovaya-s-sitechkom/', 'https://www.rusarctica.ru//product/720-500-butylka-tritanovaya-500-ml-rozovaya-s-sitechkom/', 'https://www.rusarctica.ru//product/720-500-butylka-tritanovaya-500-ml-sinyaya-s-sitechkom/', 'https://www.rusarctica.ru//product/720-500-butylka-tritanovaya-500-ml-chernaya-s-sitechkom/', 'https://www.rusarctica.ru//product/720-1000-butylka-tritanovaya-1000-ml-lavandovaya-matovaya-s-sitechkom/', 'https://www.rusarctica.ru//product/720-1000-butylka-tritanovaya-1000-ml-rozovaya-matovaya-s-sitechkom/', 'https://www.rusarctica.ru//product/720-1000-butylka-tritanovaya-1000-ml-sinyaya-matovaya-s-sitechkom/', 'https://www.rusarctica.ru//product/720-500-butylka-tritanovaya-500-ml-lavandovaya-matovaya-s-sitechkom/', 'https://www.rusarctica.ru//product/720-500-butylka-tritanovaya-500-ml-rozovaya-matovaya-s-sitechkom/', 'https://www.rusarctica.ru//product/720-500-butylka-tritanovaya-500-ml-golubaya-matovaya-s-sitechkom/', 'https://www.rusarctica.ru//product/702-500-termos-cititerm-teksturnyy-zheltyy-los/', 'https://www.rusarctica.ru//product/702-500-termos-cititerm-teksturnyy-krasnyy-atstek/', 'https://www.rusarctica.ru//product/721-700-butylka-tritanovaya-700-ml-lavandovaya/', 'https://www.rusarctica.ru//product/722-550-butylka-tritanovaya-550-ml-lavandovaya-s-manzhetom-i-pitevoy-trubochkoy/', 'https://www.rusarctica.ru//product/722-550-butylka-tritanovaya-550-ml-sinyaya-s-manzhetom-i-pitevoy-trubochkoy/', 'https://www.rusarctica.ru//product/722-550-butylka-tritanovaya-550-ml-chernaya-s-manzhetom-i-pitevoy-trubochkoy/', 'https://www.rusarctica.ru//product/721-700-butylka-tritanovaya-700-ml-chernaya/', 'https://www.rusarctica.ru//product/721-700-butylka-tritanovaya-700-ml-sinyaya/', 'https://www.rusarctica.ru//product/702-500-termos-cititerm-teksturnyy-goluboy/', 'https://www.rusarctica.ru//product/720-1000-butylka-tritanovaya-1000-ml-lavandovaya-s-sitechkom/', 'https://www.rusarctica.ru//product/720-1000-butylka-tritanovaya-1000-ml-rozovaya-s-sitechkom/', 'https://www.rusarctica.ru//product/720-1000-butylka-tritanovaya-1000-ml-sinyaya-s-sitechkom/', 'https://www.rusarctica.ru//product/720-1000-butylka-tritanovaya-1000-ml-chernaya-s-sitechkom/', 'https://www.rusarctica.ru//product/720-500-butylka-tritanovaya-500-ml-golubaya-s-sitechkom/', 'https://www.rusarctica.ru//product/720-500-butylka-tritanovaya-500-ml-lavandovaya-s-sitechkom/', 'https://www.rusarctica.ru//product/720-500-butylka-tritanovaya-500-ml-rozovaya-s-sitechkom/', 'https://www.rusarctica.ru//product/720-500-butylka-tritanovaya-500-ml-sinyaya-s-sitechkom/', 'https://www.rusarctica.ru//product/720-500-butylka-tritanovaya-500-ml-chernaya-s-sitechkom/', 'https://www.rusarctica.ru//product/720-1000-butylka-tritanovaya-1000-ml-lavandovaya-matovaya-s-sitechkom/', 'https://www.rusarctica.ru//product/720-1000-butylka-tritanovaya-1000-ml-rozovaya-matovaya-s-sitechkom/', 'https://www.rusarctica.ru//product/720-1000-butylka-tritanovaya-1000-ml-sinyaya-matovaya-s-sitechkom/', 'https://www.rusarctica.ru//product/720-500-butylka-tritanovaya-500-ml-lavandovaya-matovaya-s-sitechkom/', 'https://www.rusarctica.ru//product/720-500-butylka-tritanovaya-500-ml-rozovaya-matovaya-s-sitechkom/', 'https://www.rusarctica.ru//product/720-500-butylka-tritanovaya-500-ml-golubaya-matovaya-s-sitechkom/']\n",
            "['желтая термокружка 702 «сититерм» «лось» на 0.5л', 'красная термокружка 702 «сититерм» «ацтек» на 0.5л', 'лавандовая питьевая бутылка из тритана 0.7л', 'лавандовая тритановая бутылка 722 с манжетом и питьевой трубочкой на 0.55л', 'синяя тритановая бутылка 722 с манжетом и питьевой трубочкой на 0.55л', 'черная тритановая бутылка 722 с манжетом и питьевой трубочкой на 0.55л', 'черная питьевая бутылка 721 из тритана 0.7л', 'синяя питьевая бутылка 721 из тритана 0.7л', 'голубая термокружка 702 «сититерм» на 0.5л', 'питьевая бутылка 720 из тритана 1л, лавандовая глянцевая, с ситечком', 'питьевая бутылка 720 из тритана 1л, розовая глянцевая, с ситечком', 'питьевая бутылка 720 из тритана 1л, синяя глянцевая, с ситечком', 'питьевая бутылка 720 из тритана 1л, черная глянцевая, с ситечком', 'питьевая бутылка 720 из тритана 0.5л, голубая глянцевая, с ситечком', 'питьевая бутылка 720 из тритана 0.5л, лавандовая глянцевая, с ситечком', 'питьевая бутылка 720 из тритана 0.5л, розовая глянцевая, с ситечком', 'питьевая бутылка 720 из тритана 0.5л, синяя глянцевая, с ситечком', 'питьевая бутылка 720 из тритана 0.5л, черная глянцевая, с ситечком', 'питьевая бутылка 720 из тритана 1л, лавандовая матовая, с ситечком', 'питьевая бутылка 720 из тритана 1л, розовая матовая, с ситечком', 'питьевая бутылка 720 из тритана 1л, синяя матовая, с ситечком', 'питьевая бутылка 720 из тритана 0.5л, лавандовая матовая, с ситечком', 'питьевая бутылка 720 из тритана 0.5л, розовая матовая, с ситечком', 'питьевая бутылка 720 из тритана 0.5л, голубая матовая, с ситечком', 'желтая термокружка 702 «сититерм» «лось» на 0.5л', 'красная термокружка 702 «сититерм» «ацтек» на 0.5л', 'лавандовая питьевая бутылка из тритана 0.7л', 'лавандовая тритановая бутылка 722 с манжетом и питьевой трубочкой на 0.55л', 'синяя тритановая бутылка 722 с манжетом и питьевой трубочкой на 0.55л', 'черная тритановая бутылка 722 с манжетом и питьевой трубочкой на 0.55л', 'черная питьевая бутылка 721 из тритана 0.7л', 'синяя питьевая бутылка 721 из тритана 0.7л', 'голубая термокружка 702 «сититерм» на 0.5л', 'питьевая бутылка 720 из тритана 1л, лавандовая глянцевая, с ситечком', 'питьевая бутылка 720 из тритана 1л, розовая глянцевая, с ситечком', 'питьевая бутылка 720 из тритана 1л, синяя глянцевая, с ситечком', 'питьевая бутылка 720 из тритана 1л, черная глянцевая, с ситечком', 'питьевая бутылка 720 из тритана 0.5л, голубая глянцевая, с ситечком', 'питьевая бутылка 720 из тритана 0.5л, лавандовая глянцевая, с ситечком', 'питьевая бутылка 720 из тритана 0.5л, розовая глянцевая, с ситечком', 'питьевая бутылка 720 из тритана 0.5л, синяя глянцевая, с ситечком', 'питьевая бутылка 720 из тритана 0.5л, черная глянцевая, с ситечком', 'питьевая бутылка 720 из тритана 1л, лавандовая матовая, с ситечком', 'питьевая бутылка 720 из тритана 1л, розовая матовая, с ситечком', 'питьевая бутылка 720 из тритана 1л, синяя матовая, с ситечком', 'питьевая бутылка 720 из тритана 0.5л, лавандовая матовая, с ситечком', 'питьевая бутылка 720 из тритана 0.5л, розовая матовая, с ситечком', 'питьевая бутылка 720 из тритана 0.5л, голубая матовая, с ситечком', 'желтая термокружка 702 «сититерм» «лось» на 0.5л', 'красная термокружка 702 «сититерм» «ацтек» на 0.5л', 'лавандовая питьевая бутылка из тритана 0.7л', 'лавандовая тритановая бутылка 722 с манжетом и питьевой трубочкой на 0.55л', 'синяя тритановая бутылка 722 с манжетом и питьевой трубочкой на 0.55л', 'черная тритановая бутылка 722 с манжетом и питьевой трубочкой на 0.55л', 'черная питьевая бутылка 721 из тритана 0.7л', 'синяя питьевая бутылка 721 из тритана 0.7л', 'голубая термокружка 702 «сититерм» на 0.5л', 'питьевая бутылка 720 из тритана 1л, лавандовая глянцевая, с ситечком', 'питьевая бутылка 720 из тритана 1л, розовая глянцевая, с ситечком', 'питьевая бутылка 720 из тритана 1л, синяя глянцевая, с ситечком', 'питьевая бутылка 720 из тритана 1л, черная глянцевая, с ситечком', 'питьевая бутылка 720 из тритана 0.5л, голубая глянцевая, с ситечком', 'питьевая бутылка 720 из тритана 0.5л, лавандовая глянцевая, с ситечком', 'питьевая бутылка 720 из тритана 0.5л, розовая глянцевая, с ситечком', 'питьевая бутылка 720 из тритана 0.5л, синяя глянцевая, с ситечком', 'питьевая бутылка 720 из тритана 0.5л, черная глянцевая, с ситечком', 'питьевая бутылка 720 из тритана 1л, лавандовая матовая, с ситечком', 'питьевая бутылка 720 из тритана 1л, розовая матовая, с ситечком', 'питьевая бутылка 720 из тритана 1л, синяя матовая, с ситечком', 'питьевая бутылка 720 из тритана 0.5л, лавандовая матовая, с ситечком', 'питьевая бутылка 720 из тритана 0.5л, розовая матовая, с ситечком', 'питьевая бутылка 720 из тритана 0.5л, голубая матовая, с ситечком']\n",
            "['1 811', '1 811', '1 229', '1 357', '1 357', '1 357', '1 229', '1 229', '1 811', '1 544', '1 544', '1 544', '1 544', '1 112', '1 112', '1 112', '1 112', '1 112', '1 544', '1 544', '1 544', '1 112', '1 112', '1 112', '1 811', '1 811', '1 229', '1 357', '1 357', '1 357', '1 229', '1 229', '1 811', '1 544', '1 544', '1 544', '1 544', '1 112', '1 112', '1 112', '1 112', '1 112', '1 544', '1 544', '1 544', '1 112', '1 112', '1 112', '1 811', '1 811', '1 229', '1 357', '1 357', '1 357', '1 229', '1 229', '1 811', '1 544', '1 544', '1 544', '1 544', '1 112', '1 112', '1 112', '1 112', '1 112', '1 544', '1 544', '1 544', '1 112', '1 112', '1 112']\n",
            "72\n",
            "72\n",
            "72\n"
          ]
        }
      ]
    },
    {
      "cell_type": "code",
      "source": [
        "import pandas as pd\n",
        "\n",
        "water_data = {'Ссылка': water_links, 'Название': water_names, 'Цена': water_price}\n",
        "df = pd.DataFrame(water_data)\n",
        "\n",
        "print(df)"
      ],
      "metadata": {
        "colab": {
          "base_uri": "https://localhost:8080/"
        },
        "id": "qolW6MX1J57o",
        "outputId": "99fba310-7c41-4271-818b-26b922fbe065"
      },
      "execution_count": 56,
      "outputs": [
        {
          "output_type": "stream",
          "name": "stdout",
          "text": [
            "                                               Ссылка  \\\n",
            "0   https://www.rusarctica.ru//product/702-500-ter...   \n",
            "1   https://www.rusarctica.ru//product/702-500-ter...   \n",
            "2   https://www.rusarctica.ru//product/721-700-but...   \n",
            "3   https://www.rusarctica.ru//product/722-550-but...   \n",
            "4   https://www.rusarctica.ru//product/722-550-but...   \n",
            "..                                                ...   \n",
            "67  https://www.rusarctica.ru//product/720-1000-bu...   \n",
            "68  https://www.rusarctica.ru//product/720-1000-bu...   \n",
            "69  https://www.rusarctica.ru//product/720-500-but...   \n",
            "70  https://www.rusarctica.ru//product/720-500-but...   \n",
            "71  https://www.rusarctica.ru//product/720-500-but...   \n",
            "\n",
            "                                             Название   Цена  \n",
            "0    желтая термокружка 702 «сититерм» «лось» на 0.5л  1 811  \n",
            "1   красная термокружка 702 «сититерм» «ацтек» на ...  1 811  \n",
            "2         лавандовая питьевая бутылка из тритана 0.7л  1 229  \n",
            "3   лавандовая тритановая бутылка 722 с манжетом и...  1 357  \n",
            "4   синяя тритановая бутылка 722 с манжетом и пить...  1 357  \n",
            "..                                                ...    ...  \n",
            "67  питьевая бутылка 720 из тритана 1л, розовая ма...  1 544  \n",
            "68  питьевая бутылка 720 из тритана 1л, синяя мато...  1 544  \n",
            "69  питьевая бутылка 720 из тритана 0.5л, лавандов...  1 112  \n",
            "70  питьевая бутылка 720 из тритана 0.5л, розовая ...  1 112  \n",
            "71  питьевая бутылка 720 из тритана 0.5л, голубая ...  1 112  \n",
            "\n",
            "[72 rows x 3 columns]\n"
          ]
        }
      ]
    },
    {
      "cell_type": "code",
      "source": [
        "import pandas as pd\n",
        "\n",
        "water_data = {'Ссылка': water_links, 'Название': \"Товар 1\", 'Цена': water_price}\n",
        "df = pd.DataFrame(water_data)\n",
        "\n",
        "print(df)"
      ],
      "metadata": {
        "colab": {
          "base_uri": "https://localhost:8080/"
        },
        "id": "JEp7ObY9Kr8t",
        "outputId": "d55217e4-c9b6-4be7-afb1-3fd55dcb284d"
      },
      "execution_count": 57,
      "outputs": [
        {
          "output_type": "stream",
          "name": "stdout",
          "text": [
            "                                               Ссылка Название   Цена\n",
            "0   https://www.rusarctica.ru//product/702-500-ter...  Товар 1  1 811\n",
            "1   https://www.rusarctica.ru//product/702-500-ter...  Товар 1  1 811\n",
            "2   https://www.rusarctica.ru//product/721-700-but...  Товар 1  1 229\n",
            "3   https://www.rusarctica.ru//product/722-550-but...  Товар 1  1 357\n",
            "4   https://www.rusarctica.ru//product/722-550-but...  Товар 1  1 357\n",
            "..                                                ...      ...    ...\n",
            "67  https://www.rusarctica.ru//product/720-1000-bu...  Товар 1  1 544\n",
            "68  https://www.rusarctica.ru//product/720-1000-bu...  Товар 1  1 544\n",
            "69  https://www.rusarctica.ru//product/720-500-but...  Товар 1  1 112\n",
            "70  https://www.rusarctica.ru//product/720-500-but...  Товар 1  1 112\n",
            "71  https://www.rusarctica.ru//product/720-500-but...  Товар 1  1 112\n",
            "\n",
            "[72 rows x 3 columns]\n"
          ]
        }
      ]
    },
    {
      "cell_type": "code",
      "source": [
        "grid_links = []\n",
        "grid_names = []\n",
        "grid_price = []\n",
        "\n",
        "\n",
        "for j in range(1, 6):\n",
        "  url = 'https://www.domsporta.com/catalog/setki_voleybolnye/?utm_source=yandex&utm_medium=cpc&utm_campaign=voleybol_poisk&utm_content=16862648860&utm_term=&yclid=13320155367724810239?page=' + str(j)\n",
        "  response = requests.get(url)\n",
        "  encoding = chardet.detect(response.content)['encoding']  # Определяем кодировку\n",
        "  html = response.content.decode(encoding)  # Декодируем с правильной кодировкой\n",
        "  soup = BeautifulSoup(html, 'lxml')\n",
        "\n",
        "  html_grid = soup.find_all('div', {'class': 'b-catalog__item-info'})\n",
        "\n",
        "  for i in html_grid:\n",
        "    new_soup = BeautifulSoup(str(i), 'lxml')\n",
        "    s = new_soup.find_all('a')\n",
        "    k = new_soup.find_all('div', {'class': 'b-catalog__price-value'})\n",
        "    grid_links.append('https://domsporta.com/' + str(s[0]['href']))\n",
        "    grid_names.append(s[0].text.strip())\n",
        "    grid_price.append(str(k[0].text)[:-16])\n",
        "\n",
        "\n",
        "print(k)\n",
        "print(s)\n",
        "print(grid_links)\n",
        "print(grid_names)\n",
        "print(grid_price)\n",
        "\n",
        "print(len(grid_links))\n",
        "print(len(grid_names))\n",
        "print(len(grid_price))\n"
      ],
      "metadata": {
        "colab": {
          "base_uri": "https://localhost:8080/"
        },
        "id": "rl2MgoxTJyu4",
        "outputId": "9effb3cb-f7d6-4fa3-e3d3-6537b8ff653b"
      },
      "execution_count": 58,
      "outputs": [
        {
          "output_type": "stream",
          "name": "stdout",
          "text": [
            "[<div class=\"b-catalog__price-value\">32 646\t\t\t\t\t\t\t\t\t\t\t\t<span>руб.</span></div>]\n",
            "[<a href=\"/goods/setka_dlya_plyazhnogo_voleybola_prof_kvrezac_15095029011_nit_3_mm_pp/\" itemprop=\"url\">\n",
            "<span itemprop=\"name\">Сетка для пляжного волейбола проф. Kv.REZAC 15095029011, нить 3 мм ПП</span>\n",
            "</a>]\n",
            "['https://domsporta.com//goods/setka_volleybolnaya_professionalnaya_kvrezac_85kh1m_15095029004/', 'https://domsporta.com//goods/setka_voleybolnaya_prof_atlet_d40_mm_imp_a72/', 'https://domsporta.com//goods/setka_dlya_plyazhnogo_voleybola_profsetka_nit_25_mm_100_m_kh_850_m_chernyy_6025_03/', 'https://domsporta.com//goods/setka_voleybolnaya_atlet_trenirovochnaya_d30_mm_imp_a490/', 'https://domsporta.com//goods/setka_voleybolnaya_atlet_standartnaya_d26_mm_imp_a73/', 'https://domsporta.com//goods/setka_voleybolnaya_35mm_fs_v_1_lyubitelskaya_nit_iz_pp_verkhnyaya_lenta_iz_pp_bez_trosa_belaya/', 'https://domsporta.com//goods/setka_voleybolnaya_trenirovochnaya_sht_nit_28mm_gimnast_130/', 'https://domsporta.com//goods/setka_voleybolnaya_97kh1_m_nit_re_18_mm_tros_stal_atemi_t4001n_bk/', 'https://domsporta.com//goods/setka_voleybolnaya_massovaya_sht_nit_22mm_gimnast_135/', 'https://domsporta.com//goods/setka_voleybolnaya_18mm_s_trosom_start_up_0611_chernyy/', 'https://domsporta.com//goods/setka_voleybolnaya_professionalnaya_4mm_sht_gimnast_120/', 'https://domsporta.com//goods/setka_dlya_plyazhnogo_voleybola_atlet_imp_a253/', 'https://domsporta.com//goods/setka_voleybolnaya_sorevnovatelnaya_sht_nit_4mm_gimnast_125/', 'https://domsporta.com//goods/setka_voleybolnaya_professionalnaya_95kh1m_nit35mm_pp_yach10sm_fs_v_7_belaya/', 'https://domsporta.com//goods/setka_dlya_plyazhnogo_voleybola_tren_85kh1mnit_35mm_ppyach10sm_fs_pv_16/', 'https://domsporta.com//goods/setka_voleybolnaya_start_d22_mm_atlet_imp_a420/', 'https://domsporta.com//goods/setka_voleybolnaya_12mm_start_up_4_007_chernyy/', 'https://domsporta.com//goods/setka_voleybolnaya_fs0_95kh1_m_nit_35_mm_pp_yach_10_sm_neylon_shnur_bez_verkh_lenty_bez_trosa/', 'https://domsporta.com//goods/setka_voleybolnaya_professionalnaya_95kh1m_nit35mm_pp_yach10sm_fs_v_8_chernaya/', 'https://domsporta.com//goods/setka_dlya_plyazhnogo_voleybola_prof_kvrezac_15095029011_nit_3_mm_pp/', 'https://domsporta.com//goods/setka_volleybolnaya_professionalnaya_kvrezac_85kh1m_15095029004/', 'https://domsporta.com//goods/setka_voleybolnaya_prof_atlet_d40_mm_imp_a72/', 'https://domsporta.com//goods/setka_dlya_plyazhnogo_voleybola_profsetka_nit_25_mm_100_m_kh_850_m_chernyy_6025_03/', 'https://domsporta.com//goods/setka_voleybolnaya_atlet_trenirovochnaya_d30_mm_imp_a490/', 'https://domsporta.com//goods/setka_voleybolnaya_atlet_standartnaya_d26_mm_imp_a73/', 'https://domsporta.com//goods/setka_voleybolnaya_35mm_fs_v_1_lyubitelskaya_nit_iz_pp_verkhnyaya_lenta_iz_pp_bez_trosa_belaya/', 'https://domsporta.com//goods/setka_voleybolnaya_trenirovochnaya_sht_nit_28mm_gimnast_130/', 'https://domsporta.com//goods/setka_voleybolnaya_97kh1_m_nit_re_18_mm_tros_stal_atemi_t4001n_bk/', 'https://domsporta.com//goods/setka_voleybolnaya_massovaya_sht_nit_22mm_gimnast_135/', 'https://domsporta.com//goods/setka_voleybolnaya_18mm_s_trosom_start_up_0611_chernyy/', 'https://domsporta.com//goods/setka_voleybolnaya_professionalnaya_4mm_sht_gimnast_120/', 'https://domsporta.com//goods/setka_dlya_plyazhnogo_voleybola_atlet_imp_a253/', 'https://domsporta.com//goods/setka_voleybolnaya_sorevnovatelnaya_sht_nit_4mm_gimnast_125/', 'https://domsporta.com//goods/setka_voleybolnaya_professionalnaya_95kh1m_nit35mm_pp_yach10sm_fs_v_7_belaya/', 'https://domsporta.com//goods/setka_dlya_plyazhnogo_voleybola_tren_85kh1mnit_35mm_ppyach10sm_fs_pv_16/', 'https://domsporta.com//goods/setka_voleybolnaya_start_d22_mm_atlet_imp_a420/', 'https://domsporta.com//goods/setka_voleybolnaya_12mm_start_up_4_007_chernyy/', 'https://domsporta.com//goods/setka_voleybolnaya_fs0_95kh1_m_nit_35_mm_pp_yach_10_sm_neylon_shnur_bez_verkh_lenty_bez_trosa/', 'https://domsporta.com//goods/setka_voleybolnaya_professionalnaya_95kh1m_nit35mm_pp_yach10sm_fs_v_8_chernaya/', 'https://domsporta.com//goods/setka_dlya_plyazhnogo_voleybola_prof_kvrezac_15095029011_nit_3_mm_pp/', 'https://domsporta.com//goods/setka_volleybolnaya_professionalnaya_kvrezac_85kh1m_15095029004/', 'https://domsporta.com//goods/setka_voleybolnaya_prof_atlet_d40_mm_imp_a72/', 'https://domsporta.com//goods/setka_dlya_plyazhnogo_voleybola_profsetka_nit_25_mm_100_m_kh_850_m_chernyy_6025_03/', 'https://domsporta.com//goods/setka_voleybolnaya_atlet_trenirovochnaya_d30_mm_imp_a490/', 'https://domsporta.com//goods/setka_voleybolnaya_atlet_standartnaya_d26_mm_imp_a73/', 'https://domsporta.com//goods/setka_voleybolnaya_35mm_fs_v_1_lyubitelskaya_nit_iz_pp_verkhnyaya_lenta_iz_pp_bez_trosa_belaya/', 'https://domsporta.com//goods/setka_voleybolnaya_trenirovochnaya_sht_nit_28mm_gimnast_130/', 'https://domsporta.com//goods/setka_voleybolnaya_97kh1_m_nit_re_18_mm_tros_stal_atemi_t4001n_bk/', 'https://domsporta.com//goods/setka_voleybolnaya_massovaya_sht_nit_22mm_gimnast_135/', 'https://domsporta.com//goods/setka_voleybolnaya_18mm_s_trosom_start_up_0611_chernyy/', 'https://domsporta.com//goods/setka_voleybolnaya_professionalnaya_4mm_sht_gimnast_120/', 'https://domsporta.com//goods/setka_dlya_plyazhnogo_voleybola_atlet_imp_a253/', 'https://domsporta.com//goods/setka_voleybolnaya_sorevnovatelnaya_sht_nit_4mm_gimnast_125/', 'https://domsporta.com//goods/setka_voleybolnaya_professionalnaya_95kh1m_nit35mm_pp_yach10sm_fs_v_7_belaya/', 'https://domsporta.com//goods/setka_dlya_plyazhnogo_voleybola_tren_85kh1mnit_35mm_ppyach10sm_fs_pv_16/', 'https://domsporta.com//goods/setka_voleybolnaya_start_d22_mm_atlet_imp_a420/', 'https://domsporta.com//goods/setka_voleybolnaya_12mm_start_up_4_007_chernyy/', 'https://domsporta.com//goods/setka_voleybolnaya_fs0_95kh1_m_nit_35_mm_pp_yach_10_sm_neylon_shnur_bez_verkh_lenty_bez_trosa/', 'https://domsporta.com//goods/setka_voleybolnaya_professionalnaya_95kh1m_nit35mm_pp_yach10sm_fs_v_8_chernaya/', 'https://domsporta.com//goods/setka_dlya_plyazhnogo_voleybola_prof_kvrezac_15095029011_nit_3_mm_pp/', 'https://domsporta.com//goods/setka_volleybolnaya_professionalnaya_kvrezac_85kh1m_15095029004/', 'https://domsporta.com//goods/setka_voleybolnaya_prof_atlet_d40_mm_imp_a72/', 'https://domsporta.com//goods/setka_dlya_plyazhnogo_voleybola_profsetka_nit_25_mm_100_m_kh_850_m_chernyy_6025_03/', 'https://domsporta.com//goods/setka_voleybolnaya_atlet_trenirovochnaya_d30_mm_imp_a490/', 'https://domsporta.com//goods/setka_voleybolnaya_atlet_standartnaya_d26_mm_imp_a73/', 'https://domsporta.com//goods/setka_voleybolnaya_35mm_fs_v_1_lyubitelskaya_nit_iz_pp_verkhnyaya_lenta_iz_pp_bez_trosa_belaya/', 'https://domsporta.com//goods/setka_voleybolnaya_trenirovochnaya_sht_nit_28mm_gimnast_130/', 'https://domsporta.com//goods/setka_voleybolnaya_97kh1_m_nit_re_18_mm_tros_stal_atemi_t4001n_bk/', 'https://domsporta.com//goods/setka_voleybolnaya_massovaya_sht_nit_22mm_gimnast_135/', 'https://domsporta.com//goods/setka_voleybolnaya_18mm_s_trosom_start_up_0611_chernyy/', 'https://domsporta.com//goods/setka_voleybolnaya_professionalnaya_4mm_sht_gimnast_120/', 'https://domsporta.com//goods/setka_dlya_plyazhnogo_voleybola_atlet_imp_a253/', 'https://domsporta.com//goods/setka_voleybolnaya_sorevnovatelnaya_sht_nit_4mm_gimnast_125/', 'https://domsporta.com//goods/setka_voleybolnaya_professionalnaya_95kh1m_nit35mm_pp_yach10sm_fs_v_7_belaya/', 'https://domsporta.com//goods/setka_dlya_plyazhnogo_voleybola_tren_85kh1mnit_35mm_ppyach10sm_fs_pv_16/', 'https://domsporta.com//goods/setka_voleybolnaya_start_d22_mm_atlet_imp_a420/', 'https://domsporta.com//goods/setka_voleybolnaya_12mm_start_up_4_007_chernyy/', 'https://domsporta.com//goods/setka_voleybolnaya_fs0_95kh1_m_nit_35_mm_pp_yach_10_sm_neylon_shnur_bez_verkh_lenty_bez_trosa/', 'https://domsporta.com//goods/setka_voleybolnaya_professionalnaya_95kh1m_nit35mm_pp_yach10sm_fs_v_8_chernaya/', 'https://domsporta.com//goods/setka_dlya_plyazhnogo_voleybola_prof_kvrezac_15095029011_nit_3_mm_pp/', 'https://domsporta.com//goods/setka_volleybolnaya_professionalnaya_kvrezac_85kh1m_15095029004/', 'https://domsporta.com//goods/setka_voleybolnaya_prof_atlet_d40_mm_imp_a72/', 'https://domsporta.com//goods/setka_dlya_plyazhnogo_voleybola_profsetka_nit_25_mm_100_m_kh_850_m_chernyy_6025_03/', 'https://domsporta.com//goods/setka_voleybolnaya_atlet_trenirovochnaya_d30_mm_imp_a490/', 'https://domsporta.com//goods/setka_voleybolnaya_atlet_standartnaya_d26_mm_imp_a73/', 'https://domsporta.com//goods/setka_voleybolnaya_35mm_fs_v_1_lyubitelskaya_nit_iz_pp_verkhnyaya_lenta_iz_pp_bez_trosa_belaya/', 'https://domsporta.com//goods/setka_voleybolnaya_trenirovochnaya_sht_nit_28mm_gimnast_130/', 'https://domsporta.com//goods/setka_voleybolnaya_97kh1_m_nit_re_18_mm_tros_stal_atemi_t4001n_bk/', 'https://domsporta.com//goods/setka_voleybolnaya_massovaya_sht_nit_22mm_gimnast_135/', 'https://domsporta.com//goods/setka_voleybolnaya_18mm_s_trosom_start_up_0611_chernyy/', 'https://domsporta.com//goods/setka_voleybolnaya_professionalnaya_4mm_sht_gimnast_120/', 'https://domsporta.com//goods/setka_dlya_plyazhnogo_voleybola_atlet_imp_a253/', 'https://domsporta.com//goods/setka_voleybolnaya_sorevnovatelnaya_sht_nit_4mm_gimnast_125/', 'https://domsporta.com//goods/setka_voleybolnaya_professionalnaya_95kh1m_nit35mm_pp_yach10sm_fs_v_7_belaya/', 'https://domsporta.com//goods/setka_dlya_plyazhnogo_voleybola_tren_85kh1mnit_35mm_ppyach10sm_fs_pv_16/', 'https://domsporta.com//goods/setka_voleybolnaya_start_d22_mm_atlet_imp_a420/', 'https://domsporta.com//goods/setka_voleybolnaya_12mm_start_up_4_007_chernyy/', 'https://domsporta.com//goods/setka_voleybolnaya_fs0_95kh1_m_nit_35_mm_pp_yach_10_sm_neylon_shnur_bez_verkh_lenty_bez_trosa/', 'https://domsporta.com//goods/setka_voleybolnaya_professionalnaya_95kh1m_nit35mm_pp_yach10sm_fs_v_8_chernaya/', 'https://domsporta.com//goods/setka_dlya_plyazhnogo_voleybola_prof_kvrezac_15095029011_nit_3_mm_pp/']\n",
            "['Сетка воллейбольная профессиональная Kv.Rezac 8,5х1м 15095029004', 'Сетка волейбольная проф. Atlet d=4,0 мм IMP-A72', 'Сетка для пляжного волейбола ПрофСетка нить 2,5 мм 1,00 м х 8,50 м, черный 6025-03', 'Сетка волейбольная Atlet тренировочная d=3,0 мм IMP-A490', 'Сетка волейбольная Atlet стандартная d=2,6 мм IMP-A73', 'Сетка волейбольная 3,5мм FS-V-№1 любительская, нить из ПП, верхняя лента из ПП, без троса, белая', 'Сетка волейбольная тренировочная, шт. нить 2.8мм Гимнаст 1.30', 'Сетка волейбольная, 9.7х1 м., нить РЕ 1.8 мм, трос сталь Atemi T4001N-BK', 'Сетка волейбольная массовая, шт. нить 2.2мм Гимнаст 1.35', 'Сетка волейбольная 1,8мм с тросом Start Up 0611 черный', 'Сетка волейбольная профессиональная 4мм, шт. Гимнаст 1.20', 'Сетка для пляжного волейбола Atlet IMP-A253', 'Сетка волейбольная соревновательная, шт. нить 4мм Гимнаст 1.25', 'Сетка волейбольная профессиональная 9.5х1м, нить3,5мм ПП, яч.10см FS-V-№7 белая', 'Сетка для пляжного волейбола трен. 8,5х1м,нить 3,5мм ПП,яч.10см FS-PV-№16', 'Сетка волейбольная Старт d2,2 мм Atlet IMP-A420', 'Сетка волейбольная 1,2мм Start Up 4-007 черный', 'Сетка волейбольная FS№0, 9,5х1 м, нить 3,5 мм, (ПП), яч. 10 см., нейлон. шнур, без верх. ленты, без троса', 'Сетка волейбольная профессиональная 9.5х1м, нить3,5мм ПП, яч.10см FS-V-№8 черная', 'Сетка для пляжного волейбола проф. Kv.REZAC 15095029011, нить 3 мм ПП', 'Сетка воллейбольная профессиональная Kv.Rezac 8,5х1м 15095029004', 'Сетка волейбольная проф. Atlet d=4,0 мм IMP-A72', 'Сетка для пляжного волейбола ПрофСетка нить 2,5 мм 1,00 м х 8,50 м, черный 6025-03', 'Сетка волейбольная Atlet тренировочная d=3,0 мм IMP-A490', 'Сетка волейбольная Atlet стандартная d=2,6 мм IMP-A73', 'Сетка волейбольная 3,5мм FS-V-№1 любительская, нить из ПП, верхняя лента из ПП, без троса, белая', 'Сетка волейбольная тренировочная, шт. нить 2.8мм Гимнаст 1.30', 'Сетка волейбольная, 9.7х1 м., нить РЕ 1.8 мм, трос сталь Atemi T4001N-BK', 'Сетка волейбольная массовая, шт. нить 2.2мм Гимнаст 1.35', 'Сетка волейбольная 1,8мм с тросом Start Up 0611 черный', 'Сетка волейбольная профессиональная 4мм, шт. Гимнаст 1.20', 'Сетка для пляжного волейбола Atlet IMP-A253', 'Сетка волейбольная соревновательная, шт. нить 4мм Гимнаст 1.25', 'Сетка волейбольная профессиональная 9.5х1м, нить3,5мм ПП, яч.10см FS-V-№7 белая', 'Сетка для пляжного волейбола трен. 8,5х1м,нить 3,5мм ПП,яч.10см FS-PV-№16', 'Сетка волейбольная Старт d2,2 мм Atlet IMP-A420', 'Сетка волейбольная 1,2мм Start Up 4-007 черный', 'Сетка волейбольная FS№0, 9,5х1 м, нить 3,5 мм, (ПП), яч. 10 см., нейлон. шнур, без верх. ленты, без троса', 'Сетка волейбольная профессиональная 9.5х1м, нить3,5мм ПП, яч.10см FS-V-№8 черная', 'Сетка для пляжного волейбола проф. Kv.REZAC 15095029011, нить 3 мм ПП', 'Сетка воллейбольная профессиональная Kv.Rezac 8,5х1м 15095029004', 'Сетка волейбольная проф. Atlet d=4,0 мм IMP-A72', 'Сетка для пляжного волейбола ПрофСетка нить 2,5 мм 1,00 м х 8,50 м, черный 6025-03', 'Сетка волейбольная Atlet тренировочная d=3,0 мм IMP-A490', 'Сетка волейбольная Atlet стандартная d=2,6 мм IMP-A73', 'Сетка волейбольная 3,5мм FS-V-№1 любительская, нить из ПП, верхняя лента из ПП, без троса, белая', 'Сетка волейбольная тренировочная, шт. нить 2.8мм Гимнаст 1.30', 'Сетка волейбольная, 9.7х1 м., нить РЕ 1.8 мм, трос сталь Atemi T4001N-BK', 'Сетка волейбольная массовая, шт. нить 2.2мм Гимнаст 1.35', 'Сетка волейбольная 1,8мм с тросом Start Up 0611 черный', 'Сетка волейбольная профессиональная 4мм, шт. Гимнаст 1.20', 'Сетка для пляжного волейбола Atlet IMP-A253', 'Сетка волейбольная соревновательная, шт. нить 4мм Гимнаст 1.25', 'Сетка волейбольная профессиональная 9.5х1м, нить3,5мм ПП, яч.10см FS-V-№7 белая', 'Сетка для пляжного волейбола трен. 8,5х1м,нить 3,5мм ПП,яч.10см FS-PV-№16', 'Сетка волейбольная Старт d2,2 мм Atlet IMP-A420', 'Сетка волейбольная 1,2мм Start Up 4-007 черный', 'Сетка волейбольная FS№0, 9,5х1 м, нить 3,5 мм, (ПП), яч. 10 см., нейлон. шнур, без верх. ленты, без троса', 'Сетка волейбольная профессиональная 9.5х1м, нить3,5мм ПП, яч.10см FS-V-№8 черная', 'Сетка для пляжного волейбола проф. Kv.REZAC 15095029011, нить 3 мм ПП', 'Сетка воллейбольная профессиональная Kv.Rezac 8,5х1м 15095029004', 'Сетка волейбольная проф. Atlet d=4,0 мм IMP-A72', 'Сетка для пляжного волейбола ПрофСетка нить 2,5 мм 1,00 м х 8,50 м, черный 6025-03', 'Сетка волейбольная Atlet тренировочная d=3,0 мм IMP-A490', 'Сетка волейбольная Atlet стандартная d=2,6 мм IMP-A73', 'Сетка волейбольная 3,5мм FS-V-№1 любительская, нить из ПП, верхняя лента из ПП, без троса, белая', 'Сетка волейбольная тренировочная, шт. нить 2.8мм Гимнаст 1.30', 'Сетка волейбольная, 9.7х1 м., нить РЕ 1.8 мм, трос сталь Atemi T4001N-BK', 'Сетка волейбольная массовая, шт. нить 2.2мм Гимнаст 1.35', 'Сетка волейбольная 1,8мм с тросом Start Up 0611 черный', 'Сетка волейбольная профессиональная 4мм, шт. Гимнаст 1.20', 'Сетка для пляжного волейбола Atlet IMP-A253', 'Сетка волейбольная соревновательная, шт. нить 4мм Гимнаст 1.25', 'Сетка волейбольная профессиональная 9.5х1м, нить3,5мм ПП, яч.10см FS-V-№7 белая', 'Сетка для пляжного волейбола трен. 8,5х1м,нить 3,5мм ПП,яч.10см FS-PV-№16', 'Сетка волейбольная Старт d2,2 мм Atlet IMP-A420', 'Сетка волейбольная 1,2мм Start Up 4-007 черный', 'Сетка волейбольная FS№0, 9,5х1 м, нить 3,5 мм, (ПП), яч. 10 см., нейлон. шнур, без верх. ленты, без троса', 'Сетка волейбольная профессиональная 9.5х1м, нить3,5мм ПП, яч.10см FS-V-№8 черная', 'Сетка для пляжного волейбола проф. Kv.REZAC 15095029011, нить 3 мм ПП', 'Сетка воллейбольная профессиональная Kv.Rezac 8,5х1м 15095029004', 'Сетка волейбольная проф. Atlet d=4,0 мм IMP-A72', 'Сетка для пляжного волейбола ПрофСетка нить 2,5 мм 1,00 м х 8,50 м, черный 6025-03', 'Сетка волейбольная Atlet тренировочная d=3,0 мм IMP-A490', 'Сетка волейбольная Atlet стандартная d=2,6 мм IMP-A73', 'Сетка волейбольная 3,5мм FS-V-№1 любительская, нить из ПП, верхняя лента из ПП, без троса, белая', 'Сетка волейбольная тренировочная, шт. нить 2.8мм Гимнаст 1.30', 'Сетка волейбольная, 9.7х1 м., нить РЕ 1.8 мм, трос сталь Atemi T4001N-BK', 'Сетка волейбольная массовая, шт. нить 2.2мм Гимнаст 1.35', 'Сетка волейбольная 1,8мм с тросом Start Up 0611 черный', 'Сетка волейбольная профессиональная 4мм, шт. Гимнаст 1.20', 'Сетка для пляжного волейбола Atlet IMP-A253', 'Сетка волейбольная соревновательная, шт. нить 4мм Гимнаст 1.25', 'Сетка волейбольная профессиональная 9.5х1м, нить3,5мм ПП, яч.10см FS-V-№7 белая', 'Сетка для пляжного волейбола трен. 8,5х1м,нить 3,5мм ПП,яч.10см FS-PV-№16', 'Сетка волейбольная Старт d2,2 мм Atlet IMP-A420', 'Сетка волейбольная 1,2мм Start Up 4-007 черный', 'Сетка волейбольная FS№0, 9,5х1 м, нить 3,5 мм, (ПП), яч. 10 см., нейлон. шнур, без верх. ленты, без троса', 'Сетка волейбольная профессиональная 9.5х1м, нить3,5мм ПП, яч.10см FS-V-№8 черная', 'Сетка для пляжного волейбола проф. Kv.REZAC 15095029011, нить 3 мм ПП']\n",
            "['23 832', '9 208', '3 630', '6 961', '4 400', '6 518', '5 594', '5 272', '2 586', '2 886', '12 172', '9 208', '10 396', '20 966', '17 884', '2 035', '1 843', '4 313', '23 151', '32 646', '23 832', '9 208', '3 630', '6 961', '4 400', '6 518', '5 594', '5 272', '2 586', '2 886', '12 172', '9 208', '10 396', '20 966', '17 884', '2 035', '1 843', '4 313', '23 151', '32 646', '23 832', '9 208', '3 630', '6 961', '4 400', '6 518', '5 594', '5 272', '2 586', '2 886', '12 172', '9 208', '10 396', '20 966', '17 884', '2 035', '1 843', '4 313', '23 151', '32 646', '23 832', '9 208', '3 630', '6 961', '4 400', '6 518', '5 594', '5 272', '2 586', '2 886', '12 172', '9 208', '10 396', '20 966', '17 884', '2 035', '1 843', '4 313', '23 151', '32 646', '23 832', '9 208', '3 630', '6 961', '4 400', '6 518', '5 594', '5 272', '2 586', '2 886', '12 172', '9 208', '10 396', '20 966', '17 884', '2 035', '1 843', '4 313', '23 151', '32 646']\n",
            "100\n",
            "100\n",
            "100\n"
          ]
        }
      ]
    },
    {
      "cell_type": "code",
      "source": [
        "import pandas as pd\n",
        "\n",
        "grid_data = {'Ссылка': grid_links, 'Название': grid_names, 'Цена': grid_price}\n",
        "df = pd.DataFrame(grid_data)\n",
        "\n",
        "print(df)"
      ],
      "metadata": {
        "colab": {
          "base_uri": "https://localhost:8080/"
        },
        "id": "quw0ybM6K4FU",
        "outputId": "ad4014f2-273b-450b-cd43-48f7f4dde924"
      },
      "execution_count": 59,
      "outputs": [
        {
          "output_type": "stream",
          "name": "stdout",
          "text": [
            "                                               Ссылка  \\\n",
            "0   https://domsporta.com//goods/setka_volleybolna...   \n",
            "1   https://domsporta.com//goods/setka_voleybolnay...   \n",
            "2   https://domsporta.com//goods/setka_dlya_plyazh...   \n",
            "3   https://domsporta.com//goods/setka_voleybolnay...   \n",
            "4   https://domsporta.com//goods/setka_voleybolnay...   \n",
            "..                                                ...   \n",
            "95  https://domsporta.com//goods/setka_voleybolnay...   \n",
            "96  https://domsporta.com//goods/setka_voleybolnay...   \n",
            "97  https://domsporta.com//goods/setka_voleybolnay...   \n",
            "98  https://domsporta.com//goods/setka_voleybolnay...   \n",
            "99  https://domsporta.com//goods/setka_dlya_plyazh...   \n",
            "\n",
            "                                             Название    Цена  \n",
            "0   Сетка воллейбольная профессиональная Kv.Rezac ...  23 832  \n",
            "1     Сетка волейбольная проф. Atlet d=4,0 мм IMP-A72   9 208  \n",
            "2   Сетка для пляжного волейбола ПрофСетка нить 2,...   3 630  \n",
            "3   Сетка волейбольная Atlet тренировочная d=3,0 м...   6 961  \n",
            "4   Сетка волейбольная Atlet стандартная d=2,6 мм ...   4 400  \n",
            "..                                                ...     ...  \n",
            "95    Сетка волейбольная Старт d2,2 мм Atlet IMP-A420   2 035  \n",
            "96     Сетка волейбольная 1,2мм Start Up 4-007 черный   1 843  \n",
            "97  Сетка волейбольная FS№0, 9,5х1 м, нить 3,5 мм,...   4 313  \n",
            "98  Сетка волейбольная профессиональная 9.5х1м, ни...  23 151  \n",
            "99  Сетка для пляжного волейбола проф. Kv.REZAC 15...  32 646  \n",
            "\n",
            "[100 rows x 3 columns]\n"
          ]
        }
      ]
    },
    {
      "cell_type": "code",
      "source": [
        "balls_links = []\n",
        "balls_names = []\n",
        "balls_price = []\n",
        "\n",
        "\n",
        "for j in range(1, 8):\n",
        "  url = 'https://delta-fitness.ru/products?keyword=%D0%B2%D0%BE%D0%BB%D0%B5%D0%B9%D0%B1%D0%BE%D0%BB%D1%8C%D0%BD%D1%8B%D0%B9+%D0%BC%D1%8F%D1%87&page=' + str(j)\n",
        "  response = requests.get(url)\n",
        "  encoding = chardet.detect(response.content)['encoding']  # Определяем кодировку\n",
        "  html = response.content.decode(encoding)  # Декодируем с правильной кодировкой\n",
        "  soup = BeautifulSoup(html, 'lxml')\n",
        "\n",
        "  html_balls = soup.find_all('div', {'class': 'b-col--lg-12 b-col--md-12 b-col--sm-12 b-col--xs-7'})\n",
        "\n",
        "  for i in html_balls:\n",
        "    new_soup = BeautifulSoup(str(i), 'lxml')\n",
        "    s = new_soup.find_all('a')\n",
        "    k = new_soup.find_all('b', {'class': 'b-products-item__price'})\n",
        "    balls_links.append('https://delta-fitness.ru/' + str(s[0]['href']))\n",
        "    balls_names.append(s[0].text)\n",
        "    balls_price.append(str(k[0].text)[:-7])\n",
        "\n",
        "\n",
        "print(balls_links)\n",
        "print(balls_names)\n",
        "print(balls_price)\n",
        "\n",
        "print(len(balls_links))\n",
        "print(len(balls_names))\n",
        "print(len(balls_price))\n"
      ],
      "metadata": {
        "colab": {
          "base_uri": "https://localhost:8080/"
        },
        "id": "v2gUtpOAKVPo",
        "outputId": "fa43ac20-453b-4947-c17f-ee894e00d016"
      },
      "execution_count": 60,
      "outputs": [
        {
          "output_type": "stream",
          "name": "stdout",
          "text": [
            "['https://delta-fitness.ru/products/myach-voleybolnyy-torres-dig-art-v22145-r5-sinteticheskaya-kozha-tpe-kleenyy-butilovaya-kamera--gorchichno-biryuzovo-bezhevyy', 'https://delta-fitness.ru/products/myach-voleybolnyy-torres-hit-artv32055-r5-sinteticheskaya-kozha-pu-kleenyy-butilovaya-kamera--belo-krasno-multkolor', 'https://delta-fitness.ru/products/myach-voleybolnyy-mikasa-v430w--r4-ves-195-225g-sinteticheskaya-kozha-pu-18-pan-mashinnaya-sshivka--butilovaya-kamera--zhelto-siniy', 'https://delta-fitness.ru/products/myach-voleybolnyy-torres-bm850-artv32025-r5-sint-kozha-pu-kleenyy-but-kam-bel-sin-kras', 'https://delta-fitness.ru/products/myach-volejbolnyj-minsa-pvh-mashinnaya-sshivka-18-panelej-r-5', 'https://delta-fitness.ru/products/myach-voleybolnyy-torres-set-artv32045-r5-sinteticheskaya-kozha-tpu-kleenyy-butilovaya-kamera--belo-oranzh-sero-goluboy', 'https://delta-fitness.ru/products/myach-voleybolnyy-torres-resist-artv321305-r5-sint-kozha-pu-gibrid-butilovaya-kamera-zhelto-krasno-chernyy', 'https://delta-fitness.ru/products/myach-volejbolnyj-onlitop-koshechka-razmer-2', 'https://delta-fitness.ru/products/myach-voleybolnyy-junior-lite-jgel-tsb-00002647', 'https://delta-fitness.ru/products/myach-voleybolnyy-mikasa-v300w--r5-fivb-appr-18-pan-sinteticheskaya-kozha-mikrofib-kleenyy-butilovaya-kamera--zhelto-siniy', 'https://delta-fitness.ru/products/myach-volejbolnyj-rossiya-pvh-mashinnaya-sshivka-18-panelej-razmer-5-270-g', 'https://delta-fitness.ru/products/myach-voleybolnyy-wilson-optx-avp-vb-replica-art-wth01020x-razmer-5-it21n', 'https://delta-fitness.ru/products/myach-voleybolnyy-torres-save-artv321505-r5-sinteticheskaya-kozha-pu-gibrid-butilovaya-kamera-belo-zeleno-zhelnyy', 'https://delta-fitness.ru/products/myach-voleybolnyy-street-volley', 'https://delta-fitness.ru/products/myach-voleybolnyy-jv-100-belyy-jgel-ut-00019885', 'https://delta-fitness.ru/products/myach-voleybolnyy-jv-100-siniyzheltyy-jgel-ut-00019883', 'https://delta-fitness.ru/products/myach-voleybolnyy-torres-bm850-v42325-razmer-5', 'https://delta-fitness.ru/products/myach-voleybolnyy-torres-simple-orange-v323125-razmer-5-nila9', 'https://delta-fitness.ru/products/myach-voleybolnyy-mikasa-v200w--r5-ofmyach-fivb-fivb-appr-sinteticheskaya-kozha-mikrofib-18pan-kleenyy-zhelt-sin', 'https://delta-fitness.ru/products/myach-voleybolnyy-torres-bm400-v42315-razmer-5', 'https://delta-fitness.ru/products/myach-voleybolnyy-torres-grip-y-artv32185-r5-sinteticheskaya-kozha-tpu-mashinnaya-sshivka-butilovaya-kamera-zhelto-siniy', 'https://delta-fitness.ru/products/myach-voleybolnyy-torres-dig-v22345-razmer-5', 'https://delta-fitness.ru/products/myach-voleybolnyy-torres-hit-v32355-razmer-5', 'https://delta-fitness.ru/products/myach-voleybolnyy-torres-set-v32345-razmer-5', 'https://delta-fitness.ru/products/myach-voleybolnyy-torres-simple-artv32105-r5-sinteticheskaya-kozha-tpu-mash-sshivka-but-kamera-belo-chernyy', 'https://delta-fitness.ru/products/myach-voleybolnyy-torres-bm1200-v42335-razmer-5', 'https://delta-fitness.ru/products/myach-voleybolnyy-mikasa-vs170w-y-bl--r5-ves-160-180-g-fivb-inspsintpena-tpe-kleen18-panbutilovaya-kamera-zhel', 'https://delta-fitness.ru/products/myach-voleybolnyy-mikasa-v345w--r5-ves-195-225g-sinteticheskaya-kozha-pu-18-pan-mashinnaya-sshivka--butilovaya-kamera--zhelto-siniy', 'https://delta-fitness.ru/products/myach-voleybolnyy-jv-500-jgel-tsb-00002650', 'https://delta-fitness.ru/products/myach-voleybolnyy-jv-500-jgel-ut-00019094', 'https://delta-fitness.ru/products/myach-voleybolnyy-mikasa-v330w--r5-sinteticheskaya-kozha-pu-18-pan-of-param-fivbkleenyy-butilovaya-kamera--zhelto-siniy', 'https://delta-fitness.ru/products/myach-voleybolnyy-torres-save-v321505-razmer-5', 'https://delta-fitness.ru/products/myach-voleybolnyy-jv-400-jgel-tsb-00002649', 'https://delta-fitness.ru/products/myach-voleybolnyy-penalty-bola-volei-80-pro-fivb-tested-art-5415822400-u-dozeh', 'https://delta-fitness.ru/products/myach-voleybolnyy-jv-600-jgel-tsb-00002652', 'https://delta-fitness.ru/products/e43276-myach-voleybolnyy-molten-flista-tec-5000-replica-belokrasnozelenyy', 'https://delta-fitness.ru/products/e43275-myach-voleybolnyy-molten-flista-tec-5000-replica-belokrasnozelenyy', 'https://delta-fitness.ru/products/e43273-myach-voleybolnyy-molten-ev-5000-replica-belosiniy-sporteks', 'https://delta-fitness.ru/products/e40796-4-myach-voleybolnyy-5-sporteks', 'https://delta-fitness.ru/products/e40006-4-myach-voleybolnyy-oranzhevosalatrozovyy--pu-27-235-gr-mashinnaya-sshivka-sporteks', 'https://delta-fitness.ru/products/e40006-3-myach-voleybolnyy-rozovosalatgoluboy--pu-27-235-gr-mashinnaya-sshivka-sporteks', 'https://delta-fitness.ru/products/e40006-2-myach-voleybolnyy-zelenosalatgoluboy--pu-27-235-gr-mashinnaya-sshivka-sporteks', 'https://delta-fitness.ru/products/e40006-1-myach-voleybolnyy-belosinekrasnyy--pu-27-235-gr-mashinnaya-sshivka-sporteks', 'https://delta-fitness.ru/products/e40796-3-myach-voleybolnyy-5-sporteks', 'https://delta-fitness.ru/products/e40796-2-myach-voleybolnyy-5-sporteks', 'https://delta-fitness.ru/products/e40796-1-myach-voleybolnyy-5-sporteks', 'https://delta-fitness.ru/products/r18035-4-myach-voleybolnyy-meik-503-pu-25-285-gr-mashinnaya-sshivka-sporteks', 'https://delta-fitness.ru/products/r18035-3-myach-voleybolnyy-meik-503-pu-25-285-gr-mashinnaya-sshivka-sporteks', 'https://delta-fitness.ru/products/r18035-2-myach-voleybolnyy-meik-503-pu-25-285-gr-mashinnaya-sshivka-sporteks', 'https://delta-fitness.ru/products/r18038-myach-voleybolnyy-meik-2811-pu-25-270-gr-mashinnaya-sshivka-sporteks', 'https://delta-fitness.ru/products/e40006-myach-voleybolnyy-belosinezheltyy--pu-27-260-gr-mashinnaya-sshivka-sporteks', 'https://delta-fitness.ru/products/e40005-myach-voleybolnyy-detskiy-2-rozovozelenooranzhevyy--pu-27-150-gr-mashinnaya-sshivka-sporteks', 'https://delta-fitness.ru/products/e40004-myach-voleybolnyy-detskiy-2-oranzhevosinezheltyy--pu-27-150-gr-mashinnaya-sshivka-sporteks', 'https://delta-fitness.ru/products/e39981-myach-voleybolnyy-belosinezelenyy--pu-27-300-gr-mashinnaya-sshivka-sporteks', 'https://delta-fitness.ru/products/e33542-2-myach-voleybolnyy-salatovyy--pvc-27-280-gr-mashinnaya-sshivka-sporteks', 'https://delta-fitness.ru/products/e33542-1-myach-voleybolnyy-siniy--pvc-27-280-gr-mashinnaya-sshivka-sporteks', 'https://delta-fitness.ru/products/t07522-myach-voleybolnyy-pu-25-270-gr-mashinnaya-sshivka-sporteks', 'https://delta-fitness.ru/products/t07523-myach-voleybolnyy-pu-25-270-gr-mashinnaya-sshivka-sporteks', 'https://delta-fitness.ru/products/c28683-4-myach-voleybolnyy-meik-qs-v519-oranzhevyy--tpu-25-270-gr-mashinnaya-sshivka-sporteks', 'https://delta-fitness.ru/products/c28683-3-myach-voleybolnyy-meik-qs-v519-zelenyy--tpu-25-270-gr-mashinnaya-sshivka-sporteks', 'https://delta-fitness.ru/products/c28683-2-myach-voleybolnyy-meik-qs-v519-krasnyy--tpu-25-270-gr-mashinnaya-sshivka-sporteks', 'https://delta-fitness.ru/products/r18041-myach-voleybolnyy-meik-200-8-paneley-pu-27-280-gr-kleenyy-sporteks', 'https://delta-fitness.ru/products/r18036-myach-voleybolnyy-meik-503-pu-25-270-gr-mashinnaya-sshivka-sporteks', 'https://delta-fitness.ru/products/r18035-myach-voleybolnyy-meik-503-pu-25-270-gr-mashinnaya-sshivka-sporteks', 'https://delta-fitness.ru/products/e33479-myach-voleybolnyy-serogoluboy--pvkh-25-260-gr-sporteks', 'https://delta-fitness.ru/products/e33478-myach-voleybolnyy-sinekrasnyy--pvkh-25-260-gr-sporteks', 'https://delta-fitness.ru/products/e33489-2-myach-voleybolnyy-krasnyysiniy--pvc-27-290-gr-mashinnaya-sshivka-sporteks', 'https://delta-fitness.ru/products/e33493-myach-voleybolnyy-myagkiy-oranzhevyy--litoy-pu-270-gr-polnotelyy-sporteks', 'https://delta-fitness.ru/products/e33543-2-myach-voleybolnyy-zelenyy--pvc-27-280-gr-mashinnaya-sshivka-sporteks', 'https://delta-fitness.ru/products/e33543-1-myach-voleybolnyy-goluboy--pvc-27-280-gr-mashinnaya-sshivka-sporteks', 'https://delta-fitness.ru/products/e33542-4-myach-voleybolnyy-rozovyy--pvc-27-280-gr-mashinnaya-sshivka-sporteks', 'https://delta-fitness.ru/products/e33541-4-myach-voleybolnyy-chernyy--pvc-25-250-gr-mashinnaya-sshivka-sporteks', 'https://delta-fitness.ru/products/e33541-3-myach-voleybolnyy-krasnyy--pvc-25-250-gr-mashinnaya-sshivka-sporteks', 'https://delta-fitness.ru/products/myach-voleybolnyy-penalty-bola-volei-60-pro-art5416042420-u-r5-mikrofibra-termosshivka-zhelt-fiol', 'https://delta-fitness.ru/products/myach-voleybolnyy-jv-100-jgel-tsb-00002644', 'https://delta-fitness.ru/products/myach-voleybolnyy-mikasa-vs170w-y-g-razmer-5', 'https://delta-fitness.ru/products/myach-dlya-plyazhnogo-voleybola-mikasa-bv550c-razmer-5-fivb-approved-npm4f', 'https://delta-fitness.ru/products/voleybolnyy-myach-00908', 'https://delta-fitness.ru/products/voleybolnyy-myach-00907', 'https://delta-fitness.ru/products/voleybolnyy-myach-00903', 'https://delta-fitness.ru/products/voleybolnyy-myach-sprinter-vs5002', 'https://delta-fitness.ru/products/voleybolnyy-myach-sprinter-vs3001', 'https://delta-fitness.ru/products/voleybolnyy-myach-sprinter-vs3002', 'https://delta-fitness.ru/products/voleybolnyy-myach-sprinter-vs1003', 'https://delta-fitness.ru/products/voleybolnyy-myach-sprinter-vs5001', 'https://delta-fitness.ru/products/voleybolnyy-myach-sprinter-vs6006', 'https://delta-fitness.ru/products/myach-voleybolnyy-molten-v5m2000-razmer-5-sinteticheskaya-kozha-tpu-zvtcj', 'https://delta-fitness.ru/products/myach-voleybolnyy-utyazh-mikasa-vt370w--r-5-18-paneley-sinteticheskaya-kozha--ves-370g-kleenyy-sine-zheltyy', 'https://delta-fitness.ru/products/myach-voleybolnyy-kelme-art-8203qu5017-162-razmer-5-18-paneley-f63y4', 'https://delta-fitness.ru/products/myach-voleybolnyy-utyazh-mikasa-vt500w--r-5-sinteticheskaya-kozha--ves-500g-kleenyy-sine-zheltyy', 'https://delta-fitness.ru/products/myach-voleybolnyy-indoor-game-jgel-ut-00018100', 'https://delta-fitness.ru/products/myach-voleybolnyy-suvenirnyy-mikasa-v15w-razmer-1', 'https://delta-fitness.ru/products/myach-voleybolnyy-larsen-vb-ece-5000b', 'https://delta-fitness.ru/products/myach-voleybolnyy-larsen-vb-ece-5000g', 'https://delta-fitness.ru/products/myach-voleybolnyy-larsen-vb-ece-5000y', 'https://delta-fitness.ru/products/myach-voleybolnyy-plyazhnyy-larsen-softset-green', 'https://delta-fitness.ru/products/myach-voleybolnyy-plyazhnyy-larsen-softset-blue', 'https://delta-fitness.ru/products/myach-voleybolnyy-plyazhnyy-larsen-beachfun', 'https://delta-fitness.ru/products/myach-voleybolnyy-plyazhnyy-larsen-beach-volleyball-rainbow', 'https://delta-fitness.ru/products/myach-voleybolnyy-plyazhnyy-larsen-beach-volleyball-lime', 'https://delta-fitness.ru/products/myach-voleybolnyy-plyazhnyy-larsen-beach-volleyball-green', 'https://delta-fitness.ru/products/myach-voleybolnyy-plyazhnyy-larsen-beach-volleyball-blue', 'https://delta-fitness.ru/products/myach-voleybolnyy-dlya-otdykha-start-up-e5111-nc-r5', 'https://delta-fitness.ru/products/myach-voleybolnyy-larsen-beach-volleyball-pinkblue', 'https://delta-fitness.ru/products/myach-voleybolnyy-larsen-beach-volleyball-blackpink', 'https://delta-fitness.ru/products/myach-voleybolnyy-molten-v5m1500-razmer-5-18-paneley-pvkh-mashinnaya-sshivka-d9yrp', 'https://delta-fitness.ru/products/myach-voleybolnyy-kelme-art-8203qu5017-143-razmer-5-18-paneley-ihuzw', 'https://delta-fitness.ru/products/e39982-myach-voleybolnyy-belosineoranzhevyy--pu-27-300-gr-mashinnaya-sshivka-sporteks', 'https://delta-fitness.ru/products/r18039-3-myach-voleybolnyy-meik-2898-zelenyy-pu-25-270-gr-mashinnaya-sshivka-sporteks', 'https://delta-fitness.ru/products/myach-voleybolnyy-molten-v5m4000-r-5-sintk-pu-kleen-belo-krasno-zelenyy', 'https://delta-fitness.ru/products/myach-voleybolnyy-wilson-avp-oasis-wv4006701xbof-razmer-5-18-paneley-u1eo7', 'https://delta-fitness.ru/products/myach-voleybolnyy-plyazhnyy-larsen-pro-tour', 'https://delta-fitness.ru/products/myach-voleybolnyy-plyazhnyy-larsen-beach-volleyball-bird', 'https://delta-fitness.ru/products/e40003-myach-voleybolnyy-belosinezheltyy--pvc-27-265-gr-mashinnaya-sshivka-sporteks', 'https://delta-fitness.ru/products/myach-voleybolnyy-kelme-art9806140-141-r-5-18-pan-sinteticheskaya-kozha-pu-kleenyy-belo-zhelto-siniy', 'https://delta-fitness.ru/products/myach-voleybolnyy-torres-simple-color-v323115-razmer-5-wvgja', 'https://delta-fitness.ru/products/myach-voleybolnyy-na-rastyazhkakh-mikasa-v300w-at-tr--r5-sinteticheskaya-kozha-mikrofibra-kleenyybutilovaya-kamera-zhel-sin', 'https://delta-fitness.ru/products/e33541-2-myach-voleybolnyy-salatovyy--pvc-25-250-gr-mashinnaya-sshivka-sporteks', 'https://delta-fitness.ru/products/myach-voleybolnyy-plyazhnyy-larsen-gold-star', 'https://delta-fitness.ru/products/e39980-myach-voleybolnyy-belokrasnochernyy--pu-27-300-gr-mashinnaya-sshivka-sporteks', 'https://delta-fitness.ru/products/myach-voleybolnyy-kelme-art-8203qu5017-613-razmer-5-18-paneley-vzhf6', 'https://delta-fitness.ru/products/e40796-5-myach-voleybolnyy-5-sporteks', 'https://delta-fitness.ru/products/e43272-myach-voleybolnyy-molten-flista-tec-5000-replica-belorozovyyfiolet', 'https://delta-fitness.ru/products/myach-voleybolnyy-larsen-top', 'https://delta-fitness.ru/products/r18039-2-myach-voleybolnyy-meik-2898-siniy-pu-25-270-gr-mashinnaya-sshivka-sporteks', 'https://delta-fitness.ru/products/myach-voleybolnyy-molten-v5m5000-r-5-fivb-appr-sintk-pu-microfiber-kleen-bel-kr-zel']\n",
            "['Мяч волейбольный TORRES DIG V22145, размер 5', 'Мяч волейбольный TORRES Hit V32055, размер 5', 'Мяч волейбольный MIKASA V430W, размер 4, вес 195-225г, синтетическая кожа (ПУ), 18 панелей, клееный, бутиловая камера, желтый-синий', 'Мяч волейбольный TORRES BM850 V32025, размер 5', 'Мяч волейбольный MINSA, ПВХ, машинная сшивка, 18 панелей, р. 5', 'Мяч волейбольный TORRES Set V32045, размер 5', 'Мяч волейбольный TORRES Resist V321305 размер 5', 'Мяч волейбольный Onlitop Кошечка (размер 2)', 'Мяч волейбольный Junior Lite, Jögel ЦБ-00002647', 'Мяч волейбольный Mikasa V300W размер 5', 'Мяч волейбольный «Россия», ПВХ, машинная сшивка, 18 панелей, размер 5, 270 г', 'Мяч волейбольный WILSON OPTX AVP VB REPLICA, WTH01020X, размер 5, желто-черный', 'Мяч волейбольный TORRES Save V321505 размер 5', 'Мяч волейбольный City Volley, Jögel', 'Мяч волейбольный JV-100, белый, Jögel УТ-00019885', 'Мяч волейбольный JV-100, синий/желтый, Jögel УТ-00019883', 'Мяч волейбольный TORRES BM850 V42325, размер 5', 'Мяч волейбольный TORRES Simple Orange V323125, размер 5', 'Мяч волейбольный Mikasa V200W размер 5', 'Мяч волейбольный TORRES BM400 V42315, размер 5', 'Мяч волейбольный TORRES Grip Y V32185 размер 5', 'Мяч волейбольный TORRES DIG V22345, размер 5', 'Мяч волейбольный TORRES Hit V32355, размер 5', 'Мяч волейбольный TORRES Set V32345, размер 5', 'Мяч волейбольный TORRES Simple V32105, размер 5', 'Мяч волейбольный TORRES BM1200 V42335, размер 5', 'Мяч волейбольный Mikasa VS170W-Y-BL, размер 5', 'Мяч волейбольный Mikasa V345W размер 5', 'Мяч волейбольный JV-500, Jögel ЦБ-00002650', 'Мяч волейбольный JV-500, Jögel УТ-00019094', 'Мяч волейбольный Mikasa V330W размер 5', 'Мяч волейбольный TORRES Save V321505 размер 5', 'Мяч волейбольный JV-400, Jögel ЦБ-00002649', 'Мяч волейбольный PENALTY BOLA VOLEI 8.0 PRO FIVB TESTED', 'Мяч волейбольный JV-600, Jögel ЦБ-00002652', 'Мяч волейбольный Molten Flista Tec-5000 replica бело/красно/зеленый Дельта-фитнес E43276', 'Мяч волейбольный Molten Flista Tec-5000 replica бело/красно/зеленый Дельта-фитнес E43275', 'Мяч волейбольный Molten EV-5000 replica бело/синий Дельта-фитнес E43273', 'Мяч волейбольный №5 Дельта-фитнес E40796-4', 'Мяч волейбольный оранжево/салат/розовый , PU 2.7, 235 гр, машинная сшивка Дельта-фитнес E40006-4', 'Мяч волейбольный розово/салат/голубой , PU 2.7, 235 гр, машинная сшивка Дельта-фитнес E40006-3', 'Мяч волейбольный зелено/салат/голубой , PU 2.7, 235 гр, машинная сшивка Дельта-фитнес E40006-2', 'Мяч волейбольный бело/сине/красный , PU 2.7, 235 гр, машинная сшивка Дельта-фитнес E40006-1', 'Мяч волейбольный №5 Дельта-фитнес E40796-3', 'Мяч волейбольный №5 Дельта-фитнес E40796-2', 'Мяч волейбольный №5 Дельта-фитнес E40796-1', 'Мяч волейбольный Meik-503 PU 2.5, 285 гр, машинная сшивка Дельта-фитнес R18035-4', 'Мяч волейбольный Meik-503 PU 2.5, 285 гр, машинная сшивка Дельта-фитнес R18035-3', 'Мяч волейбольный Meik-503 PU 2.5, 285 гр, машинная сшивка Дельта-фитнес R18035-2', 'Мяч волейбольный Meik-ROM-2811 PU 2.5, 270 гр, машинная сшивка триколор Дельта-фитнес R18038', 'Мяч волейбольный бело/сине/желтый , PU 2.7, 260 гр, машинная сшивка Дельта-фитнес E40006', 'Мяч волейбольный Детский №2 розово/зелено/оранжевый , PU 2.7, 150 гр, машинная сшивка Дельта-фитнес E40005', 'Мяч волейбольный Детский №2 оранжево/сине/желтый , PU 2.7, 150 гр, машинная сшивка Дельта-фитнес E40004', 'Мяч волейбольный бело/сине/зеленый , PU 2.7, 300 гр, машинная сшивка Дельта-фитнес E39981', 'Мяч волейбольный салатовый , PVC 2.7, 280 гр, машинная сшивка Дельта-фитнес E33542-2', 'Мяч волейбольный синий , PVC 2.7, 280 гр, машинная сшивка Дельта-фитнес E33542-1', 'Мяч волейбольный, PU 2.5, 270 гр, машинная сшивка Дельта-фитнес T07522', 'Мяч волейбольный, PU 2.5, 270 гр, машинная сшивка Дельта-фитнес T07523', 'Мяч волейбольный Meik-QS-V519 оранжевый , TPU 2.5, 270 гр, машинная сшивка Дельта-фитнес C28683-4', 'Мяч волейбольный Meik-QS-V519 зеленый , TPU 2.5, 270 гр, машинная сшивка Дельта-фитнес C28683-3', 'Мяч волейбольный Meik-QS-V519 красный , TPU 2.5, 270 гр, машинная сшивка Дельта-фитнес C28683-2', 'Мяч волейбольный Meik-200 8-панелей, PU 2.7, 280 гр, клееный Дельта-фитнес R18041', 'Мяч волейбольный Meik-503 PU 2.5, 270 гр, машинная сшивка Дельта-фитнес R18036', 'Мяч волейбольный Meik-503 PU 2.5, 270 гр, машинная сшивка Дельта-фитнес R18035', 'Мяч волейбольный серо/голубой , ПВХ 2.5, 260 гр Дельта-фитнес E33479', 'Мяч волейбольный сине/красный , ПВХ 2.5, 260 гр Дельта-фитнес E33478', 'Мяч волейбольный красный/синий , PVC 2.7, 290 гр, машинная сшивка Дельта-фитнес E33489-2', 'Мяч волейбольный мягкий оранжевый , литой ПУ, 270 гр, полнотелый Дельта-фитнес E33493', 'Мяч волейбольный салатовый , PVC 2.7, 280 гр, машинная сшивка Дельта-фитнес E33543-2', 'Мяч волейбольный синий , PVC 2.7, 280 гр, машинная сшивка Дельта-фитнес E33543-1', 'Мяч волейбольный розовый , PVC 2.7, 280 гр, машинная сшивка Дельта-фитнес E33542-4', 'Мяч волейбольный черный , PVC 2.5, 250 гр, машинная сшивка Дельта-фитнес E33541-4', 'Мяч волейбольный красный , PVC 2.5, 250 гр, машинная сшивка Дельта-фитнес E33541-3', 'Мяч волейбольный PENALTY BOLA VOLEI 6.0 PRO 5416042420-U, размер 5, желто-фиолетовый', 'Мяч волейбольный JV-100, Jögel ЦБ-00002644', 'Мяч волейбольный Mikasa VS170W-Y-G, размер 5', 'Мяч волейбольный пляжный Mikasa BV550C, размер 5, FIVB Approved', 'Волейбольный мяч #00908', 'Волейбольный мяч #00907', 'Волейбольный мяч #00903', 'Волейбольный мяч SPRINTER VS5002', 'Волейбольный мяч SPRINTER VS3001', 'Волейбольный мяч SPRINTER VS3002', 'Волейбольный мяч SPRINTER VS1003', 'Волейбольный мяч SPRINTER VS5001', 'Волейбольный мяч SPRINTER VS6006', 'Мяч волейбольный MOLTEN V5M2000 размер 5', 'Мяч волейбольный утяжеленный Mikasa VT370W, размер 5', 'Мяч волейбольный KELME 8203QU5017-162, размер 5', 'Мяч волейбольный утяжеленный Mikasa VT500W, размер 5', 'Мяч волейбольный Indoor Game, Jögel УТ-00018100', 'Мяч волейбольный сувенирный Mikasa V1.5W, размер 1', 'Мяч волейбольный Larsen VB-ECE-5000B', 'Мяч волейбольный Larsen VB-ECE-5000G', 'Мяч волейбольный Larsen VB-ECE-5000Y', 'Мяч волейбольный пляжный Larsen Softset Green', 'Мяч волейбольный пляжный Larsen Softset Blue', 'Мяч волейбольный пляжный Larsen BeachFun', 'Мяч волейбольный пляжный Larsen Beach Volleyball Rainbow', 'Мяч волейбольный пляжный Larsen Beach Volleyball Lime', 'Мяч волейбольный пляжный Larsen Beach Volleyball Green', 'Мяч волейбольный пляжный Larsen Beach Volleyball Blue', 'Мяч волейбольный для отдыха Start Up E5111 N/C р5', 'Мяч волейбольный Larsen Beach Volleyball Pink/Blue', 'Мяч волейбольный Larsen Beach Volleyball Black/Pink', 'Мяч волейбольный Molten V5M1500 размер 5', 'Мяч волейбольный KELME 8203QU5017-143, размер 5', 'Мяч волейбольный бело/сине/оранжевый , PU 2.7, 300 гр, машинная сшивка Дельта-фитнес E39982', 'Мяч волейбольный Meik-2898 зеленый PU 2.5, 270 гр, машинная сшивка Дельта-фитнес R18039-3', 'Мяч волейбольный MOLTEN V5M4000X размер 5', 'Мяч волейбольный WILSON AVP Oasis WV4006701XBOF, размер 5', 'Мяч волейбольный пляжный Larsen Pro Tour', 'Мяч волейбольный пляжный Larsen Beach Volleyball Bird', 'Мяч волейбольный бело/сине/желтый , PVC 2.7, 265 гр, машинная сшивка Дельта-фитнес E40003', 'Мяч волейбольный KELME 9806140-141, размер 5', 'Мяч волейбольный TORRES Simple Color V323115, размер 5', 'Мяч волейбольный на растяжках Mikasa V300W-AT-TR, размер 5', 'Мяч волейбольный салатовый , PVC 2.5, 250 гр, машинная сшивка Дельта-фитнес E33541-2', 'Мяч волейбольный пляжный Larsen Gold Star', 'Мяч волейбольный бело/красно/черный , PU 2.7, 300 гр, машинная сшивка Дельта-фитнес E39980', 'Мяч волейбольный KELME 8203QU5017-613, размер 5', 'Мяч волейбольный №5 Дельта-фитнес E40796-5', 'Мяч волейбольный Molten Flista Tec-5000 replica бело/розовый/фиолет Дельта-фитнес E43272', 'Мяч волейбольный Larsen Top', 'Мяч волейбольный Meik-2898 синий PU 2.5, 270 гр, машинная сшивка Дельта-фитнес R18039-2', 'Мяч волейбольный MOLTEN V5M5000X размер 5, FIVB Approved']\n",
            "['2 008', '2 742', '4 995', '3 656', '990', '2 329', '2 495', '790', '1 599', '9 150', '699', '4 180', '2 450', '1 399', '1 399', '1 399', '3 656', '1 758', '10 708', '2 703', '1 758', '2 331', '3 182', '2 703', '1 758', '4 975', '3 335', '5 133', '2 399', '1 999', '6 524', '2 308', '1 899', '9 002', '2 699', '1 469', '1 469', '1 073', '594', '363', '363', '363', '363', '594', '594', '594', '644', '644', '767', '743', '658', '421', '421', '652', '413', '413', '635', '578', '850', '652', '850', '1 139', '594', '767', '602', '602', '644', '644', '470', '470', '413', '413', '413', '7 946', '1 499', '3 080', '10 397', '1 428', '1 428', '1 428', '1 153', '1 117', '1 117', '1 153', '1 153', '1 153', '3 294', '7 482', '1 888', '7 482', '1 399', '2 610', '1 699', '1 699', '1 699', '1 100', '1 100', '1 130', '665', '690', '690', '690', '464', '1 020', '1 020', '2 471', '1 888', '652', '792', '5 564', '2 501', '1 180', '690', '322', '2 854', '1 758', '11 977', '454', '1 180', '652', '1 625', '751', '1 486', '1 391', '840', '11 448']\n",
            "126\n",
            "126\n",
            "126\n"
          ]
        }
      ]
    },
    {
      "cell_type": "code",
      "source": [
        "import pandas as pd\n",
        "\n",
        "balls_data = {'Ссылка': balls_links, 'Название': balls_names, 'Цена': balls_price}\n",
        "df = pd.DataFrame(balls_data)\n",
        "\n",
        "print(df)"
      ],
      "metadata": {
        "colab": {
          "base_uri": "https://localhost:8080/"
        },
        "id": "27-FaDb6LKb_",
        "outputId": "9b1fde0b-bbc2-467f-8be4-1a84f8a15e18"
      },
      "execution_count": 61,
      "outputs": [
        {
          "output_type": "stream",
          "name": "stdout",
          "text": [
            "                                                Ссылка  \\\n",
            "0    https://delta-fitness.ru/products/myach-voleyb...   \n",
            "1    https://delta-fitness.ru/products/myach-voleyb...   \n",
            "2    https://delta-fitness.ru/products/myach-voleyb...   \n",
            "3    https://delta-fitness.ru/products/myach-voleyb...   \n",
            "4    https://delta-fitness.ru/products/myach-volejb...   \n",
            "..                                                 ...   \n",
            "121  https://delta-fitness.ru/products/e40796-5-mya...   \n",
            "122  https://delta-fitness.ru/products/e43272-myach...   \n",
            "123  https://delta-fitness.ru/products/myach-voleyb...   \n",
            "124  https://delta-fitness.ru/products/r18039-2-mya...   \n",
            "125  https://delta-fitness.ru/products/myach-voleyb...   \n",
            "\n",
            "                                              Название    Цена  \n",
            "0         Мяч волейбольный TORRES DIG V22145, размер 5   2 008  \n",
            "1         Мяч волейбольный TORRES Hit V32055, размер 5   2 742  \n",
            "2    Мяч волейбольный MIKASA V430W, размер 4, вес 1...   4 995  \n",
            "3       Мяч волейбольный TORRES BM850 V32025, размер 5   3 656  \n",
            "4    Мяч волейбольный MINSA, ПВХ, машинная сшивка, ...     990  \n",
            "..                                                 ...     ...  \n",
            "121         Мяч волейбольный №5 Дельта-фитнес E40796-5     751  \n",
            "122  Мяч волейбольный Molten Flista Tec-5000 replic...   1 486  \n",
            "123                        Мяч волейбольный Larsen Top   1 391  \n",
            "124  Мяч волейбольный Meik-2898 синий PU 2.5, 270 г...     840  \n",
            "125  Мяч волейбольный MOLTEN V5M5000X размер 5, FIV...  11 448  \n",
            "\n",
            "[126 rows x 3 columns]\n"
          ]
        }
      ]
    },
    {
      "cell_type": "code",
      "source": [
        "url = 'https://delta-fitness.ru/products?keyword=%D0%B2%D0%BE%D0%BB%D0%B5%D0%B9%D0%B1%D0%BE%D0%BB%D1%8C%D0%BD%D1%8B%D0%B9+%D0%BC%D1%8F%D1%87&page=3'\n",
        "response = requests.get(url)\n",
        "encoding = chardet.detect(response.content)['encoding']  # Определяем кодировку\n",
        "html = response.content.decode(encoding)  # Декодируем с правильной кодировкой\n",
        "soup = BeautifulSoup(html, 'lxml')\n",
        "\n",
        "html_balls1 = soup.find_all('div', {'class': 'b-col--lg-12 b-col--md-12 b-col--sm-12 b-col--xs-7'})\n",
        "\n",
        "balls1_links = []\n",
        "balls1_names = []\n",
        "balls1_price = []\n",
        "\n",
        "for i in html_balls1:\n",
        "  new_soup = BeautifulSoup(str(i), 'lxml')\n",
        "  s = new_soup.find_all('a')\n",
        "  k = new_soup.find_all('b', {'class': 'b-products-item__price'})\n",
        "  balls1_links.append('https://delta-fitness.ru/' + str(s[0]['href']))\n",
        "  balls1_names.append(s[0].text)\n",
        "  balls1_price.append(str(k[0].text)[:-7])\n",
        "\n",
        "\n",
        "print(balls1_links)\n",
        "print(balls1_names)\n",
        "print(balls1_price)\n",
        "print(len(balls1_links))\n",
        "print(len(balls1_names))\n",
        "print(len(balls1_price))"
      ],
      "metadata": {
        "colab": {
          "base_uri": "https://localhost:8080/"
        },
        "id": "-u9D8AuCKgLq",
        "outputId": "53ae885f-ad77-4c0b-ee6c-cb0770ff9b7c"
      },
      "execution_count": 62,
      "outputs": [
        {
          "output_type": "stream",
          "name": "stdout",
          "text": [
            "['https://delta-fitness.ru/products/e40006-3-myach-voleybolnyy-rozovosalatgoluboy--pu-27-235-gr-mashinnaya-sshivka-sporteks', 'https://delta-fitness.ru/products/e40006-2-myach-voleybolnyy-zelenosalatgoluboy--pu-27-235-gr-mashinnaya-sshivka-sporteks', 'https://delta-fitness.ru/products/e40006-1-myach-voleybolnyy-belosinekrasnyy--pu-27-235-gr-mashinnaya-sshivka-sporteks', 'https://delta-fitness.ru/products/e40796-3-myach-voleybolnyy-5-sporteks', 'https://delta-fitness.ru/products/e40796-2-myach-voleybolnyy-5-sporteks', 'https://delta-fitness.ru/products/e40796-1-myach-voleybolnyy-5-sporteks', 'https://delta-fitness.ru/products/r18035-4-myach-voleybolnyy-meik-503-pu-25-285-gr-mashinnaya-sshivka-sporteks', 'https://delta-fitness.ru/products/r18035-3-myach-voleybolnyy-meik-503-pu-25-285-gr-mashinnaya-sshivka-sporteks', 'https://delta-fitness.ru/products/r18035-2-myach-voleybolnyy-meik-503-pu-25-285-gr-mashinnaya-sshivka-sporteks', 'https://delta-fitness.ru/products/r18038-myach-voleybolnyy-meik-2811-pu-25-270-gr-mashinnaya-sshivka-sporteks', 'https://delta-fitness.ru/products/e40006-myach-voleybolnyy-belosinezheltyy--pu-27-260-gr-mashinnaya-sshivka-sporteks', 'https://delta-fitness.ru/products/e40005-myach-voleybolnyy-detskiy-2-rozovozelenooranzhevyy--pu-27-150-gr-mashinnaya-sshivka-sporteks', 'https://delta-fitness.ru/products/e40004-myach-voleybolnyy-detskiy-2-oranzhevosinezheltyy--pu-27-150-gr-mashinnaya-sshivka-sporteks', 'https://delta-fitness.ru/products/e39981-myach-voleybolnyy-belosinezelenyy--pu-27-300-gr-mashinnaya-sshivka-sporteks', 'https://delta-fitness.ru/products/e33542-2-myach-voleybolnyy-salatovyy--pvc-27-280-gr-mashinnaya-sshivka-sporteks', 'https://delta-fitness.ru/products/e33542-1-myach-voleybolnyy-siniy--pvc-27-280-gr-mashinnaya-sshivka-sporteks', 'https://delta-fitness.ru/products/t07522-myach-voleybolnyy-pu-25-270-gr-mashinnaya-sshivka-sporteks', 'https://delta-fitness.ru/products/t07523-myach-voleybolnyy-pu-25-270-gr-mashinnaya-sshivka-sporteks', 'https://delta-fitness.ru/products/c28683-4-myach-voleybolnyy-meik-qs-v519-oranzhevyy--tpu-25-270-gr-mashinnaya-sshivka-sporteks', 'https://delta-fitness.ru/products/c28683-3-myach-voleybolnyy-meik-qs-v519-zelenyy--tpu-25-270-gr-mashinnaya-sshivka-sporteks']\n",
            "['Мяч волейбольный розово/салат/голубой , PU 2.7, 235 гр, машинная сшивка Дельта-фитнес E40006-3', 'Мяч волейбольный зелено/салат/голубой , PU 2.7, 235 гр, машинная сшивка Дельта-фитнес E40006-2', 'Мяч волейбольный бело/сине/красный , PU 2.7, 235 гр, машинная сшивка Дельта-фитнес E40006-1', 'Мяч волейбольный №5 Дельта-фитнес E40796-3', 'Мяч волейбольный №5 Дельта-фитнес E40796-2', 'Мяч волейбольный №5 Дельта-фитнес E40796-1', 'Мяч волейбольный Meik-503 PU 2.5, 285 гр, машинная сшивка Дельта-фитнес R18035-4', 'Мяч волейбольный Meik-503 PU 2.5, 285 гр, машинная сшивка Дельта-фитнес R18035-3', 'Мяч волейбольный Meik-503 PU 2.5, 285 гр, машинная сшивка Дельта-фитнес R18035-2', 'Мяч волейбольный Meik-ROM-2811 PU 2.5, 270 гр, машинная сшивка триколор Дельта-фитнес R18038', 'Мяч волейбольный бело/сине/желтый , PU 2.7, 260 гр, машинная сшивка Дельта-фитнес E40006', 'Мяч волейбольный Детский №2 розово/зелено/оранжевый , PU 2.7, 150 гр, машинная сшивка Дельта-фитнес E40005', 'Мяч волейбольный Детский №2 оранжево/сине/желтый , PU 2.7, 150 гр, машинная сшивка Дельта-фитнес E40004', 'Мяч волейбольный бело/сине/зеленый , PU 2.7, 300 гр, машинная сшивка Дельта-фитнес E39981', 'Мяч волейбольный салатовый , PVC 2.7, 280 гр, машинная сшивка Дельта-фитнес E33542-2', 'Мяч волейбольный синий , PVC 2.7, 280 гр, машинная сшивка Дельта-фитнес E33542-1', 'Мяч волейбольный, PU 2.5, 270 гр, машинная сшивка Дельта-фитнес T07522', 'Мяч волейбольный, PU 2.5, 270 гр, машинная сшивка Дельта-фитнес T07523', 'Мяч волейбольный Meik-QS-V519 оранжевый , TPU 2.5, 270 гр, машинная сшивка Дельта-фитнес C28683-4', 'Мяч волейбольный Meik-QS-V519 зеленый , TPU 2.5, 270 гр, машинная сшивка Дельта-фитнес C28683-3']\n",
            "['363', '363', '363', '594', '594', '594', '644', '644', '767', '743', '658', '421', '421', '652', '413', '413', '635', '578', '850', '652']\n",
            "20\n",
            "20\n",
            "20\n"
          ]
        }
      ]
    },
    {
      "cell_type": "code",
      "source": [
        "import pandas as pd\n",
        "\n",
        "balls1_data = {'Ссылка': balls1_links, 'Название': balls1_names, 'Цена': balls1_price}\n",
        "df = pd.DataFrame(balls1_data)\n",
        "\n",
        "print(df)"
      ],
      "metadata": {
        "colab": {
          "base_uri": "https://localhost:8080/"
        },
        "id": "V9a82-1bL40V",
        "outputId": "4618e3ff-2c36-4322-a8cf-d188de007f64"
      },
      "execution_count": 63,
      "outputs": [
        {
          "output_type": "stream",
          "name": "stdout",
          "text": [
            "                                               Ссылка  \\\n",
            "0   https://delta-fitness.ru/products/e40006-3-mya...   \n",
            "1   https://delta-fitness.ru/products/e40006-2-mya...   \n",
            "2   https://delta-fitness.ru/products/e40006-1-mya...   \n",
            "3   https://delta-fitness.ru/products/e40796-3-mya...   \n",
            "4   https://delta-fitness.ru/products/e40796-2-mya...   \n",
            "5   https://delta-fitness.ru/products/e40796-1-mya...   \n",
            "6   https://delta-fitness.ru/products/r18035-4-mya...   \n",
            "7   https://delta-fitness.ru/products/r18035-3-mya...   \n",
            "8   https://delta-fitness.ru/products/r18035-2-mya...   \n",
            "9   https://delta-fitness.ru/products/r18038-myach...   \n",
            "10  https://delta-fitness.ru/products/e40006-myach...   \n",
            "11  https://delta-fitness.ru/products/e40005-myach...   \n",
            "12  https://delta-fitness.ru/products/e40004-myach...   \n",
            "13  https://delta-fitness.ru/products/e39981-myach...   \n",
            "14  https://delta-fitness.ru/products/e33542-2-mya...   \n",
            "15  https://delta-fitness.ru/products/e33542-1-mya...   \n",
            "16  https://delta-fitness.ru/products/t07522-myach...   \n",
            "17  https://delta-fitness.ru/products/t07523-myach...   \n",
            "18  https://delta-fitness.ru/products/c28683-4-mya...   \n",
            "19  https://delta-fitness.ru/products/c28683-3-mya...   \n",
            "\n",
            "                                             Название Цена  \n",
            "0   Мяч волейбольный розово/салат/голубой , PU 2.7...  363  \n",
            "1   Мяч волейбольный зелено/салат/голубой , PU 2.7...  363  \n",
            "2   Мяч волейбольный бело/сине/красный , PU 2.7, 2...  363  \n",
            "3          Мяч волейбольный №5 Дельта-фитнес E40796-3  594  \n",
            "4          Мяч волейбольный №5 Дельта-фитнес E40796-2  594  \n",
            "5          Мяч волейбольный №5 Дельта-фитнес E40796-1  594  \n",
            "6   Мяч волейбольный Meik-503 PU 2.5, 285 гр, маши...  644  \n",
            "7   Мяч волейбольный Meik-503 PU 2.5, 285 гр, маши...  644  \n",
            "8   Мяч волейбольный Meik-503 PU 2.5, 285 гр, маши...  767  \n",
            "9   Мяч волейбольный Meik-ROM-2811 PU 2.5, 270 гр,...  743  \n",
            "10  Мяч волейбольный бело/сине/желтый , PU 2.7, 26...  658  \n",
            "11  Мяч волейбольный Детский №2 розово/зелено/оран...  421  \n",
            "12  Мяч волейбольный Детский №2 оранжево/сине/желт...  421  \n",
            "13  Мяч волейбольный бело/сине/зеленый , PU 2.7, 3...  652  \n",
            "14  Мяч волейбольный салатовый , PVC 2.7, 280 гр, ...  413  \n",
            "15  Мяч волейбольный синий , PVC 2.7, 280 гр, маши...  413  \n",
            "16  Мяч волейбольный, PU 2.5, 270 гр, машинная сши...  635  \n",
            "17  Мяч волейбольный, PU 2.5, 270 гр, машинная сши...  578  \n",
            "18  Мяч волейбольный Meik-QS-V519 оранжевый , TPU ...  850  \n",
            "19  Мяч волейбольный Meik-QS-V519 зеленый , TPU 2....  652  \n"
          ]
        }
      ]
    },
    {
      "cell_type": "code",
      "source": [
        "#чтобы найти медианну массива пишем функцию\n",
        "def find_median(arr):\n",
        "    sorted_arr = sorted(arr)\n",
        "    n = len(sorted_arr)\n",
        "\n",
        "    if n % 2 == 1:\n",
        "        median = sorted_arr[n // 2]\n",
        "    else:\n",
        "        median = (sorted_arr[n // 2 - 1] + sorted_arr[n // 2]) / 2\n",
        "\n",
        "    return median"
      ],
      "metadata": {
        "id": "kegDKQz5RsFf"
      },
      "execution_count": 64,
      "outputs": []
    },
    {
      "cell_type": "code",
      "source": [
        "сleaned_grid_price= []\n",
        "сleaned_balls_price= []\n",
        "сleaned_water_price= []\n",
        "сleaned_balls1_price= []\n",
        "\n",
        "\n",
        "for price_str in grid_price:\n",
        "    try:\n",
        "        сleaned_grid_price.append(int(price_str.replace(' ', ''))) # Удаляем пробелы и преобразуем в число\n",
        "    except ValueError:\n",
        "        print(f\"Некорректное значение цены: {price_str}\")\n",
        "\n",
        "for price_str in balls_price:\n",
        "    try:\n",
        "        сleaned_balls_price.append(int(price_str.replace(' ', ''))) # Удаляем пробелы и преобразуем в число\n",
        "    except ValueError:\n",
        "        print(f\"Некорректное значение цены: {price_str}\")\n",
        "\n",
        "for price_str in water_price:\n",
        "    try:\n",
        "        сleaned_water_price.append(int(price_str.replace(' ', ''))) # Удаляем пробелы и преобразуем в число\n",
        "    except ValueError:\n",
        "        print(f\"Некорректное значение цены: {price_str}\")\n",
        "\n",
        "for price_str in balls1_price:\n",
        "    try:\n",
        "        сleaned_balls1_price.append(int(price_str.replace(' ', ''))) # Удаляем пробелы и преобразуем в число\n",
        "    except ValueError:\n",
        "        print(f\"Некорректное значение цены: {price_str}\")\n",
        "\n",
        "\n",
        "print(сleaned_grid_price)\n",
        "print(сleaned_balls_price)\n",
        "print(сleaned_water_price)\n",
        "print(сleaned_balls1_price)"
      ],
      "metadata": {
        "colab": {
          "base_uri": "https://localhost:8080/"
        },
        "id": "QOJCMpniMM_I",
        "outputId": "c600d140-883e-4f2e-bf5e-63813cd57c78"
      },
      "execution_count": 65,
      "outputs": [
        {
          "output_type": "stream",
          "name": "stdout",
          "text": [
            "[23832, 9208, 3630, 6961, 4400, 6518, 5594, 5272, 2586, 2886, 12172, 9208, 10396, 20966, 17884, 2035, 1843, 4313, 23151, 32646, 23832, 9208, 3630, 6961, 4400, 6518, 5594, 5272, 2586, 2886, 12172, 9208, 10396, 20966, 17884, 2035, 1843, 4313, 23151, 32646, 23832, 9208, 3630, 6961, 4400, 6518, 5594, 5272, 2586, 2886, 12172, 9208, 10396, 20966, 17884, 2035, 1843, 4313, 23151, 32646, 23832, 9208, 3630, 6961, 4400, 6518, 5594, 5272, 2586, 2886, 12172, 9208, 10396, 20966, 17884, 2035, 1843, 4313, 23151, 32646, 23832, 9208, 3630, 6961, 4400, 6518, 5594, 5272, 2586, 2886, 12172, 9208, 10396, 20966, 17884, 2035, 1843, 4313, 23151, 32646]\n",
            "[2008, 2742, 4995, 3656, 990, 2329, 2495, 790, 1599, 9150, 699, 4180, 2450, 1399, 1399, 1399, 3656, 1758, 10708, 2703, 1758, 2331, 3182, 2703, 1758, 4975, 3335, 5133, 2399, 1999, 6524, 2308, 1899, 9002, 2699, 1469, 1469, 1073, 594, 363, 363, 363, 363, 594, 594, 594, 644, 644, 767, 743, 658, 421, 421, 652, 413, 413, 635, 578, 850, 652, 850, 1139, 594, 767, 602, 602, 644, 644, 470, 470, 413, 413, 413, 7946, 1499, 3080, 10397, 1428, 1428, 1428, 1153, 1117, 1117, 1153, 1153, 1153, 3294, 7482, 1888, 7482, 1399, 2610, 1699, 1699, 1699, 1100, 1100, 1130, 665, 690, 690, 690, 464, 1020, 1020, 2471, 1888, 652, 792, 5564, 2501, 1180, 690, 322, 2854, 1758, 11977, 454, 1180, 652, 1625, 751, 1486, 1391, 840, 11448]\n",
            "[1811, 1811, 1229, 1357, 1357, 1357, 1229, 1229, 1811, 1544, 1544, 1544, 1544, 1112, 1112, 1112, 1112, 1112, 1544, 1544, 1544, 1112, 1112, 1112, 1811, 1811, 1229, 1357, 1357, 1357, 1229, 1229, 1811, 1544, 1544, 1544, 1544, 1112, 1112, 1112, 1112, 1112, 1544, 1544, 1544, 1112, 1112, 1112, 1811, 1811, 1229, 1357, 1357, 1357, 1229, 1229, 1811, 1544, 1544, 1544, 1544, 1112, 1112, 1112, 1112, 1112, 1544, 1544, 1544, 1112, 1112, 1112]\n",
            "[363, 363, 363, 594, 594, 594, 644, 644, 767, 743, 658, 421, 421, 652, 413, 413, 635, 578, 850, 652]\n"
          ]
        }
      ]
    },
    {
      "cell_type": "code",
      "source": [
        "сleaned_grid_price = sorted(сleaned_grid_price)\n",
        "сleaned_balls_price = sorted(сleaned_balls_price)\n",
        "сleaned_water_price = sorted(сleaned_water_price)\n",
        "сleaned_balls1_price = sorted(сleaned_balls1_price)\n",
        "\n",
        "print(сleaned_grid_price)\n",
        "print(сleaned_balls_price)\n",
        "print(сleaned_water_price)\n",
        "print(сleaned_balls1_price)\n",
        "\n",
        "median_grid_price = find_median(сleaned_grid_price)\n",
        "print(median_grid_price)\n",
        "median_balls_price = find_median(сleaned_balls_price)\n",
        "print(median_balls_price)\n",
        "median_water_price = find_median(сleaned_water_price)\n",
        "print(median_water_price)\n",
        "median_balls1_price = find_median(сleaned_balls1_price)\n",
        "print(median_balls1_price)"
      ],
      "metadata": {
        "colab": {
          "base_uri": "https://localhost:8080/"
        },
        "id": "SfCix3VAQL4w",
        "outputId": "79adbcd1-ba3e-4e02-8dd2-80141dde60d5"
      },
      "execution_count": 66,
      "outputs": [
        {
          "output_type": "stream",
          "name": "stdout",
          "text": [
            "[1843, 1843, 1843, 1843, 1843, 2035, 2035, 2035, 2035, 2035, 2586, 2586, 2586, 2586, 2586, 2886, 2886, 2886, 2886, 2886, 3630, 3630, 3630, 3630, 3630, 4313, 4313, 4313, 4313, 4313, 4400, 4400, 4400, 4400, 4400, 5272, 5272, 5272, 5272, 5272, 5594, 5594, 5594, 5594, 5594, 6518, 6518, 6518, 6518, 6518, 6961, 6961, 6961, 6961, 6961, 9208, 9208, 9208, 9208, 9208, 9208, 9208, 9208, 9208, 9208, 10396, 10396, 10396, 10396, 10396, 12172, 12172, 12172, 12172, 12172, 17884, 17884, 17884, 17884, 17884, 20966, 20966, 20966, 20966, 20966, 23151, 23151, 23151, 23151, 23151, 23832, 23832, 23832, 23832, 23832, 32646, 32646, 32646, 32646, 32646]\n",
            "[322, 363, 363, 363, 363, 413, 413, 413, 413, 413, 421, 421, 454, 464, 470, 470, 578, 594, 594, 594, 594, 594, 602, 602, 635, 644, 644, 644, 644, 652, 652, 652, 652, 658, 665, 690, 690, 690, 690, 699, 743, 751, 767, 767, 790, 792, 840, 850, 850, 990, 1020, 1020, 1073, 1100, 1100, 1117, 1117, 1130, 1139, 1153, 1153, 1153, 1153, 1180, 1180, 1391, 1399, 1399, 1399, 1399, 1428, 1428, 1428, 1469, 1469, 1486, 1499, 1599, 1625, 1699, 1699, 1699, 1758, 1758, 1758, 1758, 1888, 1888, 1899, 1999, 2008, 2308, 2329, 2331, 2399, 2450, 2471, 2495, 2501, 2610, 2699, 2703, 2703, 2742, 2854, 3080, 3182, 3294, 3335, 3656, 3656, 4180, 4975, 4995, 5133, 5564, 6524, 7482, 7482, 7946, 9002, 9150, 10397, 10708, 11448, 11977]\n",
            "[1112, 1112, 1112, 1112, 1112, 1112, 1112, 1112, 1112, 1112, 1112, 1112, 1112, 1112, 1112, 1112, 1112, 1112, 1112, 1112, 1112, 1112, 1112, 1112, 1229, 1229, 1229, 1229, 1229, 1229, 1229, 1229, 1229, 1357, 1357, 1357, 1357, 1357, 1357, 1357, 1357, 1357, 1544, 1544, 1544, 1544, 1544, 1544, 1544, 1544, 1544, 1544, 1544, 1544, 1544, 1544, 1544, 1544, 1544, 1544, 1544, 1544, 1544, 1811, 1811, 1811, 1811, 1811, 1811, 1811, 1811, 1811]\n",
            "[363, 363, 363, 413, 413, 421, 421, 578, 594, 594, 594, 635, 644, 644, 652, 652, 658, 743, 767, 850]\n",
            "6739.5\n",
            "1166.5\n",
            "1357.0\n",
            "594.0\n"
          ]
        }
      ]
    },
    {
      "cell_type": "code",
      "source": [],
      "metadata": {
        "id": "Uyell6s_h6Ck"
      },
      "execution_count": null,
      "outputs": []
    },
    {
      "cell_type": "code",
      "source": [
        "import pandas as pd\n",
        "\n",
        "max_length = max(len(сleaned_grid_price), len(сleaned_balls_price), len(сleaned_water_price))\n",
        "\n",
        "# Заполняем массивы до максимальной длины\n",
        "сleaned_grid_price += [None] * (max_length - len(сleaned_grid_price))\n",
        "сleaned_balls_price += [None] * (max_length - len(сleaned_balls_price))\n",
        "сleaned_water_price += [None] * (max_length - len(сleaned_water_price))\n",
        "\n",
        "\n",
        "df = pd.DataFrame({\n",
        "    'Наблюдение': range(1, max_length + 1),\n",
        "    'мячи': сleaned_balls_price,\n",
        "    'бутылки': сleaned_water_price,\n",
        "    'сетки': сleaned_grid_price\n",
        "})\n",
        "\n",
        "\n",
        "\n",
        "print(df)"
      ],
      "metadata": {
        "colab": {
          "base_uri": "https://localhost:8080/"
        },
        "id": "gd_WY86zMoD7",
        "outputId": "89e00484-bd08-4dda-c68e-710c5c944463"
      },
      "execution_count": 67,
      "outputs": [
        {
          "output_type": "stream",
          "name": "stdout",
          "text": [
            "     Наблюдение   мячи  бутылки   сетки\n",
            "0             1    322   1112.0  1843.0\n",
            "1             2    363   1112.0  1843.0\n",
            "2             3    363   1112.0  1843.0\n",
            "3             4    363   1112.0  1843.0\n",
            "4             5    363   1112.0  1843.0\n",
            "..          ...    ...      ...     ...\n",
            "121         122   9150      NaN     NaN\n",
            "122         123  10397      NaN     NaN\n",
            "123         124  10708      NaN     NaN\n",
            "124         125  11448      NaN     NaN\n",
            "125         126  11977      NaN     NaN\n",
            "\n",
            "[126 rows x 4 columns]\n"
          ]
        }
      ]
    },
    {
      "cell_type": "code",
      "source": [],
      "metadata": {
        "id": "_A5l7Xw5QJin"
      },
      "execution_count": null,
      "outputs": []
    },
    {
      "cell_type": "code",
      "source": [
        "!pip install dash==2.18.2"
      ],
      "metadata": {
        "colab": {
          "base_uri": "https://localhost:8080/"
        },
        "id": "VpbgOwgphaf9",
        "outputId": "e645b3fe-6b20-48f8-bae0-99eca57511da"
      },
      "execution_count": 68,
      "outputs": [
        {
          "output_type": "stream",
          "name": "stdout",
          "text": [
            "Requirement already satisfied: dash==2.18.2 in /usr/local/lib/python3.11/dist-packages (2.18.2)\n",
            "Requirement already satisfied: Flask<3.1,>=1.0.4 in /usr/local/lib/python3.11/dist-packages (from dash==2.18.2) (3.0.3)\n",
            "Requirement already satisfied: Werkzeug<3.1 in /usr/local/lib/python3.11/dist-packages (from dash==2.18.2) (3.0.6)\n",
            "Requirement already satisfied: plotly>=5.0.0 in /usr/local/lib/python3.11/dist-packages (from dash==2.18.2) (5.24.1)\n",
            "Requirement already satisfied: dash-html-components==2.0.0 in /usr/local/lib/python3.11/dist-packages (from dash==2.18.2) (2.0.0)\n",
            "Requirement already satisfied: dash-core-components==2.0.0 in /usr/local/lib/python3.11/dist-packages (from dash==2.18.2) (2.0.0)\n",
            "Requirement already satisfied: dash-table==5.0.0 in /usr/local/lib/python3.11/dist-packages (from dash==2.18.2) (5.0.0)\n",
            "Requirement already satisfied: importlib-metadata in /usr/local/lib/python3.11/dist-packages (from dash==2.18.2) (8.6.1)\n",
            "Requirement already satisfied: typing-extensions>=4.1.1 in /usr/local/lib/python3.11/dist-packages (from dash==2.18.2) (4.12.2)\n",
            "Requirement already satisfied: requests in /usr/local/lib/python3.11/dist-packages (from dash==2.18.2) (2.32.3)\n",
            "Requirement already satisfied: retrying in /usr/local/lib/python3.11/dist-packages (from dash==2.18.2) (1.3.4)\n",
            "Requirement already satisfied: nest-asyncio in /usr/local/lib/python3.11/dist-packages (from dash==2.18.2) (1.6.0)\n",
            "Requirement already satisfied: setuptools in /usr/local/lib/python3.11/dist-packages (from dash==2.18.2) (75.1.0)\n",
            "Requirement already satisfied: Jinja2>=3.1.2 in /usr/local/lib/python3.11/dist-packages (from Flask<3.1,>=1.0.4->dash==2.18.2) (3.1.6)\n",
            "Requirement already satisfied: itsdangerous>=2.1.2 in /usr/local/lib/python3.11/dist-packages (from Flask<3.1,>=1.0.4->dash==2.18.2) (2.2.0)\n",
            "Requirement already satisfied: click>=8.1.3 in /usr/local/lib/python3.11/dist-packages (from Flask<3.1,>=1.0.4->dash==2.18.2) (8.1.8)\n",
            "Requirement already satisfied: blinker>=1.6.2 in /usr/local/lib/python3.11/dist-packages (from Flask<3.1,>=1.0.4->dash==2.18.2) (1.9.0)\n",
            "Requirement already satisfied: tenacity>=6.2.0 in /usr/local/lib/python3.11/dist-packages (from plotly>=5.0.0->dash==2.18.2) (9.0.0)\n",
            "Requirement already satisfied: packaging in /usr/local/lib/python3.11/dist-packages (from plotly>=5.0.0->dash==2.18.2) (24.2)\n",
            "Requirement already satisfied: MarkupSafe>=2.1.1 in /usr/local/lib/python3.11/dist-packages (from Werkzeug<3.1->dash==2.18.2) (3.0.2)\n",
            "Requirement already satisfied: zipp>=3.20 in /usr/local/lib/python3.11/dist-packages (from importlib-metadata->dash==2.18.2) (3.21.0)\n",
            "Requirement already satisfied: charset-normalizer<4,>=2 in /usr/local/lib/python3.11/dist-packages (from requests->dash==2.18.2) (3.4.1)\n",
            "Requirement already satisfied: idna<4,>=2.5 in /usr/local/lib/python3.11/dist-packages (from requests->dash==2.18.2) (3.10)\n",
            "Requirement already satisfied: urllib3<3,>=1.21.1 in /usr/local/lib/python3.11/dist-packages (from requests->dash==2.18.2) (2.3.0)\n",
            "Requirement already satisfied: certifi>=2017.4.17 in /usr/local/lib/python3.11/dist-packages (from requests->dash==2.18.2) (2025.1.31)\n",
            "Requirement already satisfied: six>=1.7.0 in /usr/local/lib/python3.11/dist-packages (from retrying->dash==2.18.2) (1.17.0)\n"
          ]
        }
      ]
    },
    {
      "cell_type": "code",
      "source": [
        "!pip install dash-bootstrap-components==1.7.1"
      ],
      "metadata": {
        "colab": {
          "base_uri": "https://localhost:8080/"
        },
        "id": "t3VfwcF4hwdN",
        "outputId": "485e55ca-0131-4ba5-9176-8b14a8d01953"
      },
      "execution_count": 69,
      "outputs": [
        {
          "output_type": "stream",
          "name": "stdout",
          "text": [
            "Requirement already satisfied: dash-bootstrap-components==1.7.1 in /usr/local/lib/python3.11/dist-packages (1.7.1)\n",
            "Requirement already satisfied: dash>=2.0.0 in /usr/local/lib/python3.11/dist-packages (from dash-bootstrap-components==1.7.1) (2.18.2)\n",
            "Requirement already satisfied: Flask<3.1,>=1.0.4 in /usr/local/lib/python3.11/dist-packages (from dash>=2.0.0->dash-bootstrap-components==1.7.1) (3.0.3)\n",
            "Requirement already satisfied: Werkzeug<3.1 in /usr/local/lib/python3.11/dist-packages (from dash>=2.0.0->dash-bootstrap-components==1.7.1) (3.0.6)\n",
            "Requirement already satisfied: plotly>=5.0.0 in /usr/local/lib/python3.11/dist-packages (from dash>=2.0.0->dash-bootstrap-components==1.7.1) (5.24.1)\n",
            "Requirement already satisfied: dash-html-components==2.0.0 in /usr/local/lib/python3.11/dist-packages (from dash>=2.0.0->dash-bootstrap-components==1.7.1) (2.0.0)\n",
            "Requirement already satisfied: dash-core-components==2.0.0 in /usr/local/lib/python3.11/dist-packages (from dash>=2.0.0->dash-bootstrap-components==1.7.1) (2.0.0)\n",
            "Requirement already satisfied: dash-table==5.0.0 in /usr/local/lib/python3.11/dist-packages (from dash>=2.0.0->dash-bootstrap-components==1.7.1) (5.0.0)\n",
            "Requirement already satisfied: importlib-metadata in /usr/local/lib/python3.11/dist-packages (from dash>=2.0.0->dash-bootstrap-components==1.7.1) (8.6.1)\n",
            "Requirement already satisfied: typing-extensions>=4.1.1 in /usr/local/lib/python3.11/dist-packages (from dash>=2.0.0->dash-bootstrap-components==1.7.1) (4.12.2)\n",
            "Requirement already satisfied: requests in /usr/local/lib/python3.11/dist-packages (from dash>=2.0.0->dash-bootstrap-components==1.7.1) (2.32.3)\n",
            "Requirement already satisfied: retrying in /usr/local/lib/python3.11/dist-packages (from dash>=2.0.0->dash-bootstrap-components==1.7.1) (1.3.4)\n",
            "Requirement already satisfied: nest-asyncio in /usr/local/lib/python3.11/dist-packages (from dash>=2.0.0->dash-bootstrap-components==1.7.1) (1.6.0)\n",
            "Requirement already satisfied: setuptools in /usr/local/lib/python3.11/dist-packages (from dash>=2.0.0->dash-bootstrap-components==1.7.1) (75.1.0)\n",
            "Requirement already satisfied: Jinja2>=3.1.2 in /usr/local/lib/python3.11/dist-packages (from Flask<3.1,>=1.0.4->dash>=2.0.0->dash-bootstrap-components==1.7.1) (3.1.6)\n",
            "Requirement already satisfied: itsdangerous>=2.1.2 in /usr/local/lib/python3.11/dist-packages (from Flask<3.1,>=1.0.4->dash>=2.0.0->dash-bootstrap-components==1.7.1) (2.2.0)\n",
            "Requirement already satisfied: click>=8.1.3 in /usr/local/lib/python3.11/dist-packages (from Flask<3.1,>=1.0.4->dash>=2.0.0->dash-bootstrap-components==1.7.1) (8.1.8)\n",
            "Requirement already satisfied: blinker>=1.6.2 in /usr/local/lib/python3.11/dist-packages (from Flask<3.1,>=1.0.4->dash>=2.0.0->dash-bootstrap-components==1.7.1) (1.9.0)\n",
            "Requirement already satisfied: tenacity>=6.2.0 in /usr/local/lib/python3.11/dist-packages (from plotly>=5.0.0->dash>=2.0.0->dash-bootstrap-components==1.7.1) (9.0.0)\n",
            "Requirement already satisfied: packaging in /usr/local/lib/python3.11/dist-packages (from plotly>=5.0.0->dash>=2.0.0->dash-bootstrap-components==1.7.1) (24.2)\n",
            "Requirement already satisfied: MarkupSafe>=2.1.1 in /usr/local/lib/python3.11/dist-packages (from Werkzeug<3.1->dash>=2.0.0->dash-bootstrap-components==1.7.1) (3.0.2)\n",
            "Requirement already satisfied: zipp>=3.20 in /usr/local/lib/python3.11/dist-packages (from importlib-metadata->dash>=2.0.0->dash-bootstrap-components==1.7.1) (3.21.0)\n",
            "Requirement already satisfied: charset-normalizer<4,>=2 in /usr/local/lib/python3.11/dist-packages (from requests->dash>=2.0.0->dash-bootstrap-components==1.7.1) (3.4.1)\n",
            "Requirement already satisfied: idna<4,>=2.5 in /usr/local/lib/python3.11/dist-packages (from requests->dash>=2.0.0->dash-bootstrap-components==1.7.1) (3.10)\n",
            "Requirement already satisfied: urllib3<3,>=1.21.1 in /usr/local/lib/python3.11/dist-packages (from requests->dash>=2.0.0->dash-bootstrap-components==1.7.1) (2.3.0)\n",
            "Requirement already satisfied: certifi>=2017.4.17 in /usr/local/lib/python3.11/dist-packages (from requests->dash>=2.0.0->dash-bootstrap-components==1.7.1) (2025.1.31)\n",
            "Requirement already satisfied: six>=1.7.0 in /usr/local/lib/python3.11/dist-packages (from retrying->dash>=2.0.0->dash-bootstrap-components==1.7.1) (1.17.0)\n"
          ]
        }
      ]
    },
    {
      "cell_type": "code",
      "source": [
        "from dash import Dash, html, dcc\n",
        "import plotly.graph_objs as go\n",
        "import pandas as pd\n",
        "from dash.dash_table import DataTable\n",
        "from dash.dependencies import Input, Output\n",
        "\n",
        "app = Dash(__name__)\n",
        "\n",
        "app.layout = html.Div([\n",
        "    html.H1(\"Цены на товары\"),\n",
        "\n",
        "    DataTable(\n",
        "        id='price-table',\n",
        "        columns=[{\"name\": i, \"id\": i} for i in df.columns],\n",
        "        data=df.to_dict('records'),\n",
        "        style_table={'overflowX': 'auto'},\n",
        "        style_cell={\n",
        "            'textAlign': 'left',\n",
        "            'padding': '5px'\n",
        "        },\n",
        "        style_header={\n",
        "            'backgroundColor': 'lightgrey',\n",
        "            'fontWeight': 'bold'\n",
        "        }\n",
        "    ),\n",
        "\n",
        "\n",
        "\n",
        "    dcc.Graph(id='price-graph')\n",
        "])\n",
        "\n",
        "@app.callback(\n",
        "    Output('price-graph', 'figure'),\n",
        "    Input('price-table', 'data')\n",
        ")\n",
        "def update_graph(data):\n",
        "    fig_1 = go.Figure()\n",
        "\n",
        "    fig_1.add_trace(go.Scatter(x=df['Наблюдение'], y=df['мячи'], mode='lines+markers', name='мячи'))\n",
        "    fig_1.add_trace(go.Scatter(x=df['Наблюдение'], y=df['бутылки'], mode='lines+markers', name='бутылки'))\n",
        "    fig_1.add_trace(go.Scatter(x=df['Наблюдение'], y=df['сетки'], mode='lines+markers', name='сетки'))\n",
        "\n",
        "\n",
        "    fig_1.update_layout(title='Цены на товары',\n",
        "                      xaxis_title='Наблюдение',\n",
        "                      yaxis_title='Цена',\n",
        "                      legend_title='Товары')\n",
        "\n",
        "    return fig_1\n",
        "\n",
        "if __name__ == '__main__':\n",
        "    app.run_server(debug=True)\n"
      ],
      "metadata": {
        "colab": {
          "base_uri": "https://localhost:8080/",
          "height": 671
        },
        "id": "N-VoSZQUOwXw",
        "outputId": "e05a6ffa-c352-4c6f-fc7f-44c8a6481735"
      },
      "execution_count": 70,
      "outputs": [
        {
          "output_type": "display_data",
          "data": {
            "text/plain": [
              "<IPython.core.display.Javascript object>"
            ],
            "application/javascript": [
              "(async (port, path, width, height, cache, element) => {\n",
              "    if (!google.colab.kernel.accessAllowed && !cache) {\n",
              "      return;\n",
              "    }\n",
              "    element.appendChild(document.createTextNode(''));\n",
              "    const url = await google.colab.kernel.proxyPort(port, {cache});\n",
              "    const iframe = document.createElement('iframe');\n",
              "    iframe.src = new URL(path, url).toString();\n",
              "    iframe.height = height;\n",
              "    iframe.width = width;\n",
              "    iframe.style.border = 0;\n",
              "    iframe.allow = [\n",
              "        'accelerometer',\n",
              "        'autoplay',\n",
              "        'camera',\n",
              "        'clipboard-read',\n",
              "        'clipboard-write',\n",
              "        'gyroscope',\n",
              "        'magnetometer',\n",
              "        'microphone',\n",
              "        'serial',\n",
              "        'usb',\n",
              "        'xr-spatial-tracking',\n",
              "    ].join('; ');\n",
              "    element.appendChild(iframe);\n",
              "  })(8050, \"/\", \"100%\", 650, false, window.element)"
            ]
          },
          "metadata": {}
        }
      ]
    },
    {
      "cell_type": "code",
      "source": [],
      "metadata": {
        "id": "G_atbUcubTau"
      },
      "execution_count": null,
      "outputs": []
    },
    {
      "cell_type": "code",
      "source": [
        "from dash import Dash, html, dcc\n",
        "from dash.dependencies import Input, Output\n",
        "import plotly.graph_objs as go\n",
        "import pandas as pd\n",
        "from dash.dash_table import DataTable\n",
        "\n",
        "app = Dash(__name__)\n",
        "\n",
        "app.layout = html.Div([\n",
        "    html.H1(\"Цены на товары\"),\n",
        "\n",
        "    # Таблица с ценами\n",
        "    DataTable(\n",
        "        id='price-table',\n",
        "        columns=[{\"name\": i, \"id\": i} for i in df.columns],\n",
        "        data=df.to_dict('records'),\n",
        "        style_table={'overflowX': 'auto'},\n",
        "        style_cell={\n",
        "            'textAlign': 'left',\n",
        "            'padding': '5px'\n",
        "        },\n",
        "        style_header={\n",
        "            'backgroundColor': 'lightgrey',\n",
        "            'fontWeight': 'bold'\n",
        "        }\n",
        "    ),\n",
        "\n",
        "    dcc.Graph(id='price-graph')\n",
        "])\n",
        "\n",
        "@app.callback(\n",
        "    Output('price-graph', 'figure'),\n",
        "    Input('price-table', 'data')\n",
        ")\n",
        "def update_graph(data):\n",
        "    fig = go.Figure()\n",
        "\n",
        "    fig.add_trace(go.Scatter(x=df['Наблюдение'], y=df['мячи'], mode='markers', name='мячи'))\n",
        "    fig.add_trace(go.Scatter(x=df['Наблюдение'], y=df['бутылки'], mode='markers', name='бутылки'))\n",
        "    fig.add_trace(go.Scatter(x=df['Наблюдение'], y=df['сетки'], mode='markers', name='сетки'))\n",
        "\n",
        "    fig.update_layout(title='Цены на товары (Диаграмма рассеивания)',\n",
        "                      xaxis_title='Наблюдение',\n",
        "                      yaxis_title='Цена',\n",
        "                      legend_title='Товары')\n",
        "\n",
        "    return fig\n",
        "\n",
        "if __name__ == '__main__':\n",
        "    app.run_server(debug=True)\n"
      ],
      "metadata": {
        "colab": {
          "base_uri": "https://localhost:8080/",
          "height": 671
        },
        "id": "qTOvrR0vQw5S",
        "outputId": "5ee9855e-6493-49e9-b110-ee3803e622e5"
      },
      "execution_count": 71,
      "outputs": [
        {
          "output_type": "display_data",
          "data": {
            "text/plain": [
              "<IPython.core.display.Javascript object>"
            ],
            "application/javascript": [
              "(async (port, path, width, height, cache, element) => {\n",
              "    if (!google.colab.kernel.accessAllowed && !cache) {\n",
              "      return;\n",
              "    }\n",
              "    element.appendChild(document.createTextNode(''));\n",
              "    const url = await google.colab.kernel.proxyPort(port, {cache});\n",
              "    const iframe = document.createElement('iframe');\n",
              "    iframe.src = new URL(path, url).toString();\n",
              "    iframe.height = height;\n",
              "    iframe.width = width;\n",
              "    iframe.style.border = 0;\n",
              "    iframe.allow = [\n",
              "        'accelerometer',\n",
              "        'autoplay',\n",
              "        'camera',\n",
              "        'clipboard-read',\n",
              "        'clipboard-write',\n",
              "        'gyroscope',\n",
              "        'magnetometer',\n",
              "        'microphone',\n",
              "        'serial',\n",
              "        'usb',\n",
              "        'xr-spatial-tracking',\n",
              "    ].join('; ');\n",
              "    element.appendChild(iframe);\n",
              "  })(8050, \"/\", \"100%\", 650, false, window.element)"
            ]
          },
          "metadata": {}
        }
      ]
    },
    {
      "cell_type": "code",
      "source": [
        "#круговая диаграмма затрат на товары в зависимости от количества бытулок, которые мы решили закупить\n",
        "import dash\n",
        "from dash import dcc, html, Input, Output\n",
        "import plotly.express as px\n",
        "import pandas as pd\n",
        "\n",
        "data = {\n",
        "    'Товар': ['Бутылки', 'Сетка', '2 Мяча'],\n",
        "    'Затраты': [1357, 6739.5, 2333]\n",
        "}\n",
        "\n",
        "df = pd.DataFrame(data)\n",
        "\n",
        "app = dash.Dash(__name__)\n",
        "\n",
        "app.layout = html.Div([\n",
        "    html.H1(\"Круговая диаграмма затрат на товары\"),\n",
        "    dcc.Graph(id='cost-distribution'),\n",
        "    dcc.Slider(\n",
        "        id='slider-cost-a',\n",
        "        min=0,\n",
        "        max=20355,\n",
        "        value=1357,\n",
        "        marks={i: str(i) for i in range(0, 20356, 1357)},\n",
        "        step=1\n",
        "    ),\n",
        "    html.Div(id='slider-output', style={'margin-top': '20px'})\n",
        "])\n",
        "\n",
        "@app.callback(\n",
        "    Output('cost-distribution', 'figure'),\n",
        "    Output('slider-output', 'children'),\n",
        "    Input('slider-cost-a', 'value')\n",
        ")\n",
        "def update_graph(cost_a):\n",
        "    df.loc[df['Товар'] == 'Бутылки', 'Затраты'] = cost_a\n",
        "\n",
        "    total_cost = df['Затраты'].sum()\n",
        "    df['Затраты'] = df['Затраты'] / total_cost * 100\n",
        "    fig = px.pie(df, values='Затраты', names='Товар', title='Процентное соотношение затрат на товары')\n",
        "\n",
        "    return fig, f'Затраты на Бутылки: {cost_a}'\n",
        "\n",
        "if __name__ == '__main__':\n",
        "    app.run_server(debug=True)\n"
      ],
      "metadata": {
        "id": "eFYLUFuAXiGf",
        "colab": {
          "base_uri": "https://localhost:8080/",
          "height": 671
        },
        "outputId": "6df97d41-baa9-4953-c4b4-c22956f40d37"
      },
      "execution_count": null,
      "outputs": [
        {
          "output_type": "display_data",
          "data": {
            "text/plain": [
              "<IPython.core.display.Javascript object>"
            ],
            "application/javascript": [
              "(async (port, path, width, height, cache, element) => {\n",
              "    if (!google.colab.kernel.accessAllowed && !cache) {\n",
              "      return;\n",
              "    }\n",
              "    element.appendChild(document.createTextNode(''));\n",
              "    const url = await google.colab.kernel.proxyPort(port, {cache});\n",
              "    const iframe = document.createElement('iframe');\n",
              "    iframe.src = new URL(path, url).toString();\n",
              "    iframe.height = height;\n",
              "    iframe.width = width;\n",
              "    iframe.style.border = 0;\n",
              "    iframe.allow = [\n",
              "        'accelerometer',\n",
              "        'autoplay',\n",
              "        'camera',\n",
              "        'clipboard-read',\n",
              "        'clipboard-write',\n",
              "        'gyroscope',\n",
              "        'magnetometer',\n",
              "        'microphone',\n",
              "        'serial',\n",
              "        'usb',\n",
              "        'xr-spatial-tracking',\n",
              "    ].join('; ');\n",
              "    element.appendChild(iframe);\n",
              "  })(8050, \"/\", \"100%\", 650, false, window.element)"
            ]
          },
          "metadata": {}
        }
      ]
    },
    {
      "cell_type": "markdown",
      "source": [
        "Посмотрим, как распределяются наши издержки: для одной игры необходимо два мяча, 12 спортивных бутылок и сетка.\n",
        "У нас мячи двух вариантов - разница состоит в том, что одни изнашиваются в два раза быстрее, чем другие.\n",
        "Соответственно, рассмотрим два случая"
      ],
      "metadata": {
        "id": "HyfLtHzHVT4H"
      }
    },
    {
      "cell_type": "markdown",
      "source": [
        "Медианные значения:\n",
        "6739.5,\n",
        "1166.5,\n",
        "1357.0,\n",
        "594.0.\n",
        "Берем 5 мячей - 5832,\n",
        "1 сетка - 6739.5,\n",
        "5 бутылок - 6785, или мы берем хлипкие мячи, тогда их надо закупить в два раза больше: 10 мячей 5940\n"
      ],
      "metadata": {
        "id": "Uuu_gcy-Wgcv"
      }
    },
    {
      "cell_type": "code",
      "source": [],
      "metadata": {
        "id": "Rh8xkSHEey1r"
      },
      "execution_count": null,
      "outputs": []
    },
    {
      "cell_type": "code",
      "source": [],
      "metadata": {
        "id": "vaQVTiB6W1G0"
      },
      "execution_count": null,
      "outputs": []
    },
    {
      "cell_type": "code",
      "source": [
        "import dash\n",
        "from dash import dcc, html, Input, Output\n",
        "import plotly.express as px\n",
        "import pandas as pd\n",
        "\n",
        "#  Медианные значения: 6739.5, 1166.5, 1357.0, 594.0. Берем 5 мячей - 5832, 1 сетка - 6739.5, 5 бутылок - 6785     5940  --- смотрим процентное распределение затрат\n",
        "\n",
        "data = {\n",
        "    'Category': ['Вариант 1', 'Вариант 1', 'Вариант 1', 'Вариант 2', 'Вариант 2', 'Вариант 2'],\n",
        "    'Product': ['мячи', 'сетка', 'бутылки', 'мячи', 'сетка', 'бутылки'],\n",
        "    'Cost': [5832, 6739.5, 6785, 5940, 6739.5, 6785]\n",
        "}\n",
        "\n",
        "df = pd.DataFrame(data)\n",
        "\n",
        "\n",
        "app = dash.Dash(__name__)\n",
        "\n",
        "\n",
        "app.layout = html.Div([\n",
        "    html.H1(\"Затраты на товары\"),\n",
        "    dcc.Dropdown(\n",
        "        id='category-dropdown',\n",
        "        options=[\n",
        "            {'label': 'Вариант 1', 'value': 'Вариант 1'},\n",
        "            {'label': 'Вариант 2', 'value': 'Вариант 2'}\n",
        "        ],\n",
        "        value='Вариант 1',\n",
        "        clearable=False\n",
        "    ),\n",
        "    dcc.Graph(id='cost-pie-chart')\n",
        "])\n",
        "@app.callback(\n",
        "    Output('cost-pie-chart', 'figure'),\n",
        "    Input('category-dropdown', 'value')\n",
        ")\n",
        "def update_chart(selected_category):\n",
        "    filtered_df = df[df['Category'] == selected_category]\n",
        "    fig = px.pie(filtered_df, values='Cost', names='Product', title=f'Затраты на товары ({selected_category})')\n",
        "    color_discrete_sequence=px.colors.qualitative.Plotly\n",
        "    fig.update_layout(height=600, width=600)\n",
        "    return fig\n",
        "\n",
        "\n",
        "if __name__ == '__main__':\n",
        "    app.run_server(debug=True)\n"
      ],
      "metadata": {
        "colab": {
          "base_uri": "https://localhost:8080/",
          "height": 671
        },
        "id": "4XJfdYiQeY32",
        "outputId": "1756a972-65b2-43f6-962f-a68fc1a0cd0a"
      },
      "execution_count": null,
      "outputs": [
        {
          "output_type": "display_data",
          "data": {
            "text/plain": [
              "<IPython.core.display.Javascript object>"
            ],
            "application/javascript": [
              "(async (port, path, width, height, cache, element) => {\n",
              "    if (!google.colab.kernel.accessAllowed && !cache) {\n",
              "      return;\n",
              "    }\n",
              "    element.appendChild(document.createTextNode(''));\n",
              "    const url = await google.colab.kernel.proxyPort(port, {cache});\n",
              "    const iframe = document.createElement('iframe');\n",
              "    iframe.src = new URL(path, url).toString();\n",
              "    iframe.height = height;\n",
              "    iframe.width = width;\n",
              "    iframe.style.border = 0;\n",
              "    iframe.allow = [\n",
              "        'accelerometer',\n",
              "        'autoplay',\n",
              "        'camera',\n",
              "        'clipboard-read',\n",
              "        'clipboard-write',\n",
              "        'gyroscope',\n",
              "        'magnetometer',\n",
              "        'microphone',\n",
              "        'serial',\n",
              "        'usb',\n",
              "        'xr-spatial-tracking',\n",
              "    ].join('; ');\n",
              "    element.appendChild(iframe);\n",
              "  })(8050, \"/\", \"100%\", 650, false, window.element)"
            ]
          },
          "metadata": {}
        }
      ]
    },
    {
      "cell_type": "code",
      "source": [
        "import dash\n",
        "print(\"Dash version:\", dash.__version__)"
      ],
      "metadata": {
        "colab": {
          "base_uri": "https://localhost:8080/"
        },
        "id": "ePnEp_Kdw1O4",
        "outputId": "60e843fb-6745-467a-eb59-94acfc09be7e"
      },
      "execution_count": null,
      "outputs": [
        {
          "output_type": "stream",
          "name": "stdout",
          "text": [
            "Dash version: 2.18.2\n"
          ]
        }
      ]
    },
    {
      "cell_type": "markdown",
      "source": [
        "**Анализ небольших издержек**\n",
        "\n",
        "\n",
        "Мы рассматриваем разные виды бутылок для спорта, и пытаемся понять, какие нам выгоднее закупить.\n",
        "\n",
        "Идея: в качестве приза или просто в качестве мерча закупить спортивные бутылки с логотипом и выставить на продажу."
      ],
      "metadata": {
        "id": "EGZBKDc54qGF"
      }
    },
    {
      "cell_type": "code",
      "source": [
        "#https://victor-komlev.ru/frejmvorki-plotly-i-dash/?ysclid=m8ihzwv8ot984316127   --- очень помогло для дэша (после переписки с Полиной и бесконечных попыток отурыть графики в новой владке, пришлось делать все так)"
      ],
      "metadata": {
        "id": "Iv5tqGjJ0eWl"
      },
      "execution_count": null,
      "outputs": []
    },
    {
      "cell_type": "code",
      "source": [
        "keyword_1 = ['0.5л']\n",
        "\n",
        "price_dict = dict(zip(water_names, water_price))\n",
        "filtered_water_names_1 = [water_name for water_name in water_names if any(keyword in water_name for keyword in keyword_1)]\n",
        "print(filtered_water_names_1)\n",
        "\n",
        "filtered_water_prices_1 = [price_dict[water_name] for water_name in filtered_water_names_1]\n",
        "print(filtered_water_prices_1)\n",
        "\n",
        "numbers_1 = []\n",
        "for price_str in filtered_water_prices_1:\n",
        "    try:\n",
        "        numbers_1.append(int(price_str.replace(' ', ''))) # Удаляем пробелы и преобразуем в число\n",
        "    except ValueError:\n",
        "        print(f\"Некорректное значение цены: {price_str}\")\n",
        "\n",
        "median_price_1 = find_median(numbers_1)\n",
        "print(median_price_1)\n",
        "average_price_1 = sum(numbers_1) / len(numbers_1)\n",
        "print(numbers_1)\n",
        "print(len(numbers_1))\n",
        "print(average_price_1)\n"
      ],
      "metadata": {
        "colab": {
          "base_uri": "https://localhost:8080/"
        },
        "id": "q6oI1Jn7mlBp",
        "outputId": "f8fd6520-81ab-41d2-c1ce-ecfb3fe85adc"
      },
      "execution_count": null,
      "outputs": [
        {
          "output_type": "stream",
          "name": "stdout",
          "text": [
            "['желтая термокружка 702 «сититерм» «лось» на 0.5л', 'красная термокружка 702 «сититерм» «ацтек» на 0.5л', 'голубая термокружка 702 «сититерм» на 0.5л', 'питьевая бутылка 720 из тритана 0.5л, голубая глянцевая, с ситечком', 'питьевая бутылка 720 из тритана 0.5л, лавандовая глянцевая, с ситечком', 'питьевая бутылка 720 из тритана 0.5л, розовая глянцевая, с ситечком', 'питьевая бутылка 720 из тритана 0.5л, синяя глянцевая, с ситечком', 'питьевая бутылка 720 из тритана 0.5л, черная глянцевая, с ситечком', 'питьевая бутылка 720 из тритана 0.5л, лавандовая матовая, с ситечком', 'питьевая бутылка 720 из тритана 0.5л, розовая матовая, с ситечком', 'питьевая бутылка 720 из тритана 0.5л, голубая матовая, с ситечком', 'желтая термокружка 702 «сититерм» «лось» на 0.5л', 'красная термокружка 702 «сититерм» «ацтек» на 0.5л', 'голубая термокружка 702 «сититерм» на 0.5л', 'питьевая бутылка 720 из тритана 0.5л, голубая глянцевая, с ситечком', 'питьевая бутылка 720 из тритана 0.5л, лавандовая глянцевая, с ситечком', 'питьевая бутылка 720 из тритана 0.5л, розовая глянцевая, с ситечком', 'питьевая бутылка 720 из тритана 0.5л, синяя глянцевая, с ситечком', 'питьевая бутылка 720 из тритана 0.5л, черная глянцевая, с ситечком', 'питьевая бутылка 720 из тритана 0.5л, лавандовая матовая, с ситечком', 'питьевая бутылка 720 из тритана 0.5л, розовая матовая, с ситечком', 'питьевая бутылка 720 из тритана 0.5л, голубая матовая, с ситечком', 'желтая термокружка 702 «сититерм» «лось» на 0.5л', 'красная термокружка 702 «сититерм» «ацтек» на 0.5л', 'голубая термокружка 702 «сититерм» на 0.5л', 'питьевая бутылка 720 из тритана 0.5л, голубая глянцевая, с ситечком', 'питьевая бутылка 720 из тритана 0.5л, лавандовая глянцевая, с ситечком', 'питьевая бутылка 720 из тритана 0.5л, розовая глянцевая, с ситечком', 'питьевая бутылка 720 из тритана 0.5л, синяя глянцевая, с ситечком', 'питьевая бутылка 720 из тритана 0.5л, черная глянцевая, с ситечком', 'питьевая бутылка 720 из тритана 0.5л, лавандовая матовая, с ситечком', 'питьевая бутылка 720 из тритана 0.5л, розовая матовая, с ситечком', 'питьевая бутылка 720 из тритана 0.5л, голубая матовая, с ситечком']\n",
            "['1 811', '1 811', '1 811', '1 112', '1 112', '1 112', '1 112', '1 112', '1 112', '1 112', '1 112', '1 811', '1 811', '1 811', '1 112', '1 112', '1 112', '1 112', '1 112', '1 112', '1 112', '1 112', '1 811', '1 811', '1 811', '1 112', '1 112', '1 112', '1 112', '1 112', '1 112', '1 112', '1 112']\n",
            "1112\n",
            "[1811, 1811, 1811, 1112, 1112, 1112, 1112, 1112, 1112, 1112, 1112, 1811, 1811, 1811, 1112, 1112, 1112, 1112, 1112, 1112, 1112, 1112, 1811, 1811, 1811, 1112, 1112, 1112, 1112, 1112, 1112, 1112, 1112]\n",
            "33\n",
            "1302.6363636363637\n"
          ]
        }
      ]
    },
    {
      "cell_type": "code",
      "source": [
        "\n",
        "keyword_2 = ['1л']\n",
        "price_dict = dict(zip(water_names, water_price))\n",
        "filtered_water_names_2 = [water_name for water_name in water_names if any(keyword in water_name for keyword in keyword_2)]\n",
        "print(filtered_water_names_2)\n",
        "\n",
        "filtered_water_prices_2 = [price_dict[water_name] for water_name in filtered_water_names_2]\n",
        "print(filtered_water_prices_2)\n",
        "\n",
        "numbers_2 = []\n",
        "for price_str in filtered_water_prices_2:\n",
        "    try:\n",
        "        numbers_2.append(int(price_str.replace(' ', ''))) # Удаляем пробелы и преобразуем в число\n",
        "    except ValueError:\n",
        "        print(f\"Некорректное значение цены: {price_str}\")\n",
        "\n",
        "average_price_2 = sum(numbers_2) / len(numbers_2)\n",
        "median_price_2 = find_median(numbers_2)\n",
        "print(median_price_2)\n",
        "print(numbers_2)\n",
        "print(len(numbers_2))\n",
        "print(average_price_2)\n"
      ],
      "metadata": {
        "id": "yDiTUe9YrO77",
        "colab": {
          "base_uri": "https://localhost:8080/"
        },
        "outputId": "4b70228c-b90e-48f9-ffdd-6cb91cd173a0"
      },
      "execution_count": null,
      "outputs": [
        {
          "output_type": "stream",
          "name": "stdout",
          "text": [
            "['питьевая бутылка 720 из тритана 1л, лавандовая глянцевая, с ситечком', 'питьевая бутылка 720 из тритана 1л, розовая глянцевая, с ситечком', 'питьевая бутылка 720 из тритана 1л, синяя глянцевая, с ситечком', 'питьевая бутылка 720 из тритана 1л, черная глянцевая, с ситечком', 'питьевая бутылка 720 из тритана 1л, лавандовая матовая, с ситечком', 'питьевая бутылка 720 из тритана 1л, розовая матовая, с ситечком', 'питьевая бутылка 720 из тритана 1л, синяя матовая, с ситечком', 'питьевая бутылка 720 из тритана 1л, лавандовая глянцевая, с ситечком', 'питьевая бутылка 720 из тритана 1л, розовая глянцевая, с ситечком', 'питьевая бутылка 720 из тритана 1л, синяя глянцевая, с ситечком', 'питьевая бутылка 720 из тритана 1л, черная глянцевая, с ситечком', 'питьевая бутылка 720 из тритана 1л, лавандовая матовая, с ситечком', 'питьевая бутылка 720 из тритана 1л, розовая матовая, с ситечком', 'питьевая бутылка 720 из тритана 1л, синяя матовая, с ситечком', 'питьевая бутылка 720 из тритана 1л, лавандовая глянцевая, с ситечком', 'питьевая бутылка 720 из тритана 1л, розовая глянцевая, с ситечком', 'питьевая бутылка 720 из тритана 1л, синяя глянцевая, с ситечком', 'питьевая бутылка 720 из тритана 1л, черная глянцевая, с ситечком', 'питьевая бутылка 720 из тритана 1л, лавандовая матовая, с ситечком', 'питьевая бутылка 720 из тритана 1л, розовая матовая, с ситечком', 'питьевая бутылка 720 из тритана 1л, синяя матовая, с ситечком']\n",
            "['1 544', '1 544', '1 544', '1 544', '1 544', '1 544', '1 544', '1 544', '1 544', '1 544', '1 544', '1 544', '1 544', '1 544', '1 544', '1 544', '1 544', '1 544', '1 544', '1 544', '1 544']\n",
            "1544\n",
            "[1544, 1544, 1544, 1544, 1544, 1544, 1544, 1544, 1544, 1544, 1544, 1544, 1544, 1544, 1544, 1544, 1544, 1544, 1544, 1544, 1544]\n",
            "21\n",
            "1544.0\n"
          ]
        }
      ]
    },
    {
      "cell_type": "code",
      "source": [
        "keyword_3 = ['0.55л']\n",
        "\n",
        "price_dict = dict(zip(water_names, water_price))\n",
        "filtered_water_names_3 = [water_name for water_name in water_names if any(keyword in water_name for keyword in keyword_3)]\n",
        "print(filtered_water_names_3)\n",
        "\n",
        "filtered_water_prices_3 = [price_dict[water_name] for water_name in filtered_water_names_3]\n",
        "print(filtered_water_prices_3)\n",
        "\n",
        "numbers_3 = []\n",
        "for price_str in filtered_water_prices_3:\n",
        "    try:\n",
        "        numbers_3.append(int(price_str.replace(' ', ''))) # Удаляем пробелы и преобразуем в число\n",
        "    except ValueError:\n",
        "        print(f\"Некорректное значение цены: {price_str}\")\n",
        "\n",
        "average_price_3 = sum(numbers_3) / len(numbers_3)\n",
        "median_price_3 = find_median(numbers_3)\n",
        "print(median_price_3)\n",
        "print(numbers_3)\n",
        "print(len(numbers_3))\n",
        "print(average_price_3)\n"
      ],
      "metadata": {
        "colab": {
          "base_uri": "https://localhost:8080/"
        },
        "id": "2KEmbMZeqbCs",
        "outputId": "4a47187f-fdfc-45b7-a147-aa56005ff3c7"
      },
      "execution_count": null,
      "outputs": [
        {
          "output_type": "stream",
          "name": "stdout",
          "text": [
            "['лавандовая тритановая бутылка 722 с манжетом и питьевой трубочкой на 0.55л', 'синяя тритановая бутылка 722 с манжетом и питьевой трубочкой на 0.55л', 'черная тритановая бутылка 722 с манжетом и питьевой трубочкой на 0.55л', 'лавандовая тритановая бутылка 722 с манжетом и питьевой трубочкой на 0.55л', 'синяя тритановая бутылка 722 с манжетом и питьевой трубочкой на 0.55л', 'черная тритановая бутылка 722 с манжетом и питьевой трубочкой на 0.55л', 'лавандовая тритановая бутылка 722 с манжетом и питьевой трубочкой на 0.55л', 'синяя тритановая бутылка 722 с манжетом и питьевой трубочкой на 0.55л', 'черная тритановая бутылка 722 с манжетом и питьевой трубочкой на 0.55л']\n",
            "['1 357', '1 357', '1 357', '1 357', '1 357', '1 357', '1 357', '1 357', '1 357']\n",
            "1357\n",
            "[1357, 1357, 1357, 1357, 1357, 1357, 1357, 1357, 1357]\n",
            "9\n",
            "1357.0\n"
          ]
        }
      ]
    },
    {
      "cell_type": "code",
      "source": [
        "keyword_4 = ['0.7л']\n",
        "\n",
        "price_dict = dict(zip(water_names, water_price))\n",
        "filtered_water_names_4 = [water_name for water_name in water_names if any(keyword in water_name for keyword in keyword_4)]\n",
        "print(filtered_water_names_4)\n",
        "\n",
        "filtered_water_prices_4 = [price_dict[water_name] for water_name in filtered_water_names_4]\n",
        "print(filtered_water_prices_4)\n",
        "\n",
        "numbers_4 = []\n",
        "for price_str in filtered_water_prices_4:\n",
        "    try:\n",
        "        numbers_4.append(int(price_str.replace(' ', ''))) # Удаляем пробелы и преобразуем в число\n",
        "    except ValueError:\n",
        "        print(f\"Некорректное значение цены: {price_str}\")\n",
        "\n",
        "\n",
        "average_price_4 = sum(numbers_4) / len(numbers_4)\n",
        "median_price_4 = find_median(numbers_4)\n",
        "print(median_price_4)\n",
        "print(numbers_4)\n",
        "print(len(numbers_4))\n",
        "print(average_price_4)\n"
      ],
      "metadata": {
        "colab": {
          "base_uri": "https://localhost:8080/"
        },
        "id": "-cO8WJdiUoG2",
        "outputId": "cc6ccd7c-9837-41df-b5c3-3fb438a5e4f7"
      },
      "execution_count": null,
      "outputs": [
        {
          "output_type": "stream",
          "name": "stdout",
          "text": [
            "['лавандовая питьевая бутылка из тритана 0.7л', 'черная питьевая бутылка 721 из тритана 0.7л', 'синяя питьевая бутылка 721 из тритана 0.7л', 'лавандовая питьевая бутылка из тритана 0.7л', 'черная питьевая бутылка 721 из тритана 0.7л', 'синяя питьевая бутылка 721 из тритана 0.7л', 'лавандовая питьевая бутылка из тритана 0.7л', 'черная питьевая бутылка 721 из тритана 0.7л', 'синяя питьевая бутылка 721 из тритана 0.7л']\n",
            "['1 229', '1 229', '1 229', '1 229', '1 229', '1 229', '1 229', '1 229', '1 229']\n",
            "1229\n",
            "[1229, 1229, 1229, 1229, 1229, 1229, 1229, 1229, 1229]\n",
            "9\n",
            "1229.0\n"
          ]
        }
      ]
    },
    {
      "cell_type": "code",
      "source": [
        "from dash import Dash, html, dcc\n",
        "import plotly.express as px\n",
        "import pandas as pd\n",
        "\n",
        "app = Dash(__name__)\n",
        "\n",
        "df = pd.DataFrame({\n",
        "    'Объемы бутылки': ['1 литров', '0.7 литров', '0.55 литров', '0.5 литров'],\n",
        "    'Цены': [1544.0, 1229.0, 1357.0, 1302.6363636363637]\n",
        "})\n",
        "\n",
        "fig = px.bar(df, x='Объемы бутылки', y='Цены', title='Разброс цен для разных объемов спортивных бутылок')\n",
        "\n",
        "app.layout = html.Div([\n",
        "    html.H1(\"Продажи в магазине\"),\n",
        "    dcc.Graph(figure=fig)\n",
        "])\n",
        "\n",
        "if __name__ == '__main__':\n",
        "    app.run_server(debug=True)"
      ],
      "metadata": {
        "colab": {
          "base_uri": "https://localhost:8080/",
          "height": 671
        },
        "id": "MytZUHy8Jqz7",
        "outputId": "e06e56df-66e1-493b-96e3-65ee3f7c9acf"
      },
      "execution_count": null,
      "outputs": [
        {
          "output_type": "display_data",
          "data": {
            "text/plain": [
              "<IPython.core.display.Javascript object>"
            ],
            "application/javascript": [
              "(async (port, path, width, height, cache, element) => {\n",
              "    if (!google.colab.kernel.accessAllowed && !cache) {\n",
              "      return;\n",
              "    }\n",
              "    element.appendChild(document.createTextNode(''));\n",
              "    const url = await google.colab.kernel.proxyPort(port, {cache});\n",
              "    const iframe = document.createElement('iframe');\n",
              "    iframe.src = new URL(path, url).toString();\n",
              "    iframe.height = height;\n",
              "    iframe.width = width;\n",
              "    iframe.style.border = 0;\n",
              "    iframe.allow = [\n",
              "        'accelerometer',\n",
              "        'autoplay',\n",
              "        'camera',\n",
              "        'clipboard-read',\n",
              "        'clipboard-write',\n",
              "        'gyroscope',\n",
              "        'magnetometer',\n",
              "        'microphone',\n",
              "        'serial',\n",
              "        'usb',\n",
              "        'xr-spatial-tracking',\n",
              "    ].join('; ');\n",
              "    element.appendChild(iframe);\n",
              "  })(8050, \"/\", \"100%\", 650, false, window.element)"
            ]
          },
          "metadata": {}
        }
      ]
    },
    {
      "cell_type": "code",
      "source": [
        "import matplotlib.pyplot as plt\n",
        "import seaborn as sns\n",
        "import pandas as pd\n",
        "\n",
        "prices = []\n",
        "for price_str in balls_price:\n",
        "    try:\n",
        "        price = float(price_str.replace(' ', ''))\n",
        "        prices.append(price)\n",
        "    except ValueError:\n",
        "        print(f\"Ошибка преобразования цены: {price_str}\")\n",
        "data = {'price': prices}\n",
        "df = pd.DataFrame(data)\n",
        "\n",
        "\n",
        "\n",
        "plt.figure(figsize=(10, 6))\n",
        "plt.hist(df['price'], bins=15, edgecolor='black')\n",
        "plt.xlabel('Цена')\n",
        "plt.ylabel('Частота')\n",
        "plt.title('Распределение цен на волейбольные мячи')\n",
        "plt.show()\n",
        "\n",
        "plt.figure(figsize=(10, 6))\n",
        "sns.histplot(df['price'], kde=True, bins=15)\n",
        "plt.xlabel('Цена')\n",
        "plt.ylabel('Частота')\n",
        "plt.title('Распределение цен на волейбольные мячи')\n",
        "plt.show()\n",
        "\n"
      ],
      "metadata": {
        "colab": {
          "base_uri": "https://localhost:8080/",
          "height": 1000
        },
        "id": "ZZ3T0h-g9g8m",
        "outputId": "77a39665-b971-4d48-aa83-41b805eece71"
      },
      "execution_count": null,
      "outputs": [
        {
          "output_type": "display_data",
          "data": {
            "text/plain": [
              "<Figure size 1000x600 with 1 Axes>"
            ],
            "image/png": "[encoded data removed]"
          },
          "metadata": {}
        },
        {
          "output_type": "display_data",
          "data": {
            "text/plain": [
              "<Figure size 1000x600 with 1 Axes>"
            ],
            "image/png": "[encoded data removed]"
          },
          "metadata": {}
        }
      ]
    },
    {
      "cell_type": "code",
      "source": [
        "import matplotlib.pyplot as plt\n",
        "import seaborn as sns\n",
        "import pandas as pd\n",
        "import numpy as np\n",
        "\n",
        "\n",
        "log_prices = []\n",
        "for price in prices:\n",
        "    if price > 0:\n",
        "        log_prices.append(np.log(price))\n",
        "    else:\n",
        "        print(f\"Цена равна нулю или отрицательна: {price}, пропуск.\")\n",
        "\n",
        "data = {'price': prices, 'log_price': log_prices}\n",
        "df = pd.DataFrame(data)\n",
        "\n",
        "plt.figure(figsize=(12, 4))\n",
        "plt.subplot(1, 2, 1)\n",
        "plt.hist(df['price'], bins=10, edgecolor='black')\n",
        "plt.xlabel('Цена')\n",
        "plt.ylabel('Частота')\n",
        "plt.title('Распределение цен')\n",
        "\n",
        "plt.subplot(1, 2, 2)\n",
        "sns.boxplot(y=df['price'])\n",
        "plt.ylabel('Цена')\n",
        "plt.title('Диаграмма размаха цен')\n",
        "\n",
        "plt.tight_layout()\n",
        "\n",
        "\n",
        "plt.show()\n",
        "\n",
        "\n",
        "\n",
        "\n",
        "plt.figure(figsize=(12, 4))\n",
        "\n",
        "plt.subplot(1, 2, 1)\n",
        "plt.hist(df['log_price'], bins=10, edgecolor='black')\n",
        "plt.xlabel('Логарифм цены')\n",
        "plt.ylabel('Частота')\n",
        "plt.title('Распределение логарифма цен')\n",
        "\n",
        "plt.subplot(1, 2, 2)\n",
        "sns.boxplot(y=df['log_price'])\n",
        "plt.ylabel('Логарифм цены')\n",
        "plt.title('Диаграмма размаха логарифма цен')\n",
        "\n",
        "plt.tight_layout()\n",
        "plt.show()"
      ],
      "metadata": {
        "colab": {
          "base_uri": "https://localhost:8080/",
          "height": 797
        },
        "id": "t8o1j3O89j3z",
        "outputId": "bccd9437-229d-4938-ba4b-3fd9189943bd"
      },
      "execution_count": null,
      "outputs": [
        {
          "output_type": "display_data",
          "data": {
            "text/plain": [
              "<Figure size 1200x400 with 2 Axes>"
            ],
            "image/png": "[encoded data removed]"
          },
          "metadata": {}
        },
        {
          "output_type": "display_data",
          "data": {
            "text/plain": [
              "<Figure size 1200x400 with 2 Axes>"
            ],
            "image/png": "[encoded data removed]"
          },
          "metadata": {}
        }
      ]
    },
    {
      "cell_type": "code",
      "source": [],
      "metadata": {
        "id": "1giwiRLJgXgB"
      },
      "execution_count": null,
      "outputs": []
    }
  ]
}