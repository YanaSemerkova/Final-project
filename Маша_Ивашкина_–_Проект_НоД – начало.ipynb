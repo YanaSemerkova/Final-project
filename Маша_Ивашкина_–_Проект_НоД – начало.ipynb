{
  "nbformat": 4,
  "nbformat_minor": 0,
  "metadata": {
    "colab": {
      "provenance": []
    },
    "kernelspec": {
      "name": "python3",
      "display_name": "Python 3"
    },
    "language_info": {
      "name": "python"
    }
  },
  "cells": [
    {
      "cell_type": "code",
      "source": [
        "# из колаба команды вытаскиваю все возможные импорты чтобы дальше не думать об этом\n",
        "import urllib, requests, socket, re, lxml, io, bs4, sqlite3, pandas, sqlalchemy\n",
        "from requests.compat import urljoin, quote_plus, urlparse, unquote\n",
        "import requests\n",
        "from bs4 import BeautifulSoup\n",
        "import pandas as pd\n",
        "from IPython.display import display\n",
        "import re\n",
        "import chardet"
      ],
      "metadata": {
        "id": "QPBtvx2QYFps"
      },
      "execution_count": 2,
      "outputs": []
    },
    {
      "cell_type": "markdown",
      "source": [
        "**Маркетинговая стратегия. Поиск суперзвезды.**"
      ],
      "metadata": {
        "id": "cQaxGxrt13va"
      }
    },
    {
      "cell_type": "markdown",
      "source": [
        "Одна из основных стратегий продвижения нашей команды – коллабы со знаменитыми волейболистами и волейбольными командами. В этом файле – процесс обработки информации об этом: таблица с показателями спортсменов и ее дальнейшая визуализация (она пока в процессе :) но тоже скоро здесь появится). Также я подумала, что так как мы работаем с командами, + фанаты часто болеют за конкретные команды, надо сделать анализ того, с какими командами можно коллабиться. Для этого я для каждого спортсмена из таблицы захожу на его страницу и вытаскиваю инфу о клубе, в котором он играет (гистограмма для этой штуки тоже скоро появится). При разработке кода если долго не могла найти ошибку, консультировалась с чатомГПТ, что могло пойти не так, или просила совета у сокомандников."
      ],
      "metadata": {
        "id": "lOCY8APV9KSu"
      }
    },
    {
      "cell_type": "code",
      "source": [
        "url = 'https://volley.ru/calendar/01J1VV7JAR7KZS011D2BDE00D5/statistics'\n",
        "response = requests.get(url)\n",
        "encoding = chardet.detect(response.content)['encoding']\n",
        "html = response.content.decode(encoding)\n",
        "soup = BeautifulSoup(html, 'lxml')\n",
        "\n",
        "# достаем имена\n",
        "html_names = soup.find_all('td', {'data-field': 'name'})\n",
        "names = []\n",
        "for i in html_names:\n",
        "  new_soup = BeautifulSoup(str(i), 'lxml')\n",
        "  s = new_soup.find_all('a')\n",
        "  names.append(s[0].text)\n",
        "\n",
        "# результаты подач\n",
        "html_serves = soup.find_all('td', {'data-field': 'total_serve_point'})\n",
        "serves = []\n",
        "for i in html_serves[1:]:\n",
        "  serves.append(i.text)\n",
        "\n",
        "# процент отличных приемов\n",
        "html_digs = soup.find_all('td', {'class': 'stat-table-5', 'data-field': 'total_receive_excellent'})\n",
        "digs = []\n",
        "for i in html_digs[1:]:\n",
        "  new_soup = BeautifulSoup(str(i), 'lxml')\n",
        "  s = new_soup.find_all('span', {'class': 'ts-table__active-cell'})\n",
        "  if s != []:\n",
        "    s = s[0].text\n",
        "    if '%' in s:\n",
        "      s = s[:len(i) - 1]\n",
        "    if '+' in s:\n",
        "      s = s[1:]\n",
        "    digs.append(s)\n",
        "  else:\n",
        "    digs.append('0')\n",
        "\n",
        "# процент эффективных атак\n",
        "html_hits = soup.find_all('td', {'class': 'stat-table-6', 'data-field': 'total_attack_point_percent'})\n",
        "hits = []\n",
        "for i in html_hits[1:]:\n",
        "  new_soup = BeautifulSoup(str(i), 'lxml')\n",
        "  s = new_soup.find_all('span', {'class': 'ts-table__active-cell'})\n",
        "  if s != []:\n",
        "    s = s[0].text\n",
        "    if '%' in s:\n",
        "      s = s[:len(i) - 1]\n",
        "    if '+' in s:\n",
        "      s = s[1:]\n",
        "    hits.append(s)\n",
        "  else:\n",
        "    hits.append('0')\n",
        "\n",
        "# очки на блоке\n",
        "html_blocks = soup.find_all('td', {'class': 'stat-table-7', 'data-field': 'total_block'})\n",
        "blocks = []\n",
        "for i in html_blocks[1:]:\n",
        "  new_soup = BeautifulSoup(str(i), 'lxml')\n",
        "  s = new_soup.find_all('span', {'class': 'ts-table__active-cell'})\n",
        "  if s != []:\n",
        "    s = s[0].text\n",
        "    if '%' in s:\n",
        "      s = s[:len(i) - 1]\n",
        "    if '+' in s:\n",
        "      s = s[1:]\n",
        "    blocks.append(s)\n",
        "  else:\n",
        "    blocks.append('0')\n",
        "print(names)\n",
        "print(serves)\n",
        "print(digs)\n",
        "print(hits)\n",
        "print(blocks)"
      ],
      "metadata": {
        "colab": {
          "base_uri": "https://localhost:8080/"
        },
        "id": "QzEDZATs1-tJ",
        "outputId": "253bc3fd-94b7-4aad-bafe-40493b6d7088"
      },
      "execution_count": 11,
      "outputs": [
        {
          "output_type": "stream",
          "name": "stdout",
          "text": [
            "['Бабкевич Владислав', 'Железняков Павел', 'Мурашко Роман', 'Сурмачевский Андрей', 'Сиденко Егор', 'Дмитриев Семен', 'Папазов Виталий', 'Тетюхин Павел', 'Капранов Василий', 'Пакшин Роман', 'Мергарехо Осниель', 'Хлякин Михаил', 'Янт Марлон', 'Зубов Николай', 'Аль Хачдади Мохамед', 'Волков Дмитрий', 'Авдоченко Павел', 'Сапожков Максим', 'Поталюк Роман', 'Соколов Цветан', 'Рыбаков Евгений', 'Дикарев Виталий', 'Морозов Никита', 'Маркин Александр', 'Фиэль Родригес Давид', 'Казаченков Илья', 'Воронков Федор', 'Лызик Дмитрий', 'Родичев Алексей', 'Бочаров Максим', 'Ивович Марко', 'Лабинский Михаил', 'Клец Кирилл', 'Богдан Денис', 'Чжан Цзинъинь', 'Заболотников Георгий', 'Сподобец Илья', 'Курбанов Омар', 'Урсов Кирилл', 'Захватенков Александр', 'Крсманович Петар', 'Клюка Егор', 'Пискарев Иван', 'Шахбанмирзаев Ражабдибир', 'Эннс Корней', 'Пипуныров Матвей', 'Масько Артем', 'Подлесных Ярослав', 'Максимов Антон', 'Шкулявичус Романас', 'Пятыркин Александр', 'Бирюков Денис', 'Жук Дмитрий', 'Никитин Сергей', 'Динейкин Станислав', 'Куркаев Ильяс', 'Семышев Антон', 'Космин Максим', 'Сафонов Алексей', 'Шпилев Максим', 'Михайлов Максим', 'Яковлев Иван', 'Шевляков Дмитрий', 'Титов Максим', 'Щербаков Михаил', 'Супрунов Кирилл', 'Титич Андрей', 'Крот Никита', 'Мельников Александр', 'Деру Сэм', 'Ананьев Андрей', 'Литвиненко Назар', 'Савин Сергей', 'Литвинов Денис', 'Бусел Сергей', 'Мельников Артём', 'Кудряшов Дмитрий', 'Костадинов Александр', 'Щадилов Леонид', 'Ганенко Алексей', 'Кухно Никита', 'Феоктистов Егор', 'Макаренко Дмитрий', 'Власов Илья', 'Кононов Алексей', 'Аспарухов Аспарух', 'Довгань Артём', 'Пирайнен Сергей', 'Аксютин Никита', 'Вольвич Артём', 'Подребинкин Иван', 'Юльмухаметов Илья', 'Романовский Роман', 'Филиппов Игорь', 'Курбатов Дмитрий', 'Свентицкис Чеславс', 'Панов Сергей', 'Бражнюк Юрий', 'Колмаков Алексей', 'Съемщиков Владимир', 'Рохин Сергей', 'Падо Михаил', 'Марченко Андрей', 'Якутин Егор', 'Ковальчук Алексей', 'Белогорцев Максим', 'Шенкель Денис', 'Черейский Денис', 'Коленковский Дмитрий', 'Коченов Александр', 'Рахматуллин Ильнур', 'Антонов Денис', 'Цепков Юрий', 'Поздняков Савелий', 'Александров Артем', 'Мозжухин Клим', 'Котов Андрей', 'Бескровный Николай', 'Зинченко Максим', 'Кириллов Максим', 'Бестужев Макар', 'Руднев Вячеслав', 'Панков Павел', 'Леал Йоанди', 'Енин Владислав', 'Хираудо Матиас', 'Ткачёв Александр', 'Борило Илья', 'Гетман Денис', 'Консепсион Хавьер', 'Чекмизов Кирилл', 'Слободянюк Александр', 'Данилов Михаил', 'Осипов Константин', 'Порошин Роман', 'Коваликов Игорь', 'Кобзарь Игорь', 'Полетаев Виктор', 'Фетцов Виталий', 'Ушков Андрей', 'Щербинин Дмитрий', 'Казбанов Егор', 'Червяков Сергей', 'Тюшкевич Константин', 'Федоров Михаил', 'Андреев Антон', 'Кристенсон Майка', 'Костадинов Слави', 'Йовович Никола', 'Каюмов Фаннур', 'Кулыгин Михаил', 'Пурин Максим', 'Вышников Михаил', 'Галимов Руслан', 'Филиппов Дмитро', 'Скворцов Иван', 'Тисевич Игорь', 'Зудин Никита', 'Кречетов Егор', 'Каванна Максимилиано', 'Крескин Максим', 'Моторыгин Кирилл', 'Рукавишников Евгений', 'Заволжский Даниил', 'Иванов Артем', 'Терентьев Олег', 'Квочко Андрей', 'Тарасенко Василий', 'Бутько Александр', 'Бережко Юрий', 'Морозов Илья', 'Хайбулов Александр', 'Аношко Антон', 'Подколзин Денис', 'Ковалев Дмитрий', 'Троян Николай', 'Серов Георгий', 'Тихонов Тимофей', 'Прытков Захар', 'Сивожелез Евгений', 'Богатко Максим', 'Голованов Даниил', 'Павлов Тимофей', 'Напольских Кирилл', 'Евсеев Александр', 'Ожиганов Вадим', 'Быстров Денис', 'Жось Роман', 'Никоненко Виктор', 'Орлов Петр', 'Пархоменко Роман', 'Сидоренко Михаил', 'Толок Денис', 'Бесчастнов Илья', 'Воронов Арсений', 'Вишняков Михаил', 'Молдавский Артем', 'Юринский Павел', 'Иванов Илья', 'Уразов Александр', 'Полочанин Владислав', 'Онищенко Илья', 'Гараев Артур', 'Салтанов Артем', 'Вылков Максим', 'Лапин Артем', 'Ковалев Егор', 'Заступов Евгений', 'Рыков Степан', 'Бенкович Тимофей', 'Моисеев Александр', 'Барабаш Артем', 'Казаринов Дмитрий', 'Андреев Евгений', 'Савельев Евгений', 'Конев Виктор', 'Янутов Александр', 'Баранов Евгений', 'Швец Дмитрий', 'Керминен Лаури', 'Федоров Илья', 'Гуляев Андрей', 'Голубев Валентин', 'Каштанов Михаил', 'Осадчий Артем', 'Фазулов Василь', 'Брагин Роман', 'Кротков Валентин', 'Шишкин Владимир', 'Кириллов Илья', 'Нагаец Никита', 'Ищенко Данила', 'Вишневецкий Никита', 'Жогов Евгений', 'Красильников Александр', 'Голубев Денис', 'Аршинов Роман', 'Граханцев Тимофей', 'Кураш Алексей', 'Драгунов Григорий', 'Исхаков Тимур', 'Захаров Артем', 'Качуров Гордей', 'Пятаков Клим', 'Будюхин Максим', 'Данани Сантьяго', 'Чанчиков Алексей', 'Еремин Никита', 'Новицкий Всеволод', 'Тебенихин Павел', 'Гребенников Женя', 'Кривитченко Семён', 'Максименко Максим', 'Сайфуллин Денис', 'Николаев Корней', 'Мелкозеров Сергей', 'Мартынюк Роман', 'Фролов Игорь']\n",
            "['29', '15', '42', '69', '24', '42', '12', '26', '36', '37', '20', '18', '37', '16', '20', '25', '14', '32', '18', '11', '13', '20', '11', '11', '16', '27', '18', '43', '10', '15', '13', '31', '29', '25', '33', '14', '18', '24', '10', '25', '27', '7', '24', '16', '8', '15', '17', '13', '5', '12', '9', '10', '4', '5', '12', '11', '17', '16', '7', '4', '10', '15', '4', '10', '6', '3', '3', '12', '6', '9', '12', '8', '6', '4', '5', '4', '11', '8', '4', '5', '4', '1', '5', '6', '5', '5', '3', '8', '5', '1', '15', '14', '23', '5', '3', '15', '13', '8', '8', '4', '6', '7', '7', '16', '2', '17', '0', '3', '5', '4', '2', '1', '4', '5', '6', '7', '7', '4', '7', '22', '1', '18', '25', '4', '2', '11', '1', '3', '1', '8', '6', '4', '4', '9', '1', '7', '9', '5', '2', '15', '2', '4', '0', '27', '2', '4', '6', '22', '5', '6', '0', '0', '9', '1', '7', '1', '14', '2', '7', '4', '1', '2', '6', '0', '6', '0', '1', '0', '3', '0', '1', '7', '1', '0', '2', '1', '2', '1', '5', '2', '1', '3', '3', '0', '1', '1', '3', '3', '0', '0', '0', '1', '0', '0', '1', '0', '0', '0', '0', '0', '0', '0', '0', '0', '0', '0', '0', '0', '0', '0', '0', '0', '0', '0', '0', '0', '0', '0', '0', '0', '0', '0', '0', '0', '0', '0', '0', '0', '0', '0', '0', '0', '0', '0', '0', '0', '0', '0', '0', '0', '0', '0', '0', '0', '0', '0', '0', '0', '0', '0', '0', '0', '0', '0', '0', '0', '0', '0']\n",
            "['20', '21', '7', '18', '0', '16', '16', '19', '21', '21', '18', '2', '13', '6', '20', '23', '26', '0', '0', '14', '10', '13', '19', '16', '27', '0', '24', '20', '17', '18', '20', '24', '20', '22', '14', '13', '20', '13', '22', '14', '27', '22', '17', '0', '0', '21', '21', '16', '7', '20', '21', '16', '12', '16', '14', '16', '19', '11', '7', '22', '9', '34', '0', '23', '0', '0', '12', '26', '13', '24', '8', '0', '19', '6', '27', '18', '18', '17', '15', '0', '15', '18', '14', '0', '33', '20', '21', '0', '15', '0', '0', '18', '14', '24', '0', '0', '22', '0', '0', '12', '19', '10', '18', '9', '14', '33', '17', '17', '26', '17', '0', '19', '0', '16', '0', '11', '12', '16', '27', '0', '30', '0', '0', '9', '21', '25', '0', '0', '24', '28', '0', '16', '11', '0', '0', '0', '0', '0', '0', '0', '16', '0', '10', '0', '0', '0', '0', '0', '0', '75', '12', '13', '0', '22', '0', '13', '0', '9', '0', '0', '0', '19', '0', '0', '0', '0', '29', '0', '0', '20', '10', '0', '0', '0', '0', '0', '10', '23', '0', '11', '12', '100', '30', '0', '28', '0', '0', '0', '0', '13', '0', '0', '0', '0', '0', '0', '0', '0', '0', '0', '0', '0', '0', '0', '0', '0', '3', '17', '0', '0', '21', '11', '0', '0', '0', '0', '25', '18', '0', '22', '24', '0', '19', '13', '0', '0', '18', '23', '24', '0', '21', '22', '16', '0', '0', '23', '0', '0', '0', '18', '14', '0', '0', '0', '20', '31', '17', '17', '0', '0', '23', '15', '25', '0', '0', '19', '5', '16']\n",
            "['53', '47', '50', '47', '48', '49', '45', '52', '43', '45', '50', '46', '50', '47', '46', '55', '46', '56', '52', '52', '44', '54', '45', '45', '59', '50', '49', '59', '36', '46', '48', '52', '54', '47', '53', '60', '42', '52', '45', '54', '61', '48', '39', '47', '43', '40', '43', '52', '62', '46', '41', '42', '64', '42', '56', '61', '48', '59', '55', '38', '45', '59', '53', '49', '58', '51', '43', '50', '58', '53', '48', '50', '41', '39', '57', '55', '43', '41', '37', '50', '46', '41', '38', '51', '58', '46', '48', '41', '46', '67', '47', '59', '58', '51', '55', '49', '38', '68', '46', '58', '48', '49', '37', '48', '64', '63', '44', '70', '50', '38', '39', '42', '50', '40', '47', '31', '39', '51', '43', '45', '41', '45', '51', '46', '46', '62', '56', '55', '56', '52', '47', '37', '39', '51', '38', '52', '56', '55', '41', '36', '56', '40', '55', '26', '42', '52', '47', '36', '50', '60', '54', '33', '17', '40', '14', '39', '25', '52', '44', '40', '60', '61', '52', '44', '43', '54', '44', '75', '83', '45', '42', '16', '43', '83', '62', '39', '27', '50', '23', '16', '33', '66', '18', '83', '50', '20', '12', '0', '44', '37', '30', '16', '20', '10', '12', '10', '50', '10', '0', '10', '33', '0', '0', '0', '0', '0', '0', '0', '0', '0', '0', '0', '0', '0', '0', '0', '0', '0', '0', '0', '0', '0', '0', '0', '0', '0', '0', '0', '0', '0', '0', '0', '0', '0', '0', '0', '0', '0', '0', '0', '0', '0', '0', '0', '0', '0', '0', '0', '0', '0', '0', '0', '0', '0', '0', '0', '0', '0']\n",
            "['30', '26', '39', '54', '41', '33', '28', '24', '37', '52', '32', '31', '38', '21', '26', '45', '27', '21', '21', '26', '30', '86', '19', '29', '77', '26', '20', '49', '35', '33', '21', '28', '30', '27', '30', '48', '29', '19', '29', '67', '50', '31', '16', '18', '16', '12', '16', '22', '53', '23', '12', '25', '62', '25', '12', '45', '12', '64', '52', '19', '17', '39', '37', '46', '44', '12', '15', '42', '50', '21', '53', '12', '13', '11', '37', '42', '13', '12', '17', '34', '14', '21', '14', '47', '25', '18', '37', '5', '9', '30', '7', '31', '22', '45', '32', '44', '4', '17', '10', '26', '23', '31', '14', '29', '29', '21', '11', '33', '38', '6', '6', '7', '34', '8', '19', '12', '9', '20', '12', '22', '6', '3', '22', '10', '7', '27', '12', '18', '17', '14', '14', '1', '5', '16', '33', '19', '20', '2', '4', '19', '15', '22', '16', '10', '10', '11', '16', '11', '17', '11', '6', '2', '18', '3', '19', '3', '11', '1', '7', '7', '11', '1', '3', '0', '6', '13', '1', '8', '8', '2', '1', '7', '8', '5', '8', '4', '1', '2', '4', '5', '1', '0', '1', '1', '0', '3', '0', '1', '0', '1', '0', '0', '1', '0', '0', '0', '0', '0', '1', '0', '0', '1', '0', '0', '0', '0', '0', '0', '0', '0', '0', '0', '0', '0', '0', '0', '0', '0', '0', '0', '0', '0', '0', '0', '0', '0', '0', '0', '0', '0', '0', '0', '0', '0', '0', '0', '0', '0', '0', '0', '0', '0', '0', '0', '0', '0', '0', '0', '0', '0', '0', '0', '0', '0', '0', '0', '0', '0']\n"
          ]
        }
      ]
    },
    {
      "cell_type": "markdown",
      "source": [
        "Поиск крутых клубов по топ-игрокам (мужчины):\n",
        "\n",
        "*И здесь, и для женщин, я беру выборку из топ-60 игроков, чтобы смотреть клубы по ним (изначально в датасете мужчин 258, женщин – 232).*"
      ],
      "metadata": {
        "id": "SRYNaG0lLlne"
      }
    },
    {
      "cell_type": "code",
      "source": [
        "url = 'https://volley.ru/calendar/01J1VV7JAR7KZS011D2BDE00D5/statistics'\n",
        "response = requests.get(url)\n",
        "encoding = chardet.detect(response.content)['encoding']\n",
        "html = response.content.decode(encoding)\n",
        "soup = BeautifulSoup(html, 'lxml')\n",
        "\n",
        "tables = soup.find_all('table')\n",
        "ssylki = []\n",
        "\n",
        "hrefs = tables[0].find_all('a')\n",
        "for hre in hrefs:\n",
        " hre = str(hre) # вытащили список ссылок на страницы игроков\n",
        " index = hre.find('>')\n",
        " #print('https://volley.ru' + str(hre[9:44])) # сделали их корректными ссылками\n",
        " ssylki.append('https://volley.ru' + str(hre[9:44]))\n",
        "ssylki # получили в адекватном виде список ссылкок"
      ],
      "metadata": {
        "colab": {
          "base_uri": "https://localhost:8080/"
        },
        "collapsed": true,
        "id": "UPp_DRPdufVb",
        "outputId": "6a50a5c3-13a9-43c5-bb93-40ae481db00c"
      },
      "execution_count": 13,
      "outputs": [
        {
          "output_type": "execute_result",
          "data": {
            "text/plain": [
              "['https://volley.ru/players/01FQH659A2PK7V0G7YHJPT1YBC',\n",
              " 'https://volley.ru/players/01GWJ7ZMYRQM2Q0ZYKW2D31XMM',\n",
              " 'https://volley.ru/players/01GGF1PDDKN6T00C0FQCWP0XGT',\n",
              " 'https://volley.ru/players/01GGEWNTA0VGWC0V7RP4RJ0N00',\n",
              " 'https://volley.ru/players/01GWJ89PS8KYYM1754Z3YZ1AFK',\n",
              " 'https://volley.ru/players/01GGCHA2NARQR70SF6NRYH001X',\n",
              " 'https://volley.ru/players/01GGF39QXSE3R01PNFN7YM0HFF',\n",
              " 'https://volley.ru/players/01GGF1P8C91MAT0XTVECGS1YB8',\n",
              " 'https://volley.ru/players/01GDFYY2HZYVA11EYCBV3A0NJA',\n",
              " 'https://volley.ru/players/01G79HKA0SXWBZ0QEY9NFF0G9R',\n",
              " 'https://volley.ru/players/01J5N83Q6DHKK00RM0QD3N1E4F',\n",
              " 'https://volley.ru/players/01GGF0FDYZ6GY2193ZQ0WH0S4F',\n",
              " 'https://volley.ru/players/01J5RF7GKKKY350CT277Y21MP7',\n",
              " 'https://volley.ru/players/01GGEQ790MDQ0H12HMKNJ00QJ9',\n",
              " 'https://volley.ru/players/01H8BFG11A3H0G0EJCZBF01DYB',\n",
              " 'https://volley.ru/players/01GGF03M3DD1B618EGJGWW1GR2',\n",
              " 'https://volley.ru/players/01H8BFG1199F1R0THFHRKV0JE8',\n",
              " 'https://volley.ru/players/01H8BFG13SNJJE13S4C4WF0YEW',\n",
              " 'https://volley.ru/players/01GGVRW6DYMJX009A11W611Z3E',\n",
              " 'https://volley.ru/players/01GGEP9H89QFNA0NHAJ3JY1EH4',\n",
              " 'https://volley.ru/players/01GGSP399X9ZYG1YC07JV41WS4',\n",
              " 'https://volley.ru/players/01FPWFJKJCGDXW1WK5CF0E1FBA',\n",
              " 'https://volley.ru/players/01FQH66M7Z7PBC181YM8S40ZES',\n",
              " 'https://volley.ru/players/01GGF1Q6HGFSAM08C0G53M1J5B',\n",
              " 'https://volley.ru/players/01H9DNA780QTCT1HP1DX7K1ABX',\n",
              " 'https://volley.ru/players/01GGCB5AA1759F0GG4BYAR1Q54',\n",
              " 'https://volley.ru/players/01GGD0R50PTY7603N83YEB134N',\n",
              " 'https://volley.ru/players/01GGCB412S65V000958T5T0996',\n",
              " 'https://volley.ru/players/01GGCB6HNFVSS61G0G7C590WRM',\n",
              " 'https://volley.ru/players/01GGCHHW8HDPW007X0RT6Q1ZPW',\n",
              " 'https://volley.ru/players/01GGF2N6NVWBSC13PC6AH81QMG',\n",
              " 'https://volley.ru/players/01GGEZNMN2JWPQ1CWDDDH40SSG',\n",
              " 'https://volley.ru/players/01G79HJXZJ6CCG14DNG4JR0XS2',\n",
              " 'https://volley.ru/players/01GGEMRVMT6S2C07SEE01Y09NB',\n",
              " 'https://volley.ru/players/01H9GBRPKQCBP41Z4FKSNM0ESM',\n",
              " 'https://volley.ru/players/01GGF3J4EC41NQ1D3BGTRR0D11',\n",
              " 'https://volley.ru/players/01GGF1SVC2E6X808FH4RAX07PJ',\n",
              " 'https://volley.ru/players/01FQHBCY9YSMXK0SJMKVCT0JFQ',\n",
              " 'https://volley.ru/players/01GGBF7A32V24J070K2ETD154B',\n",
              " 'https://volley.ru/players/01GG9EQVC50H1R0YZHN2090WKG',\n",
              " 'https://volley.ru/players/01H8BFG12Q6XEB174P4EGQ0R0Y',\n",
              " 'https://volley.ru/players/01GG9MVD6BPC4X034D59TN0WYN',\n",
              " 'https://volley.ru/players/01F9EN5W8NMQ960JFZKSF71JH2',\n",
              " 'https://volley.ru/players/01FW66EHAY0DG815YK3N341R3R',\n",
              " 'https://volley.ru/players/01FQH68AVDTY6Y0D4QNNFT1B3Z',\n",
              " 'https://volley.ru/players/01GDFYRXEN01940EA99WJK085T',\n",
              " 'https://volley.ru/players/01H8BFG132PMZ80X7R9QSH0M1G',\n",
              " 'https://volley.ru/players/01GGC81TCT08K61KTD75NC1201',\n",
              " 'https://volley.ru/players/01GGCH492SC34P1GCVZ5H51E5Z',\n",
              " 'https://volley.ru/players/01GGC8HNX6X625095M4WAG18R4',\n",
              " 'https://volley.ru/players/01GQ289R2KG0CJ1C0Q7MAA1213',\n",
              " 'https://volley.ru/players/01GGF24MXD7DRK1EFMHAR21338',\n",
              " 'https://volley.ru/players/01GGEN01ZBTVBH043HZE2A166C',\n",
              " 'https://volley.ru/players/01GGVRSRB0XNJ31AWF2QBC1XCM',\n",
              " 'https://volley.ru/players/01FQHBEGKA791N1TREMQWV1EZR',\n",
              " 'https://volley.ru/players/01GGCB94HHAWHK122207RP0CDK',\n",
              " 'https://volley.ru/players/01GGEP6VMGYPC30TPX2DX31XRT',\n",
              " 'https://volley.ru/players/01GGD1533MF55H19E8Y6XS09JR',\n",
              " 'https://volley.ru/players/01FQH5Y0YKV0P209VMNNSY09GA',\n",
              " 'https://volley.ru/players/01GGF3K8RKN004067KF6F70GWB',\n",
              " 'https://volley.ru/players/01GGF09QAQWXF305FDYG361WJK',\n",
              " 'https://volley.ru/players/01GGBEQ3ZD3ARM1KN3TT3H0Z8N',\n",
              " 'https://volley.ru/players/01H8BFG14G85WS052TQJ8Q1KMN',\n",
              " 'https://volley.ru/players/01H8BFG143MQMM1WPZE77A00CF',\n",
              " 'https://volley.ru/players/01GGF1TQ13M6FJ0RY0HGA815R0',\n",
              " 'https://volley.ru/players/01H8BFG140W52W1K1MQVA11A27',\n",
              " 'https://volley.ru/players/01GQ286SF0ARRZ12860JRN01Y5',\n",
              " 'https://volley.ru/players/01FQH5WN38JTW90NV6AQR30T91',\n",
              " 'https://volley.ru/players/01FQH4TMYWBR5E03AW9EHM047Y',\n",
              " 'https://volley.ru/players/01GGEZH7E5M8QF0127991P0D9H',\n",
              " 'https://volley.ru/players/01GQ288961Q3QT1BVMYAMG0NWK',\n",
              " 'https://volley.ru/players/01GG9EY7J2ABRF1HW900DW0086',\n",
              " 'https://volley.ru/players/01GGCAH8H8XMHZ0A39SG7K0C3V',\n",
              " 'https://volley.ru/players/01GGF0SN5Q4WZ814F48NGA0W72',\n",
              " 'https://volley.ru/players/01GGF185FFKCKQ16MXRP8S1AFB',\n",
              " 'https://volley.ru/players/01GGF1VFS54GDA16HF1H810R01',\n",
              " 'https://volley.ru/players/01H8BFG12RR3TT1X51FEP90ZPA',\n",
              " 'https://volley.ru/players/01GGCBCSDXHVF40R8JNGCG1PR3',\n",
              " 'https://volley.ru/players/01H8BFG14MBBNZ1JR5MFGX0V73',\n",
              " 'https://volley.ru/players/01H8BFG11V23DA0QEF08SN0R96',\n",
              " 'https://volley.ru/players/01GQ28D8DY873K04FV1KHF0Z76',\n",
              " 'https://volley.ru/players/01GGVRPJ3DM2BH1XQZBVK01BZ9',\n",
              " 'https://volley.ru/players/01FW66AX51P12V1QRR981N1VAS',\n",
              " 'https://volley.ru/players/01GGC8AKRV48W91GV5NFAR17SR',\n",
              " 'https://volley.ru/players/01GGEZXWDKF7YJ1RP07ZM806YX',\n",
              " 'https://volley.ru/players/01H9G41DFVAZM30EYDEE091A3C',\n",
              " 'https://volley.ru/players/01FW66KCBKW6FG11B4560T12E4',\n",
              " 'https://volley.ru/players/01GGF28PPDB2JB14B3EDX80EV5',\n",
              " 'https://volley.ru/players/01GG9F2GN6TVJG1PK2YGWD0G02',\n",
              " 'https://volley.ru/players/01GGEZA11K7GES1SP9FQKC1MEV',\n",
              " 'https://volley.ru/players/01GGF2JY2C2YCN1FSRNDRW1EZ3',\n",
              " 'https://volley.ru/players/01GDGK678GJG171FF7PA2K0F8R',\n",
              " 'https://volley.ru/players/01GGEZQD74F9YD11TKS22C0ARQ',\n",
              " 'https://volley.ru/players/01GGEY49PWBBPN1SV70JDR1R5S',\n",
              " 'https://volley.ru/players/01H8BFG12TVYXT0176QW421ACJ',\n",
              " 'https://volley.ru/players/01GGEMW8H76DNK04E4XDT8063F',\n",
              " 'https://volley.ru/players/01GGERGTFESDJT12VCKAM41B72',\n",
              " 'https://volley.ru/players/01GGCCH3DFJFZJ0Z1YWVSJ1JMQ',\n",
              " 'https://volley.ru/players/01H8BFG12K0FS808N6RMAB0P1V',\n",
              " 'https://volley.ru/players/01H8BFG141WR1P03TN8SGD06VZ',\n",
              " 'https://volley.ru/players/01GG9E2P9QQZ850WBT4WKH1K2P',\n",
              " 'https://volley.ru/players/01GGEPTYNT5XZF1ATAHFQZ0XBS',\n",
              " 'https://volley.ru/players/01H8BFG132NBT80G6GMW500EB6',\n",
              " 'https://volley.ru/players/01FW6676RB2Z8P1R8FERJX1JFF',\n",
              " 'https://volley.ru/players/01GFQMSSWRN3DJ0W56N2PC1E73',\n",
              " 'https://volley.ru/players/01GGEN6G3QB9WY1J5GXDGK1HBG',\n",
              " 'https://volley.ru/players/01GGF3CHRQ4JMG0JQB7P6Z17YZ',\n",
              " 'https://volley.ru/players/01GGCAMY738N181PT9YCNY0NSM',\n",
              " 'https://volley.ru/players/01GGF1S2BDHWT81Y6XPS950DC1',\n",
              " 'https://volley.ru/players/01H8BFG12P9B3512YMH9SR1VJ0',\n",
              " 'https://volley.ru/players/01GGERKEYV0XW31NX9F9520964',\n",
              " 'https://volley.ru/players/01GQ285NVGA73X07S682021KVN',\n",
              " 'https://volley.ru/players/01GGF0RET50K5S1HF985R51212',\n",
              " 'https://volley.ru/players/01GGF3C98H5Q0B1QAFW0V40QDN',\n",
              " 'https://volley.ru/players/01H8BFG11AWEF91GV7RHDW1GQE',\n",
              " 'https://volley.ru/players/01GARZM3R67PF90HX12BEA1CRK',\n",
              " 'https://volley.ru/players/01GGD3QWZSJEV30GGB57AB1Q78',\n",
              " 'https://volley.ru/players/01GGF10TV7V66104DAYD1S076V',\n",
              " 'https://volley.ru/players/01H8BFG129WGMA0P5YK2SD1GK8',\n",
              " 'https://volley.ru/players/01GFZAN7Y01ZZ405NSCVXS1FS2',\n",
              " 'https://volley.ru/players/01H8BFG11J0HVW1C94DJ9J07ZW',\n",
              " 'https://volley.ru/players/01H8BFG13P1QWN1WX4G70M027P',\n",
              " 'https://volley.ru/players/01GGC8DW70AAFH00T793QR0558',\n",
              " 'https://volley.ru/players/01J5AE02MNCMYP0EM9R5QS0WA7',\n",
              " 'https://volley.ru/players/01H8BFG124TRPZ11S3XMHT1DJN',\n",
              " 'https://volley.ru/players/01J5V6MHYGYNZT0WGHZNTE1RMR',\n",
              " 'https://volley.ru/players/01GGCAWVNX34J60AFA25MD1RA7',\n",
              " 'https://volley.ru/players/01H8BFG11KT9TX1J5MYE2X1RGS',\n",
              " 'https://volley.ru/players/01H8BFG11VX4SS0SH7GAKC1FNH',\n",
              " 'https://volley.ru/players/01J69P509D1ETT05MV4FDT0K75',\n",
              " 'https://volley.ru/players/01H8BFG14C0ET20571NX6W15XG',\n",
              " 'https://volley.ru/players/01GGVHHJ2MTRPC0QM78CXZ1JZ9',\n",
              " 'https://volley.ru/players/01G79HKPVGF5221SBX47E31SPJ',\n",
              " 'https://volley.ru/players/01GGCDZX2GGX5N13H0ESRG0EC6',\n",
              " 'https://volley.ru/players/01GGF2CWXMH7PM0F6E64Y30Q4T',\n",
              " 'https://volley.ru/players/01GGCGZ4PK9KY11SQ12J0W0JZA',\n",
              " 'https://volley.ru/players/01GGAXV1PM2G33044NJPWZ1CRE',\n",
              " 'https://volley.ru/players/01GGD1CEVW84VG0Y2FF9BV0R89',\n",
              " 'https://volley.ru/players/01GGCFN0DW9NDK1JENWVCS1FQ1',\n",
              " 'https://volley.ru/players/01GGERC7C05AHC122QD6S114NF',\n",
              " 'https://volley.ru/players/01GGF0114SVQTA00GHFAAF02NW',\n",
              " 'https://volley.ru/players/01H8BFG12DGDD11JT5SQK20HM7',\n",
              " 'https://volley.ru/players/01GGF2FF4EPV2005YY57N21W9T',\n",
              " 'https://volley.ru/players/01GQ28EBZTFETD0EV8PHYJ0WVS',\n",
              " 'https://volley.ru/players/01GR6CF3CM5J3X1GEGRCBR189Q',\n",
              " 'https://volley.ru/players/01GGEPSMVZJQHA0KHN60851CY3',\n",
              " 'https://volley.ru/players/01GGEZT5PMYVZS1MWFRXC30HDH',\n",
              " 'https://volley.ru/players/01GGF1RZ4NSM6R13ZHJXSV0A0J',\n",
              " 'https://volley.ru/players/01GGF266E6D53P07684MJQ1FMY',\n",
              " 'https://volley.ru/players/01GGF3E43B14QY0E706KS90BYB',\n",
              " 'https://volley.ru/players/01H8BFG12SJ8JE0Q84VD5E01G3',\n",
              " 'https://volley.ru/players/01GGF2K6XCRQ0A0D1M98CJ0496',\n",
              " 'https://volley.ru/players/01FQH61EKE5PW70N8HRVQ90QW5',\n",
              " 'https://volley.ru/players/01GGF3MWCDT28E1XCCMJEJ1CHM',\n",
              " 'https://volley.ru/players/01J555NAH5V1ST0XMVQRCX0Z0V',\n",
              " 'https://volley.ru/players/01GGC6NF195KXA1E9NQ3551EWH',\n",
              " 'https://volley.ru/players/01GGCA1XW0PENE072R5YZ809Z4',\n",
              " 'https://volley.ru/players/01H8BFG12ACY7K1C6FC1TF1M26',\n",
              " 'https://volley.ru/players/01GGF1RWQ7H8AZ0KGQ547R1QSP',\n",
              " 'https://volley.ru/players/01GGVQH12DK3WQ0KP6XCEG1K08',\n",
              " 'https://volley.ru/players/01GG9EP258Z4821R4KGYJK0XTQ',\n",
              " 'https://volley.ru/players/01H8BFG136K7P40PDG3PDH0PHW',\n",
              " 'https://volley.ru/players/01FW66GSGJERA61VPDXE7H05KM',\n",
              " 'https://volley.ru/players/01H8BFG127MFR402RKB0Y80J9K',\n",
              " 'https://volley.ru/players/01H8BFG12A4DT302H0CGET0WAX',\n",
              " 'https://volley.ru/players/01GGEZDEPQEPH81QEW9MXW1SBN',\n",
              " 'https://volley.ru/players/01FBRJHN9MWHYY0Q0SQC511T3M',\n",
              " 'https://volley.ru/players/01GGD1P4HG7R341HTAW8BC1AWP',\n",
              " 'https://volley.ru/players/01H8BFG11NTJA5169BBKKV14PJ',\n",
              " 'https://volley.ru/players/01GGCARJAXNYYN1PMCJWV801D3',\n",
              " 'https://volley.ru/players/01GGEN8VQTRZ351SFZ7W2N0G30',\n",
              " 'https://volley.ru/players/01GGEPWGZHTGQ81XFQCNBX0YT2',\n",
              " 'https://volley.ru/players/01GGSP4Y5DGV1R1VQ9YJ3S07Q8',\n",
              " 'https://volley.ru/players/01GGD4H4PQF1DZ00P3ZFAD059Y',\n",
              " 'https://volley.ru/players/01GGAXCF4HAAYQ0WQXVK6H0MT2',\n",
              " 'https://volley.ru/players/01H8BFG145XD4V1708AGSG1SYH',\n",
              " 'https://volley.ru/players/01H8BFG13VY9Z21GE455PG0BEA',\n",
              " 'https://volley.ru/players/01GGD1YEQVF2RA05QZ90P10XZ7',\n",
              " 'https://volley.ru/players/01GDG37TTWSTDD1NCES1EC05HH',\n",
              " 'https://volley.ru/players/01GFQN47CK2P3S07DTYX7G0AAQ',\n",
              " 'https://volley.ru/players/01H8BFG11JQKQW1NWDSJ6H12JM',\n",
              " 'https://volley.ru/players/01HEMGDHSZF7B60E9RZZNR02SG',\n",
              " 'https://volley.ru/players/01GDGK40B2ZK0W189X05FM06W2',\n",
              " 'https://volley.ru/players/01GDGK6P9C2HF61WFZQJTW154B',\n",
              " 'https://volley.ru/players/01H8BFG123YBSB09MBHGWD0W70',\n",
              " 'https://volley.ru/players/01GFZAG8CP781F125YK8A7176D',\n",
              " 'https://volley.ru/players/01GDFYWSZQHJ1C0K7S6VQ716ZP',\n",
              " 'https://volley.ru/players/01GGSNP1NA5BXN1QGW0HM81SQ9',\n",
              " 'https://volley.ru/players/01GQ28BD3PPPW51WHXAXPZ184B',\n",
              " 'https://volley.ru/players/01H8BFG13C5CSW04QKPFNT037E',\n",
              " 'https://volley.ru/players/01GRXCW03ZE1041SKXK4HJ1DMN',\n",
              " 'https://volley.ru/players/01GDFYNV5PTX501VJRR14V1D58',\n",
              " 'https://volley.ru/players/01GGF0MR9M63EC0XZFGSY11EKJ',\n",
              " 'https://volley.ru/players/01GDG3AAB9PW2D1EXMEYTS10MF',\n",
              " 'https://volley.ru/players/01H8BFG11SQQ21158DJK7N02N8',\n",
              " 'https://volley.ru/players/01GSA32M38YXJJ011TRTW91P2P',\n",
              " 'https://volley.ru/players/01H8BFG135RTCP0KDF5V230F84',\n",
              " 'https://volley.ru/players/01H8BFG14P5KKR11CKYZGN182N',\n",
              " 'https://volley.ru/players/01GDFYYN0AR6Q005QNTM4R0VYX',\n",
              " 'https://volley.ru/players/01H8BFG146PZQN1CJV1YHG135K',\n",
              " 'https://volley.ru/players/01H8BFG13J6XN81X5Z7NGK0GB6',\n",
              " 'https://volley.ru/players/01H8BFG13C035Y0S37Z2PV0KJS',\n",
              " 'https://volley.ru/players/01GWM5WJQM8S1A1MZW9PK908WW',\n",
              " 'https://volley.ru/players/01H8BFG13RF19K0A1YHERN060Y',\n",
              " 'https://volley.ru/players/01GRXBVRZT936600JWJEM5080E',\n",
              " 'https://volley.ru/players/01GXZBMW81QB170J9K1M011KV6',\n",
              " 'https://volley.ru/players/01H9DNGTHMDEQK1K9J48TP1EXX',\n",
              " 'https://volley.ru/players/01H8BFG128D5HC1VWK20BY1J3X',\n",
              " 'https://volley.ru/players/01GXZN5JD1Z40Q1ZX96F9705ET',\n",
              " 'https://volley.ru/players/01HWWK9DWFA7CP1KQ8Q17C11P7',\n",
              " 'https://volley.ru/players/01GGF2BGTEBW0N19XMY9BD1BCR',\n",
              " 'https://volley.ru/players/01G79HK0PXDHC10M4S6RF91CWN',\n",
              " 'https://volley.ru/players/01GDFYPP408VJ00ACC6ZGZ0VVK',\n",
              " 'https://volley.ru/players/01FQHBMQ0DA29G1ZZQQ54H0MDN',\n",
              " 'https://volley.ru/players/01GRXQSRMSEQ2J16MYMBSS1N5N',\n",
              " 'https://volley.ru/players/01GDG3CDS0V2N60DZ9DQ7T1Y1A',\n",
              " 'https://volley.ru/players/01GGCH1NRK4TXH0AETQEC50A4W',\n",
              " 'https://volley.ru/players/01GGEMCQW9X72E0V4MMWEA176V',\n",
              " 'https://volley.ru/players/01H8BFG14G4Q891JW8FGTR0E93',\n",
              " 'https://volley.ru/players/01GGEPBTEETE4G1EJSMCKN18PX',\n",
              " 'https://volley.ru/players/01GGF05QE2Q3QH1GJY4GKY07VG',\n",
              " 'https://volley.ru/players/01GSA3P0CKWXSV1BNRNW2Q1ZGE',\n",
              " 'https://volley.ru/players/01GGF07WP2R86H11FQ7FYH0651',\n",
              " 'https://volley.ru/players/01GGF0DR08X17H0YRJQGM61PXC',\n",
              " 'https://volley.ru/players/01H8BFG13C9K5P062ZN48Y16CN',\n",
              " 'https://volley.ru/players/01H8BFG1477FC417Z0AE2W1PS6',\n",
              " 'https://volley.ru/players/01GGF26YRQKM9015DEDVBN195K',\n",
              " 'https://volley.ru/players/01GGF3TWYQRBY301XQ5K2H0KEF',\n",
              " 'https://volley.ru/players/01GGVQ7XHMY3C415N3S4XY0QE1',\n",
              " 'https://volley.ru/players/01GG9FK0J8Z7651S8VDW9Z1BRK',\n",
              " 'https://volley.ru/players/01GGC36H5242Y51MPHXZQ70HSV',\n",
              " 'https://volley.ru/players/01GQ28HFZBKBZK017D1J8H0NT4',\n",
              " 'https://volley.ru/players/01GGF39D4H1G141Q2B07XK17KG',\n",
              " 'https://volley.ru/players/01GGF2N755FHMJ0JAEQYAW1C0Y',\n",
              " 'https://volley.ru/players/01GRXDMQP12SXS0ZVK47400ZJB',\n",
              " 'https://volley.ru/players/01H8BFG11XQ7VK0CPTQFGA028E',\n",
              " 'https://volley.ru/players/01GXZNPQJCYF3207N80GGP0S99',\n",
              " 'https://volley.ru/players/01H8BFG11YRPQN0FPERTV20P9J',\n",
              " 'https://volley.ru/players/01H8BFG12S703Z0E98PFW6071X',\n",
              " 'https://volley.ru/players/01H8BFG122NH4Q1KRY1XZJ01PS',\n",
              " 'https://volley.ru/players/01H8BFG12CWTHY0RSW2AR70E4P',\n",
              " 'https://volley.ru/players/01H8BFG128EFJC1RW02DER1A17',\n",
              " 'https://volley.ru/players/01GRXDK20GH44N00X4RAD11DA8',\n",
              " 'https://volley.ru/players/01GXZC163P02PG0HYDX9YH01C8',\n",
              " 'https://volley.ru/players/01H9JMWNCYXMYQ1DSXNA2G1HP9',\n",
              " 'https://volley.ru/players/01H9N8NSJ71NS21V70RCPW0CA6',\n",
              " 'https://volley.ru/players/01FQHBKRRFM56X0AF5DPJN0YK2',\n",
              " 'https://volley.ru/players/01FW661HGXHRJ40811X9BH1XDT',\n",
              " 'https://volley.ru/players/01HCCZJDGN8GZ21G894W8P1481',\n",
              " 'https://volley.ru/players/01GFZASZ2NCMWR0YMZYVM80GVQ',\n",
              " 'https://volley.ru/players/01GGA8SS7CSP8F1TKS62D71HNC',\n",
              " 'https://volley.ru/players/01GGCA634GE44X0HSSYHDF1Z59',\n",
              " 'https://volley.ru/players/01GGEP4KKBXRTN1VRVKB801HCM',\n",
              " 'https://volley.ru/players/01GAHFPEAZ7FH81W0DVNJ301S5',\n",
              " 'https://volley.ru/players/01H8BFG13A6ZYS17F6RYAY16BR',\n",
              " 'https://volley.ru/players/01GGAWA46Q6TVT1CNRXJ450EET',\n",
              " 'https://volley.ru/players/01GGC898A9GSFH1C036PJ61A0Z',\n",
              " 'https://volley.ru/players/01GGVQE618Y9YE0ZENAM7S1V1K']"
            ]
          },
          "metadata": {},
          "execution_count": 13
        }
      ]
    },
    {
      "cell_type": "code",
      "source": [
        "clubs = [] # в этой ячейке мы сделали список клубов сооответственно игрокам\n",
        "\n",
        "for i in range(60):\n",
        "  ssylka = ssylki[i]\n",
        "  response = requests.get(ssylka)\n",
        "  encoding = chardet.detect(response.content)['encoding']\n",
        "  html = response.content.decode(encoding)\n",
        "  soup = BeautifulSoup(html, 'lxml')\n",
        "  html_urls = soup.find_all('a', {'class': 'itext-40'})\n",
        "  # print(html_urls[0].text)\n",
        "  clubs.append(html_urls[0].text)"
      ],
      "metadata": {
        "collapsed": true,
        "id": "eDWbSoiHxNsY"
      },
      "execution_count": 18,
      "outputs": []
    },
    {
      "cell_type": "code",
      "source": [
        "# хочу список клубов словарем, где ключ -- название, а значение -- количество повторений: дальше мы с этой инфой будем строить графики\n",
        "clubs_dict = {}\n",
        "for item in clubs:\n",
        "    if item in clubs_dict:\n",
        "        clubs_dict[item] += 1\n",
        "    else:\n",
        "        clubs_dict[item] = 1\n",
        "print(clubs_dict)"
      ],
      "metadata": {
        "colab": {
          "base_uri": "https://localhost:8080/"
        },
        "id": "XVByLJWi5FSP",
        "outputId": "75a009d0-f4e4-496c-dbd3-64dcf49be078"
      },
      "execution_count": 21,
      "outputs": [
        {
          "output_type": "stream",
          "name": "stdout",
          "text": [
            "{' Зенит, Санкт-Петербург': 3, ' АСК, Нижний Новгород': 2, ' Енисей, Красноярск': 4, ' Динамо-Урал, Уфа': 5, ' Кузбасс, Кемерово': 4, ' Газпром-Югра, Сургут': 3, '  Белогорье, Белгород': 4, ' Факел Ямал, Новый Уренгой': 5, '  Динамо-ЛО, Ленинградская обл.': 3, ' Оренбуржье, Оренбург': 2, ' МГТУ, Москва': 2, '  Зенит-Казань, Казань': 3, ' Динамо, Москва': 4, '  Нова, Новокуйбышевск': 1, ' Локомотив, Новосибирск': 5}\n"
          ]
        }
      ]
    },
    {
      "cell_type": "markdown",
      "source": [
        "Визуализация рейтинга клубов:"
      ],
      "metadata": {
        "id": "S_MWn3XnLrIU"
      }
    },
    {
      "cell_type": "code",
      "source": [
        "# хочу построить график основных показателей, чтобы проанализировать, с кем лучше коллабиться, и составить гипотезы о том, кто может быть наиболее популярным"
      ],
      "metadata": {
        "id": "4i1cpzsa0_XT"
      },
      "execution_count": null,
      "outputs": []
    },
    {
      "cell_type": "markdown",
      "source": [
        "**Аналогично для женщин:**"
      ],
      "metadata": {
        "id": "mSwSP_Fc9CyW"
      }
    },
    {
      "cell_type": "code",
      "source": [
        "url = 'https://volley.ru/calendar/01J1YDG9TCC2MJ1RN5WM6H04C6/statistics'\n",
        "response = requests.get(url)\n",
        "encoding = chardet.detect(response.content)['encoding']  # определяем кодировку\n",
        "html = response.content.decode(encoding)  # декодируем с норм кодировкой\n",
        "soup = BeautifulSoup(html, 'lxml')\n",
        "\n",
        "# достаем имена\n",
        "html_wnames = soup.find_all('td', {'data-field': 'name'})\n",
        "\n",
        "wnames = []\n",
        "for i in html_wnames:\n",
        "  new_soup = BeautifulSoup(str(i), 'lxml')\n",
        "  s = new_soup.find_all('a')\n",
        "  wnames.append(s[0].text)\n",
        "\n",
        "# результаты подач\n",
        "html_wserves = soup.find_all('td', {'data-field': 'total_serve_point'})\n",
        "\n",
        "wserves = []\n",
        "for i in html_wserves[1:]:\n",
        "  wserves.append(i.text)\n",
        "\n",
        "# процент отличных приемов\n",
        "html_wdigs = soup.find_all('td', {'class': 'stat-table-5', 'data-field': 'total_receive_excellent'})\n",
        "wdigs = []\n",
        "for i in html_wdigs[1:]:\n",
        "  new_soup = BeautifulSoup(str(i), 'lxml')\n",
        "  s = new_soup.find_all('span', {'class': 'ts-table__active-cell'})\n",
        "  if s != []:\n",
        "    s = s[0].text\n",
        "    if '%' in s:\n",
        "      s = s[:len(i) - 1]\n",
        "    if '+' in s:\n",
        "      s = s[1:]\n",
        "    wdigs.append(s)\n",
        "  else:\n",
        "    wdigs.append('0')\n",
        "\n",
        "# процент эффективных атак\n",
        "html_whits = soup.find_all('td', {'class': 'stat-table-6', 'data-field': 'total_attack_point_percent'})\n",
        "whits = []\n",
        "for i in html_whits[1:]:\n",
        "  new_soup = BeautifulSoup(str(i), 'lxml')\n",
        "  s = new_soup.find_all('span', {'class': 'ts-table__active-cell'})\n",
        "  if s != []:\n",
        "    s = s[0].text\n",
        "    if '%' in s:\n",
        "      s = s[:len(i) - 1]\n",
        "    if '+' in s:\n",
        "      s = s[1:]\n",
        "    hits.append(s)\n",
        "  else:\n",
        "    hits.append('0')\n",
        "\n",
        "# очки на блоке\n",
        "html_wblocks = soup.find_all('td', {'class': 'stat-table-7', 'data-field': 'total_block'})\n",
        "\n",
        "wblocks = []\n",
        "for i in html_wblocks[1:]:\n",
        "  new_soup = BeautifulSoup(str(i), 'lxml')\n",
        "  s = new_soup.find_all('span', {'class': 'ts-table__active-cell'})\n",
        "  if s != []:\n",
        "    s = s[0].text\n",
        "    if '%' in s:\n",
        "      s = s[:len(i) - 1]\n",
        "    if '+' in s:\n",
        "      s = s[1:]\n",
        "    wblocks.append(s)\n",
        "  else:\n",
        "    wblocks.append('0')\n",
        "\n",
        "\n",
        "print(wnames)\n",
        "print(wserves)\n",
        "print(wdigs)\n",
        "print(whits)\n",
        "print(wblocks)"
      ],
      "metadata": {
        "colab": {
          "base_uri": "https://localhost:8080/"
        },
        "id": "jDXfEXpP9_u0",
        "outputId": "978717ae-8bc9-4294-ef35-7e35b32fb887"
      },
      "execution_count": null,
      "outputs": [
        {
          "output_type": "stream",
          "name": "stdout",
          "text": [
            "['Каракурт Эбрар', 'Бирюкова Ольга', 'Гончарова Наталия', 'Гарелик Анастасия', 'Боговская Мария', 'Чернова Анастасия', 'Мартинес Брайелин', 'Воронкова Ирина', 'Богданова Алина', 'Касаткина Нина', 'Руссу Виктория', 'Коржова Владислава', 'Распутина Валерианна', 'Фитисова Елизавета', 'Боброва Виктория', 'Симонова Карина', 'Геращенкова Екатерина', 'Карполь Елизавета', 'Мазина Елизавета', 'Смирнова Надежда', 'Тица Бранка', 'Гатина Светлана', 'Селиверстова Наталья', 'Лазарева Ангелина', 'Романова Валерия', 'Гатина Екатерина', 'Халецкая Мария', 'Пушина Виктория', 'Воробьева Мария', 'Столбова Юлия', 'Храбрая Юлия', 'Мамедова Александра', 'Костючик Вера', 'Лебедкина Ксения', 'Симоненко Ярослава', 'Ковалева Полина', 'Мельникова Анна', 'Жаброва Анастасия', 'Сергеева Варвара', 'Столяр Надежда', 'Ваганова Ольга', 'Сокольчик Екатерина', 'Беликова Полина', 'Емелина Ангелина', 'Павлова Елизавета', 'Антонова Вера', 'Лукьянова Елизавета', 'Шевчук Валерия', 'Гонсалес Гайла', 'Синицкая Юлия', 'Протопопова Елизавета', 'Диких Елизавета', 'Евдокимова Екатерина', 'Фролова Мария', 'Попович Мина', 'Меньщикова Ксения', 'Синкевич Жанна', 'Купряшкина Ксения', 'Соболева Ирина', 'Королева Ирина', 'Яргычова Ольга', 'Ольховская Полина', 'Охрименко Софья', 'Азанова Анастасия', 'Юрьева Ольга', 'Воситова Зарина', 'Чередникова Яна', 'Турчина Валерия', 'Киселева Дарья', 'Бровкина Юлия', 'Коновалова Таисия', 'Салтыкова Елизавета', 'Прасолова Анна', 'Лубенченко Анна', 'Багрянцева Анна', 'Крук Инна', 'Любушкина Екатерина', 'Цибулько Юлия', 'Малыгина Дарья', 'Бурак Дарья', 'Кроткова Наталья', 'Ван Юньлу', 'Зайцева Валерия', 'Зверева Ольга', 'Иванкович Валерия', 'Шикалова Алина', 'Дементьева Ангелина', 'Лукина Анастасия', 'Павлович Мори Ева', 'Жукова Анастасия', 'Лабзина Анастасия', 'Пипунырова Екатерина', 'Сперскайте Ангелина', 'Шляхтова Ирина', 'Слаутина Наталья', 'Форналева Ольга', 'Зарубо Вероника', 'Максимова Юлия', 'Матвеева Полина', 'Руденя Владислава', 'Ткачева Елена', 'Зиновьева Анна', 'Филиштинская Ирина', 'Горбатюк Амалия', 'Дьяченко Ксения', 'Хлебникова Ольга', 'Светник Анастасия', 'Рысева Дарья', 'Пироговская Алеся', 'Реброва Камилла', 'Горная Елизавета', 'Распутная Вероника', 'Стальная Анастасия', 'Юникова Полина', 'Велисевич Виктория', 'Енина Екатерина', 'Озерова Анна', 'Лопато Анастасия', 'Аслямова Марина', 'Мишагина Есения', 'Швыдкая Оксана', 'Бесман Кристина', 'Попова Алина', 'Смеленко Мария', 'Полякова Екатерина', 'Афонина Ольга', 'Сикачева Евгения', 'Чернышева Виктория', 'Якшич Ана', 'Сычева Софья', 'Харлова Валерия', 'Козлова Валерия', 'Дмитриева Татьяна', 'Володина Мила', 'Синицына Екатерина', 'Синицына Елизавета', 'Селютина Татьяна', 'Опря Ксения', 'Сорокина Ирина', 'Колурбаси Мелисса', 'Евстегнеева Ксения', 'Гончарова Римма', 'Афиногенова Алина', 'Черная Анастасия', 'Парубец Ксения', 'Томашевская Елизавета', 'Вашина Елена', 'Мартинес Луис Эвилания', 'Бавыкина Анастасия', 'Щукина Татьяна', 'Буркова Виктория', 'Вакулко Дарья', 'Барташевич Юлия', 'Кондрашова Алена', 'Вдовина Кристина', 'Ануфриенко Анастасия', 'Чирович Александра', 'Купреева Екатерина', 'Дворникова Мария Николь', 'Володько Дарья', 'Шелепенькина Жанна', 'Асташина Анна', 'Ермолаева Ульяна', 'Хабибрахманова Анна', 'Прокофьева Юлия', 'Малютина Вероника', 'Вербицкая Елена', 'Никитина Екатерина', 'Писаревская Софья', 'Мусиенко Дарья', 'Демешок Дарья', 'Протасова Славяна', 'Андреева Ксения', 'Ахмедова Карина', 'Лискина Милана', 'Мирошниченко Анна', 'Братчикова Софья', 'Дороничева Екатерина', 'Масалева Светлана', 'Лялина Елизавета', 'Ганиева Виктория', 'Бугаева Мария', 'Трофименко Виктория', 'Федоринчик Елена', 'Лукьянова Александра', 'Болдырева Анастасия', 'Галкина Алла', 'Гонсалес Ялайн Регла', 'Архипова Анастасия', 'Мельникова Милана', 'Иванкина Анастасия', 'Шевелева Анастасия', 'Зворыгина Ольга', 'Бибина Мария', 'Подкопаева Анна', 'Глухова Виктория', 'Даций Яна', 'Броникова Елизавета', 'Ларина Ксения', 'Видинеева Александра', 'Шубина Варвара', 'Рахматуллина Милина', 'Заманская Дарья', 'Курносова Кристина', 'Костюкевич Ольга', 'Бойко Вера', 'Косачева Полина', 'Антипенко Анастасия', 'Някина Наталья', 'Зайцева Тамара', 'Карасева Арина', 'Голодухина Виктория', 'Васильева Анастасия', 'Пирайнен Анастасия', 'Перова Валерия', 'Коляда Елизавета', 'Макарова Мария', 'Джиоева Амага', 'Овсянникова Мария', 'Белоглазова Яна', 'Трухина Полина', 'Борисова Валерия', 'Селютина Анастасия', 'Станкевичуте Анастасия', 'Выголовская Маргарита', 'Володина Василиса', 'Бондаренко Владислава', 'Ротастикова Софья', 'Муляр Виолетта', 'Костина Арина', 'Савватеева Арина', 'Хватова Лолита', 'Кабанская Анастасия']\n",
            "['39', '29', '11', '4', '27', '20', '6', '30', '14', '14', '20', '9', '5', '17', '20', '18', '14', '16', '9', '22', '7', '32', '16', '27', '12', '19', '14', '8', '22', '7', '27', '18', '13', '18', '28', '12', '19', '11', '20', '14', '17', '5', '10', '14', '11', '9', '8', '7', '27', '17', '7', '9', '7', '25', '11', '19', '10', '15', '16', '18', '7', '6', '31', '3', '7', '5', '7', '6', '14', '5', '11', '5', '9', '14', '11', '11', '17', '4', '7', '15', '4', '8', '0', '14', '1', '3', '6', '4', '20', '3', '2', '5', '6', '14', '2', '10', '3', '3', '8', '0', '7', '8', '11', '23', '6', '23', '13', '9', '7', '7', '4', '7', '5', '6', '1', '3', '13', '10', '9', '13', '4', '6', '0', '10', '4', '4', '3', '3', '9', '10', '2', '5', '7', '15', '5', '7', '3', '0', '8', '0', '2', '3', '1', '1', '0', '9', '3', '2', '2', '0', '1', '0', '1', '4', '0', '3', '1', '1', '1', '0', '0', '1', '0', '0', '0', '0', '0', '0', '0', '0', '0', '0', '0', '0', '0', '0', '0', '0', '0', '0', '0', '0', '0', '0', '0', '0', '0', '0', '0', '0', '0', '0', '0', '0', '0', '0', '0', '0', '0', '0', '0', '0', '0', '0', '0', '0', '0', '0', '0', '0', '0', '0', '0', '0', '0', '0', '0', '0', '0', '0', '0', '0', '0', '0', '0', '0', '0', '0', '0', '0', '0', '0', '0']\n",
            "['15', '37', '20', '0', '0', '22', '13', '31', '29', '19', '33', '27', '0', '0', '29', '33', '26', '21', '19', '30', '28', '25', '25', '14', '23', '29', '50', '40', '28', '33', '19', '27', '25', '0', '31', '27', '15', '30', '33', '35', '23', '27', '34', '18', '29', '20', '33', '29', '0', '23', '42', '0', '27', '35', '16', '35', '0', '21', '9', '12', '21', '10', '50', '0', '25', '0', '12', '0', '0', '16', '8', '19', '23', '19', '55', '25', '33', '29', '0', '18', '26', '32', '40', '36', '28', '0', '23', '16', '0', '23', '23', '27', '16', '0', '0', '0', '0', '0', '0', '16', '22', '0', '0', '0', '0', '0', '33', '0', '18', '19', '0', '0', '27', '0', '29', '33', '0', '25', '16', '0', '0', '0', '13', '0', '0', '0', '50', '23', '0', '0', '20', '0', '0', '0', '0', '0', '0', '16', '0', '0', '0', '0', '0', '20', '24', '0', '0', '27', '27', '33', '0', '27', '33', '0', '50', '0', '0', '0', '0', '0', '33', '0', '0', '16', '0', '0', '0', '0', '0', '0', '0', '0', '0', '0', '0', '20', '27', '31', '39', '31', '35', '0', '30', '24', '0', '0', '28', '0', '0', '0', '0', '0', '0', '28', '33', '0', '35', '0', '0', '25', '22', '16', '0', '32', '32', '0', '0', '0', '28', '32', '0', '0', '44', '28', '28', '0', '0', '33', '0', '0', '36', '0', '0', '12', '0', '0', '0', '0', '0', '0', '34', '0', '0']\n",
            "[]\n",
            "['51', '45', '37', '41', '22', '39', '57', '41', '49', '38', '31', '34', '11', '89', '45', '14', '38', '114', '25', '39', '24', '29', '23', '123', '23', '29', '35', '124', '33', '18', '65', '34', '21', '43', '21', '19', '99', '98', '75', '82', '22', '24', '87', '24', '16', '16', '25', '29', '21', '67', '20', '25', '75', '13', '74', '49', '11', '22', '54', '70', '76', '60', '32', '10', '20', '16', '50', '15', '72', '58', '51', '8', '49', '13', '45', '19', '33', '13', '58', '42', '6', '15', '42', '20', '10', '12', '9', '13', '29', '9', '6', '3', '6', '25', '27', '25', '8', '11', '32', '18', '4', '18', '16', '21', '17', '14', '22', '23', '3', '3', '19', '12', '11', '19', '22', '11', '19', '8', '1', '9', '11', '21', '3', '9', '10', '21', '16', '4', '8', '10', '4', '7', '15', '5', '13', '13', '7', '5', '8', '3', '9', '4', '4', '0', '4', '6', '3', '1', '1', '6', '3', '1', '4', '1', '2', '2', '5', '2', '1', '0', '1', '0', '0', '0', '1', '0', '0', '0', '0', '0', '0', '0', '0', '0', '0', '0', '0', '0', '0', '0', '0', '0', '0', '0', '0', '0', '0', '0', '0', '0', '0', '0', '0', '0', '0', '0', '0', '0', '0', '0', '0', '0', '0', '0', '0', '0', '0', '0', '0', '0', '0', '0', '0', '0', '0', '0', '0', '0', '0', '0', '0', '0', '0', '0', '0', '0', '0', '0', '0', '0', '0', '0', '0']\n"
          ]
        }
      ]
    },
    {
      "cell_type": "markdown",
      "source": [
        "Поиск топ клубов (женщины):"
      ],
      "metadata": {
        "id": "Lg193owT_SQY"
      }
    },
    {
      "cell_type": "code",
      "source": [
        "url = 'https://volley.ru/calendar/01J1YDG9TCC2MJ1RN5WM6H04C6/statistics'\n",
        "response = requests.get(url)\n",
        "encoding = chardet.detect(response.content)['encoding']\n",
        "html = response.content.decode(encoding)\n",
        "soup = BeautifulSoup(html, 'lxml')\n",
        "\n",
        "tables = soup.find_all('table')\n",
        "wssylki = []\n",
        "\n",
        "whrefs = tables[0].find_all('a')\n",
        "for whre in whrefs:\n",
        " whre = str(whre) # вытащили список ссылок на страницы игроков\n",
        " windex = whre.find('>')\n",
        " #print('https://volley.ru' + str(hre[9:44])) # сделали их корректными ссылками\n",
        " wssylki.append('https://volley.ru' + str(whre[9:44]))\n",
        "\n",
        "wclubs = []\n",
        "for i in range(60):\n",
        "  wssylka = wssylki[i]\n",
        "  response = requests.get(wssylka)\n",
        "  encoding = chardet.detect(response.content)['encoding']\n",
        "  html = response.content.decode(encoding)\n",
        "  soup = BeautifulSoup(html, 'lxml')\n",
        "  html_urls = soup.find_all('a', {'class': 'itext-40'})\n",
        "  wclubs.append(html_urls[0].text)"
      ],
      "metadata": {
        "id": "Chjj3d6p-pGS",
        "collapsed": true
      },
      "execution_count": 22,
      "outputs": []
    },
    {
      "cell_type": "code",
      "source": [
        "wclubs_dict = {}\n",
        "for item in wclubs:\n",
        "    if item in wclubs_dict:\n",
        "        wclubs_dict[item] += 1\n",
        "    else:\n",
        "        wclubs_dict[item] = 1\n",
        "print(wclubs_dict)"
      ],
      "metadata": {
        "colab": {
          "base_uri": "https://localhost:8080/"
        },
        "id": "fjzfYLRiK1Bk",
        "outputId": "c4336b40-3ef4-46b9-e725-8b9d828ec1df"
      },
      "execution_count": 23,
      "outputs": [
        {
          "output_type": "stream",
          "name": "stdout",
          "text": [
            "{' Локомотив, Калининградская обл.': 3, ' Заречье-Одинцово, Московская обл.': 5, '  Динамо-Москва': 5, ' Ленинградка, Санкт-Петербург': 4, ' Динамо, Краснодар': 5, ' Динамо-Ак Барс, Казань': 5, ' Минчанка': 4, ' Динамо-Метар, Челябинск': 4, ' Омичка, Омская обл.': 3, ' Енисей, Красноярск': 4, ' Уралочка-НТМК, Свердловская обл.': 6, ' Тулица, Тульская обл.': 5, ' Спарта, Нижний Новгород': 4, '  Протон, Саратов': 3}\n"
          ]
        }
      ]
    }
  ]
}